{
 "cells": [
  {
   "cell_type": "markdown",
   "metadata": {},
   "source": [
    "## Real-Time Sentiment Analysis Using Spark Streaming"
   ]
  },
  {
   "cell_type": "markdown",
   "metadata": {},
   "source": [
    "#### Set up streaming source"
   ]
  },
  {
   "cell_type": "code",
   "execution_count": 3,
   "metadata": {},
   "outputs": [
    {
     "data": {
      "text/html": [
       "<style scoped>\n",
       "  .ansiout {\n",
       "    display: block;\n",
       "    unicode-bidi: embed;\n",
       "    white-space: pre-wrap;\n",
       "    word-wrap: break-word;\n",
       "    word-break: break-all;\n",
       "    font-family: \"Source Code Pro\", \"Menlo\", monospace;;\n",
       "    font-size: 13px;\n",
       "    color: #555;\n",
       "    margin-left: 4px;\n",
       "    line-height: 19px;\n",
       "  }\n",
       "</style>\n",
       "<div class=\"ansiout\"></div>"
      ]
     },
     "metadata": {},
     "output_type": "display_data"
    }
   ],
   "source": [
    "import sys\n",
    "from pyspark import SparkContext\n",
    "from pyspark.sql import SparkSession\n",
    "from pyspark.streaming import StreamingContext\n",
    "from pyspark.streaming.kinesis import KinesisUtils, InitialPositionInStream\n",
    "from pyspark.sql.types import *\n",
    "\n",
    "spark = SparkSession.builder\\\n",
    "                    .master(\"local\")\\\n",
    "                    .appName(\"Structured Streaming - Twitter Sentiment\")\\\n",
    "                    .getOrCreate()\n",
    "\n",
    "pythonSchema = StructType() \\\n",
    "          .add(\"id\", StringType(), True) \\\n",
    "          .add(\"tweet\", StringType(), True) \\\n",
    "          .add(\"ts\", StringType(), True)\n",
    "\n",
    "awsAccessKeyId = \"\" # update the access key\n",
    "awsSecretKey = \"\"   # update the secret key\n",
    "kinesisStreamName = \"twitter-data-stream\"  # update the kinesis stream name (need to set up the stream first and ingest data)\n",
    "kinesisRegion = \"us-east-1\"\n",
    "\n",
    "\n",
    "kinesisDF = spark \\\n",
    "  .readStream \\\n",
    "  .format(\"kinesis\") \\\n",
    "  .option(\"streamName\", kinesisStreamName)\\\n",
    "  .option(\"region\", kinesisRegion) \\\n",
    "  .option(\"initialPosition\", \"latest\") \\\n",
    "  .option(\"format\", \"json\") \\\n",
    "  .option(\"awsAccessKey\", awsAccessKeyId)\\\n",
    "  .option(\"awsSecretKey\", awsSecretKey) \\\n",
    "  .option(\"inferSchema\", \"true\") \\\n",
    "  .load()\n"
   ]
  },
  {
   "cell_type": "markdown",
   "metadata": {},
   "source": [
    "#### <img src='https://s3.amazonaws.com/weclouddata/images/logos/asterisk_1.png' width='2%'> Create Streaming DF"
   ]
  },
  {
   "cell_type": "code",
   "execution_count": 5,
   "metadata": {},
   "outputs": [
    {
     "data": {
      "text/html": [
       "<style scoped>\n",
       "  .ansiout {\n",
       "    display: block;\n",
       "    unicode-bidi: embed;\n",
       "    white-space: pre-wrap;\n",
       "    word-wrap: break-word;\n",
       "    word-break: break-all;\n",
       "    font-family: \"Source Code Pro\", \"Menlo\", monospace;;\n",
       "    font-size: 13px;\n",
       "    color: #555;\n",
       "    margin-left: 4px;\n",
       "    line-height: 19px;\n",
       "  }\n",
       "</style>\n",
       "<div class=\"ansiout\"></div>"
      ]
     },
     "metadata": {},
     "output_type": "display_data"
    }
   ],
   "source": [
    "df = kinesisDF \\\n",
    "  .writeStream \\\n",
    "  .format(\"memory\") \\\n",
    "  .outputMode(\"append\") \\\n",
    "  .queryName(\"tweets\")  \\\n",
    "  .start()"
   ]
  },
  {
   "cell_type": "code",
   "execution_count": 6,
   "metadata": {},
   "outputs": [
    {
     "data": {
      "text/html": [
       "<style scoped>\n",
       "  .ansiout {\n",
       "    display: block;\n",
       "    unicode-bidi: embed;\n",
       "    white-space: pre-wrap;\n",
       "    word-wrap: break-word;\n",
       "    word-break: break-all;\n",
       "    font-family: \"Source Code Pro\", \"Menlo\", monospace;;\n",
       "    font-size: 13px;\n",
       "    color: #555;\n",
       "    margin-left: 4px;\n",
       "    line-height: 19px;\n",
       "  }\n",
       "</style>\n",
       "<div class=\"ansiout\">Out[7]: {&#39;message&#39;: &#39;Processing new data&#39;,\n",
       " &#39;isDataAvailable&#39;: True,\n",
       " &#39;isTriggerActive&#39;: True}</div>"
      ]
     },
     "metadata": {},
     "output_type": "display_data"
    }
   ],
   "source": [
    "df.status"
   ]
  },
  {
   "cell_type": "markdown",
   "metadata": {},
   "source": [
    "#### Explore the stream data in SQL"
   ]
  },
  {
   "cell_type": "code",
   "execution_count": 8,
   "metadata": {},
   "outputs": [
    {
     "data": {
      "text/html": [
       "<style scoped>\n",
       "  .table-result-container {\n",
       "    max-height: 300px;\n",
       "    overflow: auto;\n",
       "  }\n",
       "  table, th, td {\n",
       "    border: 1px solid black;\n",
       "    border-collapse: collapse;\n",
       "  }\n",
       "  th, td {\n",
       "    padding: 5px;\n",
       "  }\n",
       "  th {\n",
       "    text-align: left;\n",
       "  }\n",
       "</style><div class='table-result-container'><table class='table-result'><thead style='background-color: white'><tr><th>partitionKey</th><th>data</th></tr></thead><tbody><tr><td>wizpampy</td><td>[{\"id\": \"1243933850968809472\", \"tweet\": \"b'RT @T9uRhHfR8jsSP57: \\\\xe0\\\\xb9\\\\x83\\\\xe0\\\\xb8\\\\x99\\\\xe0\\\\xb8\\\\x95\\\\xe0\\\\xb8\\\\xad\\\\xe0\\\\xb8\\\\x99\\\\xe0\\\\xb8\\\\x99\\\\xe0\\\\xb8\\\\xb5\\\\xe0\\\\xb9\\\\x89\\\\xe0\\\\xb8\\\\x9a\\\\xe0\\\\xb8\\\\xb2\\\\xe0\\\\xb8\\\\x87\\\\xe0\\\\xb8\\\\x88\\\\xe0\\\\xb8\\\\xb1\\\\xe0\\\\xb8\\\\x87\\\\xe0\\\\xb8\\\\xab\\\\xe0\\\\xb8\\\\xa7\\\\xe0\\\\xb8\\\\xb1\\\\xe0\\\\xb8\\\\x94\\\\xe0\\\\xb8\\\\x95\\\\xe0\\\\xb9\\\\x89\\\\xe0\\\\xb8\\\\xad\\\\xe0\\\\xb8\\\\x87\\\\xe0\\\\xb8\\\\x9b\\\\xe0\\\\xb8\\\\xaa\\\\xe0\\\\xb8\\\\x94\\\\xe0\\\\xb8\\\\x81\\\\xe0\\\\xb8\\\\xb1\\\\xe0\\\\xb8\\\\x9a\\\\xe0\\\\xb9\\\\x84\\\\xe0\\\\xb8\\\\xa7\\\\xe0\\\\xb8\\\\xa3\\\\xe0\\\\xb8\\\\xb1\\\\xe0\\\\xb8\\\\xaa \\\\xe0\\\\xb9\\\\x81\\\\xe0\\\\xb8\\\\x95\\\\xe0\\\\xb9\\\\x88\\\\xe0\\\\xb9\\\\x80\\\\xe0\\\\xb8\\\\x8a\\\\xe0\\\\xb8\\\\xb5\\\\xe0\\\\xb8\\\\xa2\\\\xe0\\\\xb8\\\\x87\\\\xe0\\\\xb9\\\\x83\\\\xe0\\\\xb8\\\\xab\\\\xe0\\\\xb8\\\\xa1\\\\xe0\\\\xb9\\\\x88\\\\xe0\\\\xb8\\\\x95\\\\xe0\\\\xb8\\\\xad\\\\xe0\\\\xb8\\\\x99\\\\xe0\\\\xb8\\\\x99\\\\xe0\\\\xb8\\\\xb5\\\\xe0\\\\xb9\\\\x89\\\\xe0\\\\xb8\\\\x84\\\\xe0\\\\xb8\\\\xb7\\\\xe0\\\\xb8\\\\xad \\\\xe0\\\\xb9\\\\x84\\\\xe0\\\\xb8\\\\x9f\\\\xe0\\\\xb8\\\\x9b\\\\xe0\\\\xb9\\\\x88\\\\xe0\\\\xb8\\\\xb2 \\\\xe0\\\\xb9\\\\x84\\\\xe0\\\\xb8\\\\xa7\\\\xe0\\\\xb8\\\\xa3\\\\xe0\\\\xb8\\\\xb1\\\\xe0\\\\xb8\\\\xaa\\\\xe0\\\\xb8\\\\x81\\\\xe0\\\\xb9\\\\x87\\\\xe0\\\\xb8\\\\x81\\\\xe0\\\\xb8\\\\xa5\\\\xe0\\\\xb8\\\\xb1\\\\xe0\\\\xb8\\\\xa7\\\\xe0\\\\xb9\\\\x81\\\\xe0\\\\xb8\\\\x96\\\\xe0\\\\xb8\\\\xa1\\\\xe0\\\\xb8\\\\x95\\\\xe0\\\\xb8\\\\xad\\\\xe0\\\\xb8\\\\x99\\\\xe0\\\\xb8\\\\x99\\\\xe0\\\\xb8\\\\xb5\\\\xe0\\\\xb9\\\\x89\\\\xe0\\\\xb8\\\\x94\\\\xe0\\\\xb9\\\\x89\\\\xe0\\\\xb8\\\\xa7\\\\xe0\\\\xb8\\\\xa2\\\\xe0\\\\xb8\\\\x84\\\\xe0\\\\xb9\\\\x88\\\\xe0\\\\xb8\\\\xb2\\\\xe0\\\\xb8\\\\x9d\\\\xe0\\\\xb8\\\\xb8\\\\xe0\\\\xb9\\\\x88\\\\xe0\\\\xb8\\\\x99\\\\xe0\\\\xb8\\\\x97\\\\xe0\\\\xb8\\\\xb5\\\\xe0\\\\xb9\\\\x88\\\\xe0\\\\xb8\\\\x89\\\\xe0\\\\xb8\\\\xb4\\\\xe0\\\\xb8\\\\x9a\\\\xe0\\\\xb8\\\\xab\\\\xe0\\\\xb8\\\\xb2\\\\xe0\\\\xb8\\\\xa2\\\\xe0\\\\xb8\\\\x82\\\\xe0\\\\xb8\\\\xb6\\\\xe0\\\\xb9\\\\x89\\\\xe0\\\\xb8\\\\x99\\\\xe0\\\\xb9\\\\x84\\\\xe0\\\\xb8\\\\x9b\\\\xe0\\\\xb8\\\\xad\\\\xe0\\\\xb8\\\\xb5\\\\xe0\\\\xb8\\\\x81 \\\\xe0\\\\xb9\\\\x80\\\\xe0\\\\xb8\\\\xad\\\\xe0\\\\xb8\\\\xb2\\\\xe0\\\\xb9\\\\x83\\\\xe0\\\\xb8\\\\x88\\\\xe2\\\\x80\\\\xa6'\", \"ts\": \"Sat Mar 28 16:11:55 +0000 2020\"}]</td></tr><tr><td>PragNews</td><td>[{\"id\": \"1243933850666823680\", \"tweet\": \"b'States affected by Coronavirus in India\\\\n\\\\n#IndiaFightsCorona \\\\n#Covid_19 #coronavirus https://t.co/V6Sp85u3gX'\", \"ts\": \"Sat Mar 28 16:11:55 +0000 2020\"}]</td></tr><tr><td>Amina_I_sheikh</td><td>[{\"id\": \"1243933849853149186\", \"tweet\": \"b\\\"@ABSCBNNews Watch #MuhammadShaikh, who has delivered more than 50 lectures on different topics of Qur'an in English\\\\xe2\\\\x80\\\\xa6 https://t.co/7GPuUE9Bwx\\\"\", \"ts\": \"Sat Mar 28 16:11:55 +0000 2020\"}]</td></tr><tr><td>mcezeh1</td><td>[{\"id\": \"1243933852273455104\", \"tweet\": \"b'RT @BayoOmoboriowo: Thank you for checking up brother. Here are some images from today, Pls stay safe also. https://t.co/yBHZr1w1Ux https:/\\\\xe2\\\\x80\\\\xa6'\", \"ts\": \"Sat Mar 28 16:11:56 +0000 2020\"}]</td></tr><tr><td>Afridi_huOO7</td><td>[{\"id\": \"1243933852567044096\", \"tweet\": \"b'RT @Humafayaz1: Can\\\\'t Wait For The Day To Hear\\\\n \\\"Corona Virus Is Finally Gone\\\"\\\\n#Covid_19 #SaturdayMotivation'\", \"ts\": \"Sat Mar 28 16:11:56 +0000 2020\"}]</td></tr><tr><td>beautiquebkk</td><td>[{\"id\": \"1243933852994654208\", \"tweet\": \"b'\\\\xe0\\\\xb9\\\\x82\\\\xe0\\\\xb8\\\\x9b\\\\xe0\\\\xb8\\\\xa3\\\\xe0\\\\xb8\\\\x94\\\\xe0\\\\xb8\\\\xb5 \\\\xe0\\\\xb9\\\\x84\\\\xe0\\\\xb8\\\\xa1\\\\xe0\\\\xb9\\\\x88\\\\xe0\\\\xb8\\\\x95\\\\xe0\\\\xb9\\\\x89\\\\xe0\\\\xb8\\\\xad\\\\xe0\\\\xb8\\\\x87\\\\xe0\\\\xb8\\\\xa3\\\\xe0\\\\xb8\\\\xad OTP\\\\n\\\\n\\\\xe0\\\\xb9\\\\x82\\\\xe0\\\\xb8\\\\x9b\\\\xe0\\\\xb8\\\\xa3\\\\xe0\\\\xb8\\\\xa5\\\\xe0\\\\xb8\\\\x94\\\\xe0\\\\xb8\\\\x97\\\\xe0\\\\xb9\\\\x89\\\\xe0\\\\xb8\\\\xb2\\\\xe0\\\\xb9\\\\x80\\\\xe0\\\\xb8\\\\x84\\\\xe0\\\\xb8\\\\xad\\\\xe0\\\\xb8\\\\xa3\\\\xe0\\\\xb9\\\\x8c\\\\xe0\\\\xb8\\\\x9f\\\\xe0\\\\xb8\\\\xb4\\\\xe0\\\\xb8\\\\xa7\\\\n#\\\\xe0\\\\xb8\\\\xa3\\\\xe0\\\\xb8\\\\xb2\\\\xe0\\\\xb8\\\\x84\\\\xe0\\\\xb8\\\\xb2\\\\xe0\\\\xb8\\\\x8a\\\\xe0\\\\xb8\\\\xb4\\\\xe0\\\\xb8\\\\xa5 \\\\xe0\\\\xb8\\\\x97\\\\xe0\\\\xb8\\\\xb8\\\\xe0\\\\xb8\\\\x81\\\\xe0\\\\xb8\\\\x9c\\\\xe0\\\\xb8\\\\xa5\\\\xe0\\\\xb8\\\\xb4\\\\xe0\\\\xb8\\\\x95\\\\xe0\\\\xb8\\\\xa0\\\\xe0\\\\xb8\\\\xb1\\\\xe0\\\\xb8\\\\x93\\\\xe0\\\\xb8\\\\x91\\\\xe0\\\\xb9\\\\x8c\\\\n#\\\\xe0\\\\xb8\\\\x96\\\\xe0\\\\xb8\\\\xb9\\\\xe0\\\\xb8\\\\x81\\\\xe0\\\\xb8\\\\x97\\\\xe0\\\\xb8\\\\xb5\\\\xe0\\\\xb9\\\\x88\\\\xe0\\\\xb8\\\\xaa\\\\xe0\\\\xb8\\\\xb8\\\\xe0\\\\xb8\\\\x94 \\\\xe0\\\\xb8\\\\x97\\\\xe0\\\\xb8\\\\xb5\\\\xe0\\\\xb9\\\\x88\\\\xe0\\\\xb9\\\\x80\\\\xe0\\\\xb8\\\\x84\\\\xe0\\\\xb8\\\\xa2\\\\xe0\\\\xb8\\\\xa1\\\\xe0\\\\xb8\\\\xb5\\\\xe0\\\\xb8\\\\xa1\\\\xe0\\\\xb8\\\\xb2\\\\n\\\\xe0\\\\xb9\\\\x82\\\\xe0\\\\xb8\\\\xad\\\\xe0\\\\xb8\\\\x99\\\\xe0\\\\xb8\\\\x88\\\\xe0\\\\xb8\\\\xad\\\\xe0\\\\xb8\\\\x87\\\\xe0\\\\xb8\\\\xa7\\\\xe0\\\\xb8\\\\xb1\\\\xe0\\\\xb8\\\\x99\\\\xe0\\\\xb8\\\\x99\\\\xe0\\\\xb8\\\\xb5\\\\xe0\\\\xb9\\\\x89\\\\n\\\\xe0\\\\xb9\\\\x80\\\\xe0\\\\xb8\\\\xa5\\\\xe0\\\\xb8\\\\xb4\\\\xe0\\\\xb8\\\\x81\\\\xe0\\\\xb9\\\\x80\\\\xe0\\\\xb8\\\\x84\\\\xe0\\\\xb8\\\\xad\\\\xe0\\\\xb8\\\\xa3\\\\xe0\\\\xb9\\\\x8c\\\\xe0\\\\xb8\\\\x9f\\\\xe0\\\\xb8\\\\xb4\\\\xe0\\\\xb8\\\\xa7\\\\xe0\\\\xb8\\\\xa1\\\\xe0\\\\xb8\\\\xb2\\\\xe0\\\\xb8\\\\x94\\\\xe0\\\\xb8\\\\xb9\\\\xe0\\\\xb9\\\\x81\\\\xe0\\\\xb8\\\\xa5\\\\xe0\\\\xb8\\\\x9c\\\\xe0\\\\xb8\\\\xb4\\\\xe2\\\\x80\\\\xa6 https://t.co/bvYLic0RIe'\", \"ts\": \"Sat Mar 28 16:11:56 +0000 2020\"}]</td></tr><tr><td>Ademusta6648</td><td>[{\"id\": \"1243933852864823296\", \"tweet\": \"b'Ben de 81 milyona her ay 2000 tl vaad ediyorum \\\\xc5\\\\x9fimdi Ba\\\\xc5\\\\x9fkan m\\\\xc4\\\\xb1 oldum ahmak?'\", \"ts\": \"Sat Mar 28 16:11:56 +0000 2020\"}]</td></tr><tr><td>kshatriya_arya</td><td>[{\"id\": \"1243933853300822016\", \"tweet\": \"b'Citizens can also pay online for the #Covid_19 Relief Fund. The #UPI payment system can be used for this.\\\\n\\\\n\\\\xc2\\\\xa0 VPA: c\\\\xe2\\\\x80\\\\xa6 https://t.co/TfQJK6x3uD'\", \"ts\": \"Sat Mar 28 16:11:56 +0000 2020\"}]</td></tr><tr><td>RoseAzuras</td><td>[{\"id\": \"1243933853636534272\", \"tweet\": \"b'RT @GamingGifter: #CoronaLockdown is happening. To make someone\\\\xe2\\\\x80\\\\x99s day &amp; spread some positivity I will reward one person who Retweets + Foll\\\\xe2\\\\x80\\\\xa6'\", \"ts\": \"Sat Mar 28 16:11:56 +0000 2020\"}]</td></tr><tr><td>CrummyMo</td><td>[{\"id\": \"1243933853653151746\", \"tweet\": \"b'RT @Stone_nayouung: \\\\xe0\\\\xb8\\\\x96\\\\xe0\\\\xb8\\\\xb9\\\\xe0\\\\xb8\\\\x81\\\\xe0\\\\xb8\\\\x95\\\\xe0\\\\xb9\\\\x89\\\\xe0\\\\xb8\\\\xad\\\\xe0\\\\xb8\\\\x87\\\\xe0\\\\xb9\\\\x81\\\\xe0\\\\xb8\\\\xa5\\\\xe0\\\\xb9\\\\x89\\\\xe0\\\\xb8\\\\xa7\\\\xe0\\\\xb8\\\\x84\\\\xe0\\\\xb9\\\\x88\\\\xe0\\\\xb8\\\\xb0 \\\\xe0\\\\xb8\\\\x82\\\\xe0\\\\xb8\\\\xad\\\\xe0\\\\xb8\\\\x87\\\\xe0\\\\xb9\\\\x81\\\\xe0\\\\xb8\\\\x97\\\\xe0\\\\xb9\\\\x89\\\\xe0\\\\xb8\\\\x95\\\\xe0\\\\xb9\\\\x89\\\\xe0\\\\xb8\\\\xad\\\\xe0\\\\xb8\\\\x87\\\\xe0\\\\xb8\\\\xa1\\\\xe0\\\\xb8\\\\xb5\\\\xe0\\\\xb8\\\\xa3\\\\xe0\\\\xb8\\\\xb9\\\\xe0\\\\xb8\\\\x9b'\", \"ts\": \"Sat Mar 28 16:11:56 +0000 2020\"}]</td></tr><tr><td>Bird5Ca</td><td>[{\"id\": \"1243933853657509891\", \"tweet\": \"b'RT @VassyKapelos: Dr. Tam: 7% cases in Canada, 3% in critical care, 1% have passed away. 30% of the people who have been hospitalized are u\\\\xe2\\\\x80\\\\xa6'\", \"ts\": \"Sat Mar 28 16:11:56 +0000 2020\"}]</td></tr><tr><td>Fercho1949Jose</td><td>[{\"id\": \"1243933853825273857\", \"tweet\": \"b'RT @aotxotorena: Yo no s\\\\xc3\\\\xa9 de qu\\\\xc3\\\\xa9 alcantarilla ha salido \\\"esto\\\", pero los que lo votaron tambi\\\\xc3\\\\xa9n tienen delito, eh!!!\\\\nEs incre\\\\xc3\\\\xadble.\\\\nMientras\\\\xe2\\\\x80\\\\xa6'\", \"ts\": \"Sat Mar 28 16:11:56 +0000 2020\"}]</td></tr><tr><td>jean_phi1</td><td>[{\"id\": \"1243933854152429569\", \"tweet\": \"b'@herstalle @cathe6915 Nous avons un gouvernement digne de celui de 1940 ! @EmmanuelMacron @olivierveran #Covid_19'\", \"ts\": \"Sat Mar 28 16:11:56 +0000 2020\"}]</td></tr><tr><td>narayanraj10</td><td>[{\"id\": \"1243933853921628160\", \"tweet\": \"b'#NDTVirus Jo ki #Covid_19 se bhi khatarnak hai\\\\xf0\\\\x9f\\\\x98\\\\xa0\\\\xf0\\\\x9f\\\\x98\\\\xa0 https://t.co/Vt35T0Di0b'\", \"ts\": \"Sat Mar 28 16:11:56 +0000 2020\"}]</td></tr><tr><td>ufparagon</td><td>[{\"id\": \"1243933854324396034\", \"tweet\": \"b'RT @ufpol: Muy grande el compa\\\\xc3\\\\xb1ero Lorenzo \\\\xf0\\\\x9f\\\\x91\\\\x8f\\\\xf0\\\\x9f\\\\x91\\\\x8f\\\\xf0\\\\x9f\\\\x91\\\\x8f #LoVamosAParar #QuedateEnCasa'\", \"ts\": \"Sat Mar 28 16:11:56 +0000 2020\"}]</td></tr><tr><td>__chileno__</td><td>[{\"id\": \"1243933854752219138\", \"tweet\": \"b'#IzquierdaObstruccionista mediante indicaciones abiertamente inconstitucionales frena legislar\\\\xe2\\\\x80\\\\xa6 https://t.co/jnfFhXtgif'\", \"ts\": \"Sat Mar 28 16:11:56 +0000 2020\"}]</td></tr><tr><td>villada6</td><td>[{\"id\": \"1243933855154950144\", \"tweet\": \"b'RT @AABenedetti: Mientras que Luis Carlos Sarmiento le pide a sus empleados que donen sus vacaciones, Armani y 19 otros billonarios italian\\\\xe2\\\\x80\\\\xa6'\", \"ts\": \"Sat Mar 28 16:11:56 +0000 2020\"}]</td></tr><tr><td>santiagoedum</td><td>[{\"id\": \"1243933855503056898\", \"tweet\": \"b'RT @JefeVergara: CONTACTOS PARA TANQUES DE OX\\\\xc3\\\\x8dGENO!! He recopilado datos de personas y empresas que dan el servicio de alquile y venta de o\\\\xe2\\\\x80\\\\xa6'\", \"ts\": \"Sat Mar 28 16:11:56 +0000 2020\"}]</td></tr><tr><td>AndyWentz</td><td>[{\"id\": \"1243933855918305280\", \"tweet\": \"b'RT @lavecinarubia: Leo que Cospedal es TT. Miro por qu\\\\xc3\\\\xa9. Veo que la hermana de Cospedal trabaja en un laboratorio que hace test r\\\\xc3\\\\xa1pidos con\\\\xe2\\\\x80\\\\xa6'\", \"ts\": \"Sat Mar 28 16:11:57 +0000 2020\"}]</td></tr><tr><td>Politica_Again</td><td>[{\"id\": \"1243933856572596224\", \"tweet\": \"b'@Nanchinho'\", \"ts\": \"Sat Mar 28 16:11:57 +0000 2020\"}]</td></tr><tr><td>ImZErenZ</td><td>[{\"id\": \"1243933857180606466\", \"tweet\": \"b'RT @T9uRhHfR8jsSP57: \\\\xe0\\\\xb9\\\\x83\\\\xe0\\\\xb8\\\\x99\\\\xe0\\\\xb8\\\\x95\\\\xe0\\\\xb8\\\\xad\\\\xe0\\\\xb8\\\\x99\\\\xe0\\\\xb8\\\\x99\\\\xe0\\\\xb8\\\\xb5\\\\xe0\\\\xb9\\\\x89\\\\xe0\\\\xb8\\\\x9a\\\\xe0\\\\xb8\\\\xb2\\\\xe0\\\\xb8\\\\x87\\\\xe0\\\\xb8\\\\x88\\\\xe0\\\\xb8\\\\xb1\\\\xe0\\\\xb8\\\\x87\\\\xe0\\\\xb8\\\\xab\\\\xe0\\\\xb8\\\\xa7\\\\xe0\\\\xb8\\\\xb1\\\\xe0\\\\xb8\\\\x94\\\\xe0\\\\xb8\\\\x95\\\\xe0\\\\xb9\\\\x89\\\\xe0\\\\xb8\\\\xad\\\\xe0\\\\xb8\\\\x87\\\\xe0\\\\xb8\\\\x9b\\\\xe0\\\\xb8\\\\xaa\\\\xe0\\\\xb8\\\\x94\\\\xe0\\\\xb8\\\\x81\\\\xe0\\\\xb8\\\\xb1\\\\xe0\\\\xb8\\\\x9a\\\\xe0\\\\xb9\\\\x84\\\\xe0\\\\xb8\\\\xa7\\\\xe0\\\\xb8\\\\xa3\\\\xe0\\\\xb8\\\\xb1\\\\xe0\\\\xb8\\\\xaa \\\\xe0\\\\xb9\\\\x81\\\\xe0\\\\xb8\\\\x95\\\\xe0\\\\xb9\\\\x88\\\\xe0\\\\xb9\\\\x80\\\\xe0\\\\xb8\\\\x8a\\\\xe0\\\\xb8\\\\xb5\\\\xe0\\\\xb8\\\\xa2\\\\xe0\\\\xb8\\\\x87\\\\xe0\\\\xb9\\\\x83\\\\xe0\\\\xb8\\\\xab\\\\xe0\\\\xb8\\\\xa1\\\\xe0\\\\xb9\\\\x88\\\\xe0\\\\xb8\\\\x95\\\\xe0\\\\xb8\\\\xad\\\\xe0\\\\xb8\\\\x99\\\\xe0\\\\xb8\\\\x99\\\\xe0\\\\xb8\\\\xb5\\\\xe0\\\\xb9\\\\x89\\\\xe0\\\\xb8\\\\x84\\\\xe0\\\\xb8\\\\xb7\\\\xe0\\\\xb8\\\\xad \\\\xe0\\\\xb9\\\\x84\\\\xe0\\\\xb8\\\\x9f\\\\xe0\\\\xb8\\\\x9b\\\\xe0\\\\xb9\\\\x88\\\\xe0\\\\xb8\\\\xb2 \\\\xe0\\\\xb9\\\\x84\\\\xe0\\\\xb8\\\\xa7\\\\xe0\\\\xb8\\\\xa3\\\\xe0\\\\xb8\\\\xb1\\\\xe0\\\\xb8\\\\xaa\\\\xe0\\\\xb8\\\\x81\\\\xe0\\\\xb9\\\\x87\\\\xe0\\\\xb8\\\\x81\\\\xe0\\\\xb8\\\\xa5\\\\xe0\\\\xb8\\\\xb1\\\\xe0\\\\xb8\\\\xa7\\\\xe0\\\\xb9\\\\x81\\\\xe0\\\\xb8\\\\x96\\\\xe0\\\\xb8\\\\xa1\\\\xe0\\\\xb8\\\\x95\\\\xe0\\\\xb8\\\\xad\\\\xe0\\\\xb8\\\\x99\\\\xe0\\\\xb8\\\\x99\\\\xe0\\\\xb8\\\\xb5\\\\xe0\\\\xb9\\\\x89\\\\xe0\\\\xb8\\\\x94\\\\xe0\\\\xb9\\\\x89\\\\xe0\\\\xb8\\\\xa7\\\\xe0\\\\xb8\\\\xa2\\\\xe0\\\\xb8\\\\x84\\\\xe0\\\\xb9\\\\x88\\\\xe0\\\\xb8\\\\xb2\\\\xe0\\\\xb8\\\\x9d\\\\xe0\\\\xb8\\\\xb8\\\\xe0\\\\xb9\\\\x88\\\\xe0\\\\xb8\\\\x99\\\\xe0\\\\xb8\\\\x97\\\\xe0\\\\xb8\\\\xb5\\\\xe0\\\\xb9\\\\x88\\\\xe0\\\\xb8\\\\x89\\\\xe0\\\\xb8\\\\xb4\\\\xe0\\\\xb8\\\\x9a\\\\xe0\\\\xb8\\\\xab\\\\xe0\\\\xb8\\\\xb2\\\\xe0\\\\xb8\\\\xa2\\\\xe0\\\\xb8\\\\x82\\\\xe0\\\\xb8\\\\xb6\\\\xe0\\\\xb9\\\\x89\\\\xe0\\\\xb8\\\\x99\\\\xe0\\\\xb9\\\\x84\\\\xe0\\\\xb8\\\\x9b\\\\xe0\\\\xb8\\\\xad\\\\xe0\\\\xb8\\\\xb5\\\\xe0\\\\xb8\\\\x81 \\\\xe0\\\\xb9\\\\x80\\\\xe0\\\\xb8\\\\xad\\\\xe0\\\\xb8\\\\xb2\\\\xe0\\\\xb9\\\\x83\\\\xe0\\\\xb8\\\\x88\\\\xe2\\\\x80\\\\xa6'\", \"ts\": \"Sat Mar 28 16:11:57 +0000 2020\"}]</td></tr><tr><td>ILibelvi</td><td>[{\"id\": \"1243933857566601216\", \"tweet\": \"b'\\\\xf0\\\\x9f\\\\x98\\\\xa2\\\\xf0\\\\x9f\\\\x98\\\\xa2'\", \"ts\": \"Sat Mar 28 16:11:57 +0000 2020\"}]</td></tr><tr><td>jairhache81</td><td>[{\"id\": \"1243933857646350337\", \"tweet\": \"b'Tenemos un expresidente que sabe de todo, menos lo que pas\\\\xc3\\\\xb3 en su sexenio, no pues chido!\\\\n#Covid_19 \\\\n#COVID19'\", \"ts\": \"Sat Mar 28 16:11:57 +0000 2020\"}]</td></tr><tr><td>CaritadeAimen</td><td>[{\"id\": \"1243933858514513920\", \"tweet\": \"b\\\"So china is even sending money but @CMShehbaz and his chor brother still haven't returned our money cuz idiot judge\\\\xe2\\\\x80\\\\xa6 https://t.co/y9p3F84YId\\\"\", \"ts\": \"Sat Mar 28 16:11:57 +0000 2020\"}]</td></tr><tr><td>SkipperMeds</td><td>[{\"id\": \"1243933858648723458\", \"tweet\": \"b'RT @thekjohnston: Also, look how much warning we had.'\", \"ts\": \"Sat Mar 28 16:11:57 +0000 2020\"}]</td></tr><tr><td>beaturmero</td><td>[{\"id\": \"1243933858858274816\", \"tweet\": \"b'RT @jaarreaza: El Presidente de Argentina @alferdez explica las injustas consecuencias de las sanciones ilegales de EEUU para los pueblos d\\\\xe2\\\\x80\\\\xa6'\", \"ts\": \"Sat Mar 28 16:11:57 +0000 2020\"}]</td></tr><tr><td>CLAUDIAMAS2005</td><td>[{\"id\": \"1243933858892038144\", \"tweet\": \"b'RT @mipajaritodice: La cantidad de juicios que se va a comer el estado argentino por dejar varados a compatriotas en el exterior, una gran\\\\xe2\\\\x80\\\\xa6'\", \"ts\": \"Sat Mar 28 16:11:57 +0000 2020\"}]</td></tr><tr><td>livingtonpanta</td><td>[{\"id\": \"1243933859210842114\", \"tweet\": \"b'#CadenaNacional | #SantiagoTarapu\\\\xc3\\\\xa9s: Tenemos 1823 contagiados de #Covid_19 en #Ecuador y 48 fallecidos https://t.co/DOM4RveZhE'\", \"ts\": \"Sat Mar 28 16:11:57 +0000 2020\"}]</td></tr><tr><td>Homme1sage</td><td>[{\"id\": \"1243933859395309568\", \"tweet\": \"b'RT @Rob_Mambu: #RDC Confinement : la volte-face du gouverneur de Kinshasa  #JTRTBF #Covid_19 https://t.co/TAbR1qiFW8'\", \"ts\": \"Sat Mar 28 16:11:57 +0000 2020\"}]</td></tr><tr><td>scodenational</td><td>[{\"id\": \"1243933859768676352\", \"tweet\": \"b'RT @AmeCoeurRDC: #RDC:Voici le r\\\\xc3\\\\xa9sultat positif en 6 jrs d prise d Chloroquine contre #Covid_19 en France.\\\\nSi le confinement se fait t\\\\xc3\\\\xb4t,la\\\\xe2\\\\x80\\\\xa6'\", \"ts\": \"Sat Mar 28 16:11:57 +0000 2020\"}]</td></tr><tr><td>JdJeune</td><td>[{\"id\": \"1243933859688972289\", \"tweet\": \"b'RT @brulambert21: A ceux qui critiquaient la d\\\\xc3\\\\xa9cision d\\\\xe2\\\\x80\\\\x99envoyer du mat\\\\xc3\\\\xa9riel en Chine, voici le retour. C\\\\xe2\\\\x80\\\\x99est \\\\xc3\\\\xa7a, avoir de bonnes relations\\\\xe2\\\\x80\\\\xa6'\", \"ts\": \"Sat Mar 28 16:11:57 +0000 2020\"}]</td></tr><tr><td>andrysbl</td><td>[{\"id\": \"1243933859705585665\", \"tweet\": \"b'Everyone should watch this interview. Asian Boss interviewed a leading COVID-19 expert professor from South Korea.\\\\xe2\\\\x80\\\\xa6 https://t.co/iBZrfeYTJi'\", \"ts\": \"Sat Mar 28 16:11:57 +0000 2020\"}]</td></tr><tr><td>mtetsoane</td><td>[{\"id\": \"1243933859923857408\", \"tweet\": \"b'RT @Sthunya: Knowing Lesotho, the M700 mil set aside to fight #Covid_19  e tlo jeoa ka;\\\\n\\\\n1. Seating allowances for corona committee\\\\n2. NGOs\\\\xe2\\\\x80\\\\xa6'\", \"ts\": \"Sat Mar 28 16:11:58 +0000 2020\"}]</td></tr><tr><td>Ializar</td><td>[{\"id\": \"1243933859986751488\", \"tweet\": \"b'@ana_belen_bv @ElSrDerecha @rbolgn Mejor deja de creerte todo lo que te cuentan desde la carro\\\\xc3\\\\xb1era derecha...\\\\nhttps://t.co/G6v5Ed3nVw'\", \"ts\": \"Sat Mar 28 16:11:58 +0000 2020\"}]</td></tr><tr><td>sopnochoya</td><td>[{\"id\": \"1243933859940614146\", \"tweet\": \"b'\\\\xe0\\\\xa6\\\\x95\\\\xe0\\\\xa6\\\\xb0\\\\xe0\\\\xa7\\\\x8b\\\\xe0\\\\xa6\\\\xa8\\\\xe0\\\\xa6\\\\xbe \\\\xe0\\\\xa6\\\\xae\\\\xe0\\\\xa6\\\\xb9\\\\xe0\\\\xa6\\\\xbe\\\\xe0\\\\xa6\\\\xae\\\\xe0\\\\xa6\\\\xbe\\\\xe0\\\\xa6\\\\xb0\\\\xe0\\\\xa6\\\\xbf\\\\xe0\\\\xa6\\\\xa4\\\\xe0\\\\xa7\\\\x87 \\\\xe0\\\\xa6\\\\xb8\\\\xe0\\\\xa7\\\\x83\\\\xe0\\\\xa6\\\\xb7\\\\xe0\\\\xa7\\\\x8d\\\\xe0\\\\xa6\\\\x9f \\\\xe0\\\\xa6\\\\x95\\\\xe0\\\\xa7\\\\x8d\\\\xe0\\\\xa6\\\\xb7\\\\xe0\\\\xa6\\\\xa4\\\\xe0\\\\xa6\\\\xbf \\\\xe0\\\\xa6\\\\x95\\\\xe0\\\\xa6\\\\xbe\\\\xe0\\\\xa6\\\\x9f\\\\xe0\\\\xa6\\\\xbe\\\\xe0\\\\xa6\\\\xa4\\\\xe0\\\\xa7\\\\x87 \\\\xe0\\\\xa7\\\\xab\\\\xe0\\\\xa7\\\\xa6\\\\xe0\\\\xa7\\\\xa6 \\\\xe0\\\\xa6\\\\x95\\\\xe0\\\\xa7\\\\x8b\\\\xe0\\\\xa6\\\\x9f\\\\xe0\\\\xa6\\\\xbf \\\\xe0\\\\xa6\\\\xa1\\\\xe0\\\\xa6\\\\xb2\\\\xe0\\\\xa6\\\\xbe\\\\xe0\\\\xa6\\\\xb0 \\\\xe0\\\\xa6\\\\x8b\\\\xe0\\\\xa6\\\\xa3 \\\\xe0\\\\xa6\\\\xa6\\\\xe0\\\\xa7\\\\x87\\\\xe0\\\\xa6\\\\xac\\\\xe0\\\\xa7\\\\x87 \\\\xe0\\\\xa6\\\\x87\\\\xe0\\\\xa6\\\\xb0\\\\xe0\\\\xa6\\\\xbe\\\\xe0\\\\xa6\\\\xa8;\\\\n\\\\xe0\\\\xa6\\\\x9a\\\\xe0\\\\xa6\\\\xb2\\\\xe0\\\\xa6\\\\xae\\\\xe0\\\\xa6\\\\xbe\\\\xe0\\\\xa6\\\\xa8 \\\\xe0\\\\xa6\\\\x95\\\\xe0\\\\xa6\\\\xb0\\\\xe0\\\\xa7\\\\x8b\\\\xe0\\\\xa6\\\\xa8\\\\xe0\\\\xa6\\\\xbe \\\\xe0\\\\xa6\\\\xae\\\\xe0\\\\xa6\\\\xb9\\\\xe0\\\\xa6\\\\xbe\\\\xe0\\\\xa6\\\\xae\\\\xe0\\\\xa6\\\\xbe\\\\xe0\\\\xa6\\\\xb0\\\\xe0\\\\xa6\\\\xbf\\\\xe0\\\\xa6\\\\xa4\\\\xe0\\\\xa7\\\\x87 \\\\xe0\\\\xa6\\\\xb8\\\\xe0\\\\xa7\\\\x83\\\\xe0\\\\xa6\\\\xb7\\\\xe0\\\\xa7\\\\x8d\\\\xe0\\\\xa6\\\\x9f \\\\xe0\\\\xa6\\\\x85\\\\xe0\\\\xa6\\\\xb0\\\\xe0\\\\xa7\\\\x8d\\\\xe0\\\\xa6\\\\xa5\\\\xe0\\\\xa6\\\\xa8\\\\xe0\\\\xa7\\\\x88\\\\xe0\\\\xa6\\\\xa4\\\\xe0\\\\xa6\\\\xbf\\\\xe0\\\\xa6\\\\x95 \\\\xe0\\\\xa6\\\\x95\\\\xe0\\\\xa7\\\\x8d\\\\xe0\\\\xa6\\\\xb7\\\\xe0\\\\xa6\\\\xa4\\\\xe0\\\\xa6\\\\xbf \\\\xe0\\\\xa6\\\\x95\\\\xe0\\\\xa6\\\\xbe\\\\xe0\\\\xa6\\\\x9f\\\\xe0\\\\xa6\\\\xbf\\\\xe0\\\\xa6\\\\xaf\\\\xe0\\\\xa6\\\\xbc\\\\xe0\\\\xa7\\\\x87\\\\xe2\\\\x80\\\\xa6 https://t.co/aZmhiEGJO4'\", \"ts\": \"Sat Mar 28 16:11:58 +0000 2020\"}]</td></tr><tr><td>CestLaFreaknVie</td><td>[{\"id\": \"1243933859156299777\", \"tweet\": \"b'RT @ChinaEmbOttawa: On March 27, Bank of China donates medical supplies (including 30000 medical masks, 10000 sets of protective clothing,\\\\xe2\\\\x80\\\\xa6'\", \"ts\": \"Sat Mar 28 16:11:57 +0000 2020\"}]</td></tr><tr><td>turkishhuman</td><td>[{\"id\": \"1243933861295390724\", \"tweet\": \"b'K\\\\xc4\\\\xb0RAC\\\\xc4\\\\xb0 MOD Korona #Covid_19 #Koronovirus #OHAL #ohalilanedilsin https://t.co/ObzcpgV77O'\", \"ts\": \"Sat Mar 28 16:11:58 +0000 2020\"}]</td></tr><tr><td>girish_bhola</td><td>[{\"id\": \"1243933862129831936\", \"tweet\": \"b\\\"RT @swatisharma_ss: Wow! Saying as it is. #Covid_19 has ruined the major part of the year, screwed up people's lives and has disturbed worl\\\\xe2\\\\x80\\\\xa6\\\"\", \"ts\": \"Sat Mar 28 16:11:58 +0000 2020\"}]</td></tr><tr><td>naik_ameet</td><td>[{\"id\": \"1243933862142459904\", \"tweet\": \"b'Leadership'\", \"ts\": \"Sat Mar 28 16:11:58 +0000 2020\"}]</td></tr><tr><td>ivovynckier</td><td>[{\"id\": \"1243933861911896064\", \"tweet\": \"b'What have we learned from the Corona crisis so far? We non know what a pangolin is. Did you have to look it up too?\\\\xe2\\\\x80\\\\xa6 https://t.co/3WGfbhJ8IE'\", \"ts\": \"Sat Mar 28 16:11:58 +0000 2020\"}]</td></tr><tr><td>justmillennium</td><td>[{\"id\": \"1243933862687682561\", \"tweet\": \"b'RT @T9uRhHfR8jsSP57: \\\\xe0\\\\xb9\\\\x83\\\\xe0\\\\xb8\\\\x99\\\\xe0\\\\xb8\\\\x95\\\\xe0\\\\xb8\\\\xad\\\\xe0\\\\xb8\\\\x99\\\\xe0\\\\xb8\\\\x99\\\\xe0\\\\xb8\\\\xb5\\\\xe0\\\\xb9\\\\x89\\\\xe0\\\\xb8\\\\x9a\\\\xe0\\\\xb8\\\\xb2\\\\xe0\\\\xb8\\\\x87\\\\xe0\\\\xb8\\\\x88\\\\xe0\\\\xb8\\\\xb1\\\\xe0\\\\xb8\\\\x87\\\\xe0\\\\xb8\\\\xab\\\\xe0\\\\xb8\\\\xa7\\\\xe0\\\\xb8\\\\xb1\\\\xe0\\\\xb8\\\\x94\\\\xe0\\\\xb8\\\\x95\\\\xe0\\\\xb9\\\\x89\\\\xe0\\\\xb8\\\\xad\\\\xe0\\\\xb8\\\\x87\\\\xe0\\\\xb8\\\\x9b\\\\xe0\\\\xb8\\\\xaa\\\\xe0\\\\xb8\\\\x94\\\\xe0\\\\xb8\\\\x81\\\\xe0\\\\xb8\\\\xb1\\\\xe0\\\\xb8\\\\x9a\\\\xe0\\\\xb9\\\\x84\\\\xe0\\\\xb8\\\\xa7\\\\xe0\\\\xb8\\\\xa3\\\\xe0\\\\xb8\\\\xb1\\\\xe0\\\\xb8\\\\xaa \\\\xe0\\\\xb9\\\\x81\\\\xe0\\\\xb8\\\\x95\\\\xe0\\\\xb9\\\\x88\\\\xe0\\\\xb9\\\\x80\\\\xe0\\\\xb8\\\\x8a\\\\xe0\\\\xb8\\\\xb5\\\\xe0\\\\xb8\\\\xa2\\\\xe0\\\\xb8\\\\x87\\\\xe0\\\\xb9\\\\x83\\\\xe0\\\\xb8\\\\xab\\\\xe0\\\\xb8\\\\xa1\\\\xe0\\\\xb9\\\\x88\\\\xe0\\\\xb8\\\\x95\\\\xe0\\\\xb8\\\\xad\\\\xe0\\\\xb8\\\\x99\\\\xe0\\\\xb8\\\\x99\\\\xe0\\\\xb8\\\\xb5\\\\xe0\\\\xb9\\\\x89\\\\xe0\\\\xb8\\\\x84\\\\xe0\\\\xb8\\\\xb7\\\\xe0\\\\xb8\\\\xad \\\\xe0\\\\xb9\\\\x84\\\\xe0\\\\xb8\\\\x9f\\\\xe0\\\\xb8\\\\x9b\\\\xe0\\\\xb9\\\\x88\\\\xe0\\\\xb8\\\\xb2 \\\\xe0\\\\xb9\\\\x84\\\\xe0\\\\xb8\\\\xa7\\\\xe0\\\\xb8\\\\xa3\\\\xe0\\\\xb8\\\\xb1\\\\xe0\\\\xb8\\\\xaa\\\\xe0\\\\xb8\\\\x81\\\\xe0\\\\xb9\\\\x87\\\\xe0\\\\xb8\\\\x81\\\\xe0\\\\xb8\\\\xa5\\\\xe0\\\\xb8\\\\xb1\\\\xe0\\\\xb8\\\\xa7\\\\xe0\\\\xb9\\\\x81\\\\xe0\\\\xb8\\\\x96\\\\xe0\\\\xb8\\\\xa1\\\\xe0\\\\xb8\\\\x95\\\\xe0\\\\xb8\\\\xad\\\\xe0\\\\xb8\\\\x99\\\\xe0\\\\xb8\\\\x99\\\\xe0\\\\xb8\\\\xb5\\\\xe0\\\\xb9\\\\x89\\\\xe0\\\\xb8\\\\x94\\\\xe0\\\\xb9\\\\x89\\\\xe0\\\\xb8\\\\xa7\\\\xe0\\\\xb8\\\\xa2\\\\xe0\\\\xb8\\\\x84\\\\xe0\\\\xb9\\\\x88\\\\xe0\\\\xb8\\\\xb2\\\\xe0\\\\xb8\\\\x9d\\\\xe0\\\\xb8\\\\xb8\\\\xe0\\\\xb9\\\\x88\\\\xe0\\\\xb8\\\\x99\\\\xe0\\\\xb8\\\\x97\\\\xe0\\\\xb8\\\\xb5\\\\xe0\\\\xb9\\\\x88\\\\xe0\\\\xb8\\\\x89\\\\xe0\\\\xb8\\\\xb4\\\\xe0\\\\xb8\\\\x9a\\\\xe0\\\\xb8\\\\xab\\\\xe0\\\\xb8\\\\xb2\\\\xe0\\\\xb8\\\\xa2\\\\xe0\\\\xb8\\\\x82\\\\xe0\\\\xb8\\\\xb6\\\\xe0\\\\xb9\\\\x89\\\\xe0\\\\xb8\\\\x99\\\\xe0\\\\xb9\\\\x84\\\\xe0\\\\xb8\\\\x9b\\\\xe0\\\\xb8\\\\xad\\\\xe0\\\\xb8\\\\xb5\\\\xe0\\\\xb8\\\\x81 \\\\xe0\\\\xb9\\\\x80\\\\xe0\\\\xb8\\\\xad\\\\xe0\\\\xb8\\\\xb2\\\\xe0\\\\xb9\\\\x83\\\\xe0\\\\xb8\\\\x88\\\\xe2\\\\x80\\\\xa6'\", \"ts\": \"Sat Mar 28 16:11:58 +0000 2020\"}]</td></tr><tr><td>huaiiiiiiiiiiii</td><td>[{\"id\": \"1243933862805114880\", \"tweet\": \"b'RT @wannasingh: T T \\\\xe0\\\\xb9\\\\x84\\\\xe0\\\\xb8\\\\xa1\\\\xe0\\\\xb9\\\\x88\\\\xe0\\\\xb8\\\\xa3\\\\xe0\\\\xb8\\\\xb9\\\\xe0\\\\xb9\\\\x89\\\\xe0\\\\xb8\\\\x88\\\\xe0\\\\xb8\\\\xb0\\\\xe0\\\\xb8\\\\x9b\\\\xe0\\\\xb8\\\\xa5\\\\xe0\\\\xb8\\\\xad\\\\xe0\\\\xb8\\\\x9a\\\\xe0\\\\xb9\\\\x83\\\\xe0\\\\xb8\\\\x88\\\\xe0\\\\xb8\\\\xa2\\\\xe0\\\\xb8\\\\xb1\\\\xe0\\\\xb8\\\\x87\\\\xe0\\\\xb9\\\\x84\\\\xe0\\\\xb8\\\\x87\\\\xe0\\\\xb9\\\\x80\\\\xe0\\\\xb8\\\\xa5\\\\xe0\\\\xb8\\\\xa2'\", \"ts\": \"Sat Mar 28 16:11:58 +0000 2020\"}]</td></tr><tr><td>johnysima1</td><td>[{\"id\": \"1243933861941108736\", \"tweet\": \"b'\\\\xd9\\\\x85\\\\xd8\\\\xa7 \\\\xd9\\\\x83\\\\xd8\\\\xa7\\\\xd9\\\\x86 \\\\xd8\\\\xa8\\\\xd8\\\\xa8\\\\xd8\\\\xa7\\\\xd9\\\\x84 \\\\xd8\\\\xad\\\\xd8\\\\xaf\\\\xd8\\\\xa7...\\\\n\\\\xd9\\\\x88\\\\xd9\\\\x84\\\\xd8\\\\xa7 \\\\xd9\\\\x83\\\\xd8\\\\xa7\\\\xd9\\\\x86 \\\\xd8\\\\xad\\\\xd8\\\\xaf\\\\xd8\\\\xa7 \\\\xd9\\\\x8a\\\\xd8\\\\xad\\\\xd9\\\\x83\\\\xd9\\\\x8a \\\\xd8\\\\xa8\\\\xd8\\\\xa7\\\\xd9\\\\x84\\\\xd9\\\\x83\\\\xd9\\\\x88\\\\xd8\\\\xb1\\\\xd9\\\\x88\\\\xd9\\\\x86\\\\xd8\\\\xa7.\\\\n#Covid_19 \\\\n#TrumpVirus https://t.co/arrmYuQTfR'\", \"ts\": \"Sat Mar 28 16:11:58 +0000 2020\"}]</td></tr><tr><td>pbrower419</td><td>[{\"id\": \"1243933863245684737\", \"tweet\": \"b'RT @GamingGifter: #CoronaLockdown is happening. To make someone\\\\xe2\\\\x80\\\\x99s day &amp; spread some positivity I will reward one person who Retweets + Foll\\\\xe2\\\\x80\\\\xa6'\", \"ts\": \"Sat Mar 28 16:11:58 +0000 2020\"}]</td></tr><tr><td>valenzare16</td><td>[{\"id\": \"1243933864491442176\", \"tweet\": \"b'RT @UTPereira: La iniciativa de nuestro grupo de docentes, estudiantes y egresados de desarrollar ventiladores mec\\\\xc3\\\\xa1nicos para atender la cr\\\\xe2\\\\x80\\\\xa6'\", \"ts\": \"Sat Mar 28 16:11:59 +0000 2020\"}]</td></tr><tr><td>JpBouchaud</td><td>[{\"id\": \"1243933864541773824\", \"tweet\": \"b\\\"RT @SophiePoint: Je suis Horrifi\\\\xc3\\\\xa9e par toutes ces cha\\\\xc3\\\\xaenes d'info, toutes ces radios... qui toute la journ\\\\xc3\\\\xa9e racontent b\\\\xc3\\\\xaatises sur b\\\\xc3\\\\xaatises (\\\\xe2\\\\x80\\\\xa6\\\"\", \"ts\": \"Sat Mar 28 16:11:59 +0000 2020\"}]</td></tr><tr><td>soreana45</td><td>[{\"id\": \"1243933864524988417\", \"tweet\": \"b'RT @momenlow: \\\\xd9\\\\x88\\\\xd8\\\\xab\\\\xd9\\\\x82 \\\\xd8\\\\xad\\\\xd8\\\\xac\\\\xd8\\\\xb1\\\\xd9\\\\x83 \\\\xd8\\\\xa7\\\\xd9\\\\x84\\\\xd9\\\\x85\\\\xd9\\\\x86\\\\xd8\\\\xb2\\\\xd9\\\\x84\\\\xd9\\\\x8a \\\\xd9\\\\x83\\\\xd8\\\\xb0\\\\xd9\\\\x83\\\\xd8\\\\xb1\\\\xd9\\\\x8a \\\\xd8\\\\xa7\\\\xd8\\\\xaa\\\\xd8\\\\xad\\\\xd9\\\\x81\\\\xd9\\\\x88\\\\xd9\\\\x86\\\\xd8\\\\xa7 #\\\\xd8\\\\xb3\\\\xd8\\\\xa7\\\\xd8\\\\xb9\\\\xd8\\\\xa9_\\\\xd8\\\\xa7\\\\xd9\\\\x84\\\\xd8\\\\xa3\\\\xd8\\\\xb1\\\\xd8\\\\xb6 #Covid_19 #\\\\xd9\\\\x88\\\\xd8\\\\xb2\\\\xd9\\\\x8a\\\\xd8\\\\xb1_\\\\xd8\\\\xa7\\\\xd9\\\\x84\\\\xd8\\\\xb5\\\\xd8\\\\xad\\\\xd9\\\\x87 #\\\\xd9\\\\x88\\\\xd8\\\\xb2\\\\xd8\\\\xa7\\\\xd8\\\\xb1\\\\xd8\\\\xa9_\\\\xd8\\\\xa7\\\\xd9\\\\x84\\\\xd8\\\\xb5\\\\xd8\\\\xad\\\\xd8\\\\xa9 #28Mar #28Marzo #\\\\xd9\\\\x81\\\\xd9\\\\x8a\\\\xd8\\\\xb1\\\\xd9\\\\x88\\\\xd8\\\\xb3_\\\\xd9\\\\x83\\\\xd9\\\\x88\\\\xd8\\\\xb1\\\\xd9\\\\x88\\\\xd9\\\\x86\\\\xd8\\\\xa7_\\\\xd8\\\\xa7\\\\xd9\\\\x84\\\\xd9\\\\x85\\\\xd8\\\\xb3\\\\xd8\\\\xaa\\\\xd8\\\\xac\\\\xd8\\\\xaf\\\\xd9\\\\x91 #\\\\xd8\\\\xae\\\\xd9\\\\x84\\\\xd9\\\\x83_\\\\xd9\\\\x81\\\\xd9\\\\x8a_\\\\xe2\\\\x80\\\\xa6'\", \"ts\": \"Sat Mar 28 16:11:59 +0000 2020\"}]</td></tr><tr><td>k_mcelheran</td><td>[{\"id\": \"1243933864520712193\", \"tweet\": \"b'RT @enenbee: 51 Italian doctors dead. This is reality. And anyone who thinks their system is better or won\\\\xe2\\\\x80\\\\x99t be affected is an idiot. And I\\\\xe2\\\\x80\\\\xa6'\", \"ts\": \"Sat Mar 28 16:11:59 +0000 2020\"}]</td></tr><tr><td>phoeniciaelias</td><td>[{\"id\": \"1243933864931856385\", \"tweet\": \"b'RT @phoeniciaelias: \\\\xd8\\\\xa8\\\\xd9\\\\x84\\\\xd8\\\\xba \\\\xd8\\\\xad\\\\xd8\\\\xaa\\\\xd9\\\\x89 \\\\xd8\\\\xa7\\\\xd9\\\\x84\\\\xd9\\\\x8a\\\\xd9\\\\x88\\\\xd9\\\\x85 \\\\xd8\\\\xa7\\\\xd9\\\\x84\\\\xd8\\\\xb3\\\\xd8\\\\xa8\\\\xd8\\\\xaa 28 \\\\xd8\\\\xa2\\\\xd8\\\\xb0\\\\xd8\\\\xa7\\\\xd8\\\\xb1/2020/\\\\xd8\\\\xb9\\\\xd8\\\\xaf\\\\xd8\\\\xaf \\\\xd8\\\\xa7\\\\xd9\\\\x84\\\\xd8\\\\xa5\\\\xd8\\\\xb5\\\\xd8\\\\xa7\\\\xd8\\\\xa8\\\\xd8\\\\xa7\\\\xd8\\\\xaa \\\\xd9\\\\x81\\\\xd9\\\\x8a \\\\xd9\\\\x83\\\\xd9\\\\x86\\\\xd8\\\\xaf\\\\xd8\\\\xa7 \\\\xd8\\\\xa8\\\\xd8\\\\xaf\\\\xd8\\\\xa7\\\\xd8\\\\xa1 \\\\xd9\\\\x81\\\\xd9\\\\x8a\\\\xd8\\\\xb1\\\\xd9\\\\x88\\\\xd8\\\\xb3 \\\\xd8\\\\xa7\\\\xd9\\\\x84\\\\xd9\\\\x83\\\\xd9\\\\x88\\\\xd8\\\\xb1\\\\xd9\\\\x88\\\\xd9\\\\x86\\\\xd8\\\\xa7 4750 \\\\xd9\\\\x88\\\\xd8\\\\xb9\\\\xd8\\\\xaf\\\\xd8\\\\xaf \\\\xd8\\\\xa7\\\\xd9\\\\x84\\\\xd9\\\\x88\\\\xd9\\\\x81\\\\xd9\\\\x8a\\\\xd8\\\\xa7\\\\xd8\\\\xaa 55\\\\n\\\\xd8\\\\xad\\\\xd9\\\\x85\\\\xd9\\\\x8a \\\\xd8\\\\xa7\\\\xd9\\\\x84\\\\xd9\\\\x84\\\\xd9\\\\x87 \\\\xd9\\\\x83\\\\xd9\\\\x86\\\\xd8\\\\xaf\\\\xd8\\\\xa7 \\\\xd9\\\\x88\\\\xd8\\\\xa7\\\\xd9\\\\x84\\\\xd9\\\\x83\\\\xd9\\\\x86\\\\xd8\\\\xaf\\\\xd9\\\\x8a\\\\xd9\\\\x8a\\\\xd9\\\\x86\\\\xe2\\\\x80\\\\xa6'\", \"ts\": \"Sat Mar 28 16:11:59 +0000 2020\"}]</td></tr><tr><td>selimabali</td><td>[{\"id\": \"1243933864948633600\", \"tweet\": \"b\\\"Ezanlar\\\\xc4\\\\xb1 protesto eden zavall\\\\xc4\\\\xb1lar \\\\xc4\\\\xb0talya'ya ve ABD'ye ko\\\\xc5\\\\x9fa ko\\\\xc5\\\\x9fa gidebilir.\\\\nAtam Gazi Mustafa Kemal ve Kahraman T\\\\xc3\\\\xbcrk\\\\xe2\\\\x80\\\\xa6 https://t.co/om5WCQvTvu\\\"\", \"ts\": \"Sat Mar 28 16:11:59 +0000 2020\"}]</td></tr><tr><td>boycottbobble</td><td>[{\"id\": \"1243933864956960768\", \"tweet\": \"b'Thank You \\\\xf0\\\\x9f\\\\x99\\\\x8f \\\\xe2\\\\x9d\\\\xa3\\\\xef\\\\xb8\\\\x8f Very much needed and very much appreciated.'\", \"ts\": \"Sat Mar 28 16:11:59 +0000 2020\"}]</td></tr><tr><td>malekabubaker</td><td>[{\"id\": \"1243933865284075524\", \"tweet\": \"b'\\\\xd8\\\\xa7\\\\xd9\\\\x84\\\\xd8\\\\xb3\\\\xd9\\\\x8a\\\\xd8\\\\xb3\\\\xd9\\\\x8a \\\\xd9\\\\x85\\\\xd9\\\\x86 \\\\xd8\\\\xa3\\\\xd9\\\\x88\\\\xd9\\\\x84 \\\\xd8\\\\xa7\\\\xd9\\\\x84\\\\xd8\\\\xa3\\\\xd8\\\\xad\\\\xd8\\\\xaf\\\\xd8\\\\xa7\\\\xd8\\\\xab \\\\xd9\\\\x85\\\\xd8\\\\xa7 \\\\xd8\\\\xb9\\\\xd9\\\\x85\\\\xd9\\\\x84 \\\\xd9\\\\x88\\\\xd9\\\\x84\\\\xd8\\\\xa7 \\\\xd9\\\\x85\\\\xd8\\\\xa4\\\\xd8\\\\xaa\\\\xd9\\\\x85\\\\xd8\\\\xb1 \\\\xd9\\\\x88 \\\\xd9\\\\x84\\\\xd8\\\\xa7 \\\\xd8\\\\xae\\\\xd8\\\\xb7\\\\xd8\\\\xa7\\\\xd8\\\\xa8 \\\\xd8\\\\xb4\\\\xd9\\\\x88 \\\\xd8\\\\xa7\\\\xd9\\\\x84\\\\xd9\\\\x82\\\\xd8\\\\xb5\\\\xd8\\\\xa9 \\\\xd9\\\\x8a\\\\xd8\\\\xa7 \\\\xd8\\\\xa8\\\\xd9\\\\x84\\\\xd8\\\\xad\\\\xd8\\\\xa9 \\\\xd8\\\\xa8\\\\xd8\\\\xaf\\\\xd9\\\\x86\\\\xd8\\\\xa7 \\\\xd8\\\\xad\\\\xd8\\\\xaf\\\\xd8\\\\xa7\\\\xd8\\\\xa7\\\\xd8\\\\xa7 \\\\xd9\\\\x86\\\\xd8\\\\xb6\\\\xd8\\\\xad\\\\xd9\\\\x83 \\\\xd8\\\\xb9\\\\xd9\\\\x84\\\\xd9\\\\x8a\\\\xd9\\\\x87 \\\\n#\\\\xd8\\\\xb3\\\\xd9\\\\x88\\\\xd9\\\\x83\\\\xd8\\\\xa7_\\\\xd8\\\\xaa\\\\xd8\\\\xb4\\\\xd9\\\\x82\\\\xd9\\\\x82\\\\xd8\\\\xa7\\\\xd8\\\\xaa #\\\\xd8\\\\xb9\\\\xd8\\\\xa8\\\\xd8\\\\xaf\\\\xd8\\\\xa7\\\\xd9\\\\x84\\\\xd9\\\\x84\\\\xd9\\\\x87_\\\\xd8\\\\xa7\\\\xd9\\\\x84\\\\xd8\\\\xb4\\\\xd8\\\\xb1\\\\xd9\\\\x8a\\\\xd9\\\\x81 #\\\\xd9\\\\x85\\\\xd8\\\\xb5\\\\xd8\\\\xb1 #\\\\xd9\\\\x83\\\\xd9\\\\x88\\\\xd8\\\\xb1\\\\xd9\\\\x88\\\\xd9\\\\x86\\\\xd8\\\\xa7 #Covid_19'\", \"ts\": \"Sat Mar 28 16:11:59 +0000 2020\"}]</td></tr><tr><td>drcopps</td><td>[{\"id\": \"1243933865816842240\", \"tweet\": \"b\\\"@RadioCanadaInfo Quand est-ce que le Canada annoncera un plan concret pour la production/l'acquisition de masques c\\\\xe2\\\\x80\\\\xa6 https://t.co/3ZEyPMwqdL\\\"\", \"ts\": \"Sat Mar 28 16:11:59 +0000 2020\"}]</td></tr><tr><td>fcr501</td><td>[{\"id\": \"1243933865925840896\", \"tweet\": \"b'RT @patricialopezl: Pues nada, que el Director Adjunto de la @policia se acaba de cargar el discurso del Gobierno en 2 palabras: -\\\"Hace tre\\\\xe2\\\\x80\\\\xa6'\", \"ts\": \"Sat Mar 28 16:11:59 +0000 2020\"}]</td></tr><tr><td>montrealborn</td><td>[{\"id\": \"1243933866173313025\", \"tweet\": \"b'What about arriving in Canada?'\", \"ts\": \"Sat Mar 28 16:11:59 +0000 2020\"}]</td></tr><tr><td>Jenn_McCreath</td><td>[{\"id\": \"1243933866613760000\", \"tweet\": \"b'RT @VassyKapelos: Dr. Tam: 7% cases in Canada, 3% in critical care, 1% have passed away. 30% of the people who have been hospitalized are u\\\\xe2\\\\x80\\\\xa6'\", \"ts\": \"Sat Mar 28 16:11:59 +0000 2020\"}]</td></tr><tr><td>AmparitoSC</td><td>[{\"id\": \"1243933866743775234\", \"tweet\": \"b'RT @lavecinarubia: Leo que Cospedal es TT. Miro por qu\\\\xc3\\\\xa9. Veo que la hermana de Cospedal trabaja en un laboratorio que hace test r\\\\xc3\\\\xa1pidos con\\\\xe2\\\\x80\\\\xa6'\", \"ts\": \"Sat Mar 28 16:11:59 +0000 2020\"}]</td></tr><tr><td>wolffigther</td><td>[{\"id\": \"1243933867679133697\", \"tweet\": \"b'RT @taniasandinista: Resulta q para la PREN-CIA,el protocolo a seguir con las personas fallecidas x #Covid_19 de no velar,no hacer funerale\\\\xe2\\\\x80\\\\xa6'\", \"ts\": \"Sat Mar 28 16:11:59 +0000 2020\"}]</td></tr><tr><td>EzHustler</td><td>[{\"id\": \"1243933868195012611\", \"tweet\": \"b'RT @GamingGifter: #CoronaLockdown is happening. To make someone\\\\xe2\\\\x80\\\\x99s day &amp; spread some positivity I will reward one person who Retweets + Foll\\\\xe2\\\\x80\\\\xa6'\", \"ts\": \"Sat Mar 28 16:12:00 +0000 2020\"}]</td></tr><tr><td>astrolansk</td><td>[{\"id\": \"1243933868706500608\", \"tweet\": \"b'RT @KStewart698: Spring Colour\\\\xf0\\\\x9f\\\\x8c\\\\xb7\\\\n@ThePhotoHour @LensAreLive @BacklightWorld @YoushowmeP #saltspringisland #EarthHour2020 #SaturdayMotivation\\\\xe2\\\\x80\\\\xa6'\", \"ts\": \"Sat Mar 28 16:12:00 +0000 2020\"}]</td></tr><tr><td>DavidDuong</td><td>[{\"id\": \"1243933868715134978\", \"tweet\": \"b'RT @mehdikerkouche: On nous a dit qu\\\\xe2\\\\x80\\\\x99on pouvait pas sortir, pas qu\\\\xe2\\\\x80\\\\x99on devait arr\\\\xc3\\\\xaater de danser\\\\xf0\\\\x9f\\\\x98\\\\x8f\\\\xf0\\\\x9f\\\\x98\\\\x9d\\\\xf0\\\\x9f\\\\x98\\\\x85\\\\xf0\\\\x9f\\\\xa4\\\\xb7\\\\xf0\\\\x9f\\\\x8f\\\\xbb\\\\xe2\\\\x80\\\\x8d\\\\xe2\\\\x99\\\\x82\\\\xef\\\\xb8\\\\x8f\\\\nCr\\\\xc3\\\\xa9a confinement avec les chatons de\\\\xe2\\\\x80\\\\xa6'\", \"ts\": \"Sat Mar 28 16:12:00 +0000 2020\"}]</td></tr><tr><td>TayPer9</td><td>[{\"id\": \"1243933869050671107\", \"tweet\": \"b'RT @ChinaEmbOttawa: On March 27, Bank of China donates medical supplies (including 30000 medical masks, 10000 sets of protective clothing,\\\\xe2\\\\x80\\\\xa6'\", \"ts\": \"Sat Mar 28 16:12:00 +0000 2020\"}]</td></tr><tr><td>pithy_in</td><td>[{\"id\": \"1243933869516025856\", \"tweet\": \"b\\\"RT @EveyHammond19: \\\\xf0\\\\x9f\\\\x98\\\\xa2\\\\n\\\\nShe didn't go through years of medical training just\\\\nto be killed by idiots.\\\\n\\\\n                    *** PLEASE  STAY  A\\\\xe2\\\\x80\\\\xa6\\\"\", \"ts\": \"Sat Mar 28 16:12:00 +0000 2020\"}]</td></tr><tr><td>eergunmetin</td><td>[{\"id\": \"1243933869889462275\", \"tweet\": \"b'RT @RedAlevi_: Birisi bunu a\\\\xc3\\\\xa7\\\\xc4\\\\xb1klas\\\\xc4\\\\xb1n neyi gizliyorsunuz art\\\\xc4\\\\xb1k.\\\\n@barisatay @LeventUzumcu @gokhanozoguz @barisyarkadas\\\\n#Covid_19\\\\n#Korona http\\\\xe2\\\\x80\\\\xa6'\", \"ts\": \"Sat Mar 28 16:12:00 +0000 2020\"}]</td></tr><tr><td>DanielRdrgz_</td><td>[{\"id\": \"1243933869855969282\", \"tweet\": \"b'RT @pichinchauniver: \\\\xf0\\\\x9f\\\\x94\\\\xb4#ATENCI\\\\xc3\\\\x93N | Informe de emergencia sanitaria por parte de la Direcci\\\\xc3\\\\xb3n Nacional de Gesti\\\\xc3\\\\xb3n de Riesgos del Ministerio d\\\\xe2\\\\x80\\\\xa6'\", \"ts\": \"Sat Mar 28 16:12:00 +0000 2020\"}]</td></tr><tr><td>ankitgarg307</td><td>[{\"id\": \"1243933869671239680\", \"tweet\": \"b\\\"I stand strong with my country to fight against COVID19. Let's turn every stone to win this fight with\\\\xe2\\\\x80\\\\xa6 https://t.co/Bs4WyVLlUi\\\"\", \"ts\": \"Sat Mar 28 16:12:00 +0000 2020\"}]</td></tr><tr><td>mardinmuftulugu</td><td>[{\"id\": \"1243933870363377664\", \"tweet\": \"b'RT @diyanethbr: Koronavir\\\\xc3\\\\xbcsle m\\\\xc3\\\\xbccadelede din g\\\\xc3\\\\xb6revlileri sahaya indi https://t.co/rgJ3rewu27\\\\n\\\\n#Covid_19 # #te\\\\xc5\\\\x9fekk\\\\xc3\\\\xbcrlerdiyanet #DiyanetHaber\\\\xe2\\\\x80\\\\xa6'\", \"ts\": \"Sat Mar 28 16:12:00 +0000 2020\"}]</td></tr><tr><td>Crypticlad_RK</td><td>[{\"id\": \"1243933871097307138\", \"tweet\": \"b'RT @Vijayabaskarofl: #CoronaUpdate: #Covid_19 positive confirmed for 25 Y M from West Mambalam, Chennai. Pt is undergoing treatment in isol\\\\xe2\\\\x80\\\\xa6'\", \"ts\": \"Sat Mar 28 16:12:00 +0000 2020\"}]</td></tr><tr><td>LMonederoR</td><td>[{\"id\": \"1243933871391019008\", \"tweet\": \"b'DEP \\\\xf0\\\\x9f\\\\x98\\\\x94'\", \"ts\": \"Sat Mar 28 16:12:00 +0000 2020\"}]</td></tr><tr><td>PazProgreso</td><td>[{\"id\": \"1243933872045293568\", \"tweet\": \"b'RT @VargasSilvaMV: #ATENCION hoy en #Sesi\\\\xc3\\\\xb3nPlenaria propuse que las camionetas asignadas a los concejales de #Bogot\\\\xc3\\\\xa1 se pongan a disposici\\\\xc3\\\\xb3\\\\xe2\\\\x80\\\\xa6'\", \"ts\": \"Sat Mar 28 16:12:00 +0000 2020\"}]</td></tr><tr><td>danicuspin</td><td>[{\"id\": \"1243933872217350144\", \"tweet\": \"b'Anyone tired of this curfew already\\\\n#KaaNyumbani \\\\n#COVID19 \\\\n#Covid_19 \\\\n#policebrutalityke \\\\n#RogaRoga \\\\n#matiangi\\\\xe2\\\\x80\\\\xa6 https://t.co/lQuxWUY9fK'\", \"ts\": \"Sat Mar 28 16:12:00 +0000 2020\"}]</td></tr><tr><td>Lilijuris</td><td>[{\"id\": \"1243933872150233088\", \"tweet\": \"b'Oowwnnn \\\\xf0\\\\x9f\\\\x92\\\\x94\\\\xf0\\\\x9f\\\\x92\\\\x94\\\\xf0\\\\x9f\\\\x92\\\\x94 #Covid_19 #COVID19 #pandemia'\", \"ts\": \"Sat Mar 28 16:12:00 +0000 2020\"}]</td></tr><tr><td>Rod17091964</td><td>[{\"id\": \"1243933872343179265\", \"tweet\": \"b'RT @floripondia27: Toda la raz\\\\xc3\\\\xb3n!! Hay q ser muy miserable para sacar provecho de esta crisis como lo hace Pi\\\\xc3\\\\xb1era nos quiere matar y dejar\\\\xe2\\\\x80\\\\xa6'\", \"ts\": \"Sat Mar 28 16:12:00 +0000 2020\"}]</td></tr><tr><td>PakiPakori</td><td>[{\"id\": \"1243933872380919810\", \"tweet\": \"b'Happiest person in the World \\\\xf0\\\\x9f\\\\x98\\\\x81\\\\xf0\\\\x9f\\\\x98\\\\x80\\\\n#Covid_19 #lockdown https://t.co/QzDUKp5rXy'\", \"ts\": \"Sat Mar 28 16:12:01 +0000 2020\"}]</td></tr><tr><td>mussawer01</td><td>[{\"id\": \"1243933872863219713\", \"tweet\": \"b'RT @SMQureshiPTI: Pakistan &amp; China collaborating closely for assistance to counter formidable COVID-19. We thank Govt of China for sending\\\\xe2\\\\x80\\\\xa6'\", \"ts\": \"Sat Mar 28 16:12:01 +0000 2020\"}]</td></tr><tr><td>desunovabeach</td><td>[{\"id\": \"1243933872758415361\", \"tweet\": \"b'RT @ibn_ubady: @desunovabeach'\", \"ts\": \"Sat Mar 28 16:12:01 +0000 2020\"}]</td></tr><tr><td>0m5r_</td><td>[{\"id\": \"1243933872926187520\", \"tweet\": \"b'RT @CBCNews: Canada has sent 16 tonnes of personal protective equipment to China, which officials say has improved relations between the tw\\\\xe2\\\\x80\\\\xa6'\", \"ts\": \"Sat Mar 28 16:12:01 +0000 2020\"}]</td></tr><tr><td>DnvDvventura</td><td>[{\"id\": \"1243933873144303617\", \"tweet\": \"b'RT @CTVNews: China donates thousands of medical masks, personal protective equipment to Canada https://t.co/Ij2YS7C8H6 #cdnpoli'\", \"ts\": \"Sat Mar 28 16:12:01 +0000 2020\"}]</td></tr><tr><td>garageowns</td><td>[{\"id\": \"1243933873140051969\", \"tweet\": \"b'.\\\\nAt least the herpes cleared up \\\\xf0\\\\x9f\\\\x98\\\\xb3\\\\n.\\\\n#nathasherpes #nathascoronavirus #corona #covid_19 #plaguedaze @ Shoreditch https://t.co/WMHAj2lMWM'\", \"ts\": \"Sat Mar 28 16:12:01 +0000 2020\"}]</td></tr><tr><td>Jamie_Z_</td><td>[{\"id\": \"1243933873257529345\", \"tweet\": \"b'RT @GamingGifter: #CoronaLockdown is happening. To make someone\\\\xe2\\\\x80\\\\x99s day &amp; spread some positivity I will reward one person who Retweets + Foll\\\\xe2\\\\x80\\\\xa6'\", \"ts\": \"Sat Mar 28 16:12:01 +0000 2020\"}]</td></tr><tr><td>seniorufio</td><td>[{\"id\": \"1243933873307881472\", \"tweet\": \"b'RT @Jualicra: Repitan conmigo: aplanar la curva, aplanar la curva, aplanar la curva, aplanar la curva, aplanar la curva, aplanar la curva,\\\\xe2\\\\x80\\\\xa6'\", \"ts\": \"Sat Mar 28 16:12:01 +0000 2020\"}]</td></tr><tr><td>thetaoweky</td><td>[{\"id\": \"1243933873764851712\", \"tweet\": \"b'RT @T9uRhHfR8jsSP57: \\\\xe0\\\\xb9\\\\x83\\\\xe0\\\\xb8\\\\x99\\\\xe0\\\\xb8\\\\x95\\\\xe0\\\\xb8\\\\xad\\\\xe0\\\\xb8\\\\x99\\\\xe0\\\\xb8\\\\x99\\\\xe0\\\\xb8\\\\xb5\\\\xe0\\\\xb9\\\\x89\\\\xe0\\\\xb8\\\\x9a\\\\xe0\\\\xb8\\\\xb2\\\\xe0\\\\xb8\\\\x87\\\\xe0\\\\xb8\\\\x88\\\\xe0\\\\xb8\\\\xb1\\\\xe0\\\\xb8\\\\x87\\\\xe0\\\\xb8\\\\xab\\\\xe0\\\\xb8\\\\xa7\\\\xe0\\\\xb8\\\\xb1\\\\xe0\\\\xb8\\\\x94\\\\xe0\\\\xb8\\\\x95\\\\xe0\\\\xb9\\\\x89\\\\xe0\\\\xb8\\\\xad\\\\xe0\\\\xb8\\\\x87\\\\xe0\\\\xb8\\\\x9b\\\\xe0\\\\xb8\\\\xaa\\\\xe0\\\\xb8\\\\x94\\\\xe0\\\\xb8\\\\x81\\\\xe0\\\\xb8\\\\xb1\\\\xe0\\\\xb8\\\\x9a\\\\xe0\\\\xb9\\\\x84\\\\xe0\\\\xb8\\\\xa7\\\\xe0\\\\xb8\\\\xa3\\\\xe0\\\\xb8\\\\xb1\\\\xe0\\\\xb8\\\\xaa \\\\xe0\\\\xb9\\\\x81\\\\xe0\\\\xb8\\\\x95\\\\xe0\\\\xb9\\\\x88\\\\xe0\\\\xb9\\\\x80\\\\xe0\\\\xb8\\\\x8a\\\\xe0\\\\xb8\\\\xb5\\\\xe0\\\\xb8\\\\xa2\\\\xe0\\\\xb8\\\\x87\\\\xe0\\\\xb9\\\\x83\\\\xe0\\\\xb8\\\\xab\\\\xe0\\\\xb8\\\\xa1\\\\xe0\\\\xb9\\\\x88\\\\xe0\\\\xb8\\\\x95\\\\xe0\\\\xb8\\\\xad\\\\xe0\\\\xb8\\\\x99\\\\xe0\\\\xb8\\\\x99\\\\xe0\\\\xb8\\\\xb5\\\\xe0\\\\xb9\\\\x89\\\\xe0\\\\xb8\\\\x84\\\\xe0\\\\xb8\\\\xb7\\\\xe0\\\\xb8\\\\xad \\\\xe0\\\\xb9\\\\x84\\\\xe0\\\\xb8\\\\x9f\\\\xe0\\\\xb8\\\\x9b\\\\xe0\\\\xb9\\\\x88\\\\xe0\\\\xb8\\\\xb2 \\\\xe0\\\\xb9\\\\x84\\\\xe0\\\\xb8\\\\xa7\\\\xe0\\\\xb8\\\\xa3\\\\xe0\\\\xb8\\\\xb1\\\\xe0\\\\xb8\\\\xaa\\\\xe0\\\\xb8\\\\x81\\\\xe0\\\\xb9\\\\x87\\\\xe0\\\\xb8\\\\x81\\\\xe0\\\\xb8\\\\xa5\\\\xe0\\\\xb8\\\\xb1\\\\xe0\\\\xb8\\\\xa7\\\\xe0\\\\xb9\\\\x81\\\\xe0\\\\xb8\\\\x96\\\\xe0\\\\xb8\\\\xa1\\\\xe0\\\\xb8\\\\x95\\\\xe0\\\\xb8\\\\xad\\\\xe0\\\\xb8\\\\x99\\\\xe0\\\\xb8\\\\x99\\\\xe0\\\\xb8\\\\xb5\\\\xe0\\\\xb9\\\\x89\\\\xe0\\\\xb8\\\\x94\\\\xe0\\\\xb9\\\\x89\\\\xe0\\\\xb8\\\\xa7\\\\xe0\\\\xb8\\\\xa2\\\\xe0\\\\xb8\\\\x84\\\\xe0\\\\xb9\\\\x88\\\\xe0\\\\xb8\\\\xb2\\\\xe0\\\\xb8\\\\x9d\\\\xe0\\\\xb8\\\\xb8\\\\xe0\\\\xb9\\\\x88\\\\xe0\\\\xb8\\\\x99\\\\xe0\\\\xb8\\\\x97\\\\xe0\\\\xb8\\\\xb5\\\\xe0\\\\xb9\\\\x88\\\\xe0\\\\xb8\\\\x89\\\\xe0\\\\xb8\\\\xb4\\\\xe0\\\\xb8\\\\x9a\\\\xe0\\\\xb8\\\\xab\\\\xe0\\\\xb8\\\\xb2\\\\xe0\\\\xb8\\\\xa2\\\\xe0\\\\xb8\\\\x82\\\\xe0\\\\xb8\\\\xb6\\\\xe0\\\\xb9\\\\x89\\\\xe0\\\\xb8\\\\x99\\\\xe0\\\\xb9\\\\x84\\\\xe0\\\\xb8\\\\x9b\\\\xe0\\\\xb8\\\\xad\\\\xe0\\\\xb8\\\\xb5\\\\xe0\\\\xb8\\\\x81 \\\\xe0\\\\xb9\\\\x80\\\\xe0\\\\xb8\\\\xad\\\\xe0\\\\xb8\\\\xb2\\\\xe0\\\\xb9\\\\x83\\\\xe0\\\\xb8\\\\x88\\\\xe2\\\\x80\\\\xa6'\", \"ts\": \"Sat Mar 28 16:12:01 +0000 2020\"}]</td></tr><tr><td>MarioAspiazu</td><td>[{\"id\": \"1243933873886638080\", \"tweet\": \"b'RT @ComunicacionEc: AHORA | Informe de emergencia sanitaria por parte de la Direcci\\\\xc3\\\\xb3n Nacional de Gesti\\\\xc3\\\\xb3n de Riesgos del Ministerio de @Sal\\\\xe2\\\\x80\\\\xa6'\", \"ts\": \"Sat Mar 28 16:12:01 +0000 2020\"}]</td></tr><tr><td>then0stalgicone</td><td>[{\"id\": \"1243933874108936192\", \"tweet\": \"b'RT @ramichuene: This #Covid_19 is exposing the divide, intolerance &amp; harm caused by class. You calling me two-faced for calling you out for\\\\xe2\\\\x80\\\\xa6'\", \"ts\": \"Sat Mar 28 16:12:01 +0000 2020\"}]</td></tr><tr><td>8bh5YH6TJ18GcKj</td><td>[{\"id\": \"1243933874406604801\", \"tweet\": \"b'#COVID19\\\\n#Covid_19\\\\n#COVID\\\\n#\\\\xe0\\\\xb9\\\\x80\\\\xe0\\\\xb8\\\\xa3\\\\xe0\\\\xb8\\\\xb2\\\\xe0\\\\xb9\\\\x84\\\\xe0\\\\xb8\\\\xa1\\\\xe0\\\\xb9\\\\x88\\\\xe0\\\\xb8\\\\x97\\\\xe0\\\\xb8\\\\xb4\\\\xe0\\\\xb9\\\\x89\\\\xe0\\\\xb8\\\\x87\\\\xe0\\\\xb8\\\\x81\\\\xe0\\\\xb8\\\\xb1\\\\xe0\\\\xb8\\\\x99\\\\nwww. \\\\xe0\\\\xb9\\\\x80\\\\xe0\\\\xb8\\\\xa3\\\\xe0\\\\xb8\\\\xb2\\\\xe0\\\\xb9\\\\x84\\\\xe0\\\\xb8\\\\xa1\\\\xe0\\\\xb9\\\\x88\\\\xe0\\\\xb8\\\\x97\\\\xe0\\\\xb8\\\\xb4\\\\xe0\\\\xb9\\\\x89\\\\xe0\\\\xb8\\\\x87\\\\xe0\\\\xb8\\\\x81\\\\xe0\\\\xb8\\\\xb1\\\\xe0\\\\xb8\\\\x99.com \\\\xe0\\\\xb8\\\\xa5\\\\xe0\\\\xb8\\\\x87\\\\xe0\\\\xb8\\\\x97\\\\xe0\\\\xb8\\\\xb0\\\\xe0\\\\xb9\\\\x80\\\\xe0\\\\xb8\\\\x9a\\\\xe0\\\\xb8\\\\xb5\\\\xe0\\\\xb8\\\\xa2\\\\xe0\\\\xb8\\\\x99\\\\xe0\\\\xb8\\\\xa3\\\\xe0\\\\xb8\\\\xb1\\\\xe0\\\\xb8\\\\x9a\\\\xe0\\\\xb9\\\\x80\\\\xe0\\\\xb8\\\\x87\\\\xe0\\\\xb8\\\\xb4\\\\xe0\\\\xb8\\\\x99 5,000 \\\\xe0\\\\xb8\\\\x84\\\\xe0\\\\xb8\\\\xa5\\\\xe0\\\\xb8\\\\xb4\\\\xe0\\\\xb8\\\\x81\\\\xe0\\\\xb8\\\\x97\\\\xe0\\\\xb8\\\\xb5\\\\xe0\\\\xb9\\\\x88\\\\xe0\\\\xb8\\\\x99\\\\xe0\\\\xb8\\\\xb5\\\\xe0\\\\xb9\\\\x88\\\\nhttps://t.co/2pbSVSYiX6'\", \"ts\": \"Sat Mar 28 16:12:01 +0000 2020\"}]</td></tr><tr><td>solalvadg</td><td>[{\"id\": \"1243933874549403648\", \"tweet\": \"b'RT @planwac: \\\\xf0\\\\x9f\\\\x91\\\\x8f\\\\xf0\\\\x9f\\\\x8f\\\\xbd\\\\xf0\\\\x9f\\\\x91\\\\x8f\\\\xf0\\\\x9f\\\\x8f\\\\xbd\\\\xf0\\\\x9f\\\\x91\\\\x8f\\\\xf0\\\\x9f\\\\x8f\\\\xbd Aplausos de pie a la gran naci\\\\xc3\\\\xb3n y al pueblo chino, a la Rep\\\\xc3\\\\xbablica Popular China https://t.co/H711eAWKqJ'\", \"ts\": \"Sat Mar 28 16:12:01 +0000 2020\"}]</td></tr><tr><td>jorgextremeno</td><td>[{\"id\": \"1243933874700369921\", \"tweet\": \"b'RT @SergioParra97: Buenos d\\\\xc3\\\\xadas, @DipdeBadajoz. Es magn\\\\xc3\\\\xadfico que los medios de comunicaci\\\\xc3\\\\xb3n realicen sus propios gr\\\\xc3\\\\xa1ficos, pero que me copi\\\\xc3\\\\xa9\\\\xe2\\\\x80\\\\xa6'\", \"ts\": \"Sat Mar 28 16:12:01 +0000 2020\"}]</td></tr><tr><td>darkavm</td><td>[{\"id\": \"1243933874826207233\", \"tweet\": \"b'RT @aisge: En el Hospital Cl\\\\xc3\\\\xadnic de Barcelona ha fallecido esta ma\\\\xc3\\\\xb1ana por el maldito #Covid_19 el admirado actor de doblaje #salvadorvives\\\\xe2\\\\x80\\\\xa6'\", \"ts\": \"Sat Mar 28 16:12:01 +0000 2020\"}]</td></tr><tr><td>Golleje1</td><td>[{\"id\": \"1243933875262427136\", \"tweet\": \"b'RT @MPPSalud: Pandemia #Covid_19 | Balance: 11:47 a.m. \\\\n\\\\nTotal de casos en el mundo: 622.627\\\\n\\\\nTotal de fallecidos: 28.879\\\\n\\\\nTotal de recuper\\\\xe2\\\\x80\\\\xa6'\", \"ts\": \"Sat Mar 28 16:12:01 +0000 2020\"}]</td></tr><tr><td>tmrhnl</td><td>[{\"id\": \"1243933875136376832\", \"tweet\": \"b'RT @FredTJoseph: BIG #RENTRELIEF UPDATE: We have now supported over 40 people and given away about $10k...and we still have $90k to giveawa\\\\xe2\\\\x80\\\\xa6'\", \"ts\": \"Sat Mar 28 16:12:01 +0000 2020\"}]</td></tr><tr><td>NoLuckNeeded</td><td>[{\"id\": \"1243933869339893765\", \"tweet\": \"b'Grande Vegas Casino -$150 Free Chip Friday for Depositors March 23-27. Expires March 29 https://t.co/56uiQwZRaj Rel\\\\xe2\\\\x80\\\\xa6 https://t.co/jtlHJMStt4'\", \"ts\": \"Sat Mar 28 16:12:00 +0000 2020\"}]</td></tr><tr><td>OzrenV</td><td>[{\"id\": \"1243933875434221568\", \"tweet\": \"b'RT @rachaiello: Seems supplies from China are now being sent to Canada, returning the favour from the federal government in early February.\\\\xe2\\\\x80\\\\xa6'\", \"ts\": \"Sat Mar 28 16:12:01 +0000 2020\"}]</td></tr><tr><td>Salix21</td><td>[{\"id\": \"1243933875522371584\", \"tweet\": \"b'RT @wrldwidnginring: {UPDATED MARCH 27TH} Total Confirmed COVID-19 Cases Outside China\\\\n\\\\nSource: WHO\\\\n\\\\n#Coronavirus #covid #covid19 #covid_19\\\\xe2\\\\x80\\\\xa6'\", \"ts\": \"Sat Mar 28 16:12:01 +0000 2020\"}]</td></tr><tr><td>XMCTristan</td><td>[{\"id\": \"1243933875790909440\", \"tweet\": \"b\\\"RT @Conflits_FR: \\\\xf0\\\\x9f\\\\x87\\\\xba\\\\xf0\\\\x9f\\\\x87\\\\xb8 Lutte contre le #coronavirus : Abbott Laboratories a d\\\\xc3\\\\xa9velopp\\\\xc3\\\\xa9 un kit de d\\\\xc3\\\\xa9pistage rapide du #COVID19 de la taille d'un\\\\xe2\\\\x80\\\\xa6\\\"\", \"ts\": \"Sat Mar 28 16:12:01 +0000 2020\"}]</td></tr><tr><td>faith_leah_hope</td><td>[{\"id\": \"1243933876143239168\", \"tweet\": \"b'RT @Bonji_S: A beautiful massage as we just started embarking on the 21 day lockdown \\\\n#StayAtHomeSa #Covid_19 #covid #CoronavirusInSA #Coro\\\\xe2\\\\x80\\\\xa6'\", \"ts\": \"Sat Mar 28 16:12:01 +0000 2020\"}]</td></tr><tr><td>biroldarcin</td><td>[{\"id\": \"1243933876319399938\", \"tweet\": \"b'Konut al\\\\xc4\\\\xb1m\\\\xc4\\\\xb1ndaki pe\\\\xc5\\\\x9finat\\\\xc4\\\\xb1n %20\\\\xe2\\\\x80\\\\x99den %10\\\\xe2\\\\x80\\\\x99a d\\\\xc3\\\\xbc\\\\xc5\\\\x9f\\\\xc3\\\\xbcr\\\\xc3\\\\xbclmesindeki #COVID19 tedbiri ba\\\\xc4\\\\x9flant\\\\xc4\\\\xb1s\\\\xc4\\\\xb1n\\\\xc4\\\\xb1 d\\\\xc3\\\\xbc\\\\xc5\\\\x9f\\\\xc3\\\\xbcn\\\\xc3\\\\xbcyor d\\\\xc3\\\\xbc\\\\xc5\\\\x9f\\\\xc3\\\\xbcn\\\\xc3\\\\xbcyor \\\\xc3\\\\xa7\\\\xc3\\\\xb6zemiy\\\\xe2\\\\x80\\\\xa6 https://t.co/gEV8TiA4FB'\", \"ts\": \"Sat Mar 28 16:12:01 +0000 2020\"}]</td></tr><tr><td>DrHabibAlMulla</td><td>[{\"id\": \"1243933877430890496\", \"tweet\": \"b'\\\\xd8\\\\xa7\\\\xd9\\\\x84\\\\xd8\\\\xb5\\\\xd9\\\\x8a\\\\xd9\\\\x86 \\\\xd8\\\\xb3\\\\xd8\\\\xaa\\\\xd9\\\\x88\\\\xd8\\\\xa7\\\\xd8\\\\xac\\\\xd9\\\\x87 \\\\xd8\\\\xaa\\\\xd8\\\\xa8\\\\xd8\\\\xb9\\\\xd8\\\\xa7\\\\xd8\\\\xaa \\\\xd9\\\\x82\\\\xd8\\\\xa7\\\\xd9\\\\x86\\\\xd9\\\\x88\\\\xd9\\\\x86\\\\xd9\\\\x8a\\\\xd8\\\\xa9 \\\\xd9\\\\x83\\\\xd8\\\\xa8\\\\xd9\\\\x8a\\\\xd8\\\\xb1\\\\xd8\\\\xa9 \\\\xd8\\\\xb9\\\\xd9\\\\x86 \\\\xd9\\\\x85\\\\xd8\\\\xb3\\\\xd8\\\\xa6\\\\xd9\\\\x88\\\\xd9\\\\x84\\\\xd9\\\\x8a\\\\xd8\\\\xaa\\\\xd9\\\\x87\\\\xd8\\\\xa7 \\\\xd9\\\\x81\\\\xd9\\\\x89 \\\\xd8\\\\xa7\\\\xd9\\\\x84\\\\xd8\\\\xaa\\\\xd8\\\\xb3\\\\xd8\\\\xa8\\\\xd8\\\\xa8 \\\\xd8\\\\xa8\\\\xd8\\\\xa3\\\\xd8\\\\xb2\\\\xd9\\\\x85\\\\xd8\\\\xa9 #\\\\xd9\\\\x83\\\\xd9\\\\x88\\\\xd8\\\\xb1\\\\xd9\\\\x88\\\\xd9\\\\x86\\\\xd8\\\\xa7 \\\\nChina will face more legal suits over its ro\\\\xe2\\\\x80\\\\xa6 https://t.co/VYTFAlgXe7'\", \"ts\": \"Sat Mar 28 16:12:02 +0000 2020\"}]</td></tr><tr><td>politikcorrecta</td><td>[{\"id\": \"1243933878433300480\", \"tweet\": \"b'.#URGENTE  l @Salud_Ec  confirma que existen 1823 casos positivos y 48 fallecidos por #covid_19 en el pa\\\\xc3\\\\xads. \\\\n\\\\xe2\\\\x9e\\\\xa1 Guay\\\\xe2\\\\x80\\\\xa6 https://t.co/fP3wUM9jsT'\", \"ts\": \"Sat Mar 28 16:12:02 +0000 2020\"}]</td></tr><tr><td>DragoMelisa</td><td>[{\"id\": \"1243933879217590274\", \"tweet\": \"b'#coronavirus'\", \"ts\": \"Sat Mar 28 16:12:02 +0000 2020\"}]</td></tr><tr><td>toplessgoddess</td><td>[{\"id\": \"1243933879846625280\", \"tweet\": \"b\\\"@joncoopertweets Come to Canada, we'd be happy to have you care for us, safely\\\"\", \"ts\": \"Sat Mar 28 16:12:02 +0000 2020\"}]</td></tr><tr><td>Saramurcia</td><td>[{\"id\": \"1243933880132001794\", \"tweet\": \"b'RT @AmoedoCom: \\\\xf0\\\\x9f\\\\x91\\\\x89#Covid_19: El 93% de los ancianos fallecidos en Madrid eran de residencias privadas o concertadas\\\\n@ComunidadMadrid\\\\n\\\\xf0\\\\x9f\\\\x91\\\\x89474 Res\\\\xe2\\\\x80\\\\xa6'\", \"ts\": \"Sat Mar 28 16:12:02 +0000 2020\"}]</td></tr><tr><td>Moloi_Keletso1</td><td>[{\"id\": \"1243933879981006848\", \"tweet\": \"b'RT @S11E11B11A: Italy urges all other countries to see this and completely lockdown before it\\\\xe2\\\\x80\\\\x99s too late. \\\\xf0\\\\x9f\\\\x92\\\\x94#Covid19InSA #Covid_19 https://t\\\\xe2\\\\x80\\\\xa6'\", \"ts\": \"Sat Mar 28 16:12:02 +0000 2020\"}]</td></tr><tr><td>JaiRaison</td><td>[{\"id\": \"1243933880446603264\", \"tweet\": \"b'RT @ccspv: En pleine crise #Covid_19 des ministres rigolent #pornographie https://t.co/IAc9YRT6ND'\", \"ts\": \"Sat Mar 28 16:12:02 +0000 2020\"}]</td></tr><tr><td>bayramaygunRT8</td><td>[{\"id\": \"1243933881008623616\", \"tweet\": \"b'RT @ecemli89: Do\\\\xc4\\\\x9fru bilinen yanl\\\\xc4\\\\xb1\\\\xc5\\\\x9flar l\\\\xc3\\\\xbctfen izleyin \\\\n\\\\xc3\\\\x87ok g\\\\xc3\\\\xbczel bir video olmu\\\\xc5\\\\x9f...\\\\n\\\\nRabbim herkesi korusun \\\\xf0\\\\x9f\\\\xa4\\\\xb2\\\\xf0\\\\x9f\\\\x8f\\\\xbb\\\\xf0\\\\x9f\\\\xa4\\\\xb2\\\\xf0\\\\x9f\\\\x8f\\\\xbb\\\\n\\\\xc3\\\\x95lenlere rahmet, hastalara\\\\xe2\\\\x80\\\\xa6'\", \"ts\": \"Sat Mar 28 16:12:03 +0000 2020\"}]</td></tr><tr><td>AmmmieM</td><td>[{\"id\": \"1243933880991780864\", \"tweet\": \"b'This seems like a good tweet to add these to. It\\\\xe2\\\\x80\\\\x99s okay to not be okay right now:\\\\n\\\\n\\\\xf0\\\\x9f\\\\x87\\\\xa8\\\\xf0\\\\x9f\\\\x87\\\\xa6 Canada Crisis Services: (416)\\\\xe2\\\\x80\\\\xa6 https://t.co/0ST9uNp38T'\", \"ts\": \"Sat Mar 28 16:12:03 +0000 2020\"}]</td></tr><tr><td>JoelSandaluk</td><td>[{\"id\": \"1243933881151238144\", \"tweet\": \"b\\\"RT @dankingwell: Canada's slide into this crisis will not age well. It will be obscured only because the US has been so much worse.\\\"\", \"ts\": \"Sat Mar 28 16:12:03 +0000 2020\"}]</td></tr><tr><td>kardonolimjadi</td><td>[{\"id\": \"1243933881599840256\", \"tweet\": \"b'RT @KStewart698: Spring Colour\\\\xf0\\\\x9f\\\\x8c\\\\xb7\\\\n@ThePhotoHour @LensAreLive @BacklightWorld @YoushowmeP #saltspringisland #EarthHour2020 #SaturdayMotivation\\\\xe2\\\\x80\\\\xa6'\", \"ts\": \"Sat Mar 28 16:12:03 +0000 2020\"}]</td></tr><tr><td>quarantined1_rr</td><td>[{\"id\": \"1243933881377665025\", \"tweet\": \"b'News says;an #Indian man with #CoronaVirus run away from #Quarantine, #naked, he bit an oldLady on her #Throat, she\\\\xe2\\\\x80\\\\xa6 https://t.co/htyeahWwPS'\", \"ts\": \"Sat Mar 28 16:12:03 +0000 2020\"}]</td></tr><tr><td>ezrakurejwoski</td><td>[{\"id\": \"1243933881860055040\", \"tweet\": \"b'RT @ANDROMACO64: En Espa\\\\xc3\\\\xb1a califican a L\\\\xc3\\\\xb3pez Obrador como un demente o incompetente criminal.\\\\n\\\\nEn CdMx, la gente sigue saliendo como si nad\\\\xe2\\\\x80\\\\xa6'\", \"ts\": \"Sat Mar 28 16:12:03 +0000 2020\"}]</td></tr><tr><td>the_khris_</td><td>[{\"id\": \"1243933881948155905\", \"tweet\": \"b'Despu\\\\xc3\\\\xa9s no digan que no lo vieron venir! La segunda oleada se les va a venir pesado! \\\\nEst\\\\xc3\\\\xa1n llenando a la sociedad\\\\xe2\\\\x80\\\\xa6 https://t.co/KzeW7XsjsX'\", \"ts\": \"Sat Mar 28 16:12:03 +0000 2020\"}]</td></tr><tr><td>StephaneRicoul</td><td>[{\"id\": \"1243933882833141762\", \"tweet\": \"b'@fadouce @LouisBillat @leparisien @GARREAU75 Quand m\\\\xc3\\\\xaame bizarre que je ne vois jamais le Canada pris en consid\\\\xc3\\\\xa9rati\\\\xe2\\\\x80\\\\xa6 https://t.co/J8xotXRL1t'\", \"ts\": \"Sat Mar 28 16:12:03 +0000 2020\"}]</td></tr><tr><td>yongyeangyong</td><td>[{\"id\": \"1243933883332083718\", \"tweet\": \"b'RT @T9uRhHfR8jsSP57: \\\\xe0\\\\xb9\\\\x83\\\\xe0\\\\xb8\\\\x99\\\\xe0\\\\xb8\\\\x95\\\\xe0\\\\xb8\\\\xad\\\\xe0\\\\xb8\\\\x99\\\\xe0\\\\xb8\\\\x99\\\\xe0\\\\xb8\\\\xb5\\\\xe0\\\\xb9\\\\x89\\\\xe0\\\\xb8\\\\x9a\\\\xe0\\\\xb8\\\\xb2\\\\xe0\\\\xb8\\\\x87\\\\xe0\\\\xb8\\\\x88\\\\xe0\\\\xb8\\\\xb1\\\\xe0\\\\xb8\\\\x87\\\\xe0\\\\xb8\\\\xab\\\\xe0\\\\xb8\\\\xa7\\\\xe0\\\\xb8\\\\xb1\\\\xe0\\\\xb8\\\\x94\\\\xe0\\\\xb8\\\\x95\\\\xe0\\\\xb9\\\\x89\\\\xe0\\\\xb8\\\\xad\\\\xe0\\\\xb8\\\\x87\\\\xe0\\\\xb8\\\\x9b\\\\xe0\\\\xb8\\\\xaa\\\\xe0\\\\xb8\\\\x94\\\\xe0\\\\xb8\\\\x81\\\\xe0\\\\xb8\\\\xb1\\\\xe0\\\\xb8\\\\x9a\\\\xe0\\\\xb9\\\\x84\\\\xe0\\\\xb8\\\\xa7\\\\xe0\\\\xb8\\\\xa3\\\\xe0\\\\xb8\\\\xb1\\\\xe0\\\\xb8\\\\xaa \\\\xe0\\\\xb9\\\\x81\\\\xe0\\\\xb8\\\\x95\\\\xe0\\\\xb9\\\\x88\\\\xe0\\\\xb9\\\\x80\\\\xe0\\\\xb8\\\\x8a\\\\xe0\\\\xb8\\\\xb5\\\\xe0\\\\xb8\\\\xa2\\\\xe0\\\\xb8\\\\x87\\\\xe0\\\\xb9\\\\x83\\\\xe0\\\\xb8\\\\xab\\\\xe0\\\\xb8\\\\xa1\\\\xe0\\\\xb9\\\\x88\\\\xe0\\\\xb8\\\\x95\\\\xe0\\\\xb8\\\\xad\\\\xe0\\\\xb8\\\\x99\\\\xe0\\\\xb8\\\\x99\\\\xe0\\\\xb8\\\\xb5\\\\xe0\\\\xb9\\\\x89\\\\xe0\\\\xb8\\\\x84\\\\xe0\\\\xb8\\\\xb7\\\\xe0\\\\xb8\\\\xad \\\\xe0\\\\xb9\\\\x84\\\\xe0\\\\xb8\\\\x9f\\\\xe0\\\\xb8\\\\x9b\\\\xe0\\\\xb9\\\\x88\\\\xe0\\\\xb8\\\\xb2 \\\\xe0\\\\xb9\\\\x84\\\\xe0\\\\xb8\\\\xa7\\\\xe0\\\\xb8\\\\xa3\\\\xe0\\\\xb8\\\\xb1\\\\xe0\\\\xb8\\\\xaa\\\\xe0\\\\xb8\\\\x81\\\\xe0\\\\xb9\\\\x87\\\\xe0\\\\xb8\\\\x81\\\\xe0\\\\xb8\\\\xa5\\\\xe0\\\\xb8\\\\xb1\\\\xe0\\\\xb8\\\\xa7\\\\xe0\\\\xb9\\\\x81\\\\xe0\\\\xb8\\\\x96\\\\xe0\\\\xb8\\\\xa1\\\\xe0\\\\xb8\\\\x95\\\\xe0\\\\xb8\\\\xad\\\\xe0\\\\xb8\\\\x99\\\\xe0\\\\xb8\\\\x99\\\\xe0\\\\xb8\\\\xb5\\\\xe0\\\\xb9\\\\x89\\\\xe0\\\\xb8\\\\x94\\\\xe0\\\\xb9\\\\x89\\\\xe0\\\\xb8\\\\xa7\\\\xe0\\\\xb8\\\\xa2\\\\xe0\\\\xb8\\\\x84\\\\xe0\\\\xb9\\\\x88\\\\xe0\\\\xb8\\\\xb2\\\\xe0\\\\xb8\\\\x9d\\\\xe0\\\\xb8\\\\xb8\\\\xe0\\\\xb9\\\\x88\\\\xe0\\\\xb8\\\\x99\\\\xe0\\\\xb8\\\\x97\\\\xe0\\\\xb8\\\\xb5\\\\xe0\\\\xb9\\\\x88\\\\xe0\\\\xb8\\\\x89\\\\xe0\\\\xb8\\\\xb4\\\\xe0\\\\xb8\\\\x9a\\\\xe0\\\\xb8\\\\xab\\\\xe0\\\\xb8\\\\xb2\\\\xe0\\\\xb8\\\\xa2\\\\xe0\\\\xb8\\\\x82\\\\xe0\\\\xb8\\\\xb6\\\\xe0\\\\xb9\\\\x89\\\\xe0\\\\xb8\\\\x99\\\\xe0\\\\xb9\\\\x84\\\\xe0\\\\xb8\\\\x9b\\\\xe0\\\\xb8\\\\xad\\\\xe0\\\\xb8\\\\xb5\\\\xe0\\\\xb8\\\\x81 \\\\xe0\\\\xb9\\\\x80\\\\xe0\\\\xb8\\\\xad\\\\xe0\\\\xb8\\\\xb2\\\\xe0\\\\xb9\\\\x83\\\\xe0\\\\xb8\\\\x88\\\\xe2\\\\x80\\\\xa6'\", \"ts\": \"Sat Mar 28 16:12:03 +0000 2020\"}]</td></tr><tr><td>Barbare17689804</td><td>[{\"id\": \"1243933884028420096\", \"tweet\": \"b'RT @CasierMacron: CASIER 16\\\\n\\\\nUn amendement qui obligeait les entreprises \\\\xc3\\\\xa0 fournir aux salari\\\\xc3\\\\xa9s les \\\\xc3\\\\xa9quipements de protection n\\\\xc3\\\\xa9cessaires c\\\\xe2\\\\x80\\\\xa6'\", \"ts\": \"Sat Mar 28 16:12:03 +0000 2020\"}]</td></tr><tr><td>VBofPerth</td><td>[{\"id\": \"1243933884502413313\", \"tweet\": \"b'RT @Cl1Richard: Last year Morneau told all small business owners that they were\\\\xe2\\\\x80\\\\x9cTAX CHEATS\\\\xe2\\\\x80\\\\x9d! Then yesterday from his hide out,Trudeau procl\\\\xe2\\\\x80\\\\xa6'\", \"ts\": \"Sat Mar 28 16:12:03 +0000 2020\"}]</td></tr><tr><td>Mikflo83</td><td>[{\"id\": \"1243933884942778368\", \"tweet\": \"b'#Covid_19  : des souches similaires de #coronavirus d\\\\xc3\\\\xa9couvertes chez des pangolins en Chine\\\\nhttps://t.co/Q7nhMro2TP'\", \"ts\": \"Sat Mar 28 16:12:04 +0000 2020\"}]</td></tr><tr><td>teslainvernon</td><td>[{\"id\": \"1243933884745564160\", \"tweet\": \"b'RT @EvanLSolomon: As a senior source in PMO had told me earlier in the week re the supplies sent to China in Feb, the Chinese confirm today\\\\xe2\\\\x80\\\\xa6'\", \"ts\": \"Sat Mar 28 16:12:03 +0000 2020\"}]</td></tr><tr><td>EYTTakipeTakip</td><td>[{\"id\": \"1243933884980609024\", \"tweet\": \"b'Ensar vakf\\\\xc4\\\\xb1na 8 milyon dolar . \\\\n\\\\nBa\\\\xc4\\\\x9f\\\\xc4\\\\xb1\\\\xc5\\\\x9f yapan karag\\\\xc3\\\\xbcn dostu . \\\\n\\\\nKIZILAYI G\\\\xc3\\\\xb6ren varm\\\\xc4\\\\xb1 .. Halk yard\\\\xc4\\\\xb1m bekliyor.\\\\xe2\\\\x80\\\\xa6 https://t.co/ev5V4QCd6U'\", \"ts\": \"Sat Mar 28 16:12:04 +0000 2020\"}]</td></tr><tr><td>debabrata_gon</td><td>[{\"id\": \"1243933884896567296\", \"tweet\": \"b'RT @BSYBJP: We have now enabled payments through UPI. Please donate and contribute for the #Covid_19 relief fund.\\\\nVPA: cmrfcovid19@sbi\\\\n#Fig\\\\xe2\\\\x80\\\\xa6'\", \"ts\": \"Sat Mar 28 16:12:03 +0000 2020\"}]</td></tr><tr><td>conadisecu</td><td>[{\"id\": \"1243933885790117888\", \"tweet\": \"b'RT @ComunicacionEc: AHORA | Informe de emergencia sanitaria por parte de la Direcci\\\\xc3\\\\xb3n Nacional de Gesti\\\\xc3\\\\xb3n de Riesgos del Ministerio de @Sal\\\\xe2\\\\x80\\\\xa6'\", \"ts\": \"Sat Mar 28 16:12:04 +0000 2020\"}]</td></tr><tr><td>ElinHaven</td><td>[{\"id\": \"1243933885865644032\", \"tweet\": \"b'Covehead Lighthouse ~ PEI National Park \\\\n#coveheadlighthouse #lighthouse #frozenocean #peinationalpark\\\\xe2\\\\x80\\\\xa6 https://t.co/70pxDdOrTI'\", \"ts\": \"Sat Mar 28 16:12:04 +0000 2020\"}]</td></tr><tr><td>CharlyBerry_24</td><td>[{\"id\": \"1243933886066896896\", \"tweet\": \"b'#URGENTE #CODVID19'\", \"ts\": \"Sat Mar 28 16:12:04 +0000 2020\"}]</td></tr><tr><td>CBurana_c</td><td>[{\"id\": \"1243933886444376064\", \"tweet\": \"b'RT @csantander23: Quien deber\\\\xc3\\\\xada ser la o el Ministro de Salud ? \\\\n\\\\nIzkia Siches \\\\nEnrique Paris \\\\nJaime Ma\\\\xc3\\\\xb1alich \\\\n\\\\n #Covid_19 #CODVID19 #covid\\\\xe2\\\\x80\\\\xa6'\", \"ts\": \"Sat Mar 28 16:12:04 +0000 2020\"}]</td></tr><tr><td>GaripDayko</td><td>[{\"id\": \"1243933887262339075\", \"tweet\": \"b'Zenginler, fakirleri anlamad\\\\xc4\\\\xb1k\\\\xc3\\\\xa7a belalar ge\\\\xc3\\\\xa7meyecek.\\\\nZengine ila\\\\xc3\\\\xa7 test var. \\\\nFakire soka\\\\xc4\\\\x9fa \\\\xc3\\\\xa7\\\\xc4\\\\xb1kma yasa\\\\xc4\\\\x9f\\\\xc4\\\\xb1. \\\\nEn k\\\\xc4\\\\xb1sa z\\\\xe2\\\\x80\\\\xa6 https://t.co/O9cxZNssVS'\", \"ts\": \"Sat Mar 28 16:12:04 +0000 2020\"}]</td></tr><tr><td>RaniaAhmed2580</td><td>[{\"id\": \"1243933888604442625\", \"tweet\": \"b'RT @Ndawsari: Do you really need to waste too much water like this to avoid #Covid_19 ?'\", \"ts\": \"Sat Mar 28 16:12:04 +0000 2020\"}]</td></tr><tr><td>tatalibre</td><td>[{\"id\": \"1243933889137201154\", \"tweet\": \"b'RT @ObservadBinario: #BIN Numerosos sacerdotes italianos murieron por haber aisistido a los enfermos por #Covid_19. Muchas veces cumplir el\\\\xe2\\\\x80\\\\xa6'\", \"ts\": \"Sat Mar 28 16:12:05 +0000 2020\"}]</td></tr><tr><td>TUMInitiative</td><td>[{\"id\": \"1243933889481134081\", \"tweet\": \"b'#womenmobilizevscorona'\", \"ts\": \"Sat Mar 28 16:12:05 +0000 2020\"}]</td></tr><tr><td>SISSYBOY19761</td><td>[{\"id\": \"1243933889808097281\", \"tweet\": \"b'RT @ChinaEmbOttawa: On March 27, Bank of China donates medical supplies (including 30000 medical masks, 10000 sets of protective clothing,\\\\xe2\\\\x80\\\\xa6'\", \"ts\": \"Sat Mar 28 16:12:05 +0000 2020\"}]</td></tr><tr><td>S3Alkenani</td><td>[{\"id\": \"1243933887308455937\", \"tweet\": \"b'Japanese scientists have proven that the #corona is airborne and gags are necessary  Part 1\\\\xf0\\\\x9f\\\\x91\\\\x87\\\\n#StayAtHomeAndStaySafe\\\\xe2\\\\x80\\\\xa6 https://t.co/Bjc9Vj7nVU'\", \"ts\": \"Sat Mar 28 16:12:04 +0000 2020\"}]</td></tr><tr><td>PanNie0309</td><td>[{\"id\": \"1243933890160427009\", \"tweet\": \"b'RT @T9uRhHfR8jsSP57: \\\\xe0\\\\xb9\\\\x83\\\\xe0\\\\xb8\\\\x99\\\\xe0\\\\xb8\\\\x95\\\\xe0\\\\xb8\\\\xad\\\\xe0\\\\xb8\\\\x99\\\\xe0\\\\xb8\\\\x99\\\\xe0\\\\xb8\\\\xb5\\\\xe0\\\\xb9\\\\x89\\\\xe0\\\\xb8\\\\x9a\\\\xe0\\\\xb8\\\\xb2\\\\xe0\\\\xb8\\\\x87\\\\xe0\\\\xb8\\\\x88\\\\xe0\\\\xb8\\\\xb1\\\\xe0\\\\xb8\\\\x87\\\\xe0\\\\xb8\\\\xab\\\\xe0\\\\xb8\\\\xa7\\\\xe0\\\\xb8\\\\xb1\\\\xe0\\\\xb8\\\\x94\\\\xe0\\\\xb8\\\\x95\\\\xe0\\\\xb9\\\\x89\\\\xe0\\\\xb8\\\\xad\\\\xe0\\\\xb8\\\\x87\\\\xe0\\\\xb8\\\\x9b\\\\xe0\\\\xb8\\\\xaa\\\\xe0\\\\xb8\\\\x94\\\\xe0\\\\xb8\\\\x81\\\\xe0\\\\xb8\\\\xb1\\\\xe0\\\\xb8\\\\x9a\\\\xe0\\\\xb9\\\\x84\\\\xe0\\\\xb8\\\\xa7\\\\xe0\\\\xb8\\\\xa3\\\\xe0\\\\xb8\\\\xb1\\\\xe0\\\\xb8\\\\xaa \\\\xe0\\\\xb9\\\\x81\\\\xe0\\\\xb8\\\\x95\\\\xe0\\\\xb9\\\\x88\\\\xe0\\\\xb9\\\\x80\\\\xe0\\\\xb8\\\\x8a\\\\xe0\\\\xb8\\\\xb5\\\\xe0\\\\xb8\\\\xa2\\\\xe0\\\\xb8\\\\x87\\\\xe0\\\\xb9\\\\x83\\\\xe0\\\\xb8\\\\xab\\\\xe0\\\\xb8\\\\xa1\\\\xe0\\\\xb9\\\\x88\\\\xe0\\\\xb8\\\\x95\\\\xe0\\\\xb8\\\\xad\\\\xe0\\\\xb8\\\\x99\\\\xe0\\\\xb8\\\\x99\\\\xe0\\\\xb8\\\\xb5\\\\xe0\\\\xb9\\\\x89\\\\xe0\\\\xb8\\\\x84\\\\xe0\\\\xb8\\\\xb7\\\\xe0\\\\xb8\\\\xad \\\\xe0\\\\xb9\\\\x84\\\\xe0\\\\xb8\\\\x9f\\\\xe0\\\\xb8\\\\x9b\\\\xe0\\\\xb9\\\\x88\\\\xe0\\\\xb8\\\\xb2 \\\\xe0\\\\xb9\\\\x84\\\\xe0\\\\xb8\\\\xa7\\\\xe0\\\\xb8\\\\xa3\\\\xe0\\\\xb8\\\\xb1\\\\xe0\\\\xb8\\\\xaa\\\\xe0\\\\xb8\\\\x81\\\\xe0\\\\xb9\\\\x87\\\\xe0\\\\xb8\\\\x81\\\\xe0\\\\xb8\\\\xa5\\\\xe0\\\\xb8\\\\xb1\\\\xe0\\\\xb8\\\\xa7\\\\xe0\\\\xb9\\\\x81\\\\xe0\\\\xb8\\\\x96\\\\xe0\\\\xb8\\\\xa1\\\\xe0\\\\xb8\\\\x95\\\\xe0\\\\xb8\\\\xad\\\\xe0\\\\xb8\\\\x99\\\\xe0\\\\xb8\\\\x99\\\\xe0\\\\xb8\\\\xb5\\\\xe0\\\\xb9\\\\x89\\\\xe0\\\\xb8\\\\x94\\\\xe0\\\\xb9\\\\x89\\\\xe0\\\\xb8\\\\xa7\\\\xe0\\\\xb8\\\\xa2\\\\xe0\\\\xb8\\\\x84\\\\xe0\\\\xb9\\\\x88\\\\xe0\\\\xb8\\\\xb2\\\\xe0\\\\xb8\\\\x9d\\\\xe0\\\\xb8\\\\xb8\\\\xe0\\\\xb9\\\\x88\\\\xe0\\\\xb8\\\\x99\\\\xe0\\\\xb8\\\\x97\\\\xe0\\\\xb8\\\\xb5\\\\xe0\\\\xb9\\\\x88\\\\xe0\\\\xb8\\\\x89\\\\xe0\\\\xb8\\\\xb4\\\\xe0\\\\xb8\\\\x9a\\\\xe0\\\\xb8\\\\xab\\\\xe0\\\\xb8\\\\xb2\\\\xe0\\\\xb8\\\\xa2\\\\xe0\\\\xb8\\\\x82\\\\xe0\\\\xb8\\\\xb6\\\\xe0\\\\xb9\\\\x89\\\\xe0\\\\xb8\\\\x99\\\\xe0\\\\xb9\\\\x84\\\\xe0\\\\xb8\\\\x9b\\\\xe0\\\\xb8\\\\xad\\\\xe0\\\\xb8\\\\xb5\\\\xe0\\\\xb8\\\\x81 \\\\xe0\\\\xb9\\\\x80\\\\xe0\\\\xb8\\\\xad\\\\xe0\\\\xb8\\\\xb2\\\\xe0\\\\xb9\\\\x83\\\\xe0\\\\xb8\\\\x88\\\\xe2\\\\x80\\\\xa6'\", \"ts\": \"Sat Mar 28 16:12:05 +0000 2020\"}]</td></tr><tr><td>heywhy107</td><td>[{\"id\": \"1243933890038947841\", \"tweet\": \"b'RT @pastortaiwo: The enemy may seem overwhelming, but God will certainly overwhelm him in Jesus name! Our victory was settled on the cross\\\\xe2\\\\x80\\\\xa6'\", \"ts\": \"Sat Mar 28 16:12:05 +0000 2020\"}]</td></tr><tr><td>curso14</td><td>[{\"id\": \"1243933889904742400\", \"tweet\": \"b'RT @ROGERDHIO1: En New York la gente se est\\\\xc3\\\\xa1 muriendo por el #Covid_19 y el inquilino de la Casa Blanca @realDonaldTrump preocupado por Ven\\\\xe2\\\\x80\\\\xa6'\", \"ts\": \"Sat Mar 28 16:12:05 +0000 2020\"}]</td></tr><tr><td>melliza317</td><td>[{\"id\": \"1243933890278031360\", \"tweet\": \"b'RT @CronicaUno: #COVID_19 | La encuesta nacional Impacto COVID-19 para el 22 de marzo reportaba que 6,2% de personal de salud hab\\\\xc3\\\\xada dado po\\\\xe2\\\\x80\\\\xa6'\", \"ts\": \"Sat Mar 28 16:12:05 +0000 2020\"}]</td></tr><tr><td>nimbuzzcloudz</td><td>[{\"id\": \"1243933890441547776\", \"tweet\": \"b'RT @CCG_NoLAGirL47: Game recognizes game.\\\\nSame history with Indigenous people.\\\\nCountries in stolen glass houses...'\", \"ts\": \"Sat Mar 28 16:12:05 +0000 2020\"}]</td></tr><tr><td>CoolAnya84</td><td>[{\"id\": \"1243933890714230784\", \"tweet\": \"b'RT @bunsenbernerbmd: A normal weekend here in #Canada ! (Probably)\\\\nCan you find all the Canadian stuff!!?\\\\nArt by the amazing @samandfuzzy\\\\xe2\\\\x80\\\\xa6'\", \"ts\": \"Sat Mar 28 16:12:05 +0000 2020\"}]</td></tr><tr><td>rolistas320</td><td>[{\"id\": \"1243933891066560513\", \"tweet\": \"b'RT @amna_news: \\\\xf0\\\\x9f\\\\x94\\\\xb4 #Live #Briefing_COVID19 #Covid_19 #COVID19greece \\\\n#\\\\xce\\\\xa4\\\\xcf\\\\x83\\\\xce\\\\xaf\\\\xce\\\\xbf\\\\xce\\\\xb4\\\\xcf\\\\x81\\\\xce\\\\xb1\\\\xcf\\\\x82: \\\\xce\\\\x97 \\\\xce\\\\xba\\\\xce\\\\xbf\\\\xce\\\\xb9\\\\xce\\\\xbd\\\\xcf\\\\x89\\\\xce\\\\xbd\\\\xce\\\\xb9\\\\xce\\\\xba\\\\xce\\\\xae \\\\xce\\\\xb1\\\\xcf\\\\x80\\\\xcf\\\\x8c\\\\xcf\\\\x83\\\\xcf\\\\x84\\\\xce\\\\xb1\\\\xcf\\\\x83\\\\xce\\\\xb7, \\\\xce\\\\xb7 \\\\xce\\\\xb1\\\\xcf\\\\x80\\\\xce\\\\xbf\\\\xcf\\\\x83\\\\xcf\\\\x84\\\\xce\\\\xb1\\\\xcf\\\\x83\\\\xce\\\\xb9\\\\xce\\\\xbf\\\\xcf\\\\x80\\\\xce\\\\xbf\\\\xce\\\\xaf\\\\xce\\\\xb7\\\\xcf\\\\x83\\\\xce\\\\xb7 \\\\xce\\\\xb4\\\\xce\\\\xb5\\\\xce\\\\xbd \\\\xce\\\\xbc\\\\xcf\\\\x80\\\\xce\\\\xbf\\\\xcf\\\\x81\\\\xce\\\\xb5\\\\xce\\\\xaf \\\\xce\\\\xba\\\\xce\\\\xb1\\\\xce\\\\xb9 \\\\xce\\\\xb4\\\\xce\\\\xb5\\\\xce\\\\xbd \\\\xcf\\\\x80\\\\xcf\\\\x81\\\\xe2\\\\x80\\\\xa6'\", \"ts\": \"Sat Mar 28 16:12:05 +0000 2020\"}]</td></tr><tr><td>diegorizzo1983</td><td>[{\"id\": \"1243933891104301057\", \"tweet\": \"b'\\\\xf0\\\\x9f\\\\x87\\\\xa8\\\\xf0\\\\x9f\\\\x87\\\\xb1 | URGENTE - #28Mar #Chile reporta 299 infectados de #Covid_19 en las \\\\xc3\\\\xbaltimas 24 horas, con un total de 1909 casos.'\", \"ts\": \"Sat Mar 28 16:12:05 +0000 2020\"}]</td></tr><tr><td>Alper_yyc</td><td>[{\"id\": \"1243933891272019968\", \"tweet\": \"b'Bu y\\\\xc4\\\\xb1l\\\\xc4\\\\xb1 belegesel gibi ya\\\\xc5\\\\x9f\\\\xc4\\\\xb1yoruz,\\\\nHepimizin elinde kameralar..\\\\nUmar\\\\xc4\\\\xb1z y\\\\xc3\\\\xb6netmen mutlu son yazm\\\\xc4\\\\xb1\\\\xc5\\\\x9ft\\\\xc4\\\\xb1r.\\\\n#Covid_19\\\\xe2\\\\x80\\\\xa6 https://t.co/YMNkrF0Ox9'\", \"ts\": \"Sat Mar 28 16:12:05 +0000 2020\"}]</td></tr><tr><td>awesombrian</td><td>[{\"id\": \"1243933891322195968\", \"tweet\": \"b'RT @AlyceLMiller: @danzu72 @MeghanMcCain @davidmweissman \\\"According to measures such as education, job security, economic prosperity, and h\\\\xe2\\\\x80\\\\xa6'\", \"ts\": \"Sat Mar 28 16:12:05 +0000 2020\"}]</td></tr><tr><td>calle13forever</td><td>[{\"id\": \"1243933891788001281\", \"tweet\": \"b'RT @CuadernoSandino: @taniasandinista El #Covid_19 sac\\\\xc3\\\\xb3 a relucir la decadencia del capitalismo y la incapacidad de gobiernos de turno para\\\\xe2\\\\x80\\\\xa6'\", \"ts\": \"Sat Mar 28 16:12:05 +0000 2020\"}]</td></tr><tr><td>gustavo_570</td><td>[{\"id\": \"1243933891955773441\", \"tweet\": \"b'RT @Pipo1178: Que esto pase es terrible y sin duda es una verg\\\\xc3\\\\xbcenza para el pa\\\\xc3\\\\xads Mientras el ministro de @FinanzasEc paga deuda y los otros\\\\xe2\\\\x80\\\\xa6'\", \"ts\": \"Sat Mar 28 16:12:05 +0000 2020\"}]</td></tr><tr><td>Pame_Valpito</td><td>[{\"id\": \"1243933892022853632\", \"tweet\": \"b'RT @CarlosRaFe: La cafeter\\\\xc3\\\\xada y sal\\\\xc3\\\\xb3n de actos del Hospital Carlos Haya reform\\\\xc3\\\\xa1ndose para ampliar las camas de UCI.\\\\n\\\\n#Covid_19 #QuedateEnCas\\\\xe2\\\\x80\\\\xa6'\", \"ts\": \"Sat Mar 28 16:12:05 +0000 2020\"}]</td></tr><tr><td>Politica_Again</td><td>[{\"id\": \"1243933892387704832\", \"tweet\": \"b'@PedroOtamendi'\", \"ts\": \"Sat Mar 28 16:12:05 +0000 2020\"}]</td></tr><tr><td>suitepete1</td><td>[{\"id\": \"1243933892442292224\", \"tweet\": \"b\\\"I'm happy to say today that we've crawled up to top 10 in Canada with my new song Connoisseur of Beer. In the world\\\\xe2\\\\x80\\\\xa6 https://t.co/Y9S4RtAUni\\\"\", \"ts\": \"Sat Mar 28 16:12:05 +0000 2020\"}]</td></tr><tr><td>Evani_Patel</td><td>[{\"id\": \"1243933893012729858\", \"tweet\": \"b'RT @ChinaEmbOttawa: On March 27, Bank of China donates medical supplies (including 30000 medical masks, 10000 sets of protective clothing,\\\\xe2\\\\x80\\\\xa6'\", \"ts\": \"Sat Mar 28 16:12:05 +0000 2020\"}]</td></tr><tr><td>00786RashidKhan</td><td>[{\"id\": \"1243933892958011392\", \"tweet\": \"b'RT @AM800News: NEW NUMBERS: Canada has 4,757\\\\xc2\\\\xa0confirmed cases of COVID-19\\\\xc2\\\\xa0and 55\\\\xc2\\\\xa0deaths, 353\\\\xc2\\\\xa0have recovered.\\\\n\\\\nOntario has 993\\\\xc2\\\\xa0of the confirm\\\\xe2\\\\x80\\\\xa6'\", \"ts\": \"Sat Mar 28 16:12:05 +0000 2020\"}]</td></tr><tr><td>kelseyjbarnes</td><td>[{\"id\": \"1243933893323108352\", \"tweet\": \"b'Helping each other out \\\\xf0\\\\x9f\\\\xa7\\\\xa1'\", \"ts\": \"Sat Mar 28 16:12:05 +0000 2020\"}]</td></tr><tr><td>DfanAnuKathir</td><td>[{\"id\": \"1243933893452939269\", \"tweet\": \"b'RT @Vijayabaskarofl: #UPDATE: #TN has a new #Covid_19 positive case. 60 Y M from Rajapalayam,Virudhunagar at  #Madurai  Med.Coll. Pt is in\\\\xe2\\\\x80\\\\xa6'\", \"ts\": \"Sat Mar 28 16:12:06 +0000 2020\"}]</td></tr><tr><td>KipronoAmosChe1</td><td>[{\"id\": \"1243933893390106626\", \"tweet\": \"b'RT @mmnjug: The number of people in Kenya who have tested positive for the #Covid_19 disease has risen to 38, new infections being four Ken\\\\xe2\\\\x80\\\\xa6'\", \"ts\": \"Sat Mar 28 16:12:06 +0000 2020\"}]</td></tr><tr><td>ningnatta_V</td><td>[{\"id\": \"1243933893545226245\", \"tweet\": \"b'RT @T9uRhHfR8jsSP57: \\\\xe0\\\\xb9\\\\x83\\\\xe0\\\\xb8\\\\x99\\\\xe0\\\\xb8\\\\x95\\\\xe0\\\\xb8\\\\xad\\\\xe0\\\\xb8\\\\x99\\\\xe0\\\\xb8\\\\x99\\\\xe0\\\\xb8\\\\xb5\\\\xe0\\\\xb9\\\\x89\\\\xe0\\\\xb8\\\\x9a\\\\xe0\\\\xb8\\\\xb2\\\\xe0\\\\xb8\\\\x87\\\\xe0\\\\xb8\\\\x88\\\\xe0\\\\xb8\\\\xb1\\\\xe0\\\\xb8\\\\x87\\\\xe0\\\\xb8\\\\xab\\\\xe0\\\\xb8\\\\xa7\\\\xe0\\\\xb8\\\\xb1\\\\xe0\\\\xb8\\\\x94\\\\xe0\\\\xb8\\\\x95\\\\xe0\\\\xb9\\\\x89\\\\xe0\\\\xb8\\\\xad\\\\xe0\\\\xb8\\\\x87\\\\xe0\\\\xb8\\\\x9b\\\\xe0\\\\xb8\\\\xaa\\\\xe0\\\\xb8\\\\x94\\\\xe0\\\\xb8\\\\x81\\\\xe0\\\\xb8\\\\xb1\\\\xe0\\\\xb8\\\\x9a\\\\xe0\\\\xb9\\\\x84\\\\xe0\\\\xb8\\\\xa7\\\\xe0\\\\xb8\\\\xa3\\\\xe0\\\\xb8\\\\xb1\\\\xe0\\\\xb8\\\\xaa \\\\xe0\\\\xb9\\\\x81\\\\xe0\\\\xb8\\\\x95\\\\xe0\\\\xb9\\\\x88\\\\xe0\\\\xb9\\\\x80\\\\xe0\\\\xb8\\\\x8a\\\\xe0\\\\xb8\\\\xb5\\\\xe0\\\\xb8\\\\xa2\\\\xe0\\\\xb8\\\\x87\\\\xe0\\\\xb9\\\\x83\\\\xe0\\\\xb8\\\\xab\\\\xe0\\\\xb8\\\\xa1\\\\xe0\\\\xb9\\\\x88\\\\xe0\\\\xb8\\\\x95\\\\xe0\\\\xb8\\\\xad\\\\xe0\\\\xb8\\\\x99\\\\xe0\\\\xb8\\\\x99\\\\xe0\\\\xb8\\\\xb5\\\\xe0\\\\xb9\\\\x89\\\\xe0\\\\xb8\\\\x84\\\\xe0\\\\xb8\\\\xb7\\\\xe0\\\\xb8\\\\xad \\\\xe0\\\\xb9\\\\x84\\\\xe0\\\\xb8\\\\x9f\\\\xe0\\\\xb8\\\\x9b\\\\xe0\\\\xb9\\\\x88\\\\xe0\\\\xb8\\\\xb2 \\\\xe0\\\\xb9\\\\x84\\\\xe0\\\\xb8\\\\xa7\\\\xe0\\\\xb8\\\\xa3\\\\xe0\\\\xb8\\\\xb1\\\\xe0\\\\xb8\\\\xaa\\\\xe0\\\\xb8\\\\x81\\\\xe0\\\\xb9\\\\x87\\\\xe0\\\\xb8\\\\x81\\\\xe0\\\\xb8\\\\xa5\\\\xe0\\\\xb8\\\\xb1\\\\xe0\\\\xb8\\\\xa7\\\\xe0\\\\xb9\\\\x81\\\\xe0\\\\xb8\\\\x96\\\\xe0\\\\xb8\\\\xa1\\\\xe0\\\\xb8\\\\x95\\\\xe0\\\\xb8\\\\xad\\\\xe0\\\\xb8\\\\x99\\\\xe0\\\\xb8\\\\x99\\\\xe0\\\\xb8\\\\xb5\\\\xe0\\\\xb9\\\\x89\\\\xe0\\\\xb8\\\\x94\\\\xe0\\\\xb9\\\\x89\\\\xe0\\\\xb8\\\\xa7\\\\xe0\\\\xb8\\\\xa2\\\\xe0\\\\xb8\\\\x84\\\\xe0\\\\xb9\\\\x88\\\\xe0\\\\xb8\\\\xb2\\\\xe0\\\\xb8\\\\x9d\\\\xe0\\\\xb8\\\\xb8\\\\xe0\\\\xb9\\\\x88\\\\xe0\\\\xb8\\\\x99\\\\xe0\\\\xb8\\\\x97\\\\xe0\\\\xb8\\\\xb5\\\\xe0\\\\xb9\\\\x88\\\\xe0\\\\xb8\\\\x89\\\\xe0\\\\xb8\\\\xb4\\\\xe0\\\\xb8\\\\x9a\\\\xe0\\\\xb8\\\\xab\\\\xe0\\\\xb8\\\\xb2\\\\xe0\\\\xb8\\\\xa2\\\\xe0\\\\xb8\\\\x82\\\\xe0\\\\xb8\\\\xb6\\\\xe0\\\\xb9\\\\x89\\\\xe0\\\\xb8\\\\x99\\\\xe0\\\\xb9\\\\x84\\\\xe0\\\\xb8\\\\x9b\\\\xe0\\\\xb8\\\\xad\\\\xe0\\\\xb8\\\\xb5\\\\xe0\\\\xb8\\\\x81 \\\\xe0\\\\xb9\\\\x80\\\\xe0\\\\xb8\\\\xad\\\\xe0\\\\xb8\\\\xb2\\\\xe0\\\\xb9\\\\x83\\\\xe0\\\\xb8\\\\x88\\\\xe2\\\\x80\\\\xa6'\", \"ts\": \"Sat Mar 28 16:12:06 +0000 2020\"}]</td></tr><tr><td>GuerraInaki</td><td>[{\"id\": \"1243933893520171009\", \"tweet\": \"b'RT @gober_quillota: \\\\xf0\\\\x9f\\\\x93\\\\xbb En minutos escucha al Gobernador @IvanCisternasT en el programa \\\"Nuestra visi\\\\xc3\\\\xb3n noticias\\\" por la Red de radios Dulce\\\\xe2\\\\x80\\\\xa6'\", \"ts\": \"Sat Mar 28 16:12:06 +0000 2020\"}]</td></tr><tr><td>lionsbaycoffee</td><td>[{\"id\": \"1243933893557751809\", \"tweet\": \"b'RT @ChinaEmbOttawa: On March 27, Bank of China donates medical supplies (including 30000 medical masks, 10000 sets of protective clothing,\\\\xe2\\\\x80\\\\xa6'\", \"ts\": \"Sat Mar 28 16:12:06 +0000 2020\"}]</td></tr><tr><td>TasioMG</td><td>[{\"id\": \"1243933894111637505\", \"tweet\": \"b'\\\\xce\\\\xa0\\\\xcf\\\\x8c\\\\xcf\\\\x83\\\\xce\\\\xbf \\\\xcf\\\\x87\\\\xcf\\\\x81\\\\xce\\\\xbf\\\\xce\\\\xbd\\\\xcf\\\\x8e\\\\xce\\\\xbd \\\\xce\\\\xb5\\\\xce\\\\xaf\\\\xce\\\\xbd\\\\xce\\\\xb1\\\\xce\\\\xb9 \\\\xce\\\\xa7\\\\xce\\\\xb1\\\\xcf\\\\x81\\\\xce\\\\xb4\\\\xce\\\\xb1\\\\xce\\\\xbb\\\\xce\\\\xb9\\\\xce\\\\xac\\\\xcf\\\\x82 \\\\xce\\\\xba\\\\xce\\\\xb1\\\\xce\\\\xb9 \\\\xcf\\\\x86\\\\xce\\\\xbf\\\\xcf\\\\x81\\\\xce\\\\xac\\\\xce\\\\xb5\\\\xce\\\\xb9 \\\\xce\\\\xb3\\\\xcf\\\\x85\\\\xce\\\\xb1\\\\xce\\\\xbb\\\\xce\\\\xb9\\\\xce\\\\xac \\\\xcf\\\\x80\\\\xcf\\\\x81\\\\xce\\\\xb5\\\\xcf\\\\x83\\\\xce\\\\xb2\\\\xcf\\\\x85\\\\xcf\\\\x89\\\\xcf\\\\x80\\\\xce\\\\xaf\\\\xce\\\\xb1\\\\xcf\\\\x82; #Covid_19 #COVID19 #'\", \"ts\": \"Sat Mar 28 16:12:06 +0000 2020\"}]</td></tr><tr><td>ak_osmanli1453</td><td>[{\"id\": \"1243933893788602369\", \"tweet\": \"b'\\\\xc4\\\\xb0MAMO\\\\xc4\\\\x9eLU VE AVANELER\\\\xc4\\\\xb0 KAND\\\\xc4\\\\xb0LE H\\\\xc4\\\\xb0ZMET ETMEK \\\\xc4\\\\xb0\\\\xc3\\\\x87\\\\xc4\\\\xb0N VARDIR PKK VE FET\\\\xc3\\\\x96  YALAKASI \\\\xc4\\\\xb0MAMO\\\\xc4\\\\x9eLU\\\\nC.\\\\xc3\\\\x96ZDEM\\\\xc4\\\\xb0R \\\\xc4\\\\xb0HALE 2018 YAPILDI\\\\xe2\\\\x80\\\\xa6 https://t.co/ZZmOHHoWxw'\", \"ts\": \"Sat Mar 28 16:12:06 +0000 2020\"}]</td></tr><tr><td>malam6829</td><td>[{\"id\": \"1243933894119837696\", \"tweet\": \"b'Honorable PM of India,\\\\nShri @narendramodi\\\\nDue to #Covid_19 #Poors &amp; #Homeless are suffering &amp; are not able to purch\\\\xe2\\\\x80\\\\xa6 https://t.co/KhvydJkcBD'\", \"ts\": \"Sat Mar 28 16:12:06 +0000 2020\"}]</td></tr><tr><td>podrezkovo_upr</td><td>[{\"id\": \"1243933893868355584\", \"tweet\": \"b'#\\\\xd0\\\\xba\\\\xd0\\\\xb0\\\\xd1\\\\x80\\\\xd0\\\\xb0\\\\xd0\\\\xbd\\\\xd1\\\\x82\\\\xd0\\\\xb8\\\\xd0\\\\xbd #\\\\xd0\\\\xba\\\\xd0\\\\xbe\\\\xd1\\\\x80\\\\xd0\\\\xbe\\\\xd0\\\\xbd\\\\xd0\\\\xb0\\\\xd0\\\\xb2\\\\xd0\\\\xb8\\\\xd1\\\\x80\\\\xd1\\\\x83\\\\xd1\\\\x81 #\\\\xd0\\\\xbd\\\\xd0\\\\xb0\\\\xd1\\\\x88\\\\xd0\\\\xb5\\\\xd0\\\\xbf\\\\xd0\\\\xbe\\\\xd0\\\\xb4\\\\xd0\\\\xbc\\\\xd0\\\\xbe\\\\xd1\\\\x81\\\\xd0\\\\xba\\\\xd0\\\\xbe\\\\xd0\\\\xb2\\\\xd1\\\\x8c\\\\xd0\\\\xb5 #covid_19 https://t.co/WtwGpGdeOv'\", \"ts\": \"Sat Mar 28 16:12:06 +0000 2020\"}]</td></tr><tr><td>TheCoinWarrior</td><td>[{\"id\": \"1243933894602186753\", \"tweet\": \"b'RT @nvanrcmp: *** #ScamAlert ***\\\\nA #COVID19 scam text has been going around, highjacking the \\\"emergency response benefit\\\" announced yesterd\\\\xe2\\\\x80\\\\xa6'\", \"ts\": \"Sat Mar 28 16:12:06 +0000 2020\"}]</td></tr><tr><td>QuotesBot1</td><td>[{\"id\": \"1243933894656786436\", \"tweet\": \"b\\\"RT @LawSikho: It's tough being the most important member of the household! \\\\xf0\\\\x9f\\\\x98\\\\x82\\\\xf0\\\\x9f\\\\xa4\\\\x90\\\\n\\\\nFor updates, join our WhatsApp group:\\\\n\\\\xf0\\\\x9f\\\\x93\\\\xa3https://t.co/i9lCA60T\\\\xe2\\\\x80\\\\xa6\\\"\", \"ts\": \"Sat Mar 28 16:12:06 +0000 2020\"}]</td></tr><tr><td>katebishpdanvrs</td><td>[{\"id\": \"1243933894715625473\", \"tweet\": \"b'RT @tangoferoz: Carabineros en tiempos de #Covid_19\\\\n\\\\n$4.500.000 compra de cuatro anillos de oro conmemorativos \\\\n\\\\n$31.840.000 en 209 sables\\\\xe2\\\\x80\\\\xa6'\", \"ts\": \"Sat Mar 28 16:12:06 +0000 2020\"}]</td></tr><tr><td>annasantiag0</td><td>[{\"id\": \"1243933894874980353\", \"tweet\": \"b'RT @VassyKapelos: Dr. Tam: 7% cases in Canada, 3% in critical care, 1% have passed away. 30% of the people who have been hospitalized are u\\\\xe2\\\\x80\\\\xa6'\", \"ts\": \"Sat Mar 28 16:12:06 +0000 2020\"}]</td></tr><tr><td>MinenRivera</td><td>[{\"id\": \"1243933893146918912\", \"tweet\": \"b'La vida es como montar en bicicleta; si quieres mantener el equilibrio, tienes que seguir pedaleando.\\\\xe2\\\\x80\\\\xa6 https://t.co/eAzleD6Blt'\", \"ts\": \"Sat Mar 28 16:12:05 +0000 2020\"}]</td></tr><tr><td>ImMeFU29</td><td>[{\"id\": \"1243933895197962241\", \"tweet\": \"b'RT @FredTJoseph: BIG #RENTRELIEF UPDATE: We have now supported over 40 people and given away about $10k...and we still have $90k to giveawa\\\\xe2\\\\x80\\\\xa6'\", \"ts\": \"Sat Mar 28 16:12:06 +0000 2020\"}]</td></tr><tr><td>aarama0123</td><td>[{\"id\": \"1243933895147520000\", \"tweet\": \"b'@bnr__1 #\\\\xd9\\\\x88\\\\xd8\\\\xb2\\\\xd9\\\\x8a\\\\xd8\\\\xb1_\\\\xd8\\\\xa7\\\\xd9\\\\x84\\\\xd8\\\\xb5\\\\xd8\\\\xad\\\\xd9\\\\x87 #\\\\xd8\\\\xa7\\\\xd9\\\\x84\\\\xd9\\\\x85\\\\xd8\\\\xb7\\\\xd8\\\\xa7\\\\xd8\\\\xb9\\\\xd9\\\\x85_ #\\\\xd8\\\\xa7\\\\xd9\\\\x84\\\\xd9\\\\x84\\\\xd9\\\\x88\\\\xd8\\\\xa7\\\\xd8\\\\xa1_\\\\xd8\\\\xad\\\\xd9\\\\x85\\\\xd8\\\\xaf\\\\xd9\\\\x8a_\\\\xd9\\\\x81\\\\xd9\\\\x8a\\\\xd9\\\\x86 #Covid_19 #\\\\xd8\\\\xb3\\\\xd8\\\\xa7\\\\xd8\\\\xb9\\\\xd8\\\\xa9_\\\\xd8\\\\xa7\\\\xd9\\\\x84\\\\xd8\\\\xa3\\\\xd8\\\\xb1\\\\xd8\\\\xb6 #\\\\xd8\\\\xa7\\\\xd9\\\\x84\\\\xd8\\\\xb3\\\\xd8\\\\xb9\\\\xd9\\\\x88\\\\xd8\\\\xaf\\\\xd9\\\\x8a\\\\xd8\\\\xa9 #\\\\xd8\\\\xae\\\\xd9\\\\x84\\\\xd9\\\\x8a\\\\xd9\\\\x83_\\\\xd8\\\\xa8\\\\xd8\\\\xa7\\\\xd9\\\\x84\\\\xd8\\\\xa8\\\\xd9\\\\x8a\\\\xd8\\\\xaa \\\\n\\\\nhttps://t.co/Q2krmxk2pa'\", \"ts\": \"Sat Mar 28 16:12:06 +0000 2020\"}]</td></tr><tr><td>amalasempre89</td><td>[{\"id\": \"1243933895625707520\", \"tweet\": \"b'In #lombardia altri 2117 positivi e 542 decessi #COVID2019italia #COVID19 #Covid_19 #coronavirusitalia'\", \"ts\": \"Sat Mar 28 16:12:06 +0000 2020\"}]</td></tr><tr><td>paulamjr</td><td>[{\"id\": \"1243933895923466242\", \"tweet\": \"b'RT @MaximCombes: C\\\\'est quoi \\\"ne pas \\\\xc3\\\\xaatre \\\\xc3\\\\xa0 la hauteur\\\" ?\\\\n\\\\xe2\\\\xa4\\\\xb5\\\\xef\\\\xb8\\\\x8f\\\\n28 f\\\\xc3\\\\xa9v : l\\\\'OMS appelle \\\\xc3\\\\xa0 une mobilisation de \\\"tout le gouvernement\\\" dans tous l\\\\xe2\\\\x80\\\\xa6'\", \"ts\": \"Sat Mar 28 16:12:06 +0000 2020\"}]</td></tr><tr><td>AntonioFr17</td><td>[{\"id\": \"1243933896649199616\", \"tweet\": \"b'RT @DJaenNiPollas: D\\\\xc3\\\\xada 16.\\\\n\\\\nHoy he salido a darle de comer a los patos.\\\\n\\\\n#Covid_19 https://t.co/Gz9ERYtw5A'\", \"ts\": \"Sat Mar 28 16:12:06 +0000 2020\"}]</td></tr><tr><td>theinksdry</td><td>[{\"id\": \"1243933896661663745\", \"tweet\": \"b'Listen folks, the quicker we master this social distancing thing, the quicker we can get back to our regular miserable lives. #Covid_19'\", \"ts\": \"Sat Mar 28 16:12:06 +0000 2020\"}]</td></tr><tr><td>Imbagdee</td><td>[{\"id\": \"1243933897391513600\", \"tweet\": \"b'RT @DevprakashIRS: 60 \\\\xe0\\\\xa4\\\\xaa\\\\xe0\\\\xa5\\\\x8d\\\\xe0\\\\xa4\\\\xb2\\\\xe0\\\\xa4\\\\xb8 \\\\xe0\\\\xa4\\\\xb2\\\\xe0\\\\xa5\\\\x8b\\\\xe0\\\\xa4\\\\x97\\\\xe0\\\\xa5\\\\x8b\\\\xe0\\\\xa4\\\\x82 \\\\xe0\\\\xa4\\\\x95\\\\xe0\\\\xa5\\\\x8b \\\\xe0\\\\xa4\\\\x9c\\\\xe0\\\\xa5\\\\x8d\\\\xe0\\\\xa4\\\\xaf\\\\xe0\\\\xa4\\\\xbe\\\\xe0\\\\xa4\\\\xa6\\\\xe0\\\\xa4\\\\xbe \\\\xe0\\\\xa4\\\\x96\\\\xe0\\\\xa4\\\\xa4\\\\xe0\\\\xa4\\\\xb0\\\\xe0\\\\xa4\\\\xbe \\\\xe0\\\\xa4\\\\xb9\\\\xe0\\\\xa5\\\\x88 \\\\xe0\\\\xa4\\\\x94\\\\xe0\\\\xa4\\\\xb0 \\\\xe0\\\\xa4\\\\x95\\\\xe0\\\\xa5\\\\x8d\\\\xe0\\\\xa4\\\\xb5\\\\xe0\\\\xa5\\\\x80\\\\xe0\\\\xa4\\\\xa8 \\\\xe0\\\\xa4\\\\xa4\\\\xe0\\\\xa5\\\\x8b \\\\xe0\\\\xa4\\\\xb6\\\\xe0\\\\xa4\\\\xbe\\\\xe0\\\\xa4\\\\xaf\\\\xe0\\\\xa4\\\\xa6 90 \\\\xe0\\\\xa4\\\\xaa\\\\xe0\\\\xa4\\\\xbe\\\\xe0\\\\xa4\\\\xb0 \\\\xe0\\\\xa4\\\\x95\\\\xe0\\\\xa4\\\\xb0 \\\\xe0\\\\xa4\\\\x9a\\\\xe0\\\\xa5\\\\x81\\\\xe0\\\\xa4\\\\x95\\\\xe0\\\\xa5\\\\x80 \\\\xe0\\\\xa4\\\\xb9\\\\xe0\\\\xa5\\\\x88\\\\xe0\\\\xa5\\\\xa4\\\\n\\\\xe0\\\\xa4\\\\x95\\\\xe0\\\\xa5\\\\x88\\\\xe0\\\\xa4\\\\xb8\\\\xe0\\\\xa5\\\\x80 \\\\xe0\\\\xa4\\\\xac\\\\xe0\\\\xa4\\\\xa6\\\\xe0\\\\xa4\\\\x95\\\\xe0\\\\xa4\\\\xbf\\\\xe0\\\\xa4\\\\xb8\\\\xe0\\\\xa5\\\\x8d\\\\xe0\\\\xa4\\\\xae\\\\xe0\\\\xa4\\\\xa4\\\\xe0\\\\xa5\\\\x80 \\\\xe0\\\\xa4\\\\xb9\\\\xe0\\\\xa5\\\\x88 \\\\xe0\\\\xa4\\\\xac\\\\xe0\\\\xa5\\\\x8d\\\\xe0\\\\xa4\\\\xb0\\\\xe0\\\\xa4\\\\xbf\\\\xe0\\\\xa4\\\\x9f\\\\xe0\\\\xa5\\\\x87\\\\xe0\\\\xa4\\\\xa8 \\\\xe0\\\\xa4\\\\x95\\\\xe0\\\\xa5\\\\x80, \\\\xe0\\\\xa4\\\\xaa\\\\xe0\\\\xa5\\\\x8d\\\\xe0\\\\xa4\\\\xb0\\\\xe0\\\\xa4\\\\xa7\\\\xe0\\\\xa4\\\\xbe\\\\xe0\\\\xa4\\\\xa8\\\\xe0\\\\xa4\\\\xae\\\\xe0\\\\xa4\\\\x82\\\\xe0\\\\xa4\\\\xa4\\\\xe0\\\\xa5\\\\x8d\\\\xe0\\\\xa4\\\\xb0\\\\xe0\\\\xa5\\\\x80 \\\\xe0\\\\xa4\\\\x94\\\\xe0\\\\xa4\\\\xb0 \\\\xe0\\\\xa4\\\\x95\\\\xe0\\\\xa5\\\\x8d\\\\xe0\\\\xa4\\\\xb5\\\\xe0\\\\xa5\\\\x80\\\\xe0\\\\xa4\\\\xa8,\\\\xe2\\\\x80\\\\xa6'\", \"ts\": \"Sat Mar 28 16:12:06 +0000 2020\"}]</td></tr><tr><td>PabloDeZulueta</td><td>[{\"id\": \"1243933897316020225\", \"tweet\": \"b'RT @CarlosJoaquin: Si perdiste tu trabajo derivado de esta contingencia #Covid_19, es necesario asesorarte y defender tus derechos. Muchos\\\\xe2\\\\x80\\\\xa6'\", \"ts\": \"Sat Mar 28 16:12:06 +0000 2020\"}]</td></tr><tr><td>NachoSista38</td><td>[{\"id\": \"1243933897823531009\", \"tweet\": \"b'RT @FredTJoseph: BIG #RENTRELIEF UPDATE: We have now supported over 40 people and given away about $10k...and we still have $90k to giveawa\\\\xe2\\\\x80\\\\xa6'\", \"ts\": \"Sat Mar 28 16:12:07 +0000 2020\"}]</td></tr><tr><td>andradeMar45</td><td>[{\"id\": \"1243933897899024384\", \"tweet\": \"b'RT @TelediarioEC: #TelediarioEC | La pandemia del #Covid_19 busca ser combatida por la comunidad cient\\\\xc3\\\\xadfica. Docentes de la Universidad IKI\\\\xe2\\\\x80\\\\xa6'\", \"ts\": \"Sat Mar 28 16:12:07 +0000 2020\"}]</td></tr><tr><td>Zelia_Martin</td><td>[{\"id\": \"1243933897894891522\", \"tweet\": \"b\\\"RT @Elsa_Gambin: Quand on a d\\\\xc3\\\\xa9j\\\\xc3\\\\xa0 le nez dans la merde mais qu'on se dit qu'on peut s'en recouvrir compl\\\\xc3\\\\xa8tement. \\\\n\\\\n#Covid_19 #RIPlaConstitut\\\\xe2\\\\x80\\\\xa6\\\"\", \"ts\": \"Sat Mar 28 16:12:07 +0000 2020\"}]</td></tr><tr><td>eyyubigil1187</td><td>[{\"id\": \"1243933897890713600\", \"tweet\": \"b'\\\\xc3\\\\x87in verileri ne kadar sa\\\\xc4\\\\x9fl\\\\xc4\\\\xb1kl\\\\xc4\\\\xb1\\\\n#coronavirus\\\\n#Covid_19'\", \"ts\": \"Sat Mar 28 16:12:07 +0000 2020\"}]</td></tr><tr><td>ArmyGal836</td><td>[{\"id\": \"1243933898045902848\", \"tweet\": \"b'Thank you'\", \"ts\": \"Sat Mar 28 16:12:07 +0000 2020\"}]</td></tr><tr><td>LoreeWood10</td><td>[{\"id\": \"1243933897982910464\", \"tweet\": \"b'@FredTJoseph @CashApp @Zelle @gofundme #Covid_19 #RENTRELIEF $missyelior I need 200 for food and other stuff for me\\\\xe2\\\\x80\\\\xa6 https://t.co/JYC7aRilh1'\", \"ts\": \"Sat Mar 28 16:12:07 +0000 2020\"}]</td></tr><tr><td>becerra_torres</td><td>[{\"id\": \"1243933898310127618\", \"tweet\": \"b'RT @planwac: \\\\xf0\\\\x9f\\\\x91\\\\x8f\\\\xf0\\\\x9f\\\\x8f\\\\xbd\\\\xf0\\\\x9f\\\\x91\\\\x8f\\\\xf0\\\\x9f\\\\x8f\\\\xbd\\\\xf0\\\\x9f\\\\x91\\\\x8f\\\\xf0\\\\x9f\\\\x8f\\\\xbd Aplausos de pie a la gran naci\\\\xc3\\\\xb3n y al pueblo chino, a la Rep\\\\xc3\\\\xbablica Popular China'\", \"ts\": \"Sat Mar 28 16:12:07 +0000 2020\"}]</td></tr><tr><td>barbarablondel</td><td>[{\"id\": \"1243933898503004160\", \"tweet\": \"b'RT @EmbaVEChina: #FOTOS | Llegada de nuevo cargamento de kits e insumos m\\\\xc3\\\\xa9dicos desde la Rep\\\\xc3\\\\xbablica Popular China para la lucha contra el #C\\\\xe2\\\\x80\\\\xa6'\", \"ts\": \"Sat Mar 28 16:12:07 +0000 2020\"}]</td></tr><tr><td>teethvote</td><td>[{\"id\": \"1243933898725351428\", \"tweet\": \"b'RT @SchmidtFtIrwin: CALM is still number 4 on Canada iTunes. My canadian moots are doing it right. Make sure your friends buy it as well \\\\xf0\\\\x9f\\\\x87\\\\xa8\\\\xf0\\\\x9f\\\\x87\\\\xa6\\\\xe2\\\\x80\\\\xa6'\", \"ts\": \"Sat Mar 28 16:12:07 +0000 2020\"}]</td></tr><tr><td>nimbuzzcloudz</td><td>[{\"id\": \"1243933899505401856\", \"tweet\": \"b'RT @CanadensisMax: Dear American neighbours, your President is a fucking nut.  Love, Canada.'\", \"ts\": \"Sat Mar 28 16:12:07 +0000 2020\"}]</td></tr><tr><td>QroquisPolitico</td><td>[{\"id\": \"1243933897802612736\", \"tweet\": \"b'#TECNOLOG\\\\xc3\\\\x8dA y #SALUD \\\\xf0\\\\x9f\\\\xa9\\\\xba\\\\nGobierno del Estado de Queretaro @gobqro lanza nueva #APP \\\\xf0\\\\x9f\\\\x93\\\\xb2 para auto diagn\\\\xc3\\\\xb3stico del\\\\xe2\\\\x80\\\\xa6 https://t.co/xg2R0XeHFI'\", \"ts\": \"Sat Mar 28 16:12:07 +0000 2020\"}]</td></tr><tr><td>atarusalsa</td><td>[{\"id\": \"1243933899740217345\", \"tweet\": \"b'RT @tara_tarak0: #\\\\xe3\\\\x82\\\\xa4\\\\xe3\\\\x82\\\\xae\\\\xe3\\\\x83\\\\xaa\\\\xe3\\\\x82\\\\xb9\\\\nBBC\\\\xe3\\\\x83\\\\x8b\\\\xe3\\\\x83\\\\xa5\\\\xe3\\\\x83\\\\xbc\\\\xe3\\\\x82\\\\xb9\\\\xe3\\\\x82\\\\x92\\\\xe8\\\\xa6\\\\x8b\\\\xe3\\\\x81\\\\xa6\\\\xe3\\\\x80\\\\x81\\\\xe6\\\\x84\\\\x95\\\\xe7\\\\x84\\\\xb6\\\\xe3\\\\x81\\\\xa8\\\\xe3\\\\x81\\\\x99\\\\xe3\\\\x82\\\\x8b\\\\xe3\\\\x80\\\\x82\\\\n\\\\n\\\\xe3\\\\x81\\\\xbe\\\\xe3\\\\x81\\\\x9a\\\\xe3\\\\x83\\\\xad\\\\xe3\\\\x83\\\\xb3\\\\xe3\\\\x83\\\\x89\\\\xe3\\\\x83\\\\xb3\\\\xe3\\\\x80\\\\x81\\\\xe7\\\\x89\\\\xa9\\\\xe3\\\\x81\\\\x8c\\\\xe3\\\\x81\\\\xaa\\\\xe3\\\\x81\\\\x84\\\\xe3\\\\x80\\\\x82\\\\n\\\\xe9\\\\xa3\\\\x9f\\\\xe6\\\\x96\\\\x99\\\\xe3\\\\x81\\\\xae\\\\xe8\\\\xb2\\\\xb7\\\\xe3\\\\x81\\\\x84\\\\xe6\\\\xba\\\\x9c\\\\xe3\\\\x82\\\\x81\\\\xe3\\\\x81\\\\xa7\\\\xe3\\\\x80\\\\x81\\\\xe8\\\\xb2\\\\xb7\\\\xe3\\\\x81\\\\x88\\\\xe3\\\\x81\\\\xaa\\\\xe3\\\\x81\\\\x84\\\\xe4\\\\xba\\\\xba\\\\xe5\\\\xa4\\\\x9a\\\\xe6\\\\x95\\\\xb0\\\\xe3\\\\x80\\\\x82\\\\n\\\\xe5\\\\x8c\\\\xbb\\\\xe7\\\\x99\\\\x82\\\\xe9\\\\x96\\\\xa2\\\\xe4\\\\xbf\\\\x82\\\\xe8\\\\x80\\\\x85\\\\xe3\\\\x81\\\\x8c\\\\xe9\\\\xa3\\\\x9f\\\\xe4\\\\xba\\\\x8b\\\\xe3\\\\x82\\\\x82\\\\xe5\\\\x8f\\\\x96\\\\xe3\\\\x82\\\\x8c\\\\xe3\\\\x81\\\\xaa\\\\xe3\\\\x81\\\\x84\\\\xe3\\\\x81\\\\xaa\\\\xe3\\\\x82\\\\x93\\\\xe3\\\\x81\\\\xa6\\\\xe3\\\\x80\\\\x81\\\\xe3\\\\x80\\\\x81\\\\n\\\\n\\\\xe3\\\\x81\\\\x93\\\\xe3\\\\x82\\\\x8c\\\\xe3\\\\x81\\\\x8b\\\\xe3\\\\x82\\\\x89\\\\xe3\\\\x81\\\\xa9\\\\xe3\\\\x82\\\\x93\\\\xe3\\\\x81\\\\xaa\\\\xe3\\\\x81\\\\x93\\\\xe3\\\\x81\\\\xa8\\\\xe3\\\\x81\\\\x8c\\\\xe8\\\\xb5\\\\xb7\\\\xe3\\\\x81\\\\x93\\\\xe3\\\\x82\\\\x8b\\\\xe3\\\\x81\\\\x8b\\\\xe3\\\\x80\\\\x82\\\\xe6\\\\x83\\\\xb3\\\\xe5\\\\x83\\\\x8f\\\\xe3\\\\x81\\\\x99\\\\xe3\\\\x82\\\\x8b\\\\xe3\\\\x81\\\\xae\\\\xe3\\\\x81\\\\x8c\\\\xe6\\\\x81\\\\x90\\\\xe3\\\\x82\\\\x8d\\\\xe3\\\\x81\\\\x97\\\\xe3\\\\x81\\\\x84\\\\xe3\\\\x81\\\\xa7\\\\xe3\\\\x81\\\\x99\\\\xe3\\\\x80\\\\x82\\\\n#\\\\xe3\\\\x82\\\\xb3\\\\xe3\\\\x83\\\\xad\\\\xe3\\\\x83\\\\x8a\\\\xe3\\\\x82\\\\xa6\\\\xe3\\\\x82\\\\xa4\\\\xe3\\\\x83\\\\xab\\\\xe3\\\\x82\\\\xb9\\\\n#Covid_19'\", \"ts\": \"Sat Mar 28 16:12:07 +0000 2020\"}]</td></tr><tr><td>Thoughtfulsquas</td><td>[{\"id\": \"1243933899560009728\", \"tweet\": \"b'china and canada showing the world that regardless of political differences, politicians with smarts can pull toget\\\\xe2\\\\x80\\\\xa6 https://t.co/NyYtuOq5Zf'\", \"ts\": \"Sat Mar 28 16:12:07 +0000 2020\"}]</td></tr><tr><td>Leonor09551189</td><td>[{\"id\": \"1243933900302360576\", \"tweet\": \"b'RT @jaarreaza: El Presidente de Argentina @alferdez explica las injustas consecuencias de las sanciones ilegales de EEUU para los pueblos d\\\\xe2\\\\x80\\\\xa6'\", \"ts\": \"Sat Mar 28 16:12:07 +0000 2020\"}]</td></tr><tr><td>K_Hatzidakis</td><td>[{\"id\": \"1243933900340166656\", \"tweet\": \"b'RT @K_Hatzidakis: \\\\xce\\\\x94\\\\xce\\\\xb5\\\\xce\\\\xbd \\\\xce\\\\xb1\\\\xce\\\\xbd\\\\xce\\\\xb1\\\\xce\\\\xba\\\\xcf\\\\x85\\\\xce\\\\xba\\\\xce\\\\xbb\\\\xcf\\\\x8e\\\\xce\\\\xbd\\\\xce\\\\xbf\\\\xcf\\\\x85\\\\xce\\\\xbc\\\\xce\\\\xb5 \\\\xcf\\\\x84\\\\xce\\\\xbf\\\\xce\\\\xbd \\\\xce\\\\xba\\\\xce\\\\xbf\\\\xcf\\\\x81\\\\xcf\\\\x89\\\\xce\\\\xbd\\\\xce\\\\xbf\\\\xcf\\\\x8a\\\\xcf\\\\x8c! \\\\xce\\\\xa3\\\\xce\\\\xae\\\\xce\\\\xbc\\\\xce\\\\xb5\\\\xcf\\\\x81\\\\xce\\\\xb1 \\\\xce\\\\xba\\\\xcf\\\\x85\\\\xce\\\\xba\\\\xce\\\\xbb\\\\xce\\\\xbf\\\\xcf\\\\x86\\\\xcf\\\\x8c\\\\xcf\\\\x81\\\\xce\\\\xb7\\\\xcf\\\\x83\\\\xce\\\\xb5 \\\\xce\\\\xb1\\\\xcf\\\\x85\\\\xcf\\\\x84\\\\xcf\\\\x8c \\\\xcf\\\\x84\\\\xce\\\\xbf \\\\xcf\\\\x87\\\\xcf\\\\x81\\\\xce\\\\xae\\\\xcf\\\\x83\\\\xce\\\\xb9\\\\xce\\\\xbc\\\\xce\\\\xbf \\\\xce\\\\xb2\\\\xce\\\\xaf\\\\xce\\\\xbd\\\\xcf\\\\x84\\\\xce\\\\xb5\\\\xce\\\\xbf \\\\xce\\\\xb3\\\\xce\\\\xb9\\\\xce\\\\xb1 \\\\xcf\\\\x84\\\\xce\\\\xb7 \\\\xce\\\\xb4\\\\xce\\\\xb9\\\\xce\\\\xb1\\\\xcf\\\\x87\\\\xce\\\\xb5\\\\xce\\\\xaf\\\\xcf\\\\x81\\\\xce\\\\xb9\\\\xcf\\\\x83\\\\xce\\\\xb7 \\\\xcf\\\\x84\\\\xcf\\\\x89\\\\xce\\\\xbd \\\\xce\\\\xb1\\\\xcf\\\\x80\\\\xce\\\\xbf\\\\xcf\\\\x81\\\\xcf\\\\x81\\\\xce\\\\xb9\\\\xce\\\\xbc\\\\xce\\\\xbc\\\\xce\\\\xac\\\\xcf\\\\x84\\\\xcf\\\\x89\\\\xce\\\\xbd (\\\\xce\\\\xbc\\\\xce\\\\xac\\\\xcf\\\\x83\\\\xce\\\\xba\\\\xce\\\\xb5\\\\xcf\\\\x82, \\\\xce\\\\xb3\\\\xce\\\\xac\\\\xce\\\\xbd\\\\xe2\\\\x80\\\\xa6'\", \"ts\": \"Sat Mar 28 16:12:07 +0000 2020\"}]</td></tr><tr><td>tnroha23</td><td>[{\"id\": \"1243933900931338241\", \"tweet\": \"b'RT @T9uRhHfR8jsSP57: \\\\xe0\\\\xb9\\\\x83\\\\xe0\\\\xb8\\\\x99\\\\xe0\\\\xb8\\\\x95\\\\xe0\\\\xb8\\\\xad\\\\xe0\\\\xb8\\\\x99\\\\xe0\\\\xb8\\\\x99\\\\xe0\\\\xb8\\\\xb5\\\\xe0\\\\xb9\\\\x89\\\\xe0\\\\xb8\\\\x9a\\\\xe0\\\\xb8\\\\xb2\\\\xe0\\\\xb8\\\\x87\\\\xe0\\\\xb8\\\\x88\\\\xe0\\\\xb8\\\\xb1\\\\xe0\\\\xb8\\\\x87\\\\xe0\\\\xb8\\\\xab\\\\xe0\\\\xb8\\\\xa7\\\\xe0\\\\xb8\\\\xb1\\\\xe0\\\\xb8\\\\x94\\\\xe0\\\\xb8\\\\x95\\\\xe0\\\\xb9\\\\x89\\\\xe0\\\\xb8\\\\xad\\\\xe0\\\\xb8\\\\x87\\\\xe0\\\\xb8\\\\x9b\\\\xe0\\\\xb8\\\\xaa\\\\xe0\\\\xb8\\\\x94\\\\xe0\\\\xb8\\\\x81\\\\xe0\\\\xb8\\\\xb1\\\\xe0\\\\xb8\\\\x9a\\\\xe0\\\\xb9\\\\x84\\\\xe0\\\\xb8\\\\xa7\\\\xe0\\\\xb8\\\\xa3\\\\xe0\\\\xb8\\\\xb1\\\\xe0\\\\xb8\\\\xaa \\\\xe0\\\\xb9\\\\x81\\\\xe0\\\\xb8\\\\x95\\\\xe0\\\\xb9\\\\x88\\\\xe0\\\\xb9\\\\x80\\\\xe0\\\\xb8\\\\x8a\\\\xe0\\\\xb8\\\\xb5\\\\xe0\\\\xb8\\\\xa2\\\\xe0\\\\xb8\\\\x87\\\\xe0\\\\xb9\\\\x83\\\\xe0\\\\xb8\\\\xab\\\\xe0\\\\xb8\\\\xa1\\\\xe0\\\\xb9\\\\x88\\\\xe0\\\\xb8\\\\x95\\\\xe0\\\\xb8\\\\xad\\\\xe0\\\\xb8\\\\x99\\\\xe0\\\\xb8\\\\x99\\\\xe0\\\\xb8\\\\xb5\\\\xe0\\\\xb9\\\\x89\\\\xe0\\\\xb8\\\\x84\\\\xe0\\\\xb8\\\\xb7\\\\xe0\\\\xb8\\\\xad \\\\xe0\\\\xb9\\\\x84\\\\xe0\\\\xb8\\\\x9f\\\\xe0\\\\xb8\\\\x9b\\\\xe0\\\\xb9\\\\x88\\\\xe0\\\\xb8\\\\xb2 \\\\xe0\\\\xb9\\\\x84\\\\xe0\\\\xb8\\\\xa7\\\\xe0\\\\xb8\\\\xa3\\\\xe0\\\\xb8\\\\xb1\\\\xe0\\\\xb8\\\\xaa\\\\xe0\\\\xb8\\\\x81\\\\xe0\\\\xb9\\\\x87\\\\xe0\\\\xb8\\\\x81\\\\xe0\\\\xb8\\\\xa5\\\\xe0\\\\xb8\\\\xb1\\\\xe0\\\\xb8\\\\xa7\\\\xe0\\\\xb9\\\\x81\\\\xe0\\\\xb8\\\\x96\\\\xe0\\\\xb8\\\\xa1\\\\xe0\\\\xb8\\\\x95\\\\xe0\\\\xb8\\\\xad\\\\xe0\\\\xb8\\\\x99\\\\xe0\\\\xb8\\\\x99\\\\xe0\\\\xb8\\\\xb5\\\\xe0\\\\xb9\\\\x89\\\\xe0\\\\xb8\\\\x94\\\\xe0\\\\xb9\\\\x89\\\\xe0\\\\xb8\\\\xa7\\\\xe0\\\\xb8\\\\xa2\\\\xe0\\\\xb8\\\\x84\\\\xe0\\\\xb9\\\\x88\\\\xe0\\\\xb8\\\\xb2\\\\xe0\\\\xb8\\\\x9d\\\\xe0\\\\xb8\\\\xb8\\\\xe0\\\\xb9\\\\x88\\\\xe0\\\\xb8\\\\x99\\\\xe0\\\\xb8\\\\x97\\\\xe0\\\\xb8\\\\xb5\\\\xe0\\\\xb9\\\\x88\\\\xe0\\\\xb8\\\\x89\\\\xe0\\\\xb8\\\\xb4\\\\xe0\\\\xb8\\\\x9a\\\\xe0\\\\xb8\\\\xab\\\\xe0\\\\xb8\\\\xb2\\\\xe0\\\\xb8\\\\xa2\\\\xe0\\\\xb8\\\\x82\\\\xe0\\\\xb8\\\\xb6\\\\xe0\\\\xb9\\\\x89\\\\xe0\\\\xb8\\\\x99\\\\xe0\\\\xb9\\\\x84\\\\xe0\\\\xb8\\\\x9b\\\\xe0\\\\xb8\\\\xad\\\\xe0\\\\xb8\\\\xb5\\\\xe0\\\\xb8\\\\x81 \\\\xe0\\\\xb9\\\\x80\\\\xe0\\\\xb8\\\\xad\\\\xe0\\\\xb8\\\\xb2\\\\xe0\\\\xb9\\\\x83\\\\xe0\\\\xb8\\\\x88\\\\xe2\\\\x80\\\\xa6'\", \"ts\": \"Sat Mar 28 16:12:07 +0000 2020\"}]</td></tr><tr><td>daniramos8</td><td>[{\"id\": \"1243933900742819841\", \"tweet\": \"b'RT @lavecinarubia: Leo que Cospedal es TT. Miro por qu\\\\xc3\\\\xa9. Veo que la hermana de Cospedal trabaja en un laboratorio que hace test r\\\\xc3\\\\xa1pidos con\\\\xe2\\\\x80\\\\xa6'\", \"ts\": \"Sat Mar 28 16:12:07 +0000 2020\"}]</td></tr><tr><td>nayway9900</td><td>[{\"id\": \"1243933901405319170\", \"tweet\": \"b'RT @fentxyy: Rihanna &amp; PARTYNEXTDOOR \\\\xf0\\\\x9f\\\\x9a\\\\xa8 \\\\n\\\\nGlobal Spotify:\\\\n16. (New Entry) Believe It - 2,873,556\\\\n\\\\nCanada Spotify:\\\\n3. (New Entry) Believe It\\\\xe2\\\\x80\\\\xa6'\", \"ts\": \"Sat Mar 28 16:12:07 +0000 2020\"}]</td></tr><tr><td>songbird_63366</td><td>[{\"id\": \"1243933900797349888\", \"tweet\": \"b'Slow coronavirus response to cost millions of lives in poorest countries | Save the Children Canada https://t.co/lEIU76HqmZ #coronavirus'\", \"ts\": \"Sat Mar 28 16:12:07 +0000 2020\"}]</td></tr><tr><td>mariacuchibriL</td><td>[{\"id\": \"1243933901397123072\", \"tweet\": \"b'RT @ElAguijon_: Hace dos meses encargaron la compra de mascarillas y guantes para los polic\\\\xc3\\\\xadas \\\\n#ElGobiernoTeMiente'\", \"ts\": \"Sat Mar 28 16:12:07 +0000 2020\"}]</td></tr><tr><td>Maribel68652324</td><td>[{\"id\": \"1243933901673897984\", \"tweet\": \"b'RT @stalinbriones: \\\\xc2\\\\xbfSer\\\\xc3\\\\xa1 acaso la madre de V\\\\xc3\\\\xadctor la pr\\\\xc3\\\\xb3xima v\\\\xc3\\\\xadctima? Hubo negligencia en el trato al paciente, nunca le hicieron la prueba\\\\xe2\\\\x80\\\\xa6'\", \"ts\": \"Sat Mar 28 16:12:07 +0000 2020\"}]</td></tr><tr><td>mauro_zuluaga</td><td>[{\"id\": \"1243933901686476800\", \"tweet\": \"b'RT @DJaenNiPollas: D\\\\xc3\\\\xada 16.\\\\n\\\\nHoy he salido a darle de comer a los patos.\\\\n\\\\n#Covid_19 https://t.co/Gz9ERYtw5A'\", \"ts\": \"Sat Mar 28 16:12:07 +0000 2020\"}]</td></tr><tr><td>IgnacioJosPlyH1</td><td>[{\"id\": \"1243933901443170304\", \"tweet\": \"b'RT @danilazarom: Oliver: \\\\xc2\\\\xabComisario, le he escuchado decir que desde hace tres meses, \\\\xc2\\\\xbfquer\\\\xc3\\\\xada decir desde hace tres semanas?\\\\xc2\\\\xbb.\\\\n\\\\nPolic\\\\xc3\\\\xada: \\\\xc2\\\\xabN\\\\xe2\\\\x80\\\\xa6'\", \"ts\": \"Sat Mar 28 16:12:07 +0000 2020\"}]</td></tr><tr><td>Pat_Potvin</td><td>[{\"id\": \"1243933901304868923\", \"tweet\": \"b'We need to get rid of ALL #UNTraitors #EnemyWithin\\\\nLibConGreenNDPBloc cabal are #EnemyOfThePeople\\\\xe2\\\\x80\\\\xa6 https://t.co/O1c4CPsZ5L'\", \"ts\": \"Sat Mar 28 16:12:07 +0000 2020\"}]</td></tr><tr><td>melsrozing</td><td>[{\"id\": \"1243933901950763010\", \"tweet\": \"b'canada goose'\", \"ts\": \"Sat Mar 28 16:12:08 +0000 2020\"}]</td></tr><tr><td>3bduleh</td><td>[{\"id\": \"1243933901237649410\", \"tweet\": \"b'#\\\\xd9\\\\x85\\\\xd9\\\\x84\\\\xd8\\\\xaa\\\\xd8\\\\xb2\\\\xd9\\\\x85\\\\xd9\\\\x88\\\\xd9\\\\x86_\\\\xd9\\\\x8a\\\\xd8\\\\xa7_\\\\xd9\\\\x88\\\\xd8\\\\xb7\\\\xd9\\\\x86 #Covid_19 #COVID19 #\\\\xd9\\\\x85\\\\xd9\\\\x84\\\\xd8\\\\xaa\\\\xd8\\\\xb2\\\\xd9\\\\x85\\\\xd9\\\\x88\\\\xd9\\\\x86_\\\\xd9\\\\x8a\\\\xd8\\\\xa7\\\\xd9\\\\x88\\\\xd8\\\\xb7\\\\xd9\\\\x86 #\\\\xd8\\\\xae\\\\xd9\\\\x84\\\\xd9\\\\x83_\\\\xd9\\\\x81\\\\xd9\\\\x8a_\\\\xd8\\\\xa7\\\\xd9\\\\x84\\\\xd8\\\\xa8\\\\xd9\\\\x8a\\\\xd8\\\\xaa #\\\\xd8\\\\xae\\\\xd9\\\\x84\\\\xd9\\\\x8a\\\\xd9\\\\x83_\\\\xd8\\\\xa8\\\\xd8\\\\xa7\\\\xd9\\\\x84\\\\xd8\\\\xa8\\\\xd9\\\\x8a\\\\xd8\\\\xaa https://t.co/6V6YRmScDa'\", \"ts\": \"Sat Mar 28 16:12:07 +0000 2020\"}]</td></tr><tr><td>jaumeatonda</td><td>[{\"id\": \"1243933901585866752\", \"tweet\": \"b'@miqueliceta @JaumeVAroca No me digas? Este avi\\\\xc3\\\\xb3n repleto, de M\\\\xc3\\\\xa1laga a #Barcelona ayer, debe ser la excepci\\\\xc3\\\\xb3n, verd\\\\xe2\\\\x80\\\\xa6 https://t.co/PoD5a3loyX'\", \"ts\": \"Sat Mar 28 16:12:07 +0000 2020\"}]</td></tr><tr><td>LcjHolt</td><td>[{\"id\": \"1243933902819020800\", \"tweet\": \"b'RT @superscuba83: Meghans PR Team have planted so many stories recently talking about their love of Canada, how she\\\\xe2\\\\x80\\\\x99s walking with Archie e\\\\xe2\\\\x80\\\\xa6'\", \"ts\": \"Sat Mar 28 16:12:08 +0000 2020\"}]</td></tr><tr><td>datsnayyah</td><td>[{\"id\": \"1243933902856769537\", \"tweet\": \"b'RT @ChinaEmbOttawa: On March 27, Bank of China donates medical supplies (including 30000 medical masks, 10000 sets of protective clothing,\\\\xe2\\\\x80\\\\xa6'\", \"ts\": \"Sat Mar 28 16:12:08 +0000 2020\"}]</td></tr><tr><td>DIFAtizapanZ</td><td>[{\"id\": \"1243933902575550464\", \"tweet\": \"b'Sigue las recomendaciones de Susana Distancia y #L\\\\xc3\\\\xa1vateLasManos \\\\xf0\\\\x9f\\\\x92\\\\xa6\\\\xf0\\\\x9f\\\\xa7\\\\xb4\\\\xf0\\\\x9f\\\\x99\\\\x8c\\\\xf0\\\\x9f\\\\x8f\\\\xbc Inf\\\\xc3\\\\xb3rmate sobre el #Coronavirus #COVID19 en\\\\xe2\\\\x80\\\\xa6 https://t.co/WCRVwOgjFt'\", \"ts\": \"Sat Mar 28 16:12:08 +0000 2020\"}]</td></tr><tr><td>Mhambis</td><td>[{\"id\": \"1243933903934689280\", \"tweet\": \"b'RT @AfricaRepublic: Black Mom with Coronavirus Told She Wasn\\\\xe2\\\\x80\\\\x99t Priority, Dies the Next Day - Global Pan-Africanism Network\\\\n#COVID19 #Corona\\\\xe2\\\\x80\\\\xa6'\", \"ts\": \"Sat Mar 28 16:12:08 +0000 2020\"}]</td></tr><tr><td>MaraTeresaGilS1</td><td>[{\"id\": \"1243933904681271297\", \"tweet\": \"b'RT @JesusCintora: \\\\xe2\\\\x80\\\\x9cLa empresa coru\\\\xc3\\\\xb1esa que fabrica Estrella Galicia, 1906 y Aguas Cabreiro\\\\xc3\\\\xa1 dice en una carta a sus empleados que no har\\\\xc3\\\\xa1 u\\\\xe2\\\\x80\\\\xa6'\", \"ts\": \"Sat Mar 28 16:12:08 +0000 2020\"}]</td></tr><tr><td>Isaacpsuv7</td><td>[{\"id\": \"1243933904677081088\", \"tweet\": \"b'RT @endycontreras: \\\"La unidad lo hace todo y, por lo mismo, debemos conservar este precioso principio\\\", se lee en cajas que transportan los\\\\xe2\\\\x80\\\\xa6'\", \"ts\": \"Sat Mar 28 16:12:08 +0000 2020\"}]</td></tr><tr><td>Hadialsha</td><td>[{\"id\": \"1243933904739991552\", \"tweet\": \"b'RT @b_otyf: \\\\xd9\\\\x85\\\\xd8\\\\xa7\\\\xd8\\\\xb0\\\\xd8\\\\xa7 \\\\xd9\\\\x81\\\\xd8\\\\xb9\\\\xd9\\\\x84\\\\xd8\\\\xaa \\\\xd8\\\\xad\\\\xd9\\\\x83\\\\xd9\\\\x88\\\\xd9\\\\x85\\\\xd8\\\\xa9 #\\\\xd8\\\\xa7\\\\xd9\\\\x84\\\\xd9\\\\x85\\\\xd9\\\\x85\\\\xd9\\\\x84\\\\xd9\\\\x83\\\\xd8\\\\xa9 \\\\xd9\\\\x84\\\\xd8\\\\xad\\\\xd9\\\\x85\\\\xd8\\\\xa7\\\\xd9\\\\x8a\\\\xd8\\\\xa9 \\\\xd8\\\\xb4\\\\xd8\\\\xb9\\\\xd8\\\\xa8\\\\xd9\\\\x87\\\\xd8\\\\xa7 \\\\xd9\\\\x85\\\\xd9\\\\x86 #\\\\xd9\\\\x81\\\\xd9\\\\x8a\\\\xd8\\\\xb1\\\\xd9\\\\x88\\\\xd8\\\\xb3_\\\\xd9\\\\x83\\\\xd9\\\\x88\\\\xd8\\\\xb1\\\\xd9\\\\x88\\\\xd9\\\\x86\\\\xd8\\\\xa7\\\\xd8\\\\x9f \\\\n\\\\nWhat has the government of the Kingdom of #Saudi_Arabia done to prote\\\\xe2\\\\x80\\\\xa6'\", \"ts\": \"Sat Mar 28 16:12:08 +0000 2020\"}]</td></tr><tr><td>ZackSlater54</td><td>[{\"id\": \"1243933904962072577\", \"tweet\": \"b'RT @VinceCharron: @AlbertaGrl @ZackSlater54 https://t.co/0E0UgKeNmz'\", \"ts\": \"Sat Mar 28 16:12:08 +0000 2020\"}]</td></tr><tr><td>HeyItsLeila</td><td>[{\"id\": \"1243933904991473665\", \"tweet\": \"b'You gotta try to make the best out of a situation. #socialdistance #covid_19 #videochat https://t.co/NahomfWRoV'\", \"ts\": \"Sat Mar 28 16:12:08 +0000 2020\"}]</td></tr><tr><td>Leader_DSO</td><td>[{\"id\": \"1243933904978841603\", \"tweet\": \"b'SmartVest: A Smart Solution for Airway Clearance.\\\\n\\\\nWe are here to Help Fight #covid_19!\\\\n\\\\nPlace Orders Now while sto\\\\xe2\\\\x80\\\\xa6 https://t.co/QKZTkNuXX6'\", \"ts\": \"Sat Mar 28 16:12:08 +0000 2020\"}]</td></tr><tr><td>LonesomeFirefly</td><td>[{\"id\": \"1243933905255727110\", \"tweet\": \"b'RT @T9uRhHfR8jsSP57: \\\\xe0\\\\xb9\\\\x83\\\\xe0\\\\xb8\\\\x99\\\\xe0\\\\xb8\\\\x95\\\\xe0\\\\xb8\\\\xad\\\\xe0\\\\xb8\\\\x99\\\\xe0\\\\xb8\\\\x99\\\\xe0\\\\xb8\\\\xb5\\\\xe0\\\\xb9\\\\x89\\\\xe0\\\\xb8\\\\x9a\\\\xe0\\\\xb8\\\\xb2\\\\xe0\\\\xb8\\\\x87\\\\xe0\\\\xb8\\\\x88\\\\xe0\\\\xb8\\\\xb1\\\\xe0\\\\xb8\\\\x87\\\\xe0\\\\xb8\\\\xab\\\\xe0\\\\xb8\\\\xa7\\\\xe0\\\\xb8\\\\xb1\\\\xe0\\\\xb8\\\\x94\\\\xe0\\\\xb8\\\\x95\\\\xe0\\\\xb9\\\\x89\\\\xe0\\\\xb8\\\\xad\\\\xe0\\\\xb8\\\\x87\\\\xe0\\\\xb8\\\\x9b\\\\xe0\\\\xb8\\\\xaa\\\\xe0\\\\xb8\\\\x94\\\\xe0\\\\xb8\\\\x81\\\\xe0\\\\xb8\\\\xb1\\\\xe0\\\\xb8\\\\x9a\\\\xe0\\\\xb9\\\\x84\\\\xe0\\\\xb8\\\\xa7\\\\xe0\\\\xb8\\\\xa3\\\\xe0\\\\xb8\\\\xb1\\\\xe0\\\\xb8\\\\xaa \\\\xe0\\\\xb9\\\\x81\\\\xe0\\\\xb8\\\\x95\\\\xe0\\\\xb9\\\\x88\\\\xe0\\\\xb9\\\\x80\\\\xe0\\\\xb8\\\\x8a\\\\xe0\\\\xb8\\\\xb5\\\\xe0\\\\xb8\\\\xa2\\\\xe0\\\\xb8\\\\x87\\\\xe0\\\\xb9\\\\x83\\\\xe0\\\\xb8\\\\xab\\\\xe0\\\\xb8\\\\xa1\\\\xe0\\\\xb9\\\\x88\\\\xe0\\\\xb8\\\\x95\\\\xe0\\\\xb8\\\\xad\\\\xe0\\\\xb8\\\\x99\\\\xe0\\\\xb8\\\\x99\\\\xe0\\\\xb8\\\\xb5\\\\xe0\\\\xb9\\\\x89\\\\xe0\\\\xb8\\\\x84\\\\xe0\\\\xb8\\\\xb7\\\\xe0\\\\xb8\\\\xad \\\\xe0\\\\xb9\\\\x84\\\\xe0\\\\xb8\\\\x9f\\\\xe0\\\\xb8\\\\x9b\\\\xe0\\\\xb9\\\\x88\\\\xe0\\\\xb8\\\\xb2 \\\\xe0\\\\xb9\\\\x84\\\\xe0\\\\xb8\\\\xa7\\\\xe0\\\\xb8\\\\xa3\\\\xe0\\\\xb8\\\\xb1\\\\xe0\\\\xb8\\\\xaa\\\\xe0\\\\xb8\\\\x81\\\\xe0\\\\xb9\\\\x87\\\\xe0\\\\xb8\\\\x81\\\\xe0\\\\xb8\\\\xa5\\\\xe0\\\\xb8\\\\xb1\\\\xe0\\\\xb8\\\\xa7\\\\xe0\\\\xb9\\\\x81\\\\xe0\\\\xb8\\\\x96\\\\xe0\\\\xb8\\\\xa1\\\\xe0\\\\xb8\\\\x95\\\\xe0\\\\xb8\\\\xad\\\\xe0\\\\xb8\\\\x99\\\\xe0\\\\xb8\\\\x99\\\\xe0\\\\xb8\\\\xb5\\\\xe0\\\\xb9\\\\x89\\\\xe0\\\\xb8\\\\x94\\\\xe0\\\\xb9\\\\x89\\\\xe0\\\\xb8\\\\xa7\\\\xe0\\\\xb8\\\\xa2\\\\xe0\\\\xb8\\\\x84\\\\xe0\\\\xb9\\\\x88\\\\xe0\\\\xb8\\\\xb2\\\\xe0\\\\xb8\\\\x9d\\\\xe0\\\\xb8\\\\xb8\\\\xe0\\\\xb9\\\\x88\\\\xe0\\\\xb8\\\\x99\\\\xe0\\\\xb8\\\\x97\\\\xe0\\\\xb8\\\\xb5\\\\xe0\\\\xb9\\\\x88\\\\xe0\\\\xb8\\\\x89\\\\xe0\\\\xb8\\\\xb4\\\\xe0\\\\xb8\\\\x9a\\\\xe0\\\\xb8\\\\xab\\\\xe0\\\\xb8\\\\xb2\\\\xe0\\\\xb8\\\\xa2\\\\xe0\\\\xb8\\\\x82\\\\xe0\\\\xb8\\\\xb6\\\\xe0\\\\xb9\\\\x89\\\\xe0\\\\xb8\\\\x99\\\\xe0\\\\xb9\\\\x84\\\\xe0\\\\xb8\\\\x9b\\\\xe0\\\\xb8\\\\xad\\\\xe0\\\\xb8\\\\xb5\\\\xe0\\\\xb8\\\\x81 \\\\xe0\\\\xb9\\\\x80\\\\xe0\\\\xb8\\\\xad\\\\xe0\\\\xb8\\\\xb2\\\\xe0\\\\xb9\\\\x83\\\\xe0\\\\xb8\\\\x88\\\\xe2\\\\x80\\\\xa6'\", \"ts\": \"Sat Mar 28 16:12:08 +0000 2020\"}]</td></tr><tr><td>julianafiore53</td><td>[{\"id\": \"1243933905037799426\", \"tweet\": \"b'Yes, social distancing is a small price to pay for not getting the virus and dying  a horrific death, unable to bre\\\\xe2\\\\x80\\\\xa6 https://t.co/tFWg9M7Iak'\", \"ts\": \"Sat Mar 28 16:12:08 +0000 2020\"}]</td></tr><tr><td>TheLizRusso</td><td>[{\"id\": \"1243933905318748160\", \"tweet\": \"b'Can we dump Biden and get Cuomo? Asking for the country. #Covid_19 #DNC #StayHomeSaveLives #PresidentCuomo #SaturdayThoughts'\", \"ts\": \"Sat Mar 28 16:12:08 +0000 2020\"}]</td></tr><tr><td>lgarciaf2k</td><td>[{\"id\": \"1243933905633361921\", \"tweet\": \"b'RT @IrvingGatell: As\\\\xc3\\\\xad nos ven en Espa\\\\xc3\\\\xb1a, pa\\\\xc3\\\\xads en donde est\\\\xc3\\\\xa1n bien enterados de lo cr\\\\xc3\\\\xadtico que es esto. O m\\\\xc3\\\\xa1s bien, no es que nos vean, sino\\\\xe2\\\\x80\\\\xa6'\", \"ts\": \"Sat Mar 28 16:12:08 +0000 2020\"}]</td></tr><tr><td>ramirlafuente</td><td>[{\"id\": \"1243933906358931461\", \"tweet\": \"b'RT @meritxellbudo: Ens ha deixat en Vad\\\\xc3\\\\xb3 Dachs. Estic molt trista. Era una persona innocent, amable, bona, era part de #lagarriga, una mica\\\\xe2\\\\x80\\\\xa6'\", \"ts\": \"Sat Mar 28 16:12:09 +0000 2020\"}]</td></tr><tr><td>ishtarariano</td><td>[{\"id\": \"1243933906778423296\", \"tweet\": \"b'RT @MSPUruguay: \\\\xf0\\\\x9f\\\\x91\\\\x89Te invitamos a ver y compartir este video en Lengua de Se\\\\xc3\\\\xb1as con las recomendaciones de protecci\\\\xc3\\\\xb3n e higiene para cuando n\\\\xe2\\\\x80\\\\xa6'\", \"ts\": \"Sat Mar 28 16:12:09 +0000 2020\"}]</td></tr><tr><td>cpalmamd</td><td>[{\"id\": \"1243933907000741890\", \"tweet\": \"b'RT @carpe_diem__007: @joseantoniokast Bien JAK \\\\xf0\\\\x9f\\\\x87\\\\xa8\\\\xf0\\\\x9f\\\\x87\\\\xb1\\\\nEsta es la labor que no hace @Camara_cl @Senado_Chile en conocer la realidad de ciudadan\\\\xc3\\\\xad\\\\xe2\\\\x80\\\\xa6'\", \"ts\": \"Sat Mar 28 16:12:09 +0000 2020\"}]</td></tr><tr><td>GContrerasPi</td><td>[{\"id\": \"1243933907608887297\", \"tweet\": \"b'RT @SeremiSalud_Coq: (Ahora) Autoridades regionales confirman 2 nuevos casos de #COVID_19.\\\\n\\\\nSe trata de un paciente de #Salamanca y otro de\\\\xe2\\\\x80\\\\xa6'\", \"ts\": \"Sat Mar 28 16:12:09 +0000 2020\"}]</td></tr><tr><td>justenjoint</td><td>[{\"id\": \"1243933907709579264\", \"tweet\": \"b'@colmedchile \\\\n#covid19chile \\\\n#CuarentenaCoronavirus\\\\nEntregu\\\\xc3\\\\xa9 datos correctos y no he sido contactada. Entiendo que\\\\xe2\\\\x80\\\\xa6 https://t.co/o0gfSfgRkL'\", \"ts\": \"Sat Mar 28 16:12:09 +0000 2020\"}]</td></tr><tr><td>KoralysHidalgo</td><td>[{\"id\": \"1243933908670058496\", \"tweet\": \"b'@krystirivero rivero'\", \"ts\": \"Sat Mar 28 16:12:09 +0000 2020\"}]</td></tr><tr><td>bessyttavh1</td><td>[{\"id\": \"1243933908900564993\", \"tweet\": \"b'RT @FireChiefReid: The view for our @VanFireRescue Hall 7 crew last night - a line of @VancouverPD staged with them- as they rallied to cel\\\\xe2\\\\x80\\\\xa6'\", \"ts\": \"Sat Mar 28 16:12:09 +0000 2020\"}]</td></tr><tr><td>alfahimaya</td><td>[{\"id\": \"1243933909047377920\", \"tweet\": \"b'RT @mamoudou_baro: #Covid_19 est une R\\\\xc3\\\\x89ALIT\\\\xc3\\\\x89, adoptons ces gestes simples pour nous prot\\\\xc3\\\\xa9ger et sauver des vies. \\\\n#COVID19Gn #Kibaro https:\\\\xe2\\\\x80\\\\xa6'\", \"ts\": \"Sat Mar 28 16:12:09 +0000 2020\"}]</td></tr><tr><td>maryus04</td><td>[{\"id\": \"1243933909441810432\", \"tweet\": \"b'Se\\\\xc3\\\\xb1ores el #Covid_19 no se ha controlado.\\\\nContinuen #EnCuarentena.\\\\nDesde ayer, se ve dentro de Municipios, mucha ge\\\\xe2\\\\x80\\\\xa6 https://t.co/P2sedYAsSz'\", \"ts\": \"Sat Mar 28 16:12:09 +0000 2020\"}]</td></tr><tr><td>rzkyftrhmn</td><td>[{\"id\": \"1243933909634543623\", \"tweet\": \"b'RT @motulz: Terus berjuang Indonesia! Semoga badai wabah Corona ini segera berlalu..!!\\\\n.\\\\n#Covid_19 #indonesiacovid19 #BerkaryaDiRumah https\\\\xe2\\\\x80\\\\xa6'\", \"ts\": \"Sat Mar 28 16:12:09 +0000 2020\"}]</td></tr><tr><td>omarmig</td><td>[{\"id\": \"1243933909735391232\", \"tweet\": \"b'RT @ANDROMACO64: En Espa\\\\xc3\\\\xb1a califican a L\\\\xc3\\\\xb3pez Obrador como un demente o incompetente criminal.\\\\n\\\\nEn CdMx, la gente sigue saliendo como si nad\\\\xe2\\\\x80\\\\xa6'\", \"ts\": \"Sat Mar 28 16:12:09 +0000 2020\"}]</td></tr><tr><td>BTadakale</td><td>[{\"id\": \"1243933909638930432\", \"tweet\": \"b'RT @cine_icon: Actor #NikhilKumaraswamy donated 31.67lakh to #DailyWageWorkers of #KFI\\\\n\\\\nSalutes to him\\\\xf0\\\\x9f\\\\x99\\\\x8f \\\\n\\\\n#NikhilKumaraswamy #COVID #Covid_\\\\xe2\\\\x80\\\\xa6'\", \"ts\": \"Sat Mar 28 16:12:09 +0000 2020\"}]</td></tr><tr><td>ex_pame</td><td>[{\"id\": \"1243933910230347777\", \"tweet\": \"b'RT @figaMir: Pongan ojo en sus barrios con las reuniones de los evang\\\\xc3\\\\xa9licos,se est\\\\xc3\\\\xa1n reuniendo m\\\\xc3\\\\xa1s tarde (entrada la noche) y concurre hart\\\\xe2\\\\x80\\\\xa6'\", \"ts\": \"Sat Mar 28 16:12:10 +0000 2020\"}]</td></tr><tr><td>JaumeJMR</td><td>[{\"id\": \"1243933910439989249\", \"tweet\": \"b'RT @joancmarch: Ha reaccionado tarde Espa\\\\xc3\\\\xb1a? Espa\\\\xc3\\\\xb1a al decretar el confinamiento ten\\\\xc3\\\\xada 2.965 contagiados por #Covid_19, Italia ten\\\\xc3\\\\xada 10.149\\\\xe2\\\\x80\\\\xa6'\", \"ts\": \"Sat Mar 28 16:12:10 +0000 2020\"}]</td></tr><tr><td>DrMeganHolmes</td><td>[{\"id\": \"1243933910381277185\", \"tweet\": \"b'This is a must read. \\\\n\\\\nYes, you are experiencing trauma right now because of the global #Covid_19 pandemic and it i\\\\xe2\\\\x80\\\\xa6 https://t.co/MIUkfny6mv'\", \"ts\": \"Sat Mar 28 16:12:10 +0000 2020\"}]</td></tr><tr><td>patgibson54</td><td>[{\"id\": \"1243933910788161538\", \"tweet\": \"b'RT @mehdikerkouche: On nous a dit qu\\\\xe2\\\\x80\\\\x99on pouvait pas sortir, pas qu\\\\xe2\\\\x80\\\\x99on devait arr\\\\xc3\\\\xaater de danser\\\\xf0\\\\x9f\\\\x98\\\\x8f\\\\xf0\\\\x9f\\\\x98\\\\x9d\\\\xf0\\\\x9f\\\\x98\\\\x85\\\\xf0\\\\x9f\\\\xa4\\\\xb7\\\\xf0\\\\x9f\\\\x8f\\\\xbb\\\\xe2\\\\x80\\\\x8d\\\\xe2\\\\x99\\\\x82\\\\xef\\\\xb8\\\\x8f\\\\nCr\\\\xc3\\\\xa9a confinement avec les chatons de\\\\xe2\\\\x80\\\\xa6'\", \"ts\": \"Sat Mar 28 16:12:10 +0000 2020\"}]</td></tr><tr><td>byKtle2001</td><td>[{\"id\": \"1243933911572287490\", \"tweet\": \"b'RT @true_insidenews: \\\\xe0\\\\xb9\\\\x82\\\\xe0\\\\xb8\\\\xa5\\\\xe0\\\\xb9\\\\x88\\\\xe0\\\\xb8\\\\x87\\\\xe0\\\\xb8\\\\xad\\\\xe0\\\\xb8\\\\xb5\\\\xe0\\\\xb8\\\\x81\\\\xe0\\\\xb8\\\\x84\\\\xe0\\\\xb8\\\\x99! \\\\xe0\\\\xb8\\\\x99\\\\xe0\\\\xb8\\\\xb4\\\\xe0\\\\xb8\\\\xa7 \\\\xe0\\\\xb8\\\\x90\\\\xe0\\\\xb8\\\\xb4\\\\xe0\\\\xb8\\\\x95\\\\xe0\\\\xb8\\\\xb4\\\\xe0\\\\xb8\\\\xa0\\\\xe0\\\\xb8\\\\xb9\\\\xe0\\\\xb8\\\\xa1\\\\xe0\\\\xb8\\\\xb4 \\\\xe0\\\\xb9\\\\x84\\\\xe0\\\\xb8\\\\xa1\\\\xe0\\\\xb9\\\\x88\\\\xe0\\\\xb8\\\\x9e\\\\xe0\\\\xb8\\\\x9a\\\\xe0\\\\xb9\\\\x80\\\\xe0\\\\xb8\\\\x8a\\\\xe0\\\\xb8\\\\xb7\\\\xe0\\\\xb9\\\\x89\\\\xe0\\\\xb8\\\\xad\\\\xe0\\\\xb9\\\\x82\\\\xe0\\\\xb8\\\\x84\\\\xe0\\\\xb8\\\\xa7\\\\xe0\\\\xb8\\\\xb4\\\\xe0\\\\xb8\\\\x94-19\\\\n\\\\n#newwie #Newwiee #Covid_19 #COVID19 #\\\\xe0\\\\xb9\\\\x82\\\\xe0\\\\xb8\\\\x84\\\\xe0\\\\xb8\\\\xa7\\\\xe0\\\\xb8\\\\xb4\\\\xe0\\\\xb8\\\\x94_19 #\\\\xe0\\\\xb9\\\\x82\\\\xe0\\\\xb8\\\\x84\\\\xe0\\\\xb8\\\\xa7\\\\xe0\\\\xb8\\\\xb4\\\\xe0\\\\xb8\\\\x8419\\\\nhttps://t.co/9wcVci\\\\xe2\\\\x80\\\\xa6'\", \"ts\": \"Sat Mar 28 16:12:10 +0000 2020\"}]</td></tr><tr><td>kannan_muk</td><td>[{\"id\": \"1243933912046252032\", \"tweet\": \"b'RT @bhemamani: South Central Railways Issue Full Refund for tickets booked for journeys between 21 march to 14 april 2020 ...\\\\n\\\\n#Corona #Cov\\\\xe2\\\\x80\\\\xa6'\", \"ts\": \"Sat Mar 28 16:12:10 +0000 2020\"}]</td></tr><tr><td>Maagco</td><td>[{\"id\": \"1243933912033878018\", \"tweet\": \"b'RT @VillaFernando_: Las mafias del @IESSec son la \\\\xc3\\\\xbanicas inmunes al #Covid_19 una corrupci\\\\xc3\\\\xb3n que raya en lo inhumano: sobreprecios descomun\\\\xe2\\\\x80\\\\xa6'\", \"ts\": \"Sat Mar 28 16:12:10 +0000 2020\"}]</td></tr><tr><td>feralzam</td><td>[{\"id\": \"1243933912046489602\", \"tweet\": \"b'RT @PaoloMartinett: Buena informaci\\\\xc3\\\\xb3n'\", \"ts\": \"Sat Mar 28 16:12:10 +0000 2020\"}]</td></tr><tr><td>victorpenasoto</td><td>[{\"id\": \"1243933912268713987\", \"tweet\": \"b'RT @usach: Estudiantes y egresados @usach crean mascarilla 3D para combatir el #Covid_19 y para entregarlo a cuatro hospitales del pa\\\\xc3\\\\xads\\\\xe2\\\\x80\\\\xa6'\", \"ts\": \"Sat Mar 28 16:12:10 +0000 2020\"}]</td></tr><tr><td>YariCastilloJ</td><td>[{\"id\": \"1243933912419581957\", \"tweet\": \"b'RT @jokerobrador: Prensa espa\\\\xc3\\\\xb1ola se pregunta si #ElCacas sufre de Demencia senil, todo esto ante el comportamiento irracional frente al #C\\\\xe2\\\\x80\\\\xa6'\", \"ts\": \"Sat Mar 28 16:12:10 +0000 2020\"}]</td></tr><tr><td>pcrnnx</td><td>[{\"id\": \"1243933912948068353\", \"tweet\": \"b'RT @T9uRhHfR8jsSP57: \\\\xe0\\\\xb9\\\\x83\\\\xe0\\\\xb8\\\\x99\\\\xe0\\\\xb8\\\\x95\\\\xe0\\\\xb8\\\\xad\\\\xe0\\\\xb8\\\\x99\\\\xe0\\\\xb8\\\\x99\\\\xe0\\\\xb8\\\\xb5\\\\xe0\\\\xb9\\\\x89\\\\xe0\\\\xb8\\\\x9a\\\\xe0\\\\xb8\\\\xb2\\\\xe0\\\\xb8\\\\x87\\\\xe0\\\\xb8\\\\x88\\\\xe0\\\\xb8\\\\xb1\\\\xe0\\\\xb8\\\\x87\\\\xe0\\\\xb8\\\\xab\\\\xe0\\\\xb8\\\\xa7\\\\xe0\\\\xb8\\\\xb1\\\\xe0\\\\xb8\\\\x94\\\\xe0\\\\xb8\\\\x95\\\\xe0\\\\xb9\\\\x89\\\\xe0\\\\xb8\\\\xad\\\\xe0\\\\xb8\\\\x87\\\\xe0\\\\xb8\\\\x9b\\\\xe0\\\\xb8\\\\xaa\\\\xe0\\\\xb8\\\\x94\\\\xe0\\\\xb8\\\\x81\\\\xe0\\\\xb8\\\\xb1\\\\xe0\\\\xb8\\\\x9a\\\\xe0\\\\xb9\\\\x84\\\\xe0\\\\xb8\\\\xa7\\\\xe0\\\\xb8\\\\xa3\\\\xe0\\\\xb8\\\\xb1\\\\xe0\\\\xb8\\\\xaa \\\\xe0\\\\xb9\\\\x81\\\\xe0\\\\xb8\\\\x95\\\\xe0\\\\xb9\\\\x88\\\\xe0\\\\xb9\\\\x80\\\\xe0\\\\xb8\\\\x8a\\\\xe0\\\\xb8\\\\xb5\\\\xe0\\\\xb8\\\\xa2\\\\xe0\\\\xb8\\\\x87\\\\xe0\\\\xb9\\\\x83\\\\xe0\\\\xb8\\\\xab\\\\xe0\\\\xb8\\\\xa1\\\\xe0\\\\xb9\\\\x88\\\\xe0\\\\xb8\\\\x95\\\\xe0\\\\xb8\\\\xad\\\\xe0\\\\xb8\\\\x99\\\\xe0\\\\xb8\\\\x99\\\\xe0\\\\xb8\\\\xb5\\\\xe0\\\\xb9\\\\x89\\\\xe0\\\\xb8\\\\x84\\\\xe0\\\\xb8\\\\xb7\\\\xe0\\\\xb8\\\\xad \\\\xe0\\\\xb9\\\\x84\\\\xe0\\\\xb8\\\\x9f\\\\xe0\\\\xb8\\\\x9b\\\\xe0\\\\xb9\\\\x88\\\\xe0\\\\xb8\\\\xb2 \\\\xe0\\\\xb9\\\\x84\\\\xe0\\\\xb8\\\\xa7\\\\xe0\\\\xb8\\\\xa3\\\\xe0\\\\xb8\\\\xb1\\\\xe0\\\\xb8\\\\xaa\\\\xe0\\\\xb8\\\\x81\\\\xe0\\\\xb9\\\\x87\\\\xe0\\\\xb8\\\\x81\\\\xe0\\\\xb8\\\\xa5\\\\xe0\\\\xb8\\\\xb1\\\\xe0\\\\xb8\\\\xa7\\\\xe0\\\\xb9\\\\x81\\\\xe0\\\\xb8\\\\x96\\\\xe0\\\\xb8\\\\xa1\\\\xe0\\\\xb8\\\\x95\\\\xe0\\\\xb8\\\\xad\\\\xe0\\\\xb8\\\\x99\\\\xe0\\\\xb8\\\\x99\\\\xe0\\\\xb8\\\\xb5\\\\xe0\\\\xb9\\\\x89\\\\xe0\\\\xb8\\\\x94\\\\xe0\\\\xb9\\\\x89\\\\xe0\\\\xb8\\\\xa7\\\\xe0\\\\xb8\\\\xa2\\\\xe0\\\\xb8\\\\x84\\\\xe0\\\\xb9\\\\x88\\\\xe0\\\\xb8\\\\xb2\\\\xe0\\\\xb8\\\\x9d\\\\xe0\\\\xb8\\\\xb8\\\\xe0\\\\xb9\\\\x88\\\\xe0\\\\xb8\\\\x99\\\\xe0\\\\xb8\\\\x97\\\\xe0\\\\xb8\\\\xb5\\\\xe0\\\\xb9\\\\x88\\\\xe0\\\\xb8\\\\x89\\\\xe0\\\\xb8\\\\xb4\\\\xe0\\\\xb8\\\\x9a\\\\xe0\\\\xb8\\\\xab\\\\xe0\\\\xb8\\\\xb2\\\\xe0\\\\xb8\\\\xa2\\\\xe0\\\\xb8\\\\x82\\\\xe0\\\\xb8\\\\xb6\\\\xe0\\\\xb9\\\\x89\\\\xe0\\\\xb8\\\\x99\\\\xe0\\\\xb9\\\\x84\\\\xe0\\\\xb8\\\\x9b\\\\xe0\\\\xb8\\\\xad\\\\xe0\\\\xb8\\\\xb5\\\\xe0\\\\xb8\\\\x81 \\\\xe0\\\\xb9\\\\x80\\\\xe0\\\\xb8\\\\xad\\\\xe0\\\\xb8\\\\xb2\\\\xe0\\\\xb9\\\\x83\\\\xe0\\\\xb8\\\\x88\\\\xe2\\\\x80\\\\xa6'\", \"ts\": \"Sat Mar 28 16:12:10 +0000 2020\"}]</td></tr><tr><td>Josemlxhp</td><td>[{\"id\": \"1243933912973348867\", \"tweet\": \"b'RT @jaarreaza: El Presidente de Argentina @alferdez explica las injustas consecuencias de las sanciones ilegales de EEUU para los pueblos d\\\\xe2\\\\x80\\\\xa6'\", \"ts\": \"Sat Mar 28 16:12:10 +0000 2020\"}]</td></tr><tr><td>godinez_juanelo</td><td>[{\"id\": \"1243933913216679938\", \"tweet\": \"b'RT @alexismoncayo: \\\\xf0\\\\x9f\\\\x94\\\\xb4 Actualizaci\\\\xc3\\\\xb3n #Covid_19 \\\\xf0\\\\x9f\\\\x87\\\\xaa\\\\xf0\\\\x9f\\\\x87\\\\xa8\\\\n\\\\n- 1823 casos confirmados\\\\n- 2500 casos sospechosos\\\\n- 48 personas fallecidas \\\\n\\\\n#QuedateEnCasa'\", \"ts\": \"Sat Mar 28 16:12:10 +0000 2020\"}]</td></tr><tr><td>isamrojas</td><td>[{\"id\": \"1243933913128583169\", \"tweet\": \"b'RT @enenbee: 51 Italian doctors dead. This is reality. And anyone who thinks their system is better or won\\\\xe2\\\\x80\\\\x99t be affected is an idiot. And I\\\\xe2\\\\x80\\\\xa6'\", \"ts\": \"Sat Mar 28 16:12:10 +0000 2020\"}]</td></tr><tr><td>e3cha</td><td>[{\"id\": \"1243933913782702081\", \"tweet\": \"b'RT @T9uRhHfR8jsSP57: \\\\xe0\\\\xb9\\\\x83\\\\xe0\\\\xb8\\\\x99\\\\xe0\\\\xb8\\\\x95\\\\xe0\\\\xb8\\\\xad\\\\xe0\\\\xb8\\\\x99\\\\xe0\\\\xb8\\\\x99\\\\xe0\\\\xb8\\\\xb5\\\\xe0\\\\xb9\\\\x89\\\\xe0\\\\xb8\\\\x9a\\\\xe0\\\\xb8\\\\xb2\\\\xe0\\\\xb8\\\\x87\\\\xe0\\\\xb8\\\\x88\\\\xe0\\\\xb8\\\\xb1\\\\xe0\\\\xb8\\\\x87\\\\xe0\\\\xb8\\\\xab\\\\xe0\\\\xb8\\\\xa7\\\\xe0\\\\xb8\\\\xb1\\\\xe0\\\\xb8\\\\x94\\\\xe0\\\\xb8\\\\x95\\\\xe0\\\\xb9\\\\x89\\\\xe0\\\\xb8\\\\xad\\\\xe0\\\\xb8\\\\x87\\\\xe0\\\\xb8\\\\x9b\\\\xe0\\\\xb8\\\\xaa\\\\xe0\\\\xb8\\\\x94\\\\xe0\\\\xb8\\\\x81\\\\xe0\\\\xb8\\\\xb1\\\\xe0\\\\xb8\\\\x9a\\\\xe0\\\\xb9\\\\x84\\\\xe0\\\\xb8\\\\xa7\\\\xe0\\\\xb8\\\\xa3\\\\xe0\\\\xb8\\\\xb1\\\\xe0\\\\xb8\\\\xaa \\\\xe0\\\\xb9\\\\x81\\\\xe0\\\\xb8\\\\x95\\\\xe0\\\\xb9\\\\x88\\\\xe0\\\\xb9\\\\x80\\\\xe0\\\\xb8\\\\x8a\\\\xe0\\\\xb8\\\\xb5\\\\xe0\\\\xb8\\\\xa2\\\\xe0\\\\xb8\\\\x87\\\\xe0\\\\xb9\\\\x83\\\\xe0\\\\xb8\\\\xab\\\\xe0\\\\xb8\\\\xa1\\\\xe0\\\\xb9\\\\x88\\\\xe0\\\\xb8\\\\x95\\\\xe0\\\\xb8\\\\xad\\\\xe0\\\\xb8\\\\x99\\\\xe0\\\\xb8\\\\x99\\\\xe0\\\\xb8\\\\xb5\\\\xe0\\\\xb9\\\\x89\\\\xe0\\\\xb8\\\\x84\\\\xe0\\\\xb8\\\\xb7\\\\xe0\\\\xb8\\\\xad \\\\xe0\\\\xb9\\\\x84\\\\xe0\\\\xb8\\\\x9f\\\\xe0\\\\xb8\\\\x9b\\\\xe0\\\\xb9\\\\x88\\\\xe0\\\\xb8\\\\xb2 \\\\xe0\\\\xb9\\\\x84\\\\xe0\\\\xb8\\\\xa7\\\\xe0\\\\xb8\\\\xa3\\\\xe0\\\\xb8\\\\xb1\\\\xe0\\\\xb8\\\\xaa\\\\xe0\\\\xb8\\\\x81\\\\xe0\\\\xb9\\\\x87\\\\xe0\\\\xb8\\\\x81\\\\xe0\\\\xb8\\\\xa5\\\\xe0\\\\xb8\\\\xb1\\\\xe0\\\\xb8\\\\xa7\\\\xe0\\\\xb9\\\\x81\\\\xe0\\\\xb8\\\\x96\\\\xe0\\\\xb8\\\\xa1\\\\xe0\\\\xb8\\\\x95\\\\xe0\\\\xb8\\\\xad\\\\xe0\\\\xb8\\\\x99\\\\xe0\\\\xb8\\\\x99\\\\xe0\\\\xb8\\\\xb5\\\\xe0\\\\xb9\\\\x89\\\\xe0\\\\xb8\\\\x94\\\\xe0\\\\xb9\\\\x89\\\\xe0\\\\xb8\\\\xa7\\\\xe0\\\\xb8\\\\xa2\\\\xe0\\\\xb8\\\\x84\\\\xe0\\\\xb9\\\\x88\\\\xe0\\\\xb8\\\\xb2\\\\xe0\\\\xb8\\\\x9d\\\\xe0\\\\xb8\\\\xb8\\\\xe0\\\\xb9\\\\x88\\\\xe0\\\\xb8\\\\x99\\\\xe0\\\\xb8\\\\x97\\\\xe0\\\\xb8\\\\xb5\\\\xe0\\\\xb9\\\\x88\\\\xe0\\\\xb8\\\\x89\\\\xe0\\\\xb8\\\\xb4\\\\xe0\\\\xb8\\\\x9a\\\\xe0\\\\xb8\\\\xab\\\\xe0\\\\xb8\\\\xb2\\\\xe0\\\\xb8\\\\xa2\\\\xe0\\\\xb8\\\\x82\\\\xe0\\\\xb8\\\\xb6\\\\xe0\\\\xb9\\\\x89\\\\xe0\\\\xb8\\\\x99\\\\xe0\\\\xb9\\\\x84\\\\xe0\\\\xb8\\\\x9b\\\\xe0\\\\xb8\\\\xad\\\\xe0\\\\xb8\\\\xb5\\\\xe0\\\\xb8\\\\x81 \\\\xe0\\\\xb9\\\\x80\\\\xe0\\\\xb8\\\\xad\\\\xe0\\\\xb8\\\\xb2\\\\xe0\\\\xb9\\\\x83\\\\xe0\\\\xb8\\\\x88\\\\xe2\\\\x80\\\\xa6'\", \"ts\": \"Sat Mar 28 16:12:10 +0000 2020\"}]</td></tr><tr><td>rubenguzmanv85</td><td>[{\"id\": \"1243933913728385026\", \"tweet\": \"b'RT @JosemVergara: Ejemplar gesto de @MichaelortegaJ jugador colombiano que milita en el extranjero, enviando ayudas a nuestro pa\\\\xc3\\\\xads \\\\xf0\\\\x9f\\\\x87\\\\xa8\\\\xf0\\\\x9f\\\\x87\\\\xb4 obra\\\\xe2\\\\x80\\\\xa6'\", \"ts\": \"Sat Mar 28 16:12:10 +0000 2020\"}]</td></tr><tr><td>KingClownGamin</td><td>[{\"id\": \"1243933913636130817\", \"tweet\": \"b'Please donate to #TwitchStreamAid follow my link below, any dollar or pound is welcome and is vital to help slow th\\\\xe2\\\\x80\\\\xa6 https://t.co/fyjHAJx9C3'\", \"ts\": \"Sat Mar 28 16:12:10 +0000 2020\"}]</td></tr><tr><td>niccho15</td><td>[{\"id\": \"1243933913774465024\", \"tweet\": \"b'RT @AiphanMarcel: On les transforme en vecteur de pand\\\\xc3\\\\xa9mie en les envoyant ratisser les rues sans protection mais au lieu de se mettre en g\\\\xe2\\\\x80\\\\xa6'\", \"ts\": \"Sat Mar 28 16:12:10 +0000 2020\"}]</td></tr><tr><td>Eduardo66128531</td><td>[{\"id\": \"1243933913933844480\", \"tweet\": \"b'RT @AABenedetti: Mientras que Luis Carlos Sarmiento le pide a sus empleados que donen sus vacaciones, Armani y 19 otros billonarios italian\\\\xe2\\\\x80\\\\xa6'\", \"ts\": \"Sat Mar 28 16:12:10 +0000 2020\"}]</td></tr><tr><td>Ahmed66734039</td><td>[{\"id\": \"1243933913740914688\", \"tweet\": \"b'#\\\\xd8\\\\xaa\\\\xd8\\\\xb1\\\\xd8\\\\xaa\\\\xd8\\\\xb1_\\\\xd8\\\\xa7\\\\xd9\\\\x84\\\\xd8\\\\xb4\\\\xd8\\\\xb1\\\\xd9\\\\x8a\\\\xd9\\\\x81 #\\\\xd9\\\\x81\\\\xd8\\\\xb2\\\\xd8\\\\xb9\\\\xd8\\\\xa9_\\\\xd8\\\\xa7\\\\xd9\\\\x84\\\\xd9\\\\x83\\\\xd9\\\\x88\\\\xd9\\\\x8a\\\\xd8\\\\xaa #\\\\xd9\\\\x88\\\\xd8\\\\xb2\\\\xd8\\\\xa7\\\\xd8\\\\xb1\\\\xd8\\\\xa9_\\\\xd8\\\\xa7\\\\xd9\\\\x84\\\\xd8\\\\xb5\\\\xd8\\\\xad\\\\xd8\\\\xa9 #\\\\xd8\\\\xa7\\\\xd9\\\\x84\\\\xd8\\\\xb3\\\\xd8\\\\xb9\\\\xd9\\\\x88\\\\xd8\\\\xaf\\\\xd9\\\\x8a\\\\xd8\\\\xa9 #Covid_19 #\\\\xd8\\\\xa7\\\\xd9\\\\x84\\\\xd9\\\\x85\\\\xd8\\\\xb7\\\\xd8\\\\xa7\\\\xd8\\\\xb9\\\\xd9\\\\x85_ #StayHomeSaveLives #\\\\xd9\\\\x85\\\\xd8\\\\xb5\\\\xd8\\\\xb1_\\\\xd9\\\\x83\\\\xd9\\\\x88\\\\xd8\\\\xb1\\\\xd9\\\\x88\\\\xd9\\\\x86\\\\xd8\\\\xa7 #\\\\xd8\\\\xa5\\\\xd9\\\\x8a\\\\xd8\\\\xb7\\\\xd8\\\\xa7\\\\xd9\\\\x84\\\\xd9\\\\x8a\\\\xd8\\\\xa7 https://t.co/m2pXyGJ7CK'\", \"ts\": \"Sat Mar 28 16:12:10 +0000 2020\"}]</td></tr><tr><td>fredy_melo</td><td>[{\"id\": \"1243933914277830657\", \"tweet\": \"b'RT @amandaasubiar: Espero las fotos en hospitales y cl\\\\xc3\\\\xadnicas de la ciudad y en los barrios y en casas con enfermos. No s\\\\xc3\\\\xb3lo estas \\\"de lejit\\\\xe2\\\\x80\\\\xa6'\", \"ts\": \"Sat Mar 28 16:12:10 +0000 2020\"}]</td></tr><tr><td>SilambarasanDm2</td><td>[{\"id\": \"1243933914982305792\", \"tweet\": \"b'RT @ptrmadurai: Interesting perspective from my old friend &amp; street colleague. Note the responses. Could the timeline be very different fro\\\\xe2\\\\x80\\\\xa6'\", \"ts\": \"Sat Mar 28 16:12:11 +0000 2020\"}]</td></tr><tr><td>JenniferMeacher</td><td>[{\"id\": \"1243933915028623361\", \"tweet\": \"b'RT @Mairead_Lavery: The Government of Canada has broadened @ExportDevCanada\\\\xe2\\\\x80\\\\x99s mandate and expanded our domestic capabilities so that we can\\\\xe2\\\\x80\\\\xa6'\", \"ts\": \"Sat Mar 28 16:12:11 +0000 2020\"}]</td></tr><tr><td>Kachiii5</td><td>[{\"id\": \"1243933915687067649\", \"tweet\": \"b'RT @deejayAnnex: To all Networks In Nigeria \\\\nWe all know you Guys Are here to make billions of $. At this point Give us (FREE DATA) #Buhari\\\\xe2\\\\x80\\\\xa6'\", \"ts\": \"Sat Mar 28 16:12:11 +0000 2020\"}]</td></tr><tr><td>krussella</td><td>[{\"id\": \"1243933916068810752\", \"tweet\": \"b'RT @AngelA030866: #Chile \\\\xc3\\\\x9anico pa\\\\xc3\\\\xads del mundo d\\\\xc3\\\\xb3nde las AFP le roban las cotizaciones a los afiliados a vista y paciencia del Congreso y de\\\\xe2\\\\x80\\\\xa6'\", \"ts\": \"Sat Mar 28 16:12:11 +0000 2020\"}]</td></tr><tr><td>andypat2015</td><td>[{\"id\": \"1243933916357988354\", \"tweet\": \"b'@CBCNews @Alex_Panetta Love my American neighbours but have to say, really appreciate living in Canada right now. L\\\\xe2\\\\x80\\\\xa6 https://t.co/Wptmpc16Tt'\", \"ts\": \"Sat Mar 28 16:12:11 +0000 2020\"}]</td></tr><tr><td>elpaulbreitner</td><td>[{\"id\": \"1243933916471480320\", \"tweet\": \"b'RT @VargasSilvaMV: #ATENCION hoy en #Sesi\\\\xc3\\\\xb3nPlenaria propuse que las camionetas asignadas a los concejales de #Bogot\\\\xc3\\\\xa1 se pongan a disposici\\\\xc3\\\\xb3\\\\xe2\\\\x80\\\\xa6'\", \"ts\": \"Sat Mar 28 16:12:11 +0000 2020\"}]</td></tr><tr><td>K_Hatzidakis</td><td>[{\"id\": \"1243933916903485440\", \"tweet\": \"b'RT @K_Hatzidakis: \\\\xce\\\\xa3\\\\xcf\\\\x87\\\\xce\\\\xb5\\\\xce\\\\xb4\\\\xce\\\\xb9\\\\xce\\\\xac\\\\xce\\\\xb6\\\\xce\\\\xbf\\\\xcf\\\\x85\\\\xce\\\\xbc\\\\xce\\\\xb5 \\\\xcf\\\\x84\\\\xce\\\\xb1 \\\\xce\\\\xbf\\\\xce\\\\xb9\\\\xce\\\\xba\\\\xce\\\\xbf\\\\xce\\\\xbd\\\\xce\\\\xbf\\\\xce\\\\xbc\\\\xce\\\\xb9\\\\xce\\\\xba\\\\xce\\\\xac \\\\xce\\\\xbc\\\\xce\\\\xad\\\\xcf\\\\x84\\\\xcf\\\\x81\\\\xce\\\\xb1 \\\\xce\\\\xbc\\\\xce\\\\xb5 \\\\xcf\\\\x84\\\\xce\\\\xb7 \\\\xce\\\\xbb\\\\xce\\\\xbf\\\\xce\\\\xb3\\\\xce\\\\xb9\\\\xce\\\\xba\\\\xce\\\\xae \\\\xcf\\\\x84\\\\xce\\\\xbf\\\\xcf\\\\x85 \\\\xce\\\\xbc\\\\xce\\\\xb1\\\\xcf\\\\x81\\\\xce\\\\xb1\\\\xce\\\\xb8\\\\xcf\\\\x89\\\\xce\\\\xbd\\\\xce\\\\xbf\\\\xce\\\\xb4\\\\xcf\\\\x81\\\\xcf\\\\x8c\\\\xce\\\\xbc\\\\xce\\\\xbf\\\\xcf\\\\x85. \\\\xce\\\\xa0\\\\xcf\\\\x81\\\\xce\\\\xad\\\\xcf\\\\x80\\\\xce\\\\xb5\\\\xce\\\\xb9 \\\\xce\\\\xbd\\\\xce\\\\xb1 \\\\xce\\\\xba\\\\xcf\\\\x81\\\\xce\\\\xb1\\\\xcf\\\\x84\\\\xce\\\\xae\\\\xcf\\\\x83\\\\xce\\\\xbf\\\\xcf\\\\x85\\\\xce\\\\xbc\\\\xce\\\\xb5 \\\\xce\\\\xba\\\\xce\\\\xb1\\\\xce\\\\xb9 \\\\xce\\\\xb3\\\\xce\\\\xb9\\\\xce\\\\xb1 \\\\xce\\\\xbc\\\\xce\\\\xb5\\\\xcf\\\\x84\\\\xce\\\\xac \\\\xce\\\\xbb\\\\xce\\\\xb5\\\\xcf\\\\x86\\\\xcf\\\\x84\\\\xce\\\\xac \\\\xce\\\\xba\\\\xce\\\\xb1\\\\xce\\\\xb9 \\\\xce\\\\xb4\\\\xcf\\\\x85\\\\xce\\\\xbd\\\\xce\\\\xac\\\\xce\\\\xbc\\\\xce\\\\xb5\\\\xce\\\\xb9\\\\xcf\\\\x82. \\\\xce\\\\x94\\\\xce\\\\xb5\\\\xe2\\\\x80\\\\xa6'\", \"ts\": \"Sat Mar 28 16:12:11 +0000 2020\"}]</td></tr><tr><td>Correcto_ID</td><td>[{\"id\": \"1243933916991328257\", \"tweet\": \"b'Mewabahnya virus corona (Covid-19) di wilayah Sumatera Utara mengakibatkan seluruh pelaksanaan Hari besar seperti I\\\\xe2\\\\x80\\\\xa6 https://t.co/nhhGkP78sU'\", \"ts\": \"Sat Mar 28 16:12:11 +0000 2020\"}]</td></tr><tr><td>daveparedesm</td><td>[{\"id\": \"1243933917633286145\", \"tweet\": \"b'Se suman 16 fallecidos en #Peru \\\\n.\\\\nNo olviden #QuedateEnLaCasa #PeruEnNuestrasManos #StayAtHomeAndStaySafe #Covid_19'\", \"ts\": \"Sat Mar 28 16:12:11 +0000 2020\"}]</td></tr><tr><td>GuilhemCaillard</td><td>[{\"id\": \"1243933918023290881\", \"tweet\": \"b'\\\\xf0\\\\x9f\\\\x8e\\\\xac CINEMANIA CHEZ VOUS \\\\xf0\\\\x9f\\\\x9b\\\\x8b ! \\\\nEn cette p\\\\xc3\\\\xa9riode de confinement, retrouvez le meilleur de la 25e \\\\xc3\\\\xa9dition du\\\\xe2\\\\x80\\\\xa6 https://t.co/80AunxkCri'\", \"ts\": \"Sat Mar 28 16:12:11 +0000 2020\"}]</td></tr><tr><td>happyeffluvium</td><td>[{\"id\": \"1243933918484668416\", \"tweet\": \"b'RT @RosieBarton: China confirms it is sending medical supplies to Canada.'\", \"ts\": \"Sat Mar 28 16:12:11 +0000 2020\"}]</td></tr><tr><td>JaneatMosaic</td><td>[{\"id\": \"1243933918354649088\", \"tweet\": \"b'We do not think that MHLTC screening protocols are strong enough to capture the dynamics of the virus and the way a\\\\xe2\\\\x80\\\\xa6 https://t.co/80b2i29WKz'\", \"ts\": \"Sat Mar 28 16:12:11 +0000 2020\"}]</td></tr><tr><td>Bison4Life</td><td>[{\"id\": \"1243933918719545344\", \"tweet\": \"b'If you follow #GovernorAndrewCuomo news conference more then your local leadership that\\\\xe2\\\\x80\\\\x99s a problem.\\\\n#Covid_19'\", \"ts\": \"Sat Mar 28 16:12:12 +0000 2020\"}]</td></tr><tr><td>KRS61</td><td>[{\"id\": \"1243933919046664194\", \"tweet\": \"b'RT @SenatorHousakos: The Trudeau government was running large deficits during good times. Now-they will be like a pig in shit. Their poor m\\\\xe2\\\\x80\\\\xa6'\", \"ts\": \"Sat Mar 28 16:12:12 +0000 2020\"}]</td></tr><tr><td>CelisaCarmen</td><td>[{\"id\": \"1243933918820261889\", \"tweet\": \"b'RT @IrvingGatell: As\\\\xc3\\\\xad nos ven en Espa\\\\xc3\\\\xb1a, pa\\\\xc3\\\\xads en donde est\\\\xc3\\\\xa1n bien enterados de lo cr\\\\xc3\\\\xadtico que es esto. O m\\\\xc3\\\\xa1s bien, no es que nos vean, sino\\\\xe2\\\\x80\\\\xa6'\", \"ts\": \"Sat Mar 28 16:12:12 +0000 2020\"}]</td></tr><tr><td>ervinpapequash</td><td>[{\"id\": \"1243933919608631297\", \"tweet\": \"b'RT @CTVNews: China donates thousands of medical masks, personal protective equipment to Canada https://t.co/Ij2YS7C8H6 #cdnpoli'\", \"ts\": \"Sat Mar 28 16:12:12 +0000 2020\"}]</td></tr><tr><td>sergior18547952</td><td>[{\"id\": \"1243933920690749445\", \"tweet\": \"b'RT @ANDROMACO64: En Espa\\\\xc3\\\\xb1a califican a L\\\\xc3\\\\xb3pez Obrador como un demente o incompetente criminal.\\\\n\\\\nEn CdMx, la gente sigue saliendo como si nad\\\\xe2\\\\x80\\\\xa6'\", \"ts\": \"Sat Mar 28 16:12:12 +0000 2020\"}]</td></tr><tr><td>NewsTgig</td><td>[{\"id\": \"1243933920921559040\", \"tweet\": \"b\\\"Et l'arm\\\\xc3\\\\xa9e Russe en #Italie c'est inqui\\\\xc3\\\\xa9tant? #COVID19 #Covid_19 #COVID19france #Confinementjour12\\\\xe2\\\\x80\\\\xa6 https://t.co/dEt116LWAz\\\"\", \"ts\": \"Sat Mar 28 16:12:12 +0000 2020\"}]</td></tr><tr><td>kaito_mh</td><td>[{\"id\": \"1243933922028896257\", \"tweet\": \"b'RT @John_Menzies: Another paper on positive results of #Chloroquine-Azithromycin intervention in #Covid_19 patients. Impressive results and\\\\xe2\\\\x80\\\\xa6'\", \"ts\": \"Sat Mar 28 16:12:12 +0000 2020\"}]</td></tr><tr><td>cubaciencia</td><td>[{\"id\": \"1243933922079186944\", \"tweet\": \"b'RT @JoseRCabanas: Manitoba (Canada)chiefs organization wants #Cuba doctor aid on #COVID19 https://t.co/iYMfXq4JoC'\", \"ts\": \"Sat Mar 28 16:12:12 +0000 2020\"}]</td></tr><tr><td>e_nea365</td><td>[{\"id\": \"1243933922200891392\", \"tweet\": \"b'RT @Gourts: Survey: What Americans believe about COVID-19 and the coverage of media https://t.co/rIZeMwougN #Covid_19 #COVID2019 #Covid19us\\\\xe2\\\\x80\\\\xa6'\", \"ts\": \"Sat Mar 28 16:12:12 +0000 2020\"}]</td></tr><tr><td>diego_tamargo</td><td>[{\"id\": \"1243933922561572866\", \"tweet\": \"b'RT @pedropcelis: Jos\\\\xc3\\\\xa9 \\\\xc3\\\\x81ngel Gonz\\\\xc3\\\\xa1lez, m\\\\xc3\\\\xa1ximo jefe policial espa\\\\xc3\\\\xb1ol acaba de tirar por tierra todo el montaje medi\\\\xc3\\\\xa1tico de Iv\\\\xc3\\\\xa1n Redondo.\\\\n\\\\n\\\"H\\\\xe2\\\\x80\\\\xa6'\", \"ts\": \"Sat Mar 28 16:12:12 +0000 2020\"}]</td></tr><tr><td>ItsTheCostanza</td><td>[{\"id\": \"1243933922532241409\", \"tweet\": \"b'Every Democrat Governor can go fuck themselves. #Covid_19'\", \"ts\": \"Sat Mar 28 16:12:12 +0000 2020\"}]</td></tr><tr><td>vasilikivassi23</td><td>[{\"id\": \"1243933923463348224\", \"tweet\": \"b'SOS SOS !!\\\\n\\\\xce\\\\x88\\\\xce\\\\xba\\\\xce\\\\xba\\\\xce\\\\xbb\\\\xce\\\\xb7\\\\xcf\\\\x83\\\\xce\\\\xb7 \\\\xce\\\\xb3\\\\xce\\\\xb9\\\\xce\\\\xb1 \\\\xce\\\\xb2\\\\xce\\\\xbf\\\\xce\\\\xae\\\\xce\\\\xb8\\\\xce\\\\xb5\\\\xce\\\\xb9\\\\xce\\\\xb1 \\\\xce\\\\xb1\\\\xcf\\\\x80\\\\xcf\\\\x8c \\\\xcf\\\\x84\\\\xce\\\\xbf \\\\xce\\\\x93\\\\xce\\\\xb7\\\\xcf\\\\x81\\\\xce\\\\xbf\\\\xce\\\\xba\\\\xce\\\\xbf\\\\xce\\\\xbc\\\\xce\\\\xb5\\\\xce\\\\xaf\\\\xce\\\\xbf \\\\xce\\\\x91\\\\xce\\\\xb8\\\\xce\\\\xb7\\\\xce\\\\xbd\\\\xcf\\\\x8e\\\\xce\\\\xbd \\\\n\\\\xce\\\\xa0\\\\xce\\\\x91\\\\xce\\\\xa1\\\\xce\\\\x91\\\\xce\\\\x9a\\\\xce\\\\x91\\\\xce\\\\x9b\\\\xce\\\\xa9 RT\\\\n\\\\xce\\\\x9a\\\\xce\\\\xbf\\\\xce\\\\xb9\\\\xce\\\\xbd\\\\xce\\\\xbf\\\\xcf\\\\x80\\\\xce\\\\xbf\\\\xce\\\\xaf\\\\xce\\\\xb7\\\\xcf\\\\x83\\\\xce\\\\xb7 \\\\xcf\\\\x80\\\\xce\\\\xb1\\\\xcf\\\\x81\\\\xce\\\\xb1\\\\xce\\\\xba\\\\xce\\\\xb1\\\\xce\\\\xbb\\\\xcf\\\\x8e !!\\\\n\\\\xce\\\\x8c\\\\xcf\\\\x83\\\\xce\\\\xbf\\\\xce\\\\xb9 \\\\xce\\\\xbc\\\\xcf\\\\x80\\\\xce\\\\xbf\\\\xcf\\\\x81\\\\xce\\\\xb5\\\\xce\\\\xaf\\\\xcf\\\\x84\\\\xce\\\\xb5 \\\\xce\\\\xbd\\\\xce\\\\xb1 \\\\xce\\\\xb2\\\\xce\\\\xbf\\\\xce\\\\xb7\\\\xce\\\\xb8\\\\xce\\\\xae\\\\xe2\\\\x80\\\\xa6 https://t.co/6nW4C8H0Oz'\", \"ts\": \"Sat Mar 28 16:12:13 +0000 2020\"}]</td></tr><tr><td>AltRickHunter</td><td>[{\"id\": \"1243933923585003520\", \"tweet\": \"b'RT @VillaFernando_: Las mafias del @IESSec son la \\\\xc3\\\\xbanicas inmunes al #Covid_19 una corrupci\\\\xc3\\\\xb3n que raya en lo inhumano: sobreprecios descomun\\\\xe2\\\\x80\\\\xa6'\", \"ts\": \"Sat Mar 28 16:12:13 +0000 2020\"}]</td></tr><tr><td>Lycia_S</td><td>[{\"id\": \"1243933923589136385\", \"tweet\": \"b'RT @massimovitturi: Tutti, giustamente, blindati in casa, ma non i cacciatori che cos\\\\xc3\\\\xac continuano ad ammazzare animali innocenti e a costit\\\\xe2\\\\x80\\\\xa6'\", \"ts\": \"Sat Mar 28 16:12:13 +0000 2020\"}]</td></tr><tr><td>TyroneMarsha11</td><td>[{\"id\": \"1243933924088299520\", \"tweet\": \"b'#pan #corona #covid_19 #jesus https://t.co/m4qW3Px1h0'\", \"ts\": \"Sat Mar 28 16:12:13 +0000 2020\"}]</td></tr><tr><td>8bh5YH6TJ18GcKj</td><td>[{\"id\": \"1243933924159455235\", \"tweet\": \"b'RT @8bh5YH6TJ18GcKj: #COVID19\\\\n#Covid_19\\\\n#COVID\\\\n#\\\\xe0\\\\xb9\\\\x80\\\\xe0\\\\xb8\\\\xa3\\\\xe0\\\\xb8\\\\xb2\\\\xe0\\\\xb9\\\\x84\\\\xe0\\\\xb8\\\\xa1\\\\xe0\\\\xb9\\\\x88\\\\xe0\\\\xb8\\\\x97\\\\xe0\\\\xb8\\\\xb4\\\\xe0\\\\xb9\\\\x89\\\\xe0\\\\xb8\\\\x87\\\\xe0\\\\xb8\\\\x81\\\\xe0\\\\xb8\\\\xb1\\\\xe0\\\\xb8\\\\x99\\\\nwww. \\\\xe0\\\\xb9\\\\x80\\\\xe0\\\\xb8\\\\xa3\\\\xe0\\\\xb8\\\\xb2\\\\xe0\\\\xb9\\\\x84\\\\xe0\\\\xb8\\\\xa1\\\\xe0\\\\xb9\\\\x88\\\\xe0\\\\xb8\\\\x97\\\\xe0\\\\xb8\\\\xb4\\\\xe0\\\\xb9\\\\x89\\\\xe0\\\\xb8\\\\x87\\\\xe0\\\\xb8\\\\x81\\\\xe0\\\\xb8\\\\xb1\\\\xe0\\\\xb8\\\\x99.com \\\\xe0\\\\xb8\\\\xa5\\\\xe0\\\\xb8\\\\x87\\\\xe0\\\\xb8\\\\x97\\\\xe0\\\\xb8\\\\xb0\\\\xe0\\\\xb9\\\\x80\\\\xe0\\\\xb8\\\\x9a\\\\xe0\\\\xb8\\\\xb5\\\\xe0\\\\xb8\\\\xa2\\\\xe0\\\\xb8\\\\x99\\\\xe0\\\\xb8\\\\xa3\\\\xe0\\\\xb8\\\\xb1\\\\xe0\\\\xb8\\\\x9a\\\\xe0\\\\xb9\\\\x80\\\\xe0\\\\xb8\\\\x87\\\\xe0\\\\xb8\\\\xb4\\\\xe0\\\\xb8\\\\x99 5,000 \\\\xe0\\\\xb8\\\\x84\\\\xe0\\\\xb8\\\\xa5\\\\xe0\\\\xb8\\\\xb4\\\\xe0\\\\xb8\\\\x81\\\\xe0\\\\xb8\\\\x97\\\\xe0\\\\xb8\\\\xb5\\\\xe0\\\\xb9\\\\x88\\\\xe0\\\\xb8\\\\x99\\\\xe0\\\\xb8\\\\xb5\\\\xe0\\\\xb9\\\\x88\\\\nhttps://t.co/2pbSVSY\\\\xe2\\\\x80\\\\xa6'\", \"ts\": \"Sat Mar 28 16:12:13 +0000 2020\"}]</td></tr><tr><td>Pensumo</td><td>[{\"id\": \"1243933924130197504\", \"tweet\": \"b'Hola @tjcope #Covid_19\\\\nNuestra APP (Pensumo) tambi\\\\xc3\\\\xa9n premia con c\\\\xc3\\\\xa9ntimos en su pensi\\\\xc3\\\\xb3n a los usuarios que envian la\\\\xe2\\\\x80\\\\xa6 https://t.co/4l4oVkPle1'\", \"ts\": \"Sat Mar 28 16:12:13 +0000 2020\"}]</td></tr><tr><td>velat_gndz21</td><td>[{\"id\": \"1243933924432232449\", \"tweet\": \"b'RT @UgurBayraktutan: \\\"SOKA\\\\xc4\\\\x9eA \\\\xc3\\\\x87IKMAYIN\\\" UYARISINA DUYARLI TEK  KURUMUMUZ KIZILAY.KUTLUYORUM.\\\\n\\\\xc4\\\\xb0LK G\\\\xc3\\\\x9cNDEN BER\\\\xc4\\\\xb0 SOKA\\\\xc4\\\\x9eA \\\\xc3\\\\x87IKMADILAR.\\\\n\\\\n#HalkKonusu\\\\xe2\\\\x80\\\\xa6'\", \"ts\": \"Sat Mar 28 16:12:13 +0000 2020\"}]</td></tr><tr><td>CristianPazmio7</td><td>[{\"id\": \"1243933924193193989\", \"tweet\": \"b'RT @dieben79: Querido Otto: Yo soy Guayasanse y s\\\\xc3\\\\xad estoy solo #varadoenargentina #auxilio Que el Estado no nos abandone @Lenin @mariapaular\\\\xe2\\\\x80\\\\xa6'\", \"ts\": \"Sat Mar 28 16:12:13 +0000 2020\"}]</td></tr><tr><td>PursaklarMem</td><td>[{\"id\": \"1243933924662956034\", \"tweet\": \"b'RT @turanakpinar: Kendi sa\\\\xc4\\\\x9fl\\\\xc4\\\\xb1\\\\xc4\\\\x9f\\\\xc4\\\\xb1n i\\\\xc3\\\\xa7in,\\\\nAilenin sa\\\\xc4\\\\x9fl\\\\xc4\\\\xb1\\\\xc4\\\\x9f\\\\xc4\\\\xb1 i\\\\xc3\\\\xa7in,\\\\nSevdiklerinin sa\\\\xc4\\\\x9fl\\\\xc4\\\\xb1\\\\xc4\\\\x9f\\\\xc4\\\\xb1 i\\\\xc3\\\\xa7in,\\\\n\\\\xc3\\\\x9clkemiz i\\\\xc3\\\\xa7in,\\\\nMilletimiz i\\\\xc3\\\\xa7in;\\\\n\\\\n#EvdeKalAnkara \\\\n#E\\\\xe2\\\\x80\\\\xa6'\", \"ts\": \"Sat Mar 28 16:12:13 +0000 2020\"}]</td></tr><tr><td>zoe_erictv</td><td>[{\"id\": \"1243933925334007810\", \"tweet\": \"b'RT @WarrickBP: One of the only lockdown positives - reconnecting with old friends \\\\xf0\\\\x9f\\\\x8c\\\\xb5 \\\\n.\\\\n#EdandOucho #OuchoTheCactus #CBBCOffice #CBBC #puppe\\\\xe2\\\\x80\\\\xa6'\", \"ts\": \"Sat Mar 28 16:12:13 +0000 2020\"}]</td></tr><tr><td>MRH_1984</td><td>[{\"id\": \"1243933925245927424\", \"tweet\": \"b'@acoyne And yet Justin Trudeau is still allowing this after saying he has shut down the borders....maybe the focus\\\\xe2\\\\x80\\\\xa6 https://t.co/d9vtDbjuqf'\", \"ts\": \"Sat Mar 28 16:12:13 +0000 2020\"}]</td></tr><tr><td>Reny48180551</td><td>[{\"id\": \"1243933925719900160\", \"tweet\": \"b'RT @EmbaVEChina: #\\\\xc3\\\\x9altimoMinuto | \\\\xf0\\\\x9f\\\\x87\\\\xbb\\\\xf0\\\\x9f\\\\x87\\\\xaa\\\\xf0\\\\x9f\\\\x87\\\\xa8\\\\xf0\\\\x9f\\\\x87\\\\xb3 Aterriza en el Aeropuerto Internacional de Maiquet\\\\xc3\\\\xada el segundo cargamento de kits e insumos m\\\\xc3\\\\xa9dicos\\\\xe2\\\\x80\\\\xa6'\", \"ts\": \"Sat Mar 28 16:12:13 +0000 2020\"}]</td></tr><tr><td>hernanceballosg</td><td>[{\"id\": \"1243933925795344384\", \"tweet\": \"b'RT @VargasSilvaMV: #ATENCION hoy en #Sesi\\\\xc3\\\\xb3nPlenaria propuse que las camionetas asignadas a los concejales de #Bogot\\\\xc3\\\\xa1 se pongan a disposici\\\\xc3\\\\xb3\\\\xe2\\\\x80\\\\xa6'\", \"ts\": \"Sat Mar 28 16:12:13 +0000 2020\"}]</td></tr><tr><td>Julianluque</td><td>[{\"id\": \"1243933926554558465\", \"tweet\": \"b'No se los encuentra uno de rumba, pero ahora no capan videollamada rumbera....#Michicatos #Covid_19'\", \"ts\": \"Sat Mar 28 16:12:13 +0000 2020\"}]</td></tr><tr><td>AntonioUbilla1</td><td>[{\"id\": \"1243933926432870400\", \"tweet\": \"b'RT @stalinbriones: @EliasVinuezaR El\\\\xc3\\\\xadas, nuestro com\\\\xc3\\\\xban amigo @vhugopena muri\\\\xc3\\\\xb3 sin saber siquiera si ten\\\\xc3\\\\xada #Covid_19, 3 veces pidi\\\\xc3\\\\xb3 ayuda al\\\\xe2\\\\x80\\\\xa6'\", \"ts\": \"Sat Mar 28 16:12:13 +0000 2020\"}]</td></tr><tr><td>JINJARA_92</td><td>[{\"id\": \"1243933926621466624\", \"tweet\": \"b'RT @T9uRhHfR8jsSP57: \\\\xe0\\\\xb9\\\\x83\\\\xe0\\\\xb8\\\\x99\\\\xe0\\\\xb8\\\\x95\\\\xe0\\\\xb8\\\\xad\\\\xe0\\\\xb8\\\\x99\\\\xe0\\\\xb8\\\\x99\\\\xe0\\\\xb8\\\\xb5\\\\xe0\\\\xb9\\\\x89\\\\xe0\\\\xb8\\\\x9a\\\\xe0\\\\xb8\\\\xb2\\\\xe0\\\\xb8\\\\x87\\\\xe0\\\\xb8\\\\x88\\\\xe0\\\\xb8\\\\xb1\\\\xe0\\\\xb8\\\\x87\\\\xe0\\\\xb8\\\\xab\\\\xe0\\\\xb8\\\\xa7\\\\xe0\\\\xb8\\\\xb1\\\\xe0\\\\xb8\\\\x94\\\\xe0\\\\xb8\\\\x95\\\\xe0\\\\xb9\\\\x89\\\\xe0\\\\xb8\\\\xad\\\\xe0\\\\xb8\\\\x87\\\\xe0\\\\xb8\\\\x9b\\\\xe0\\\\xb8\\\\xaa\\\\xe0\\\\xb8\\\\x94\\\\xe0\\\\xb8\\\\x81\\\\xe0\\\\xb8\\\\xb1\\\\xe0\\\\xb8\\\\x9a\\\\xe0\\\\xb9\\\\x84\\\\xe0\\\\xb8\\\\xa7\\\\xe0\\\\xb8\\\\xa3\\\\xe0\\\\xb8\\\\xb1\\\\xe0\\\\xb8\\\\xaa \\\\xe0\\\\xb9\\\\x81\\\\xe0\\\\xb8\\\\x95\\\\xe0\\\\xb9\\\\x88\\\\xe0\\\\xb9\\\\x80\\\\xe0\\\\xb8\\\\x8a\\\\xe0\\\\xb8\\\\xb5\\\\xe0\\\\xb8\\\\xa2\\\\xe0\\\\xb8\\\\x87\\\\xe0\\\\xb9\\\\x83\\\\xe0\\\\xb8\\\\xab\\\\xe0\\\\xb8\\\\xa1\\\\xe0\\\\xb9\\\\x88\\\\xe0\\\\xb8\\\\x95\\\\xe0\\\\xb8\\\\xad\\\\xe0\\\\xb8\\\\x99\\\\xe0\\\\xb8\\\\x99\\\\xe0\\\\xb8\\\\xb5\\\\xe0\\\\xb9\\\\x89\\\\xe0\\\\xb8\\\\x84\\\\xe0\\\\xb8\\\\xb7\\\\xe0\\\\xb8\\\\xad \\\\xe0\\\\xb9\\\\x84\\\\xe0\\\\xb8\\\\x9f\\\\xe0\\\\xb8\\\\x9b\\\\xe0\\\\xb9\\\\x88\\\\xe0\\\\xb8\\\\xb2 \\\\xe0\\\\xb9\\\\x84\\\\xe0\\\\xb8\\\\xa7\\\\xe0\\\\xb8\\\\xa3\\\\xe0\\\\xb8\\\\xb1\\\\xe0\\\\xb8\\\\xaa\\\\xe0\\\\xb8\\\\x81\\\\xe0\\\\xb9\\\\x87\\\\xe0\\\\xb8\\\\x81\\\\xe0\\\\xb8\\\\xa5\\\\xe0\\\\xb8\\\\xb1\\\\xe0\\\\xb8\\\\xa7\\\\xe0\\\\xb9\\\\x81\\\\xe0\\\\xb8\\\\x96\\\\xe0\\\\xb8\\\\xa1\\\\xe0\\\\xb8\\\\x95\\\\xe0\\\\xb8\\\\xad\\\\xe0\\\\xb8\\\\x99\\\\xe0\\\\xb8\\\\x99\\\\xe0\\\\xb8\\\\xb5\\\\xe0\\\\xb9\\\\x89\\\\xe0\\\\xb8\\\\x94\\\\xe0\\\\xb9\\\\x89\\\\xe0\\\\xb8\\\\xa7\\\\xe0\\\\xb8\\\\xa2\\\\xe0\\\\xb8\\\\x84\\\\xe0\\\\xb9\\\\x88\\\\xe0\\\\xb8\\\\xb2\\\\xe0\\\\xb8\\\\x9d\\\\xe0\\\\xb8\\\\xb8\\\\xe0\\\\xb9\\\\x88\\\\xe0\\\\xb8\\\\x99\\\\xe0\\\\xb8\\\\x97\\\\xe0\\\\xb8\\\\xb5\\\\xe0\\\\xb9\\\\x88\\\\xe0\\\\xb8\\\\x89\\\\xe0\\\\xb8\\\\xb4\\\\xe0\\\\xb8\\\\x9a\\\\xe0\\\\xb8\\\\xab\\\\xe0\\\\xb8\\\\xb2\\\\xe0\\\\xb8\\\\xa2\\\\xe0\\\\xb8\\\\x82\\\\xe0\\\\xb8\\\\xb6\\\\xe0\\\\xb9\\\\x89\\\\xe0\\\\xb8\\\\x99\\\\xe0\\\\xb9\\\\x84\\\\xe0\\\\xb8\\\\x9b\\\\xe0\\\\xb8\\\\xad\\\\xe0\\\\xb8\\\\xb5\\\\xe0\\\\xb8\\\\x81 \\\\xe0\\\\xb9\\\\x80\\\\xe0\\\\xb8\\\\xad\\\\xe0\\\\xb8\\\\xb2\\\\xe0\\\\xb9\\\\x83\\\\xe0\\\\xb8\\\\x88\\\\xe2\\\\x80\\\\xa6'\", \"ts\": \"Sat Mar 28 16:12:13 +0000 2020\"}]</td></tr><tr><td>katyanicarolina</td><td>[{\"id\": \"1243933926764265472\", \"tweet\": \"b'RT @planwac: \\\\xf0\\\\x9f\\\\x91\\\\x8f\\\\xf0\\\\x9f\\\\x8f\\\\xbd\\\\xf0\\\\x9f\\\\x91\\\\x8f\\\\xf0\\\\x9f\\\\x8f\\\\xbd\\\\xf0\\\\x9f\\\\x91\\\\x8f\\\\xf0\\\\x9f\\\\x8f\\\\xbd Aplausos de pie a la gran naci\\\\xc3\\\\xb3n y al pueblo chino, a la Rep\\\\xc3\\\\xbablica Popular China https://t.co/H711eAWKqJ'\", \"ts\": \"Sat Mar 28 16:12:13 +0000 2020\"}]</td></tr><tr><td>HeriCastelan</td><td>[{\"id\": \"1243933928039178240\", \"tweet\": \"b'RT @OthonGonzalezJ: Buenos d\\\\xc3\\\\xadas a todos, primer fin de semana de #Etapa2 por #Covid_19 hay que quedarce en casa y seguir las indicaciones d\\\\xe2\\\\x80\\\\xa6'\", \"ts\": \"Sat Mar 28 16:12:14 +0000 2020\"}]</td></tr><tr><td>asssas010</td><td>[{\"id\": \"1243933928840462337\", \"tweet\": \"b'RT @BenLafiy: \\\\xf0\\\\x9f\\\\x94\\\\xb4 \\\\xd8\\\\xb1\\\\xd8\\\\xb3\\\\xd8\\\\xa7\\\\xd9\\\\x84\\\\xd8\\\\xa9 \\\\xd8\\\\xa5\\\\xd9\\\\x84\\\\xd9\\\\x89 \\\\xd8\\\\xac\\\\xd9\\\\x85\\\\xd9\\\\x8a\\\\xd8\\\\xb9 \\\\xd8\\\\xa7\\\\xd9\\\\x84\\\\xd8\\\\xb9\\\\xd8\\\\xa7\\\\xd9\\\\x84\\\\xd9\\\\x85\\\\n\\\\n#Covid_19\\\\n#\\\\xd9\\\\x83\\\\xd9\\\\x88\\\\xd8\\\\xb1\\\\xd9\\\\x88\\\\xd9\\\\x86\\\\xd8\\\\xa7\\\\n\\\\n\\\\xd8\\\\xb9\\\\xd8\\\\xaf\\\\xd8\\\\xaf \\\\xd8\\\\xa7\\\\xd9\\\\x84\\\\xd9\\\\x88\\\\xd9\\\\x81\\\\xd9\\\\x8a\\\\xd8\\\\xa7\\\\xd8\\\\xaa \\\\xd8\\\\xad\\\\xd9\\\\x88\\\\xd9\\\\x84 \\\\xd8\\\\xa7\\\\xd9\\\\x84\\\\xd8\\\\xb9\\\\xd8\\\\xa7\\\\xd9\\\\x84\\\\xd9\\\\x85 \\\\xd9\\\\x84\\\\xd9\\\\x87\\\\xd8\\\\xb0\\\\xd8\\\\xa7 \\\\xd8\\\\xa7\\\\xd9\\\\x84\\\\xd9\\\\x8a\\\\xd9\\\\x88\\\\xd9\\\\x85\\\\n3652 \\\\xd8\\\\xad\\\\xd8\\\\xa7\\\\xd9\\\\x84\\\\xd8\\\\xa9\\\\n\\\\n\\\\xd8\\\\xb9\\\\xd8\\\\xaf\\\\xd8\\\\xaf \\\\xd8\\\\xa7\\\\xd9\\\\x84\\\\xd9\\\\x88\\\\xd9\\\\x81\\\\xd9\\\\x8a\\\\xd8\\\\xa7\\\\xd8\\\\xaa \\\\xd9\\\\x81\\\\xd9\\\\x8a \\\\xd8\\\\xa7\\\\xd9\\\\x84\\\\xd9\\\\x85\\\\xd9\\\\x85\\\\xd9\\\\x84\\\\xd9\\\\x83\\\\xd8\\\\xa9 \\\\xd9\\\\x84\\\\xd9\\\\x87\\\\xd8\\\\xb0\\\\xd8\\\\xa7 \\\\xd8\\\\xa7\\\\xd9\\\\x84\\\\xd9\\\\x8a\\\\xd9\\\\x88\\\\xd9\\\\x85\\\\n1\\\\xe2\\\\x80\\\\xa6'\", \"ts\": \"Sat Mar 28 16:12:14 +0000 2020\"}]</td></tr><tr><td>FernandaCamino</td><td>[{\"id\": \"1243933928089628673\", \"tweet\": \"b'#EstadosUnidos: Ejemplo de #desidia, #muerte y #odio.\\\\n\\\\n#USA: Example of #neglect, #death and #hatred.\\\\n\\\\n(\\\\xe2\\\\x80\\\\xa6 https://t.co/WPKSOw06iJ'\", \"ts\": \"Sat Mar 28 16:12:14 +0000 2020\"}]</td></tr><tr><td>939c6ee5575e49c</td><td>[{\"id\": \"1243933928920100865\", \"tweet\": \"b'RT @UgurBayraktutan: \\\"SOKA\\\\xc4\\\\x9eA \\\\xc3\\\\x87IKMAYIN\\\" UYARISINA DUYARLI TEK  KURUMUMUZ KIZILAY.KUTLUYORUM.\\\\n\\\\xc4\\\\xb0LK G\\\\xc3\\\\x9cNDEN BER\\\\xc4\\\\xb0 SOKA\\\\xc4\\\\x9eA \\\\xc3\\\\x87IKMADILAR.\\\\n\\\\n#HalkKonusu\\\\xe2\\\\x80\\\\xa6'\", \"ts\": \"Sat Mar 28 16:12:14 +0000 2020\"}]</td></tr><tr><td>SaraTeresa14</td><td>[{\"id\": \"1243933928995635201\", \"tweet\": \"b'RT @LID_Chile: #HuelgaYa \\\\nEl pueblo trabajador es carne de ca\\\\xc3\\\\xb1\\\\xc3\\\\xb3n para empresarios quienes s\\\\xc3\\\\xb3lo pretenden proteger sus ganancias, esas que a\\\\xe2\\\\x80\\\\xa6'\", \"ts\": \"Sat Mar 28 16:12:14 +0000 2020\"}]</td></tr><tr><td>deepak6682</td><td>[{\"id\": \"1243933928701878272\", \"tweet\": \"b'\\\\xe0\\\\xa4\\\\xae\\\\xe0\\\\xa4\\\\xbe\\\\xe0\\\\xa4\\\\xa8\\\\xe0\\\\xa4\\\\xa8\\\\xe0\\\\xa5\\\\x80\\\\xe0\\\\xa4\\\\xaf \\\\xe0\\\\xa4\\\\xaa\\\\xe0\\\\xa5\\\\x8d\\\\xe0\\\\xa4\\\\xb0\\\\xe0\\\\xa4\\\\xa7\\\\xe0\\\\xa4\\\\xbe\\\\xe0\\\\xa4\\\\xa8\\\\xe0\\\\xa4\\\\xae\\\\xe0\\\\xa4\\\\x82\\\\xe0\\\\xa4\\\\xa4\\\\xe0\\\\xa5\\\\x8d\\\\xe0\\\\xa4\\\\xb0\\\\xe0\\\\xa5\\\\x80 \\\\xe0\\\\xa4\\\\xb6\\\\xe0\\\\xa5\\\\x8d\\\\xe0\\\\xa4\\\\xb0\\\\xe0\\\\xa5\\\\x80 @narendramodi \\\\xe0\\\\xa4\\\\x9c\\\\xe0\\\\xa5\\\\x80, \\\\xe0\\\\xa4\\\\xaa\\\\xe0\\\\xa5\\\\x8d\\\\xe0\\\\xa4\\\\xb0\\\\xe0\\\\xa4\\\\xa3\\\\xe0\\\\xa4\\\\xbe\\\\xe0\\\\xa4\\\\xae #Covid_19 \\\\xe0\\\\xa4\\\\xae\\\\xe0\\\\xa4\\\\xb9\\\\xe0\\\\xa4\\\\xbe\\\\xe0\\\\xa4\\\\xae\\\\xe0\\\\xa4\\\\xbe\\\\xe0\\\\xa4\\\\xb0\\\\xe0\\\\xa5\\\\x80 \\\\xe0\\\\xa4\\\\x95\\\\xe0\\\\xa5\\\\x87 \\\\xe0\\\\xa4\\\\xb5\\\\xe0\\\\xa4\\\\xbf\\\\xe0\\\\xa4\\\\xb0\\\\xe0\\\\xa5\\\\x81\\\\xe0\\\\xa4\\\\xa6\\\\xe0\\\\xa5\\\\x8d\\\\xe0\\\\xa4\\\\xa7 #IndiaFightCorona \\\\xe0\\\\xa4\\\\x95\\\\xe0\\\\xa5\\\\x87 \\\\xe0\\\\xa4\\\\xb8\\\\xe0\\\\xa4\\\\xae\\\\xe0\\\\xa4\\\\xb0\\\\xe0\\\\xa5\\\\x8d\\\\xe0\\\\xa4\\\\xa5\\\\xe0\\\\xa4\\\\xa8 \\\\xe0\\\\xa4\\\\xae\\\\xe0\\\\xa5\\\\x87\\\\xe0\\\\xa4\\\\x82 \\\\xe0\\\\xa4\\\\xb8\\\\xe0\\\\xa5\\\\x82\\\\xe0\\\\xa4\\\\x95\\\\xe0\\\\xa5\\\\x8d\\\\xe2\\\\x80\\\\xa6 https://t.co/DdpxFsqx7v'\", \"ts\": \"Sat Mar 28 16:12:14 +0000 2020\"}]</td></tr><tr><td>golfhockeymom</td><td>[{\"id\": \"1243933929372975105\", \"tweet\": \"b'Since the narrative on the right is \\\\xe2\\\\x80\\\\x9cPMJT is sending help to other countries before helping our own, non confidence\\\\xe2\\\\x80\\\\xa6 https://t.co/pkphOgRtUK'\", \"ts\": \"Sat Mar 28 16:12:14 +0000 2020\"}]</td></tr><tr><td>Ankit9155</td><td>[{\"id\": \"1243933929909805057\", \"tweet\": \"b'All the people of my country plzzzz see the video of Honourable @narendramodi at #Covid_19 and stay their where u a\\\\xe2\\\\x80\\\\xa6 https://t.co/GMFVVDPUMW'\", \"ts\": \"Sat Mar 28 16:12:14 +0000 2020\"}]</td></tr><tr><td>__bp2</td><td>[{\"id\": \"1243933930056638464\", \"tweet\": \"b'RT @T9uRhHfR8jsSP57: \\\\xe0\\\\xb9\\\\x83\\\\xe0\\\\xb8\\\\x99\\\\xe0\\\\xb8\\\\x95\\\\xe0\\\\xb8\\\\xad\\\\xe0\\\\xb8\\\\x99\\\\xe0\\\\xb8\\\\x99\\\\xe0\\\\xb8\\\\xb5\\\\xe0\\\\xb9\\\\x89\\\\xe0\\\\xb8\\\\x9a\\\\xe0\\\\xb8\\\\xb2\\\\xe0\\\\xb8\\\\x87\\\\xe0\\\\xb8\\\\x88\\\\xe0\\\\xb8\\\\xb1\\\\xe0\\\\xb8\\\\x87\\\\xe0\\\\xb8\\\\xab\\\\xe0\\\\xb8\\\\xa7\\\\xe0\\\\xb8\\\\xb1\\\\xe0\\\\xb8\\\\x94\\\\xe0\\\\xb8\\\\x95\\\\xe0\\\\xb9\\\\x89\\\\xe0\\\\xb8\\\\xad\\\\xe0\\\\xb8\\\\x87\\\\xe0\\\\xb8\\\\x9b\\\\xe0\\\\xb8\\\\xaa\\\\xe0\\\\xb8\\\\x94\\\\xe0\\\\xb8\\\\x81\\\\xe0\\\\xb8\\\\xb1\\\\xe0\\\\xb8\\\\x9a\\\\xe0\\\\xb9\\\\x84\\\\xe0\\\\xb8\\\\xa7\\\\xe0\\\\xb8\\\\xa3\\\\xe0\\\\xb8\\\\xb1\\\\xe0\\\\xb8\\\\xaa \\\\xe0\\\\xb9\\\\x81\\\\xe0\\\\xb8\\\\x95\\\\xe0\\\\xb9\\\\x88\\\\xe0\\\\xb9\\\\x80\\\\xe0\\\\xb8\\\\x8a\\\\xe0\\\\xb8\\\\xb5\\\\xe0\\\\xb8\\\\xa2\\\\xe0\\\\xb8\\\\x87\\\\xe0\\\\xb9\\\\x83\\\\xe0\\\\xb8\\\\xab\\\\xe0\\\\xb8\\\\xa1\\\\xe0\\\\xb9\\\\x88\\\\xe0\\\\xb8\\\\x95\\\\xe0\\\\xb8\\\\xad\\\\xe0\\\\xb8\\\\x99\\\\xe0\\\\xb8\\\\x99\\\\xe0\\\\xb8\\\\xb5\\\\xe0\\\\xb9\\\\x89\\\\xe0\\\\xb8\\\\x84\\\\xe0\\\\xb8\\\\xb7\\\\xe0\\\\xb8\\\\xad \\\\xe0\\\\xb9\\\\x84\\\\xe0\\\\xb8\\\\x9f\\\\xe0\\\\xb8\\\\x9b\\\\xe0\\\\xb9\\\\x88\\\\xe0\\\\xb8\\\\xb2 \\\\xe0\\\\xb9\\\\x84\\\\xe0\\\\xb8\\\\xa7\\\\xe0\\\\xb8\\\\xa3\\\\xe0\\\\xb8\\\\xb1\\\\xe0\\\\xb8\\\\xaa\\\\xe0\\\\xb8\\\\x81\\\\xe0\\\\xb9\\\\x87\\\\xe0\\\\xb8\\\\x81\\\\xe0\\\\xb8\\\\xa5\\\\xe0\\\\xb8\\\\xb1\\\\xe0\\\\xb8\\\\xa7\\\\xe0\\\\xb9\\\\x81\\\\xe0\\\\xb8\\\\x96\\\\xe0\\\\xb8\\\\xa1\\\\xe0\\\\xb8\\\\x95\\\\xe0\\\\xb8\\\\xad\\\\xe0\\\\xb8\\\\x99\\\\xe0\\\\xb8\\\\x99\\\\xe0\\\\xb8\\\\xb5\\\\xe0\\\\xb9\\\\x89\\\\xe0\\\\xb8\\\\x94\\\\xe0\\\\xb9\\\\x89\\\\xe0\\\\xb8\\\\xa7\\\\xe0\\\\xb8\\\\xa2\\\\xe0\\\\xb8\\\\x84\\\\xe0\\\\xb9\\\\x88\\\\xe0\\\\xb8\\\\xb2\\\\xe0\\\\xb8\\\\x9d\\\\xe0\\\\xb8\\\\xb8\\\\xe0\\\\xb9\\\\x88\\\\xe0\\\\xb8\\\\x99\\\\xe0\\\\xb8\\\\x97\\\\xe0\\\\xb8\\\\xb5\\\\xe0\\\\xb9\\\\x88\\\\xe0\\\\xb8\\\\x89\\\\xe0\\\\xb8\\\\xb4\\\\xe0\\\\xb8\\\\x9a\\\\xe0\\\\xb8\\\\xab\\\\xe0\\\\xb8\\\\xb2\\\\xe0\\\\xb8\\\\xa2\\\\xe0\\\\xb8\\\\x82\\\\xe0\\\\xb8\\\\xb6\\\\xe0\\\\xb9\\\\x89\\\\xe0\\\\xb8\\\\x99\\\\xe0\\\\xb9\\\\x84\\\\xe0\\\\xb8\\\\x9b\\\\xe0\\\\xb8\\\\xad\\\\xe0\\\\xb8\\\\xb5\\\\xe0\\\\xb8\\\\x81 \\\\xe0\\\\xb9\\\\x80\\\\xe0\\\\xb8\\\\xad\\\\xe0\\\\xb8\\\\xb2\\\\xe0\\\\xb9\\\\x83\\\\xe0\\\\xb8\\\\x88\\\\xe2\\\\x80\\\\xa6'\", \"ts\": \"Sat Mar 28 16:12:14 +0000 2020\"}]</td></tr><tr><td>aussie_laurie</td><td>[{\"id\": \"1243933930115366913\", \"tweet\": \"b'RT @ChinaEmbOttawa: On March 27, Bank of China donates medical supplies (including 30000 medical masks, 10000 sets of protective clothing,\\\\xe2\\\\x80\\\\xa6'\", \"ts\": \"Sat Mar 28 16:12:14 +0000 2020\"}]</td></tr><tr><td>DrAliGhahary</td><td>[{\"id\": \"1243933930153054208\", \"tweet\": \"b\\\"RT @BCGovNews: Blood donors are needed across Canada. If you are healthy it\\\\xe2\\\\x80\\\\x99s safe to donate blood during COVID-19. It's critical for patie\\\\xe2\\\\x80\\\\xa6\\\"\", \"ts\": \"Sat Mar 28 16:12:14 +0000 2020\"}]</td></tr><tr><td>imVkohl1</td><td>[{\"id\": \"1243933930367012864\", \"tweet\": \"b'RT @JasminLoerchner: #AZDHS reports 773 #coronavirus cases and 15 deaths of the virus in #Arizona as of today. 454 cases are in #Maricopa c\\\\xe2\\\\x80\\\\xa6'\", \"ts\": \"Sat Mar 28 16:12:14 +0000 2020\"}]</td></tr><tr><td>lucottoni81</td><td>[{\"id\": \"1243933930551681026\", \"tweet\": \"b'Uma situa\\\\xc3\\\\xa7\\\\xc3\\\\xa3o inevit\\\\xc3\\\\xa1vel \\\\xf0\\\\x9f\\\\xa4\\\\xa6\\\\xf0\\\\x9f\\\\x8f\\\\xbb\\\\xe2\\\\x80\\\\x8d\\\\xe2\\\\x99\\\\x82\\\\xef\\\\xb8\\\\x8f\\\\xf0\\\\x9f\\\\xa4\\\\xa6\\\\xf0\\\\x9f\\\\x8f\\\\xbb\\\\xe2\\\\x80\\\\x8d\\\\xe2\\\\x99\\\\x82\\\\xef\\\\xb8\\\\x8f\\\\xf0\\\\x9f\\\\xa4\\\\xa6\\\\xf0\\\\x9f\\\\x8f\\\\xbb\\\\xe2\\\\x80\\\\x8d\\\\xe2\\\\x99\\\\x82\\\\xef\\\\xb8\\\\x8f #coronavirusbrasil #coronavirusnobrasil #COVID19 #Covid_19 https://t.co/5knO20LXx3'\", \"ts\": \"Sat Mar 28 16:12:14 +0000 2020\"}]</td></tr><tr><td>SALD05846150</td><td>[{\"id\": \"1243933931147276289\", \"tweet\": \"b'RT @LaPosta_Ecu: Transparencia internacional vs. corrupci\\\\xc3\\\\xb3n en contratos por el #covid_19 https://t.co/1muXA8rcyC'\", \"ts\": \"Sat Mar 28 16:12:15 +0000 2020\"}]</td></tr><tr><td>HongkongerMatt</td><td>[{\"id\": \"1243933931084214272\", \"tweet\": \"b'RT @RamyInocencio: Wait is this real? @WHO or I mean WHAT is going on? Is a rep from the World Health Organization really pretending to not\\\\xe2\\\\x80\\\\xa6'\", \"ts\": \"Sat Mar 28 16:12:15 +0000 2020\"}]</td></tr><tr><td>TomWlost</td><td>[{\"id\": \"1243933930916655105\", \"tweet\": \"b'Therefore, EC temporarily labelled all previously safe countries (EU Member States, Australia &amp; New Zealand, Canada\\\\xe2\\\\x80\\\\xa6 https://t.co/1XbSNGF9ft'\", \"ts\": \"Sat Mar 28 16:12:14 +0000 2020\"}]</td></tr><tr><td>JuaneSala</td><td>[{\"id\": \"1243933931491262464\", \"tweet\": \"b'RT @antoniojcastro: #BATS Accused of a CRIME they did not commit.\\\\xe2\\\\x80\\\\x94 #Covid_19 \\\\n\\\\n@IPBES @YESS_Network \\\\n\\\\n#JusticeForBats\\\\n#FreeBats\\\\n#JusticiaPa\\\\xe2\\\\x80\\\\xa6'\", \"ts\": \"Sat Mar 28 16:12:15 +0000 2020\"}]</td></tr><tr><td>Vinc8210Vinny</td><td>[{\"id\": \"1243933932090990592\", \"tweet\": \"b'RT @EmergenciasEc: Que raro que desde anoche hasta ahora sigamos con la misma cifra \\\\xf0\\\\x9f\\\\xa4\\\\x94'\", \"ts\": \"Sat Mar 28 16:12:15 +0000 2020\"}]</td></tr><tr><td>DodgersBlue13</td><td>[{\"id\": \"1243933933181362177\", \"tweet\": \"b'RT @CanadensisMax: Dear American neighbours, your President is a fucking nut.  Love, Canada.'\", \"ts\": \"Sat Mar 28 16:12:15 +0000 2020\"}]</td></tr><tr><td>jovanny981</td><td>[{\"id\": \"1243933932309151744\", \"tweet\": \"b'#TikTok #Covid_19 #FelizSabado #Sismo #QuedateEnCasa #YoMeQuedoEnCasa #COVID19 #Colombia #HoraDelPlaneta\\\\xe2\\\\x80\\\\xa6 https://t.co/6li8GxxZ3k'\", \"ts\": \"Sat Mar 28 16:12:15 +0000 2020\"}]</td></tr><tr><td>luisemarmol</td><td>[{\"id\": \"1243933933676498944\", \"tweet\": \"b'Monat #Monat  #Products #shampoos #conditioners #systems #healthy #hair #Canada #AntiAging\\\\n\\\\nhttps://t.co/cvcxrQTFXn'\", \"ts\": \"Sat Mar 28 16:12:15 +0000 2020\"}]</td></tr><tr><td>thomasj76083568</td><td>[{\"id\": \"1243933934125277186\", \"tweet\": \"b'RT @patricialopezl: Pues nada, que el Director Adjunto de la @policia se acaba de cargar el discurso del Gobierno en 2 palabras: -\\\"Hace tre\\\\xe2\\\\x80\\\\xa6'\", \"ts\": \"Sat Mar 28 16:12:15 +0000 2020\"}]</td></tr><tr><td>BBear_12</td><td>[{\"id\": \"1243933934225776640\", \"tweet\": \"b'RT @T9uRhHfR8jsSP57: \\\\xe0\\\\xb9\\\\x83\\\\xe0\\\\xb8\\\\x99\\\\xe0\\\\xb8\\\\x95\\\\xe0\\\\xb8\\\\xad\\\\xe0\\\\xb8\\\\x99\\\\xe0\\\\xb8\\\\x99\\\\xe0\\\\xb8\\\\xb5\\\\xe0\\\\xb9\\\\x89\\\\xe0\\\\xb8\\\\x9a\\\\xe0\\\\xb8\\\\xb2\\\\xe0\\\\xb8\\\\x87\\\\xe0\\\\xb8\\\\x88\\\\xe0\\\\xb8\\\\xb1\\\\xe0\\\\xb8\\\\x87\\\\xe0\\\\xb8\\\\xab\\\\xe0\\\\xb8\\\\xa7\\\\xe0\\\\xb8\\\\xb1\\\\xe0\\\\xb8\\\\x94\\\\xe0\\\\xb8\\\\x95\\\\xe0\\\\xb9\\\\x89\\\\xe0\\\\xb8\\\\xad\\\\xe0\\\\xb8\\\\x87\\\\xe0\\\\xb8\\\\x9b\\\\xe0\\\\xb8\\\\xaa\\\\xe0\\\\xb8\\\\x94\\\\xe0\\\\xb8\\\\x81\\\\xe0\\\\xb8\\\\xb1\\\\xe0\\\\xb8\\\\x9a\\\\xe0\\\\xb9\\\\x84\\\\xe0\\\\xb8\\\\xa7\\\\xe0\\\\xb8\\\\xa3\\\\xe0\\\\xb8\\\\xb1\\\\xe0\\\\xb8\\\\xaa \\\\xe0\\\\xb9\\\\x81\\\\xe0\\\\xb8\\\\x95\\\\xe0\\\\xb9\\\\x88\\\\xe0\\\\xb9\\\\x80\\\\xe0\\\\xb8\\\\x8a\\\\xe0\\\\xb8\\\\xb5\\\\xe0\\\\xb8\\\\xa2\\\\xe0\\\\xb8\\\\x87\\\\xe0\\\\xb9\\\\x83\\\\xe0\\\\xb8\\\\xab\\\\xe0\\\\xb8\\\\xa1\\\\xe0\\\\xb9\\\\x88\\\\xe0\\\\xb8\\\\x95\\\\xe0\\\\xb8\\\\xad\\\\xe0\\\\xb8\\\\x99\\\\xe0\\\\xb8\\\\x99\\\\xe0\\\\xb8\\\\xb5\\\\xe0\\\\xb9\\\\x89\\\\xe0\\\\xb8\\\\x84\\\\xe0\\\\xb8\\\\xb7\\\\xe0\\\\xb8\\\\xad \\\\xe0\\\\xb9\\\\x84\\\\xe0\\\\xb8\\\\x9f\\\\xe0\\\\xb8\\\\x9b\\\\xe0\\\\xb9\\\\x88\\\\xe0\\\\xb8\\\\xb2 \\\\xe0\\\\xb9\\\\x84\\\\xe0\\\\xb8\\\\xa7\\\\xe0\\\\xb8\\\\xa3\\\\xe0\\\\xb8\\\\xb1\\\\xe0\\\\xb8\\\\xaa\\\\xe0\\\\xb8\\\\x81\\\\xe0\\\\xb9\\\\x87\\\\xe0\\\\xb8\\\\x81\\\\xe0\\\\xb8\\\\xa5\\\\xe0\\\\xb8\\\\xb1\\\\xe0\\\\xb8\\\\xa7\\\\xe0\\\\xb9\\\\x81\\\\xe0\\\\xb8\\\\x96\\\\xe0\\\\xb8\\\\xa1\\\\xe0\\\\xb8\\\\x95\\\\xe0\\\\xb8\\\\xad\\\\xe0\\\\xb8\\\\x99\\\\xe0\\\\xb8\\\\x99\\\\xe0\\\\xb8\\\\xb5\\\\xe0\\\\xb9\\\\x89\\\\xe0\\\\xb8\\\\x94\\\\xe0\\\\xb9\\\\x89\\\\xe0\\\\xb8\\\\xa7\\\\xe0\\\\xb8\\\\xa2\\\\xe0\\\\xb8\\\\x84\\\\xe0\\\\xb9\\\\x88\\\\xe0\\\\xb8\\\\xb2\\\\xe0\\\\xb8\\\\x9d\\\\xe0\\\\xb8\\\\xb8\\\\xe0\\\\xb9\\\\x88\\\\xe0\\\\xb8\\\\x99\\\\xe0\\\\xb8\\\\x97\\\\xe0\\\\xb8\\\\xb5\\\\xe0\\\\xb9\\\\x88\\\\xe0\\\\xb8\\\\x89\\\\xe0\\\\xb8\\\\xb4\\\\xe0\\\\xb8\\\\x9a\\\\xe0\\\\xb8\\\\xab\\\\xe0\\\\xb8\\\\xb2\\\\xe0\\\\xb8\\\\xa2\\\\xe0\\\\xb8\\\\x82\\\\xe0\\\\xb8\\\\xb6\\\\xe0\\\\xb9\\\\x89\\\\xe0\\\\xb8\\\\x99\\\\xe0\\\\xb9\\\\x84\\\\xe0\\\\xb8\\\\x9b\\\\xe0\\\\xb8\\\\xad\\\\xe0\\\\xb8\\\\xb5\\\\xe0\\\\xb8\\\\x81 \\\\xe0\\\\xb9\\\\x80\\\\xe0\\\\xb8\\\\xad\\\\xe0\\\\xb8\\\\xb2\\\\xe0\\\\xb9\\\\x83\\\\xe0\\\\xb8\\\\x88\\\\xe2\\\\x80\\\\xa6'\", \"ts\": \"Sat Mar 28 16:12:15 +0000 2020\"}]</td></tr><tr><td>AntonioMengod</td><td>[{\"id\": \"1243933934418825217\", \"tweet\": \"b'RT @jfjimenoserrano: 8/8 En cualquier caso, presentar este RDL como una \\\\xe2\\\\x80\\\\x9cprohibici\\\\xc3\\\\xb3n de los despidos\\\\xe2\\\\x80\\\\x9d es un enga\\\\xc3\\\\xb1o a la opini\\\\xc3\\\\xb3n p\\\\xc3\\\\xbablica. \\\\nS\\\\xe2\\\\x80\\\\xa6'\", \"ts\": \"Sat Mar 28 16:12:15 +0000 2020\"}]</td></tr><tr><td>YanStPierre2</td><td>[{\"id\": \"1243933934477553664\", \"tweet\": \"b'RT @RadioCanadaInfo: Justin Trudeau recommande \\\\xc3\\\\xa0 ceux qui veulent recevoir la prestation canadienne d\\\\xe2\\\\x80\\\\x99urgence de s\\\\xe2\\\\x80\\\\x99inscrire d\\\\xc3\\\\xa8s maintenant\\\\xe2\\\\x80\\\\xa6'\", \"ts\": \"Sat Mar 28 16:12:15 +0000 2020\"}]</td></tr><tr><td>dulcineaberry</td><td>[{\"id\": \"1243933934716686337\", \"tweet\": \"b'RT @universalqro: #Covid_19 \\\\xe2\\\\x9c\\\\x88\\\\xef\\\\xb8\\\\x8f \\\\xf0\\\\x9f\\\\xa6\\\\xa0\\\\xc2\\\\xbfTomaste hace unos d\\\\xc3\\\\xadas el vuelo AM0022 con destino Madrid-M\\\\xc3\\\\xa9xico?\\\\n\\\\nEsta informaci\\\\xc3\\\\xb3n te interesar\\\\xc3\\\\xa1 \\\\xe2\\\\xac\\\\x87\\\\xef\\\\xb8\\\\x8f https\\\\xe2\\\\x80\\\\xa6'\", \"ts\": \"Sat Mar 28 16:12:15 +0000 2020\"}]</td></tr><tr><td>Zanderon_fox</td><td>[{\"id\": \"1243933935014424576\", \"tweet\": \"b'RT @EjercitoAire: #S\\\\xc3\\\\xbaperPuma @AirbusHeli\\\\n#82Grupo #Ala46 traslada desde la base de #Gando #GranCanaria hasta #Tenerife a equipo de @UMEgob\\\\xe2\\\\x80\\\\xa6'\", \"ts\": \"Sat Mar 28 16:12:15 +0000 2020\"}]</td></tr><tr><td>fepol_</td><td>[{\"id\": \"1243933934515298306\", \"tweet\": \"b'En el #estadodealarma hay excepciones, a personas que tengan alteraciones conductuales como #autismo y conductas di\\\\xe2\\\\x80\\\\xa6 https://t.co/G8iIZEd9FI'\", \"ts\": \"Sat Mar 28 16:12:15 +0000 2020\"}]</td></tr><tr><td>bexby28</td><td>[{\"id\": \"1243933935396106243\", \"tweet\": \"b\\\"I think we're running out of ministers to do the daily government briefing. #Covid_19\\\"\", \"ts\": \"Sat Mar 28 16:12:16 +0000 2020\"}]</td></tr><tr><td>louisianajz1</td><td>[{\"id\": \"1243933935408644099\", \"tweet\": \"b'RT @Junta_Ex: El #SES y la Sociedad de Alergolog\\\\xc3\\\\xada e Inmunoterapia de Extremadura recomiendan una mayor precauci\\\\xc3\\\\xb3n en estas patolog\\\\xc3\\\\xadas por\\\\xe2\\\\x80\\\\xa6'\", \"ts\": \"Sat Mar 28 16:12:16 +0000 2020\"}]</td></tr><tr><td>dance_kullanat</td><td>[{\"id\": \"1243933935685394433\", \"tweet\": \"b'RT @T9uRhHfR8jsSP57: \\\\xe0\\\\xb9\\\\x83\\\\xe0\\\\xb8\\\\x99\\\\xe0\\\\xb8\\\\x95\\\\xe0\\\\xb8\\\\xad\\\\xe0\\\\xb8\\\\x99\\\\xe0\\\\xb8\\\\x99\\\\xe0\\\\xb8\\\\xb5\\\\xe0\\\\xb9\\\\x89\\\\xe0\\\\xb8\\\\x9a\\\\xe0\\\\xb8\\\\xb2\\\\xe0\\\\xb8\\\\x87\\\\xe0\\\\xb8\\\\x88\\\\xe0\\\\xb8\\\\xb1\\\\xe0\\\\xb8\\\\x87\\\\xe0\\\\xb8\\\\xab\\\\xe0\\\\xb8\\\\xa7\\\\xe0\\\\xb8\\\\xb1\\\\xe0\\\\xb8\\\\x94\\\\xe0\\\\xb8\\\\x95\\\\xe0\\\\xb9\\\\x89\\\\xe0\\\\xb8\\\\xad\\\\xe0\\\\xb8\\\\x87\\\\xe0\\\\xb8\\\\x9b\\\\xe0\\\\xb8\\\\xaa\\\\xe0\\\\xb8\\\\x94\\\\xe0\\\\xb8\\\\x81\\\\xe0\\\\xb8\\\\xb1\\\\xe0\\\\xb8\\\\x9a\\\\xe0\\\\xb9\\\\x84\\\\xe0\\\\xb8\\\\xa7\\\\xe0\\\\xb8\\\\xa3\\\\xe0\\\\xb8\\\\xb1\\\\xe0\\\\xb8\\\\xaa \\\\xe0\\\\xb9\\\\x81\\\\xe0\\\\xb8\\\\x95\\\\xe0\\\\xb9\\\\x88\\\\xe0\\\\xb9\\\\x80\\\\xe0\\\\xb8\\\\x8a\\\\xe0\\\\xb8\\\\xb5\\\\xe0\\\\xb8\\\\xa2\\\\xe0\\\\xb8\\\\x87\\\\xe0\\\\xb9\\\\x83\\\\xe0\\\\xb8\\\\xab\\\\xe0\\\\xb8\\\\xa1\\\\xe0\\\\xb9\\\\x88\\\\xe0\\\\xb8\\\\x95\\\\xe0\\\\xb8\\\\xad\\\\xe0\\\\xb8\\\\x99\\\\xe0\\\\xb8\\\\x99\\\\xe0\\\\xb8\\\\xb5\\\\xe0\\\\xb9\\\\x89\\\\xe0\\\\xb8\\\\x84\\\\xe0\\\\xb8\\\\xb7\\\\xe0\\\\xb8\\\\xad \\\\xe0\\\\xb9\\\\x84\\\\xe0\\\\xb8\\\\x9f\\\\xe0\\\\xb8\\\\x9b\\\\xe0\\\\xb9\\\\x88\\\\xe0\\\\xb8\\\\xb2 \\\\xe0\\\\xb9\\\\x84\\\\xe0\\\\xb8\\\\xa7\\\\xe0\\\\xb8\\\\xa3\\\\xe0\\\\xb8\\\\xb1\\\\xe0\\\\xb8\\\\xaa\\\\xe0\\\\xb8\\\\x81\\\\xe0\\\\xb9\\\\x87\\\\xe0\\\\xb8\\\\x81\\\\xe0\\\\xb8\\\\xa5\\\\xe0\\\\xb8\\\\xb1\\\\xe0\\\\xb8\\\\xa7\\\\xe0\\\\xb9\\\\x81\\\\xe0\\\\xb8\\\\x96\\\\xe0\\\\xb8\\\\xa1\\\\xe0\\\\xb8\\\\x95\\\\xe0\\\\xb8\\\\xad\\\\xe0\\\\xb8\\\\x99\\\\xe0\\\\xb8\\\\x99\\\\xe0\\\\xb8\\\\xb5\\\\xe0\\\\xb9\\\\x89\\\\xe0\\\\xb8\\\\x94\\\\xe0\\\\xb9\\\\x89\\\\xe0\\\\xb8\\\\xa7\\\\xe0\\\\xb8\\\\xa2\\\\xe0\\\\xb8\\\\x84\\\\xe0\\\\xb9\\\\x88\\\\xe0\\\\xb8\\\\xb2\\\\xe0\\\\xb8\\\\x9d\\\\xe0\\\\xb8\\\\xb8\\\\xe0\\\\xb9\\\\x88\\\\xe0\\\\xb8\\\\x99\\\\xe0\\\\xb8\\\\x97\\\\xe0\\\\xb8\\\\xb5\\\\xe0\\\\xb9\\\\x88\\\\xe0\\\\xb8\\\\x89\\\\xe0\\\\xb8\\\\xb4\\\\xe0\\\\xb8\\\\x9a\\\\xe0\\\\xb8\\\\xab\\\\xe0\\\\xb8\\\\xb2\\\\xe0\\\\xb8\\\\xa2\\\\xe0\\\\xb8\\\\x82\\\\xe0\\\\xb8\\\\xb6\\\\xe0\\\\xb9\\\\x89\\\\xe0\\\\xb8\\\\x99\\\\xe0\\\\xb9\\\\x84\\\\xe0\\\\xb8\\\\x9b\\\\xe0\\\\xb8\\\\xad\\\\xe0\\\\xb8\\\\xb5\\\\xe0\\\\xb8\\\\x81 \\\\xe0\\\\xb9\\\\x80\\\\xe0\\\\xb8\\\\xad\\\\xe0\\\\xb8\\\\xb2\\\\xe0\\\\xb9\\\\x83\\\\xe0\\\\xb8\\\\x88\\\\xe2\\\\x80\\\\xa6'\", \"ts\": \"Sat Mar 28 16:12:16 +0000 2020\"}]</td></tr><tr><td>victortheonebd</td><td>[{\"id\": \"1243933935811178496\", \"tweet\": \"b'RT @ANDROMACO64: En Espa\\\\xc3\\\\xb1a califican a L\\\\xc3\\\\xb3pez Obrador como un demente o incompetente criminal.\\\\n\\\\nEn CdMx, la gente sigue saliendo como si nad\\\\xe2\\\\x80\\\\xa6'\", \"ts\": \"Sat Mar 28 16:12:16 +0000 2020\"}]</td></tr></tbody></table></div>"
      ]
     },
     "metadata": {},
     "output_type": "display_data"
    }
   ],
   "source": [
    "%sql\n",
    "\n",
    "select partitionKey, cast(data as string) from tweets;"
   ]
  },
  {
   "cell_type": "code",
   "execution_count": 9,
   "metadata": {},
   "outputs": [
    {
     "data": {
      "text/html": [
       "<style scoped>\n",
       "  .ansiout {\n",
       "    display: block;\n",
       "    unicode-bidi: embed;\n",
       "    white-space: pre-wrap;\n",
       "    word-wrap: break-word;\n",
       "    word-break: break-all;\n",
       "    font-family: \"Source Code Pro\", \"Menlo\", monospace;;\n",
       "    font-size: 13px;\n",
       "    color: #555;\n",
       "    margin-left: 4px;\n",
       "    line-height: 19px;\n",
       "  }\n",
       "</style>\n",
       "<div class=\"ansiout\"></div>"
      ]
     },
     "metadata": {},
     "output_type": "display_data"
    }
   ],
   "source": [
    "tweets = spark.sql(\"select cast(data as string) from tweets\")"
   ]
  },
  {
   "cell_type": "code",
   "execution_count": 10,
   "metadata": {},
   "outputs": [
    {
     "data": {
      "text/html": [
       "<style scoped>\n",
       "  .ansiout {\n",
       "    display: block;\n",
       "    unicode-bidi: embed;\n",
       "    white-space: pre-wrap;\n",
       "    word-wrap: break-word;\n",
       "    word-break: break-all;\n",
       "    font-family: \"Source Code Pro\", \"Menlo\", monospace;;\n",
       "    font-size: 13px;\n",
       "    color: #555;\n",
       "    margin-left: 4px;\n",
       "    line-height: 19px;\n",
       "  }\n",
       "</style>\n",
       "<div class=\"ansiout\">root\n",
       "-- data: string (nullable = true)\n",
       "\n",
       "</div>"
      ]
     },
     "metadata": {},
     "output_type": "display_data"
    }
   ],
   "source": [
    "tweets.printSchema()"
   ]
  },
  {
   "cell_type": "code",
   "execution_count": 11,
   "metadata": {},
   "outputs": [
    {
     "data": {
      "text/html": [
       "<style scoped>\n",
       "  .ansiout {\n",
       "    display: block;\n",
       "    unicode-bidi: embed;\n",
       "    white-space: pre-wrap;\n",
       "    word-wrap: break-word;\n",
       "    word-break: break-all;\n",
       "    font-family: \"Source Code Pro\", \"Menlo\", monospace;;\n",
       "    font-size: 13px;\n",
       "    color: #555;\n",
       "    margin-left: 4px;\n",
       "    line-height: 19px;\n",
       "  }\n",
       "</style>\n",
       "<div class=\"ansiout\">+----------------------------------------------------------------------------------------------------------------------------------------------------------------------------------------------------------------------------------------------------------------------------------------------------------------------------------------------------------------------------------------------------------------------------------------------------------------------------------------------------------------------------------------------------------------------------------------------------------------------------------------------------------------------------------------------------------------------------------------------------------------------------------------------------------------------------------------------------------------------------------------------------------------------------------------------------------------------------------------------------------------------------------------------------------------------------------------------------------------------------------------------------------------------------------------------------------------------------------------------------------------------------------------------------------------------------------------------------------------------------------------------------------------------------------------------------------------------------------------------------------------------------------------------------------------------------------------------------------------------------------------------------------------------------------------------------------------------------------------------------------------------------------------------------------------------------------------------------------------------------------------------+\n",
       "data                                                                                                                                                                                                                                                                                                                                                                                                                                                                                                                                                                                                                                                                                                                                                                                                                                                                                                                                                                                                                                                                                                                                                                                                                                                                                                                                                                                                                                                                                                                                                                                                                                                                                                                                                                                                                                                                                          |\n",
       "+----------------------------------------------------------------------------------------------------------------------------------------------------------------------------------------------------------------------------------------------------------------------------------------------------------------------------------------------------------------------------------------------------------------------------------------------------------------------------------------------------------------------------------------------------------------------------------------------------------------------------------------------------------------------------------------------------------------------------------------------------------------------------------------------------------------------------------------------------------------------------------------------------------------------------------------------------------------------------------------------------------------------------------------------------------------------------------------------------------------------------------------------------------------------------------------------------------------------------------------------------------------------------------------------------------------------------------------------------------------------------------------------------------------------------------------------------------------------------------------------------------------------------------------------------------------------------------------------------------------------------------------------------------------------------------------------------------------------------------------------------------------------------------------------------------------------------------------------------------------------------------------------+\n",
       "[{&#34;id&#34;: &#34;1243933850968809472&#34;, &#34;tweet&#34;: &#34;b&#39;RT @T9uRhHfR8jsSP57: \\\\xe0\\\\xb9\\\\x83\\\\xe0\\\\xb8\\\\x99\\\\xe0\\\\xb8\\\\x95\\\\xe0\\\\xb8\\\\xad\\\\xe0\\\\xb8\\\\x99\\\\xe0\\\\xb8\\\\x99\\\\xe0\\\\xb8\\\\xb5\\\\xe0\\\\xb9\\\\x89\\\\xe0\\\\xb8\\\\x9a\\\\xe0\\\\xb8\\\\xb2\\\\xe0\\\\xb8\\\\x87\\\\xe0\\\\xb8\\\\x88\\\\xe0\\\\xb8\\\\xb1\\\\xe0\\\\xb8\\\\x87\\\\xe0\\\\xb8\\\\xab\\\\xe0\\\\xb8\\\\xa7\\\\xe0\\\\xb8\\\\xb1\\\\xe0\\\\xb8\\\\x94\\\\xe0\\\\xb8\\\\x95\\\\xe0\\\\xb9\\\\x89\\\\xe0\\\\xb8\\\\xad\\\\xe0\\\\xb8\\\\x87\\\\xe0\\\\xb8\\\\x9b\\\\xe0\\\\xb8\\\\xaa\\\\xe0\\\\xb8\\\\x94\\\\xe0\\\\xb8\\\\x81\\\\xe0\\\\xb8\\\\xb1\\\\xe0\\\\xb8\\\\x9a\\\\xe0\\\\xb9\\\\x84\\\\xe0\\\\xb8\\\\xa7\\\\xe0\\\\xb8\\\\xa3\\\\xe0\\\\xb8\\\\xb1\\\\xe0\\\\xb8\\\\xaa \\\\xe0\\\\xb9\\\\x81\\\\xe0\\\\xb8\\\\x95\\\\xe0\\\\xb9\\\\x88\\\\xe0\\\\xb9\\\\x80\\\\xe0\\\\xb8\\\\x8a\\\\xe0\\\\xb8\\\\xb5\\\\xe0\\\\xb8\\\\xa2\\\\xe0\\\\xb8\\\\x87\\\\xe0\\\\xb9\\\\x83\\\\xe0\\\\xb8\\\\xab\\\\xe0\\\\xb8\\\\xa1\\\\xe0\\\\xb9\\\\x88\\\\xe0\\\\xb8\\\\x95\\\\xe0\\\\xb8\\\\xad\\\\xe0\\\\xb8\\\\x99\\\\xe0\\\\xb8\\\\x99\\\\xe0\\\\xb8\\\\xb5\\\\xe0\\\\xb9\\\\x89\\\\xe0\\\\xb8\\\\x84\\\\xe0\\\\xb8\\\\xb7\\\\xe0\\\\xb8\\\\xad \\\\xe0\\\\xb9\\\\x84\\\\xe0\\\\xb8\\\\x9f\\\\xe0\\\\xb8\\\\x9b\\\\xe0\\\\xb9\\\\x88\\\\xe0\\\\xb8\\\\xb2 \\\\xe0\\\\xb9\\\\x84\\\\xe0\\\\xb8\\\\xa7\\\\xe0\\\\xb8\\\\xa3\\\\xe0\\\\xb8\\\\xb1\\\\xe0\\\\xb8\\\\xaa\\\\xe0\\\\xb8\\\\x81\\\\xe0\\\\xb9\\\\x87\\\\xe0\\\\xb8\\\\x81\\\\xe0\\\\xb8\\\\xa5\\\\xe0\\\\xb8\\\\xb1\\\\xe0\\\\xb8\\\\xa7\\\\xe0\\\\xb9\\\\x81\\\\xe0\\\\xb8\\\\x96\\\\xe0\\\\xb8\\\\xa1\\\\xe0\\\\xb8\\\\x95\\\\xe0\\\\xb8\\\\xad\\\\xe0\\\\xb8\\\\x99\\\\xe0\\\\xb8\\\\x99\\\\xe0\\\\xb8\\\\xb5\\\\xe0\\\\xb9\\\\x89\\\\xe0\\\\xb8\\\\x94\\\\xe0\\\\xb9\\\\x89\\\\xe0\\\\xb8\\\\xa7\\\\xe0\\\\xb8\\\\xa2\\\\xe0\\\\xb8\\\\x84\\\\xe0\\\\xb9\\\\x88\\\\xe0\\\\xb8\\\\xb2\\\\xe0\\\\xb8\\\\x9d\\\\xe0\\\\xb8\\\\xb8\\\\xe0\\\\xb9\\\\x88\\\\xe0\\\\xb8\\\\x99\\\\xe0\\\\xb8\\\\x97\\\\xe0\\\\xb8\\\\xb5\\\\xe0\\\\xb9\\\\x88\\\\xe0\\\\xb8\\\\x89\\\\xe0\\\\xb8\\\\xb4\\\\xe0\\\\xb8\\\\x9a\\\\xe0\\\\xb8\\\\xab\\\\xe0\\\\xb8\\\\xb2\\\\xe0\\\\xb8\\\\xa2\\\\xe0\\\\xb8\\\\x82\\\\xe0\\\\xb8\\\\xb6\\\\xe0\\\\xb9\\\\x89\\\\xe0\\\\xb8\\\\x99\\\\xe0\\\\xb9\\\\x84\\\\xe0\\\\xb8\\\\x9b\\\\xe0\\\\xb8\\\\xad\\\\xe0\\\\xb8\\\\xb5\\\\xe0\\\\xb8\\\\x81 \\\\xe0\\\\xb9\\\\x80\\\\xe0\\\\xb8\\\\xad\\\\xe0\\\\xb8\\\\xb2\\\\xe0\\\\xb9\\\\x83\\\\xe0\\\\xb8\\\\x88\\\\xe2\\\\x80\\\\xa6&#39;&#34;, &#34;ts&#34;: &#34;Sat Mar 28 16:11:55 +0000 2020&#34;}]|\n",
       "[{&#34;id&#34;: &#34;1243933850666823680&#34;, &#34;tweet&#34;: &#34;b&#39;States affected by Coronavirus in India\\\\n\\\\n#IndiaFightsCorona \\\\n#Covid_19 #coronavirus https://t.co/V6Sp85u3gX&#39;&#34;, &#34;ts&#34;: &#34;Sat Mar 28 16:11:55 +0000 2020&#34;}]                                                                                                                                                                                                                                                                                                                                                                                                                                                                                                                                                                                                                                                                                                                                                                                                                                                                                                                                                                                                                                                                                                                                                                                                                                                                                                                                                                                                                                                                                                                                                                                                                                                                                      |\n",
       "[{&#34;id&#34;: &#34;1243933849853149186&#34;, &#34;tweet&#34;: &#34;b\\&#34;@ABSCBNNews Watch #MuhammadShaikh, who has delivered more than 50 lectures on different topics of Qur&#39;an in English\\\\xe2\\\\x80\\\\xa6 https://t.co/7GPuUE9Bwx\\&#34;&#34;, &#34;ts&#34;: &#34;Sat Mar 28 16:11:55 +0000 2020&#34;}]                                                                                                                                                                                                                                                                                                                                                                                                                                                                                                                                                                                                                                                                                                                                                                                                                                                                                                                                                                                                                                                                                                                                                                                                                                                                                                                                                                                                                                                                                                                                                                                                                                           |\n",
       "[{&#34;id&#34;: &#34;1243933852273455104&#34;, &#34;tweet&#34;: &#34;b&#39;RT @BayoOmoboriowo: Thank you for checking up brother. Here are some images from today, Pls stay safe also. https://t.co/yBHZr1w1Ux https:/\\\\xe2\\\\x80\\\\xa6&#39;&#34;, &#34;ts&#34;: &#34;Sat Mar 28 16:11:56 +0000 2020&#34;}]                                                                                                                                                                                                                                                                                                                                                                                                                                                                                                                                                                                                                                                                                                                                                                                                                                                                                                                                                                                                                                                                                                                                                                                                                                                                                                                                                                                                                                                                                                                                                                                                                                             |\n",
       "[{&#34;id&#34;: &#34;1243933852567044096&#34;, &#34;tweet&#34;: &#34;b&#39;RT @Humafayaz1: Can\\\\&#39;t Wait For The Day To Hear\\\\n \\&#34;Corona Virus Is Finally Gone\\&#34;\\\\n#Covid_19 #SaturdayMotivation&#39;&#34;, &#34;ts&#34;: &#34;Sat Mar 28 16:11:56 +0000 2020&#34;}]                                                                                                                                                                                                                                                                                                                                                                                                                                                                                                                                                                                                                                                                                                                                                                                                                                                                                                                                                                                                                                                                                                                                                                                                                                                                                                                                                                                                                                                                                                                                                                                                                                                                                   |\n",
       "+----------------------------------------------------------------------------------------------------------------------------------------------------------------------------------------------------------------------------------------------------------------------------------------------------------------------------------------------------------------------------------------------------------------------------------------------------------------------------------------------------------------------------------------------------------------------------------------------------------------------------------------------------------------------------------------------------------------------------------------------------------------------------------------------------------------------------------------------------------------------------------------------------------------------------------------------------------------------------------------------------------------------------------------------------------------------------------------------------------------------------------------------------------------------------------------------------------------------------------------------------------------------------------------------------------------------------------------------------------------------------------------------------------------------------------------------------------------------------------------------------------------------------------------------------------------------------------------------------------------------------------------------------------------------------------------------------------------------------------------------------------------------------------------------------------------------------------------------------------------------------------------------+\n",
       "only showing top 5 rows\n",
       "\n",
       "</div>"
      ]
     },
     "metadata": {},
     "output_type": "display_data"
    }
   ],
   "source": [
    "tweets.show(5, truncate=False)"
   ]
  },
  {
   "cell_type": "code",
   "execution_count": 12,
   "metadata": {},
   "outputs": [
    {
     "data": {
      "text/html": [
       "<style scoped>\n",
       "  .ansiout {\n",
       "    display: block;\n",
       "    unicode-bidi: embed;\n",
       "    white-space: pre-wrap;\n",
       "    word-wrap: break-word;\n",
       "    word-break: break-all;\n",
       "    font-family: \"Source Code Pro\", \"Menlo\", monospace;;\n",
       "    font-size: 13px;\n",
       "    color: #555;\n",
       "    margin-left: 4px;\n",
       "    line-height: 19px;\n",
       "  }\n",
       "</style>\n",
       "<div class=\"ansiout\">+--------------------+\n",
       "                data|\n",
       "+--------------------+\n",
       "[{&#34;id&#34;: &#34;12378657...|\n",
       "[{&#34;id&#34;: &#34;12378657...|\n",
       "[{&#34;id&#34;: &#34;12378657...|\n",
       "[{&#34;id&#34;: &#34;12378657...|\n",
       "[{&#34;id&#34;: &#34;12378657...|\n",
       "+--------------------+\n",
       "only showing top 5 rows\n",
       "\n",
       "</div>"
      ]
     },
     "metadata": {},
     "output_type": "display_data"
    }
   ],
   "source": [
    "tweets.show(5, truncate=True)"
   ]
  },
  {
   "cell_type": "code",
   "execution_count": 13,
   "metadata": {},
   "outputs": [
    {
     "data": {
      "text/html": [
       "<style scoped>\n",
       "  .ansiout {\n",
       "    display: block;\n",
       "    unicode-bidi: embed;\n",
       "    white-space: pre-wrap;\n",
       "    word-wrap: break-word;\n",
       "    word-break: break-all;\n",
       "    font-family: \"Source Code Pro\", \"Menlo\", monospace;;\n",
       "    font-size: 13px;\n",
       "    color: #555;\n",
       "    margin-left: 4px;\n",
       "    line-height: 19px;\n",
       "  }\n",
       "</style>\n",
       "<div class=\"ansiout\">Out[65]: 29045</div>"
      ]
     },
     "metadata": {},
     "output_type": "display_data"
    }
   ],
   "source": [
    "tweets.count()"
   ]
  },
  {
   "cell_type": "markdown",
   "metadata": {},
   "source": [
    "#### Parsing the Streaming Tweets"
   ]
  },
  {
   "cell_type": "code",
   "execution_count": 15,
   "metadata": {},
   "outputs": [
    {
     "data": {
      "text/html": [
       "<style scoped>\n",
       "  .ansiout {\n",
       "    display: block;\n",
       "    unicode-bidi: embed;\n",
       "    white-space: pre-wrap;\n",
       "    word-wrap: break-word;\n",
       "    word-break: break-all;\n",
       "    font-family: \"Source Code Pro\", \"Menlo\", monospace;;\n",
       "    font-size: 13px;\n",
       "    color: #555;\n",
       "    margin-left: 4px;\n",
       "    line-height: 19px;\n",
       "  }\n",
       "</style>\n",
       "<div class=\"ansiout\"></div>"
      ]
     },
     "metadata": {},
     "output_type": "display_data"
    }
   ],
   "source": [
    "from pyspark.sql.functions import UserDefinedFunction\n",
    "from pyspark.sql.types import StringType\n",
    "from pyspark.sql.types import IntegerType\n",
    "from pyspark.sql.functions import *\n",
    "\n",
    "import json\n",
    "\n",
    "def parse_tweet(text):\n",
    "    data = json.loads(text)\n",
    "    id = data[0]['id']\n",
    "    ts = data[0]['ts']\n",
    "    tweet = data[0]['tweet'] \n",
    "    return (id, ts, tweet)\n",
    "    \n",
    "# Define your function\n",
    "getID = UserDefinedFunction(lambda x: parse_tweet(x)[0], StringType())\n",
    "getTs = UserDefinedFunction(lambda x: parse_tweet(x)[1], StringType())\n",
    "getTweet = UserDefinedFunction(lambda x: parse_tweet(x)[2], StringType())\n",
    "\n",
    "# Apply the UDF using withColumn\n",
    "tweets = (tweets.withColumn('id', getID(col(\"data\")))\n",
    "               .withColumn('ts', getTs(col(\"data\")))\n",
    "               .withColumn('tweet', getTweet(col(\"data\")))\n",
    "         )\n"
   ]
  },
  {
   "cell_type": "code",
   "execution_count": 16,
   "metadata": {},
   "outputs": [
    {
     "data": {
      "text/html": [
       "<style scoped>\n",
       "  .ansiout {\n",
       "    display: block;\n",
       "    unicode-bidi: embed;\n",
       "    white-space: pre-wrap;\n",
       "    word-wrap: break-word;\n",
       "    word-break: break-all;\n",
       "    font-family: \"Source Code Pro\", \"Menlo\", monospace;;\n",
       "    font-size: 13px;\n",
       "    color: #555;\n",
       "    margin-left: 4px;\n",
       "    line-height: 19px;\n",
       "  }\n",
       "</style>\n",
       "<div class=\"ansiout\">+----------------------------------------------------------------------------------------------------------------------------------------------------------------------------------------------------------------------------------------------------------------------------------------------------------------------------------------------------------------------------------------------------------------------------------------------------------------------------------------------------------------------------------------------------------------------------------------------------------------------------------------------------------------------------------------------------------------------------------------------------------------------------------------------------------------------------------------------------------------------------------------------------------------------------------------------------------------------------------------------------------------------------------------------------------------------------------------------------------------------------------------------------------------------------------------------------------------------------------------------------------------------------------------------------------------------------------------------------------------------------------------------------------------------------------------------------------------------------------------------------------------------------------------------------------------------------------------------------------------------------------------------------------------------------------------------------------------------------------------------------------------------------------------------------------------------------------------------------------------------------------------------+-------------------+------------------------------+----------------------------------------------------------------------------------------------------------------------------------------------------------------------------------------------------------------------------------------------------------------------------------------------------------------------------------------------------------------------------------------------------------------------------------------------------------------------------------------------------------------------------------------------------------------------------------------------------------------------------------------------------------------------------------------------------------------------------------------------------------------------------------------------------------------------------------------------------------------------------------------------------------------------------------------------------------------------------------------------------------------------------------------------------------------------------------------------------------------------------------------------------------------------------------------------------------------------------------------------------------------------------------------------------------------------------------------------------------------------------------------------------------------------------------------------------+\n",
       "data                                                                                                                                                                                                                                                                                                                                                                                                                                                                                                                                                                                                                                                                                                                                                                                                                                                                                                                                                                                                                                                                                                                                                                                                                                                                                                                                                                                                                                                                                                                                                                                                                                                                                                                                                                                                                                                                                          |id                 |ts                            |tweet                                                                                                                                                                                                                                                                                                                                                                                                                                                                                                                                                                                                                                                                                                                                                                                                                                                                                                                                                                                                                                                                                                                                                                                                                                                                                                                                                                                                                                               |\n",
       "+----------------------------------------------------------------------------------------------------------------------------------------------------------------------------------------------------------------------------------------------------------------------------------------------------------------------------------------------------------------------------------------------------------------------------------------------------------------------------------------------------------------------------------------------------------------------------------------------------------------------------------------------------------------------------------------------------------------------------------------------------------------------------------------------------------------------------------------------------------------------------------------------------------------------------------------------------------------------------------------------------------------------------------------------------------------------------------------------------------------------------------------------------------------------------------------------------------------------------------------------------------------------------------------------------------------------------------------------------------------------------------------------------------------------------------------------------------------------------------------------------------------------------------------------------------------------------------------------------------------------------------------------------------------------------------------------------------------------------------------------------------------------------------------------------------------------------------------------------------------------------------------------+-------------------+------------------------------+----------------------------------------------------------------------------------------------------------------------------------------------------------------------------------------------------------------------------------------------------------------------------------------------------------------------------------------------------------------------------------------------------------------------------------------------------------------------------------------------------------------------------------------------------------------------------------------------------------------------------------------------------------------------------------------------------------------------------------------------------------------------------------------------------------------------------------------------------------------------------------------------------------------------------------------------------------------------------------------------------------------------------------------------------------------------------------------------------------------------------------------------------------------------------------------------------------------------------------------------------------------------------------------------------------------------------------------------------------------------------------------------------------------------------------------------------+\n",
       "[{&#34;id&#34;: &#34;1243933850968809472&#34;, &#34;tweet&#34;: &#34;b&#39;RT @T9uRhHfR8jsSP57: \\\\xe0\\\\xb9\\\\x83\\\\xe0\\\\xb8\\\\x99\\\\xe0\\\\xb8\\\\x95\\\\xe0\\\\xb8\\\\xad\\\\xe0\\\\xb8\\\\x99\\\\xe0\\\\xb8\\\\x99\\\\xe0\\\\xb8\\\\xb5\\\\xe0\\\\xb9\\\\x89\\\\xe0\\\\xb8\\\\x9a\\\\xe0\\\\xb8\\\\xb2\\\\xe0\\\\xb8\\\\x87\\\\xe0\\\\xb8\\\\x88\\\\xe0\\\\xb8\\\\xb1\\\\xe0\\\\xb8\\\\x87\\\\xe0\\\\xb8\\\\xab\\\\xe0\\\\xb8\\\\xa7\\\\xe0\\\\xb8\\\\xb1\\\\xe0\\\\xb8\\\\x94\\\\xe0\\\\xb8\\\\x95\\\\xe0\\\\xb9\\\\x89\\\\xe0\\\\xb8\\\\xad\\\\xe0\\\\xb8\\\\x87\\\\xe0\\\\xb8\\\\x9b\\\\xe0\\\\xb8\\\\xaa\\\\xe0\\\\xb8\\\\x94\\\\xe0\\\\xb8\\\\x81\\\\xe0\\\\xb8\\\\xb1\\\\xe0\\\\xb8\\\\x9a\\\\xe0\\\\xb9\\\\x84\\\\xe0\\\\xb8\\\\xa7\\\\xe0\\\\xb8\\\\xa3\\\\xe0\\\\xb8\\\\xb1\\\\xe0\\\\xb8\\\\xaa \\\\xe0\\\\xb9\\\\x81\\\\xe0\\\\xb8\\\\x95\\\\xe0\\\\xb9\\\\x88\\\\xe0\\\\xb9\\\\x80\\\\xe0\\\\xb8\\\\x8a\\\\xe0\\\\xb8\\\\xb5\\\\xe0\\\\xb8\\\\xa2\\\\xe0\\\\xb8\\\\x87\\\\xe0\\\\xb9\\\\x83\\\\xe0\\\\xb8\\\\xab\\\\xe0\\\\xb8\\\\xa1\\\\xe0\\\\xb9\\\\x88\\\\xe0\\\\xb8\\\\x95\\\\xe0\\\\xb8\\\\xad\\\\xe0\\\\xb8\\\\x99\\\\xe0\\\\xb8\\\\x99\\\\xe0\\\\xb8\\\\xb5\\\\xe0\\\\xb9\\\\x89\\\\xe0\\\\xb8\\\\x84\\\\xe0\\\\xb8\\\\xb7\\\\xe0\\\\xb8\\\\xad \\\\xe0\\\\xb9\\\\x84\\\\xe0\\\\xb8\\\\x9f\\\\xe0\\\\xb8\\\\x9b\\\\xe0\\\\xb9\\\\x88\\\\xe0\\\\xb8\\\\xb2 \\\\xe0\\\\xb9\\\\x84\\\\xe0\\\\xb8\\\\xa7\\\\xe0\\\\xb8\\\\xa3\\\\xe0\\\\xb8\\\\xb1\\\\xe0\\\\xb8\\\\xaa\\\\xe0\\\\xb8\\\\x81\\\\xe0\\\\xb9\\\\x87\\\\xe0\\\\xb8\\\\x81\\\\xe0\\\\xb8\\\\xa5\\\\xe0\\\\xb8\\\\xb1\\\\xe0\\\\xb8\\\\xa7\\\\xe0\\\\xb9\\\\x81\\\\xe0\\\\xb8\\\\x96\\\\xe0\\\\xb8\\\\xa1\\\\xe0\\\\xb8\\\\x95\\\\xe0\\\\xb8\\\\xad\\\\xe0\\\\xb8\\\\x99\\\\xe0\\\\xb8\\\\x99\\\\xe0\\\\xb8\\\\xb5\\\\xe0\\\\xb9\\\\x89\\\\xe0\\\\xb8\\\\x94\\\\xe0\\\\xb9\\\\x89\\\\xe0\\\\xb8\\\\xa7\\\\xe0\\\\xb8\\\\xa2\\\\xe0\\\\xb8\\\\x84\\\\xe0\\\\xb9\\\\x88\\\\xe0\\\\xb8\\\\xb2\\\\xe0\\\\xb8\\\\x9d\\\\xe0\\\\xb8\\\\xb8\\\\xe0\\\\xb9\\\\x88\\\\xe0\\\\xb8\\\\x99\\\\xe0\\\\xb8\\\\x97\\\\xe0\\\\xb8\\\\xb5\\\\xe0\\\\xb9\\\\x88\\\\xe0\\\\xb8\\\\x89\\\\xe0\\\\xb8\\\\xb4\\\\xe0\\\\xb8\\\\x9a\\\\xe0\\\\xb8\\\\xab\\\\xe0\\\\xb8\\\\xb2\\\\xe0\\\\xb8\\\\xa2\\\\xe0\\\\xb8\\\\x82\\\\xe0\\\\xb8\\\\xb6\\\\xe0\\\\xb9\\\\x89\\\\xe0\\\\xb8\\\\x99\\\\xe0\\\\xb9\\\\x84\\\\xe0\\\\xb8\\\\x9b\\\\xe0\\\\xb8\\\\xad\\\\xe0\\\\xb8\\\\xb5\\\\xe0\\\\xb8\\\\x81 \\\\xe0\\\\xb9\\\\x80\\\\xe0\\\\xb8\\\\xad\\\\xe0\\\\xb8\\\\xb2\\\\xe0\\\\xb9\\\\x83\\\\xe0\\\\xb8\\\\x88\\\\xe2\\\\x80\\\\xa6&#39;&#34;, &#34;ts&#34;: &#34;Sat Mar 28 16:11:55 +0000 2020&#34;}]|1243933850968809472|Sat Mar 28 16:11:55 +0000 2020|b&#39;RT @T9uRhHfR8jsSP57: \\xe0\\xb9\\x83\\xe0\\xb8\\x99\\xe0\\xb8\\x95\\xe0\\xb8\\xad\\xe0\\xb8\\x99\\xe0\\xb8\\x99\\xe0\\xb8\\xb5\\xe0\\xb9\\x89\\xe0\\xb8\\x9a\\xe0\\xb8\\xb2\\xe0\\xb8\\x87\\xe0\\xb8\\x88\\xe0\\xb8\\xb1\\xe0\\xb8\\x87\\xe0\\xb8\\xab\\xe0\\xb8\\xa7\\xe0\\xb8\\xb1\\xe0\\xb8\\x94\\xe0\\xb8\\x95\\xe0\\xb9\\x89\\xe0\\xb8\\xad\\xe0\\xb8\\x87\\xe0\\xb8\\x9b\\xe0\\xb8\\xaa\\xe0\\xb8\\x94\\xe0\\xb8\\x81\\xe0\\xb8\\xb1\\xe0\\xb8\\x9a\\xe0\\xb9\\x84\\xe0\\xb8\\xa7\\xe0\\xb8\\xa3\\xe0\\xb8\\xb1\\xe0\\xb8\\xaa \\xe0\\xb9\\x81\\xe0\\xb8\\x95\\xe0\\xb9\\x88\\xe0\\xb9\\x80\\xe0\\xb8\\x8a\\xe0\\xb8\\xb5\\xe0\\xb8\\xa2\\xe0\\xb8\\x87\\xe0\\xb9\\x83\\xe0\\xb8\\xab\\xe0\\xb8\\xa1\\xe0\\xb9\\x88\\xe0\\xb8\\x95\\xe0\\xb8\\xad\\xe0\\xb8\\x99\\xe0\\xb8\\x99\\xe0\\xb8\\xb5\\xe0\\xb9\\x89\\xe0\\xb8\\x84\\xe0\\xb8\\xb7\\xe0\\xb8\\xad \\xe0\\xb9\\x84\\xe0\\xb8\\x9f\\xe0\\xb8\\x9b\\xe0\\xb9\\x88\\xe0\\xb8\\xb2 \\xe0\\xb9\\x84\\xe0\\xb8\\xa7\\xe0\\xb8\\xa3\\xe0\\xb8\\xb1\\xe0\\xb8\\xaa\\xe0\\xb8\\x81\\xe0\\xb9\\x87\\xe0\\xb8\\x81\\xe0\\xb8\\xa5\\xe0\\xb8\\xb1\\xe0\\xb8\\xa7\\xe0\\xb9\\x81\\xe0\\xb8\\x96\\xe0\\xb8\\xa1\\xe0\\xb8\\x95\\xe0\\xb8\\xad\\xe0\\xb8\\x99\\xe0\\xb8\\x99\\xe0\\xb8\\xb5\\xe0\\xb9\\x89\\xe0\\xb8\\x94\\xe0\\xb9\\x89\\xe0\\xb8\\xa7\\xe0\\xb8\\xa2\\xe0\\xb8\\x84\\xe0\\xb9\\x88\\xe0\\xb8\\xb2\\xe0\\xb8\\x9d\\xe0\\xb8\\xb8\\xe0\\xb9\\x88\\xe0\\xb8\\x99\\xe0\\xb8\\x97\\xe0\\xb8\\xb5\\xe0\\xb9\\x88\\xe0\\xb8\\x89\\xe0\\xb8\\xb4\\xe0\\xb8\\x9a\\xe0\\xb8\\xab\\xe0\\xb8\\xb2\\xe0\\xb8\\xa2\\xe0\\xb8\\x82\\xe0\\xb8\\xb6\\xe0\\xb9\\x89\\xe0\\xb8\\x99\\xe0\\xb9\\x84\\xe0\\xb8\\x9b\\xe0\\xb8\\xad\\xe0\\xb8\\xb5\\xe0\\xb8\\x81 \\xe0\\xb9\\x80\\xe0\\xb8\\xad\\xe0\\xb8\\xb2\\xe0\\xb9\\x83\\xe0\\xb8\\x88\\xe2\\x80\\xa6&#39;|\n",
       "[{&#34;id&#34;: &#34;1243933850666823680&#34;, &#34;tweet&#34;: &#34;b&#39;States affected by Coronavirus in India\\\\n\\\\n#IndiaFightsCorona \\\\n#Covid_19 #coronavirus https://t.co/V6Sp85u3gX&#39;&#34;, &#34;ts&#34;: &#34;Sat Mar 28 16:11:55 +0000 2020&#34;}]                                                                                                                                                                                                                                                                                                                                                                                                                                                                                                                                                                                                                                                                                                                                                                                                                                                                                                                                                                                                                                                                                                                                                                                                                                                                                                                                                                                                                                                                                                                                                                                                                                                                                      |1243933850666823680|Sat Mar 28 16:11:55 +0000 2020|b&#39;States affected by Coronavirus in India\\n\\n#IndiaFightsCorona \\n#Covid_19 #coronavirus https://t.co/V6Sp85u3gX&#39;                                                                                                                                                                                                                                                                                                                                                                                                                                                                                                                                                                                                                                                                                                                                                                                                                                                                                                                                                                                                                                                                                                                                                                                                                                                                                                                                   |\n",
       "[{&#34;id&#34;: &#34;1243933849853149186&#34;, &#34;tweet&#34;: &#34;b\\&#34;@ABSCBNNews Watch #MuhammadShaikh, who has delivered more than 50 lectures on different topics of Qur&#39;an in English\\\\xe2\\\\x80\\\\xa6 https://t.co/7GPuUE9Bwx\\&#34;&#34;, &#34;ts&#34;: &#34;Sat Mar 28 16:11:55 +0000 2020&#34;}]                                                                                                                                                                                                                                                                                                                                                                                                                                                                                                                                                                                                                                                                                                                                                                                                                                                                                                                                                                                                                                                                                                                                                                                                                                                                                                                                                                                                                                                                                                                                                                                                                                           |1243933849853149186|Sat Mar 28 16:11:55 +0000 2020|b&#34;@ABSCBNNews Watch #MuhammadShaikh, who has delivered more than 50 lectures on different topics of Qur&#39;an in English\\xe2\\x80\\xa6 https://t.co/7GPuUE9Bwx&#34;                                                                                                                                                                                                                                                                                                                                                                                                                                                                                                                                                                                                                                                                                                                                                                                                                                                                                                                                                                                                                                                                                                                                                                                                                                                                                          |\n",
       "[{&#34;id&#34;: &#34;1243933852273455104&#34;, &#34;tweet&#34;: &#34;b&#39;RT @BayoOmoboriowo: Thank you for checking up brother. Here are some images from today, Pls stay safe also. https://t.co/yBHZr1w1Ux https:/\\\\xe2\\\\x80\\\\xa6&#39;&#34;, &#34;ts&#34;: &#34;Sat Mar 28 16:11:56 +0000 2020&#34;}]                                                                                                                                                                                                                                                                                                                                                                                                                                                                                                                                                                                                                                                                                                                                                                                                                                                                                                                                                                                                                                                                                                                                                                                                                                                                                                                                                                                                                                                                                                                                                                                                                                             |1243933852273455104|Sat Mar 28 16:11:56 +0000 2020|b&#39;RT @BayoOmoboriowo: Thank you for checking up brother. Here are some images from today, Pls stay safe also. https://t.co/yBHZr1w1Ux https:/\\xe2\\x80\\xa6&#39;                                                                                                                                                                                                                                                                                                                                                                                                                                                                                                                                                                                                                                                                                                                                                                                                                                                                                                                                                                                                                                                                                                                                                                                                                                                                                          |\n",
       "[{&#34;id&#34;: &#34;1243933852567044096&#34;, &#34;tweet&#34;: &#34;b&#39;RT @Humafayaz1: Can\\\\&#39;t Wait For The Day To Hear\\\\n \\&#34;Corona Virus Is Finally Gone\\&#34;\\\\n#Covid_19 #SaturdayMotivation&#39;&#34;, &#34;ts&#34;: &#34;Sat Mar 28 16:11:56 +0000 2020&#34;}]                                                                                                                                                                                                                                                                                                                                                                                                                                                                                                                                                                                                                                                                                                                                                                                                                                                                                                                                                                                                                                                                                                                                                                                                                                                                                                                                                                                                                                                                                                                                                                                                                                                                                   |1243933852567044096|Sat Mar 28 16:11:56 +0000 2020|b&#39;RT @Humafayaz1: Can\\&#39;t Wait For The Day To Hear\\n &#34;Corona Virus Is Finally Gone&#34;\\n#Covid_19 #SaturdayMotivation&#39;                                                                                                                                                                                                                                                                                                                                                                                                                                                                                                                                                                                                                                                                                                                                                                                                                                                                                                                                                                                                                                                                                                                                                                                                                                                                                                                                  |\n",
       "\n",
       "*** WARNING: skipped 29457 bytes of output ***\n",
       "\n",
       "[{&#34;id&#34;: &#34;1243933854324396034&#34;, &#34;tweet&#34;: &#34;b&#39;RT @ufpol: Muy grande el compa\\\\xc3\\\\xb1ero Lorenzo \\\\xf0\\\\x9f\\\\x91\\\\x8f\\\\xf0\\\\x9f\\\\x91\\\\x8f\\\\xf0\\\\x9f\\\\x91\\\\x8f #LoVamosAParar #QuedateEnCasa&#39;&#34;, &#34;ts&#34;: &#34;Sat Mar 28 16:11:56 +0000 2020&#34;}]                                                                                                                                                                                                                                                                                                                                                                                                                                                                                                                                                                                                                                                                                                                                                                                                                                                                                                                                                                                                                                                                                                                                                                                                                                                                                                                                                                                                                                                                                                                                                                                                                                                         |1243933854324396034|Sat Mar 28 16:11:56 +0000 2020|b&#39;RT @ufpol: Muy grande el compa\\xc3\\xb1ero Lorenzo \\xf0\\x9f\\x91\\x8f\\xf0\\x9f\\x91\\x8f\\xf0\\x9f\\x91\\x8f #LoVamosAParar #QuedateEnCasa&#39;                                                                                                                                                                                                                                                                                                                                                                                                                                                                                                                                                                                                                                                                                                                                                                                                                                                                                                                                                                                                                                                                                                                                                                                                                                                                                                                 |\n",
       "[{&#34;id&#34;: &#34;1243933854752219138&#34;, &#34;tweet&#34;: &#34;b&#39;#IzquierdaObstruccionista mediante indicaciones abiertamente inconstitucionales frena legislar\\\\xe2\\\\x80\\\\xa6 https://t.co/jnfFhXtgif&#39;&#34;, &#34;ts&#34;: &#34;Sat Mar 28 16:11:56 +0000 2020&#34;}]                                                                                                                                                                                                                                                                                                                                                                                                                                                                                                                                                                                                                                                                                                                                                                                                                                                                                                                                                                                                                                                                                                                                                                                                                                                                                                                                                                                                                                                                                                                                                                                                                                                                  |1243933854752219138|Sat Mar 28 16:11:56 +0000 2020|b&#39;#IzquierdaObstruccionista mediante indicaciones abiertamente inconstitucionales frena legislar\\xe2\\x80\\xa6 https://t.co/jnfFhXtgif&#39;                                                                                                                                                                                                                                                                                                                                                                                                                                                                                                                                                                                                                                                                                                                                                                                                                                                                                                                                                                                                                                                                                                                                                                                                                                                                                                               |\n",
       "[{&#34;id&#34;: &#34;1243933855154950144&#34;, &#34;tweet&#34;: &#34;b&#39;RT @AABenedetti: Mientras que Luis Carlos Sarmiento le pide a sus empleados que donen sus vacaciones, Armani y 19 otros billonarios italian\\\\xe2\\\\x80\\\\xa6&#39;&#34;, &#34;ts&#34;: &#34;Sat Mar 28 16:11:56 +0000 2020&#34;}]                                                                                                                                                                                                                                                                                                                                                                                                                                                                                                                                                                                                                                                                                                                                                                                                                                                                                                                                                                                                                                                                                                                                                                                                                                                                                                                                                                                                                                                                                                                                                                                                                                             |1243933855154950144|Sat Mar 28 16:11:56 +0000 2020|b&#39;RT @AABenedetti: Mientras que Luis Carlos Sarmiento le pide a sus empleados que donen sus vacaciones, Armani y 19 otros billonarios italian\\xe2\\x80\\xa6&#39;                                                                                                                                                                                                                                                                                                                                                                                                                                                                                                                                                                                                                                                                                                                                                                                                                                                                                                                                                                                                                                                                                                                                                                                                                                                                                          |\n",
       "[{&#34;id&#34;: &#34;1243933855503056898&#34;, &#34;tweet&#34;: &#34;b&#39;RT @JefeVergara: CONTACTOS PARA TANQUES DE OX\\\\xc3\\\\x8dGENO!! He recopilado datos de personas y empresas que dan el servicio de alquile y venta de o\\\\xe2\\\\x80\\\\xa6&#39;&#34;, &#34;ts&#34;: &#34;Sat Mar 28 16:11:56 +0000 2020&#34;}]                                                                                                                                                                                                                                                                                                                                                                                                                                                                                                                                                                                                                                                                                                                                                                                                                                                                                                                                                                                                                                                                                                                                                                                                                                                                                                                                                                                                                                                                                                                                                                                                                                    |1243933855503056898|Sat Mar 28 16:11:56 +0000 2020|b&#39;RT @JefeVergara: CONTACTOS PARA TANQUES DE OX\\xc3\\x8dGENO!! He recopilado datos de personas y empresas que dan el servicio de alquile y venta de o\\xe2\\x80\\xa6&#39;                                                                                                                                                                                                                                                                                                                                                                                                                                                                                                                                                                                                                                                                                                                                                                                                                                                                                                                                                                                                                                                                                                                                                                                                                                                                                   |\n",
       "[{&#34;id&#34;: &#34;1243933855918305280&#34;, &#34;tweet&#34;: &#34;b&#39;RT @lavecinarubia: Leo que Cospedal es TT. Miro por qu\\\\xc3\\\\xa9. Veo que la hermana de Cospedal trabaja en un laboratorio que hace test r\\\\xc3\\\\xa1pidos con\\\\xe2\\\\x80\\\\xa6&#39;&#34;, &#34;ts&#34;: &#34;Sat Mar 28 16:11:57 +0000 2020&#34;}]                                                                                                                                                                                                                                                                                                                                                                                                                                                                                                                                                                                                                                                                                                                                                                                                                                                                                                                                                                                                                                                                                                                                                                                                                                                                                                                                                                                                                                                                                                                                                                                                                           |1243933855918305280|Sat Mar 28 16:11:57 +0000 2020|b&#39;RT @lavecinarubia: Leo que Cospedal es TT. Miro por qu\\xc3\\xa9. Veo que la hermana de Cospedal trabaja en un laboratorio que hace test r\\xc3\\xa1pidos con\\xe2\\x80\\xa6&#39;                                                                                                                                                                                                                                                                                                                                                                                                                                                                                                                                                                                                                                                                                                                                                                                                                                                                                                                                                                                                                                                                                                                                                                                                                                                                            |\n",
       "[{&#34;id&#34;: &#34;1243933856572596224&#34;, &#34;tweet&#34;: &#34;b&#39;@Nanchinho&#39;&#34;, &#34;ts&#34;: &#34;Sat Mar 28 16:11:57 +0000 2020&#34;}]                                                                                                                                                                                                                                                                                                                                                                                                                                                                                                                                                                                                                                                                                                                                                                                                                                                                                                                                                                                                                                                                                                                                                                                                                                                                                                                                                                                                                                                                                                                                                                                                                                                                                                                                                                                             |1243933856572596224|Sat Mar 28 16:11:57 +0000 2020|b&#39;@Nanchinho&#39;                                                                                                                                                                                                                                                                                                                                                                                                                                                                                                                                                                                                                                                                                                                                                                                                                                                                                                                                                                                                                                                                                                                                                                                                                                                                                                                                                                                                                                       |\n",
       "+----------------------------------------------------------------------------------------------------------------------------------------------------------------------------------------------------------------------------------------------------------------------------------------------------------------------------------------------------------------------------------------------------------------------------------------------------------------------------------------------------------------------------------------------------------------------------------------------------------------------------------------------------------------------------------------------------------------------------------------------------------------------------------------------------------------------------------------------------------------------------------------------------------------------------------------------------------------------------------------------------------------------------------------------------------------------------------------------------------------------------------------------------------------------------------------------------------------------------------------------------------------------------------------------------------------------------------------------------------------------------------------------------------------------------------------------------------------------------------------------------------------------------------------------------------------------------------------------------------------------------------------------------------------------------------------------------------------------------------------------------------------------------------------------------------------------------------------------------------------------------------------------+-------------------+------------------------------+----------------------------------------------------------------------------------------------------------------------------------------------------------------------------------------------------------------------------------------------------------------------------------------------------------------------------------------------------------------------------------------------------------------------------------------------------------------------------------------------------------------------------------------------------------------------------------------------------------------------------------------------------------------------------------------------------------------------------------------------------------------------------------------------------------------------------------------------------------------------------------------------------------------------------------------------------------------------------------------------------------------------------------------------------------------------------------------------------------------------------------------------------------------------------------------------------------------------------------------------------------------------------------------------------------------------------------------------------------------------------------------------------------------------------------------------------+\n",
       "only showing top 20 rows\n",
       "\n",
       "</div>"
      ]
     },
     "metadata": {},
     "output_type": "display_data"
    }
   ],
   "source": [
    "tweets.show(truncate=False)"
   ]
  },
  {
   "cell_type": "code",
   "execution_count": 17,
   "metadata": {},
   "outputs": [
    {
     "data": {
      "text/html": [
       "<style scoped>\n",
       "  .ansiout {\n",
       "    display: block;\n",
       "    unicode-bidi: embed;\n",
       "    white-space: pre-wrap;\n",
       "    word-wrap: break-word;\n",
       "    word-break: break-all;\n",
       "    font-family: \"Source Code Pro\", \"Menlo\", monospace;;\n",
       "    font-size: 13px;\n",
       "    color: #555;\n",
       "    margin-left: 4px;\n",
       "    line-height: 19px;\n",
       "  }\n",
       "</style>\n",
       "<div class=\"ansiout\">+--------------------+-------------------+--------------------+--------------------+\n",
       "                data|                 id|                  ts|               tweet|\n",
       "+--------------------+-------------------+--------------------+--------------------+\n",
       "[{&#34;id&#34;: &#34;12439338...|1243933850968809472|Sat Mar 28 16:11:...|b&#39;RT @T9uRhHfR8js...|\n",
       "[{&#34;id&#34;: &#34;12439338...|1243933850666823680|Sat Mar 28 16:11:...|b&#39;States affected...|\n",
       "[{&#34;id&#34;: &#34;12439338...|1243933849853149186|Sat Mar 28 16:11:...|b&#34;@ABSCBNNews Wat...|\n",
       "[{&#34;id&#34;: &#34;12439338...|1243933852273455104|Sat Mar 28 16:11:...|b&#39;RT @BayoOmobori...|\n",
       "[{&#34;id&#34;: &#34;12439338...|1243933852567044096|Sat Mar 28 16:11:...|b&#39;RT @Humafayaz1:...|\n",
       "[{&#34;id&#34;: &#34;12439338...|1243933852994654208|Sat Mar 28 16:11:...|b&#39;\\xe0\\xb9\\x82\\xe...|\n",
       "[{&#34;id&#34;: &#34;12439338...|1243933852864823296|Sat Mar 28 16:11:...|b&#39;Ben de 81 milyo...|\n",
       "[{&#34;id&#34;: &#34;12439338...|1243933853300822016|Sat Mar 28 16:11:...|b&#39;Citizens can al...|\n",
       "[{&#34;id&#34;: &#34;12439338...|1243933853636534272|Sat Mar 28 16:11:...|b&#39;RT @GamingGifte...|\n",
       "[{&#34;id&#34;: &#34;12439338...|1243933853653151746|Sat Mar 28 16:11:...|b&#39;RT @Stone_nayou...|\n",
       "[{&#34;id&#34;: &#34;12439338...|1243933853657509891|Sat Mar 28 16:11:...|b&#39;RT @VassyKapelo...|\n",
       "[{&#34;id&#34;: &#34;12439338...|1243933853825273857|Sat Mar 28 16:11:...|b&#39;RT @aotxotorena...|\n",
       "[{&#34;id&#34;: &#34;12439338...|1243933854152429569|Sat Mar 28 16:11:...|b&#39;@herstalle @cat...|\n",
       "[{&#34;id&#34;: &#34;12439338...|1243933853921628160|Sat Mar 28 16:11:...|b&#39;#NDTVirus Jo ki...|\n",
       "[{&#34;id&#34;: &#34;12439338...|1243933854324396034|Sat Mar 28 16:11:...|b&#39;RT @ufpol: Muy ...|\n",
       "[{&#34;id&#34;: &#34;12439338...|1243933854752219138|Sat Mar 28 16:11:...|b&#39;#IzquierdaObstr...|\n",
       "[{&#34;id&#34;: &#34;12439338...|1243933855154950144|Sat Mar 28 16:11:...|b&#39;RT @AABenedetti...|\n",
       "[{&#34;id&#34;: &#34;12439338...|1243933855503056898|Sat Mar 28 16:11:...|b&#39;RT @JefeVergara...|\n",
       "[{&#34;id&#34;: &#34;12439338...|1243933855918305280|Sat Mar 28 16:11:...|b&#39;RT @lavecinarub...|\n",
       "[{&#34;id&#34;: &#34;12439338...|1243933856572596224|Sat Mar 28 16:11:...|       b&#39;@Nanchinho&#39;|\n",
       "+--------------------+-------------------+--------------------+--------------------+\n",
       "only showing top 20 rows\n",
       "\n",
       "</div>"
      ]
     },
     "metadata": {},
     "output_type": "display_data"
    }
   ],
   "source": [
    "tweets.show(truncate=True)"
   ]
  },
  {
   "cell_type": "code",
   "execution_count": 18,
   "metadata": {},
   "outputs": [
    {
     "data": {
      "text/html": [
       "<style scoped>\n",
       "  .ansiout {\n",
       "    display: block;\n",
       "    unicode-bidi: embed;\n",
       "    white-space: pre-wrap;\n",
       "    word-wrap: break-word;\n",
       "    word-break: break-all;\n",
       "    font-family: \"Source Code Pro\", \"Menlo\", monospace;;\n",
       "    font-size: 13px;\n",
       "    color: #555;\n",
       "    margin-left: 4px;\n",
       "    line-height: 19px;\n",
       "  }\n",
       "</style>\n",
       "<div class=\"ansiout\">root\n",
       "-- data: string (nullable = true)\n",
       "-- id: string (nullable = true)\n",
       "-- ts: string (nullable = true)\n",
       "-- tweet: string (nullable = true)\n",
       "\n",
       "</div>"
      ]
     },
     "metadata": {},
     "output_type": "display_data"
    }
   ],
   "source": [
    "tweets.printSchema()"
   ]
  },
  {
   "cell_type": "markdown",
   "metadata": {},
   "source": [
    "#### Sentiment Scoring on Streaming Tweets using TextBlob"
   ]
  },
  {
   "cell_type": "code",
   "execution_count": 20,
   "metadata": {},
   "outputs": [
    {
     "data": {
      "text/html": [
       "<style scoped>\n",
       "  .ansiout {\n",
       "    display: block;\n",
       "    unicode-bidi: embed;\n",
       "    white-space: pre-wrap;\n",
       "    word-wrap: break-word;\n",
       "    word-break: break-all;\n",
       "    font-family: \"Source Code Pro\", \"Menlo\", monospace;;\n",
       "    font-size: 13px;\n",
       "    color: #555;\n",
       "    margin-left: 4px;\n",
       "    line-height: 19px;\n",
       "  }\n",
       "</style>\n",
       "<div class=\"ansiout\"></div>"
      ]
     },
     "metadata": {},
     "output_type": "display_data"
    }
   ],
   "source": [
    "import textblob"
   ]
  },
  {
   "cell_type": "code",
   "execution_count": 21,
   "metadata": {},
   "outputs": [
    {
     "data": {
      "text/html": [
       "<style scoped>\n",
       "  .ansiout {\n",
       "    display: block;\n",
       "    unicode-bidi: embed;\n",
       "    white-space: pre-wrap;\n",
       "    word-wrap: break-word;\n",
       "    word-break: break-all;\n",
       "    font-family: \"Source Code Pro\", \"Menlo\", monospace;;\n",
       "    font-size: 13px;\n",
       "    color: #555;\n",
       "    margin-left: 4px;\n",
       "    line-height: 19px;\n",
       "  }\n",
       "</style>\n",
       "<div class=\"ansiout\"></div>"
      ]
     },
     "metadata": {},
     "output_type": "display_data"
    }
   ],
   "source": [
    "def get_sentiment(text):\n",
    "    from textblob import TextBlob\n",
    "    tweet = TextBlob(text)\n",
    "    if tweet.sentiment.polarity < 0:\n",
    "      sentiment = \"negative\"\n",
    "    elif tweet.sentiment.polarity == 0:\n",
    "        sentiment = \"neutral\"\n",
    "    else:\n",
    "        sentiment = \"positive\"\n",
    "    return sentiment\n",
    "  \n",
    "# Define your function\n",
    "getSentiment = UserDefinedFunction(lambda x: get_sentiment(x), StringType())\n",
    "\n",
    "# Apply the UDF using withColumn\n",
    "tweets = tweets.withColumn('sentiment', getSentiment(col(\"tweet\")))"
   ]
  },
  {
   "cell_type": "code",
   "execution_count": 22,
   "metadata": {},
   "outputs": [
    {
     "data": {
      "text/html": [
       "<style scoped>\n",
       "  .ansiout {\n",
       "    display: block;\n",
       "    unicode-bidi: embed;\n",
       "    white-space: pre-wrap;\n",
       "    word-wrap: break-word;\n",
       "    word-break: break-all;\n",
       "    font-family: \"Source Code Pro\", \"Menlo\", monospace;;\n",
       "    font-size: 13px;\n",
       "    color: #555;\n",
       "    margin-left: 4px;\n",
       "    line-height: 19px;\n",
       "  }\n",
       "</style>\n",
       "<div class=\"ansiout\">+--------------------+-------------------+--------------------+--------------------+---------+\n",
       "                data|                 id|                  ts|               tweet|sentiment|\n",
       "+--------------------+-------------------+--------------------+--------------------+---------+\n",
       "[{&#34;id&#34;: &#34;12439338...|1243933850968809472|Sat Mar 28 16:11:...|b&#39;RT @T9uRhHfR8js...|  neutral|\n",
       "[{&#34;id&#34;: &#34;12439338...|1243933850666823680|Sat Mar 28 16:11:...|b&#39;States affected...|  neutral|\n",
       "[{&#34;id&#34;: &#34;12439338...|1243933849853149186|Sat Mar 28 16:11:...|b&#34;@ABSCBNNews Wat...| positive|\n",
       "[{&#34;id&#34;: &#34;12439338...|1243933852273455104|Sat Mar 28 16:11:...|b&#39;RT @BayoOmobori...| positive|\n",
       "[{&#34;id&#34;: &#34;12439338...|1243933852567044096|Sat Mar 28 16:11:...|b&#39;RT @Humafayaz1:...|  neutral|\n",
       "[{&#34;id&#34;: &#34;12439338...|1243933852994654208|Sat Mar 28 16:11:...|b&#39;\\xe0\\xb9\\x82\\xe...|  neutral|\n",
       "[{&#34;id&#34;: &#34;12439338...|1243933852864823296|Sat Mar 28 16:11:...|b&#39;Ben de 81 milyo...|  neutral|\n",
       "[{&#34;id&#34;: &#34;12439338...|1243933853300822016|Sat Mar 28 16:11:...|b&#39;Citizens can al...|  neutral|\n",
       "[{&#34;id&#34;: &#34;12439338...|1243933853636534272|Sat Mar 28 16:11:...|b&#39;RT @GamingGifte...|  neutral|\n",
       "[{&#34;id&#34;: &#34;12439338...|1243933853653151746|Sat Mar 28 16:11:...|b&#39;RT @Stone_nayou...|  neutral|\n",
       "[{&#34;id&#34;: &#34;12439338...|1243933853657509891|Sat Mar 28 16:11:...|b&#39;RT @VassyKapelo...|  neutral|\n",
       "[{&#34;id&#34;: &#34;12439338...|1243933853825273857|Sat Mar 28 16:11:...|b&#39;RT @aotxotorena...|  neutral|\n",
       "[{&#34;id&#34;: &#34;12439338...|1243933854152429569|Sat Mar 28 16:11:...|b&#39;@herstalle @cat...|  neutral|\n",
       "[{&#34;id&#34;: &#34;12439338...|1243933853921628160|Sat Mar 28 16:11:...|b&#39;#NDTVirus Jo ki...|  neutral|\n",
       "[{&#34;id&#34;: &#34;12439338...|1243933854324396034|Sat Mar 28 16:11:...|b&#39;RT @ufpol: Muy ...|  neutral|\n",
       "[{&#34;id&#34;: &#34;12439338...|1243933854752219138|Sat Mar 28 16:11:...|b&#39;#IzquierdaObstr...|  neutral|\n",
       "[{&#34;id&#34;: &#34;12439338...|1243933855154950144|Sat Mar 28 16:11:...|b&#39;RT @AABenedetti...|  neutral|\n",
       "[{&#34;id&#34;: &#34;12439338...|1243933855503056898|Sat Mar 28 16:11:...|b&#39;RT @JefeVergara...|  neutral|\n",
       "[{&#34;id&#34;: &#34;12439338...|1243933855918305280|Sat Mar 28 16:11:...|b&#39;RT @lavecinarub...|  neutral|\n",
       "[{&#34;id&#34;: &#34;12439338...|1243933856572596224|Sat Mar 28 16:11:...|       b&#39;@Nanchinho&#39;|  neutral|\n",
       "+--------------------+-------------------+--------------------+--------------------+---------+\n",
       "only showing top 20 rows\n",
       "\n",
       "</div>"
      ]
     },
     "metadata": {},
     "output_type": "display_data"
    }
   ],
   "source": [
    "tweets.show()"
   ]
  },
  {
   "cell_type": "code",
   "execution_count": 23,
   "metadata": {},
   "outputs": [
    {
     "data": {
      "text/html": [
       "<style scoped>\n",
       "  .ansiout {\n",
       "    display: block;\n",
       "    unicode-bidi: embed;\n",
       "    white-space: pre-wrap;\n",
       "    word-wrap: break-word;\n",
       "    word-break: break-all;\n",
       "    font-family: \"Source Code Pro\", \"Menlo\", monospace;;\n",
       "    font-size: 13px;\n",
       "    color: #555;\n",
       "    margin-left: 4px;\n",
       "    line-height: 19px;\n",
       "  }\n",
       "</style>\n",
       "<div class=\"ansiout\">root\n",
       "-- data: string (nullable = true)\n",
       "-- id: string (nullable = true)\n",
       "-- ts: string (nullable = true)\n",
       "-- tweet: string (nullable = true)\n",
       "-- sentiment: string (nullable = true)\n",
       "\n",
       "</div>"
      ]
     },
     "metadata": {},
     "output_type": "display_data"
    }
   ],
   "source": [
    "tweets.printSchema()"
   ]
  },
  {
   "cell_type": "code",
   "execution_count": 24,
   "metadata": {},
   "outputs": [
    {
     "data": {
      "text/html": [
       "<style scoped>\n",
       "  .ansiout {\n",
       "    display: block;\n",
       "    unicode-bidi: embed;\n",
       "    white-space: pre-wrap;\n",
       "    word-wrap: break-word;\n",
       "    word-break: break-all;\n",
       "    font-family: \"Source Code Pro\", \"Menlo\", monospace;;\n",
       "    font-size: 13px;\n",
       "    color: #555;\n",
       "    margin-left: 4px;\n",
       "    line-height: 19px;\n",
       "  }\n",
       "</style>\n",
       "<div class=\"ansiout\"></div>"
      ]
     },
     "metadata": {},
     "output_type": "display_data"
    }
   ],
   "source": [
    "tweets.createOrReplaceTempView(\"tweets_parsed\")\n",
    "#tweets.groupBy('sentiment').count()"
   ]
  },
  {
   "cell_type": "code",
   "execution_count": 25,
   "metadata": {},
   "outputs": [
    {
     "data": {
      "text/html": [
       "<style scoped>\n",
       "  .table-result-container {\n",
       "    max-height: 300px;\n",
       "    overflow: auto;\n",
       "  }\n",
       "  table, th, td {\n",
       "    border: 1px solid black;\n",
       "    border-collapse: collapse;\n",
       "  }\n",
       "  th, td {\n",
       "    padding: 5px;\n",
       "  }\n",
       "  th {\n",
       "    text-align: left;\n",
       "  }\n",
       "</style><div class='table-result-container'><table class='table-result'><thead style='background-color: white'><tr><th>sentiment</th><th>covid19_canada_tweet</th></tr></thead><tbody><tr><td>positive</td><td>7154</td></tr><tr><td>neutral</td><td>32258</td></tr><tr><td>negative</td><td>3356</td></tr></tbody></table></div>"
      ]
     },
     "metadata": {},
     "output_type": "display_data"
    }
   ],
   "source": [
    "%sql\n",
    "select sentiment, count(*) as covid19_canada_tweet from tweets_parsed group by sentiment"
   ]
  },
  {
   "cell_type": "code",
   "execution_count": 26,
   "metadata": {},
   "outputs": [
    {
     "data": {
      "text/html": [
       "<html>\n",
       "<head><meta charset=\"utf-8\" /></head>\n",
       "<body>\n",
       "    <div>\n",
       "            <script src=\"https://cdnjs.cloudflare.com/ajax/libs/mathjax/2.7.5/MathJax.js?config=TeX-AMS-MML_SVG\"></script><script type=\"text/javascript\">if (window.MathJax) {MathJax.Hub.Config({SVG: {font: \"STIX-Web\"}});}</script>\n",
       "                <script type=\"text/javascript\">window.PlotlyConfig = {MathJaxConfig: 'local'};</script>\n",
       "        <script src=\"https://cdn.plot.ly/plotly-latest.min.js\"></script>    \n",
       "            <div id=\"c4031536-4aed-4497-a3ce-2237e3bb3ee0\" class=\"plotly-graph-div\" style=\"height:100%; width:100%;\"></div>\n",
       "            <script type=\"text/javascript\">\n",
       "                \n",
       "                    window.PLOTLYENV=window.PLOTLYENV || {};\n",
       "                    \n",
       "                if (document.getElementById(\"c4031536-4aed-4497-a3ce-2237e3bb3ee0\")) {\n",
       "                    Plotly.newPlot(\n",
       "                        'c4031536-4aed-4497-a3ce-2237e3bb3ee0',\n",
       "                        [{\"hoverlabel\": {\"namelength\": 0}, \"hovertemplate\": \"Date=%{x}<br>AAPL.High=%{y}\", \"legendgroup\": \"\", \"line\": {\"color\": \"#636efa\", \"dash\": \"solid\"}, \"mode\": \"lines\", \"name\": \"\", \"showlegend\": false, \"type\": \"scatter\", \"x\": [\"2015-02-17\", \"2015-02-18\", \"2015-02-19\", \"2015-02-20\", \"2015-02-23\", \"2015-02-24\", \"2015-02-25\", \"2015-02-26\", \"2015-02-27\", \"2015-03-02\", \"2015-03-03\", \"2015-03-04\", \"2015-03-05\", \"2015-03-06\", \"2015-03-09\", \"2015-03-10\", \"2015-03-11\", \"2015-03-12\", \"2015-03-13\", \"2015-03-16\", \"2015-03-17\", \"2015-03-18\", \"2015-03-19\", \"2015-03-20\", \"2015-03-23\", \"2015-03-24\", \"2015-03-25\", \"2015-03-26\", \"2015-03-27\", \"2015-03-30\", \"2015-03-31\", \"2015-04-01\", \"2015-04-02\", \"2015-04-06\", \"2015-04-07\", \"2015-04-08\", \"2015-04-09\", \"2015-04-10\", \"2015-04-13\", \"2015-04-14\", \"2015-04-15\", \"2015-04-16\", \"2015-04-17\", \"2015-04-20\", \"2015-04-21\", \"2015-04-22\", \"2015-04-23\", \"2015-04-24\", \"2015-04-27\", \"2015-04-28\", \"2015-04-29\", \"2015-04-30\", \"2015-05-01\", \"2015-05-04\", \"2015-05-05\", \"2015-05-06\", \"2015-05-07\", \"2015-05-08\", \"2015-05-11\", \"2015-05-12\", \"2015-05-13\", \"2015-05-14\", \"2015-05-15\", \"2015-05-18\", \"2015-05-19\", \"2015-05-20\", \"2015-05-21\", \"2015-05-22\", \"2015-05-26\", \"2015-05-27\", \"2015-05-28\", \"2015-05-29\", \"2015-06-01\", \"2015-06-02\", \"2015-06-03\", \"2015-06-04\", \"2015-06-05\", \"2015-06-08\", \"2015-06-09\", \"2015-06-10\", \"2015-06-11\", \"2015-06-12\", \"2015-06-15\", \"2015-06-16\", \"2015-06-17\", \"2015-06-18\", \"2015-06-19\", \"2015-06-22\", \"2015-06-23\", \"2015-06-24\", \"2015-06-25\", \"2015-06-26\", \"2015-06-29\", \"2015-06-30\", \"2015-07-01\", \"2015-07-02\", \"2015-07-06\", \"2015-07-07\", \"2015-07-08\", \"2015-07-09\", \"2015-07-10\", \"2015-07-13\", \"2015-07-14\", \"2015-07-15\", \"2015-07-16\", \"2015-07-17\", \"2015-07-20\", \"2015-07-21\", \"2015-07-22\", \"2015-07-23\", \"2015-07-24\", \"2015-07-27\", \"2015-07-28\", \"2015-07-29\", \"2015-07-30\", \"2015-07-31\", \"2015-08-03\", \"2015-08-04\", \"2015-08-05\", \"2015-08-06\", \"2015-08-07\", \"2015-08-10\", \"2015-08-11\", \"2015-08-12\", \"2015-08-13\", \"2015-08-14\", \"2015-08-17\", \"2015-08-18\", \"2015-08-19\", \"2015-08-20\", \"2015-08-21\", \"2015-08-24\", \"2015-08-25\", \"2015-08-26\", \"2015-08-27\", \"2015-08-28\", \"2015-08-31\", \"2015-09-01\", \"2015-09-02\", \"2015-09-03\", \"2015-09-04\", \"2015-09-08\", \"2015-09-09\", \"2015-09-10\", \"2015-09-11\", \"2015-09-14\", \"2015-09-15\", \"2015-09-16\", \"2015-09-17\", \"2015-09-18\", \"2015-09-21\", \"2015-09-22\", \"2015-09-23\", \"2015-09-24\", \"2015-09-25\", \"2015-09-28\", \"2015-09-29\", \"2015-09-30\", \"2015-10-01\", \"2015-10-02\", \"2015-10-05\", \"2015-10-06\", \"2015-10-07\", \"2015-10-08\", \"2015-10-09\", \"2015-10-12\", \"2015-10-13\", \"2015-10-14\", \"2015-10-15\", \"2015-10-16\", \"2015-10-19\", \"2015-10-20\", \"2015-10-21\", \"2015-10-22\", \"2015-10-23\", \"2015-10-26\", \"2015-10-27\", \"2015-10-28\", \"2015-10-29\", \"2015-10-30\", \"2015-11-02\", \"2015-11-03\", \"2015-11-04\", \"2015-11-05\", \"2015-11-06\", \"2015-11-09\", \"2015-11-10\", \"2015-11-11\", \"2015-11-12\", \"2015-11-13\", \"2015-11-16\", \"2015-11-17\", \"2015-11-18\", \"2015-11-19\", \"2015-11-20\", \"2015-11-23\", \"2015-11-24\", \"2015-11-25\", \"2015-11-27\", \"2015-11-30\", \"2015-12-01\", \"2015-12-02\", \"2015-12-03\", \"2015-12-04\", \"2015-12-07\", \"2015-12-08\", \"2015-12-09\", \"2015-12-10\", \"2015-12-11\", \"2015-12-14\", \"2015-12-15\", \"2015-12-16\", \"2015-12-17\", \"2015-12-18\", \"2015-12-21\", \"2015-12-22\", \"2015-12-23\", \"2015-12-24\", \"2015-12-28\", \"2015-12-29\", \"2015-12-30\", \"2015-12-31\", \"2016-01-04\", \"2016-01-05\", \"2016-01-06\", \"2016-01-07\", \"2016-01-08\", \"2016-01-11\", \"2016-01-12\", \"2016-01-13\", \"2016-01-14\", \"2016-01-15\", \"2016-01-19\", \"2016-01-20\", \"2016-01-21\", \"2016-01-22\", \"2016-01-25\", \"2016-01-26\", \"2016-01-27\", \"2016-01-28\", \"2016-01-29\", \"2016-02-01\", \"2016-02-02\", \"2016-02-03\", \"2016-02-04\", \"2016-02-05\", \"2016-02-08\", \"2016-02-09\", \"2016-02-10\", \"2016-02-11\", \"2016-02-12\", \"2016-02-16\", \"2016-02-17\", \"2016-02-18\", \"2016-02-19\", \"2016-02-22\", \"2016-02-23\", \"2016-02-24\", \"2016-02-25\", \"2016-02-26\", \"2016-02-29\", \"2016-03-01\", \"2016-03-02\", \"2016-03-03\", \"2016-03-04\", \"2016-03-07\", \"2016-03-08\", \"2016-03-09\", \"2016-03-10\", \"2016-03-11\", \"2016-03-14\", \"2016-03-15\", \"2016-03-16\", \"2016-03-17\", \"2016-03-18\", \"2016-03-21\", \"2016-03-22\", \"2016-03-23\", \"2016-03-24\", \"2016-03-28\", \"2016-03-29\", \"2016-03-30\", \"2016-03-31\", \"2016-04-01\", \"2016-04-04\", \"2016-04-05\", \"2016-04-06\", \"2016-04-07\", \"2016-04-08\", \"2016-04-11\", \"2016-04-12\", \"2016-04-13\", \"2016-04-14\", \"2016-04-15\", \"2016-04-18\", \"2016-04-19\", \"2016-04-20\", \"2016-04-21\", \"2016-04-22\", \"2016-04-25\", \"2016-04-26\", \"2016-04-27\", \"2016-04-28\", \"2016-04-29\", \"2016-05-02\", \"2016-05-03\", \"2016-05-04\", \"2016-05-05\", \"2016-05-06\", \"2016-05-09\", \"2016-05-10\", \"2016-05-11\", \"2016-05-12\", \"2016-05-13\", \"2016-05-16\", \"2016-05-17\", \"2016-05-18\", \"2016-05-19\", \"2016-05-20\", \"2016-05-23\", \"2016-05-24\", \"2016-05-25\", \"2016-05-26\", \"2016-05-27\", \"2016-05-31\", \"2016-06-01\", \"2016-06-02\", \"2016-06-03\", \"2016-06-06\", \"2016-06-07\", \"2016-06-08\", \"2016-06-09\", \"2016-06-10\", \"2016-06-13\", \"2016-06-14\", \"2016-06-15\", \"2016-06-16\", \"2016-06-17\", \"2016-06-20\", \"2016-06-21\", \"2016-06-22\", \"2016-06-23\", \"2016-06-24\", \"2016-06-27\", \"2016-06-28\", \"2016-06-29\", \"2016-06-30\", \"2016-07-01\", \"2016-07-05\", \"2016-07-06\", \"2016-07-07\", \"2016-07-08\", \"2016-07-11\", \"2016-07-12\", \"2016-07-13\", \"2016-07-14\", \"2016-07-15\", \"2016-07-18\", \"2016-07-19\", \"2016-07-20\", \"2016-07-21\", \"2016-07-22\", \"2016-07-25\", \"2016-07-26\", \"2016-07-27\", \"2016-07-28\", \"2016-07-29\", \"2016-08-01\", \"2016-08-02\", \"2016-08-03\", \"2016-08-04\", \"2016-08-05\", \"2016-08-08\", \"2016-08-09\", \"2016-08-10\", \"2016-08-11\", \"2016-08-12\", \"2016-08-15\", \"2016-08-16\", \"2016-08-17\", \"2016-08-18\", \"2016-08-19\", \"2016-08-22\", \"2016-08-23\", \"2016-08-24\", \"2016-08-25\", \"2016-08-26\", \"2016-08-29\", \"2016-08-30\", \"2016-08-31\", \"2016-09-01\", \"2016-09-02\", \"2016-09-06\", \"2016-09-07\", \"2016-09-08\", \"2016-09-09\", \"2016-09-12\", \"2016-09-13\", \"2016-09-14\", \"2016-09-15\", \"2016-09-16\", \"2016-09-19\", \"2016-09-20\", \"2016-09-21\", \"2016-09-22\", \"2016-09-23\", \"2016-09-26\", \"2016-09-27\", \"2016-09-28\", \"2016-09-29\", \"2016-09-30\", \"2016-10-03\", \"2016-10-04\", \"2016-10-05\", \"2016-10-06\", \"2016-10-07\", \"2016-10-10\", \"2016-10-11\", \"2016-10-12\", \"2016-10-13\", \"2016-10-14\", \"2016-10-17\", \"2016-10-18\", \"2016-10-19\", \"2016-10-20\", \"2016-10-21\", \"2016-10-24\", \"2016-10-25\", \"2016-10-26\", \"2016-10-27\", \"2016-10-28\", \"2016-10-31\", \"2016-11-01\", \"2016-11-02\", \"2016-11-03\", \"2016-11-04\", \"2016-11-07\", \"2016-11-08\", \"2016-11-09\", \"2016-11-10\", \"2016-11-11\", \"2016-11-14\", \"2016-11-15\", \"2016-11-16\", \"2016-11-17\", \"2016-11-18\", \"2016-11-21\", \"2016-11-22\", \"2016-11-23\", \"2016-11-25\", \"2016-11-28\", \"2016-11-29\", \"2016-11-30\", \"2016-12-01\", \"2016-12-02\", \"2016-12-05\", \"2016-12-06\", \"2016-12-07\", \"2016-12-08\", \"2016-12-09\", \"2016-12-12\", \"2016-12-13\", \"2016-12-14\", \"2016-12-15\", \"2016-12-16\", \"2016-12-19\", \"2016-12-20\", \"2016-12-21\", \"2016-12-22\", \"2016-12-23\", \"2016-12-27\", \"2016-12-28\", \"2016-12-29\", \"2016-12-30\", \"2017-01-03\", \"2017-01-04\", \"2017-01-05\", \"2017-01-06\", \"2017-01-09\", \"2017-01-10\", \"2017-01-11\", \"2017-01-12\", \"2017-01-13\", \"2017-01-17\", \"2017-01-18\", \"2017-01-19\", \"2017-01-20\", \"2017-01-23\", \"2017-01-24\", \"2017-01-25\", \"2017-01-26\", \"2017-01-27\", \"2017-01-30\", \"2017-01-31\", \"2017-02-01\", \"2017-02-02\", \"2017-02-03\", \"2017-02-06\", \"2017-02-07\", \"2017-02-08\", \"2017-02-09\", \"2017-02-10\", \"2017-02-13\", \"2017-02-14\", \"2017-02-15\", \"2017-02-16\"], \"xaxis\": \"x\", \"y\": [128.880005, 128.779999, 129.029999, 129.5, 133.0, 133.600006, 131.600006, 130.869995, 130.570007, 130.279999, 129.520004, 129.559998, 128.75, 129.369995, 129.570007, 127.220001, 124.769997, 124.900002, 125.400002, 124.949997, 127.32, 129.16000400000001, 129.25, 128.399994, 127.849998, 128.03999299999998, 126.82, 124.879997, 124.699997, 126.400002, 126.489998, 125.120003, 125.559998, 127.510002, 128.119995, 126.400002, 126.58000200000001, 127.209999, 128.570007, 127.290001, 127.129997, 127.099998, 126.139999, 128.119995, 128.199997, 128.869995, 130.419998, 130.630005, 133.130005, 134.53999299999998, 131.58999599999999, 128.639999, 130.130005, 130.570007, 128.449997, 126.75, 126.08000200000001, 127.620003, 127.559998, 126.879997, 127.190002, 128.949997, 129.490005, 130.720001, 130.880005, 130.979996, 131.630005, 132.970001, 132.91000400000001, 132.259995, 131.949997, 131.449997, 131.389999, 130.66000400000001, 130.940002, 130.580002, 129.690002, 129.21000700000002, 128.080002, 129.33999599999999, 130.179993, 128.330002, 127.239998, 127.849998, 127.879997, 128.309998, 127.82, 128.059998, 127.610001, 129.800003, 129.199997, 127.989998, 126.470001, 126.120003, 126.940002, 126.690002, 126.230003, 126.150002, 124.639999, 124.059998, 123.849998, 125.760002, 126.370003, 127.150002, 128.570007, 129.619995, 132.970001, 132.919998, 125.5, 127.089996, 125.739998, 123.610001, 123.910004, 123.5, 122.57, 122.639999, 122.57, 117.699997, 117.440002, 116.5, 116.25, 119.989998, 118.18, 115.41999799999999, 116.400002, 116.309998, 117.650002, 117.440002, 116.519997, 114.349998, 111.900002, 108.800003, 111.110001, 109.889999, 113.239998, 113.309998, 114.529999, 111.879997, 112.339996, 112.779999, 110.449997, 112.559998, 114.019997, 113.279999, 114.209999, 116.889999, 116.529999, 116.540001, 116.489998, 114.300003, 115.370003, 114.18, 114.720001, 115.5, 116.690002, 114.57, 113.510002, 111.540001, 109.620003, 111.010002, 111.370003, 111.739998, 111.769997, 110.190002, 112.279999, 112.75, 112.449997, 111.519997, 112.099998, 112.0, 111.75, 114.16999799999999, 115.58000200000001, 115.5, 119.230003, 118.129997, 116.540001, 119.300003, 120.690002, 121.220001, 121.360001, 123.489998, 123.82, 122.690002, 121.809998, 121.809998, 118.07, 117.41999799999999, 116.82, 115.57, 114.239998, 115.050003, 117.489998, 119.75, 119.91999799999999, 119.730003, 119.349998, 119.230003, 118.410004, 119.410004, 118.809998, 118.110001, 116.790001, 119.25, 119.860001, 118.599998, 117.690002, 116.940002, 115.389999, 112.68, 112.800003, 111.989998, 112.25, 109.519997, 107.370003, 107.720001, 108.849998, 109.0, 107.690002, 109.43, 108.699997, 107.029999, 105.370003, 105.849998, 102.370003, 100.129997, 99.110001, 99.059998, 100.690002, 101.190002, 100.480003, 97.709999, 98.650002, 98.190002, 97.879997, 101.459999, 101.529999, 100.879997, 96.629997, 94.519997, 97.339996, 96.709999, 96.040001, 96.839996, 97.33000200000001, 96.91999799999999, 95.699997, 95.940002, 96.349998, 94.720001, 94.5, 96.849998, 98.209999, 98.889999, 96.760002, 96.900002, 96.5, 96.379997, 96.760002, 98.019997, 98.230003, 100.769997, 100.889999, 101.709999, 103.75, 102.83000200000001, 101.760002, 101.58000200000001, 102.239998, 102.279999, 102.910004, 105.18, 106.309998, 106.470001, 106.5, 107.650002, 107.290001, 107.07, 106.25, 106.190002, 107.790001, 110.41999799999999, 109.900002, 110.0, 112.190002, 110.730003, 110.980003, 110.41999799999999, 109.769997, 110.610001, 110.5, 112.339996, 112.389999, 112.300003, 108.949997, 108.0, 108.089996, 106.93, 106.480003, 105.650002, 105.300003, 98.709999, 97.879997, 94.720001, 94.08000200000001, 95.739998, 95.900002, 94.07, 93.449997, 93.769997, 93.57, 93.57, 92.779999, 91.66999799999999, 94.389999, 94.699997, 95.209999, 94.639999, 95.43, 97.190002, 98.089996, 99.739998, 100.730003, 100.470001, 100.400002, 99.540001, 97.839996, 98.269997, 101.889999, 99.870003, 99.559998, 99.989998, 99.349998, 99.120003, 98.480003, 98.410004, 97.75, 96.650002, 96.57, 96.349998, 96.889999, 96.290001, 94.660004, 93.050003, 93.660004, 94.550003, 95.769997, 96.470001, 95.400002, 95.660004, 96.5, 96.889999, 97.650002, 97.699997, 97.66999799999999, 98.989998, 99.300003, 100.129997, 100.0, 100.459999, 101.0, 99.300003, 98.839996, 97.970001, 104.349998, 104.449997, 104.550003, 106.150002, 106.07, 105.839996, 106.0, 107.650002, 108.370003, 108.940002, 108.900002, 108.93, 108.440002, 109.540001, 110.230003, 109.370003, 109.599998, 109.690002, 109.099998, 109.32, 108.75, 107.879997, 107.949997, 107.440002, 106.5, 106.57, 106.800003, 108.0, 108.300003, 108.760002, 107.269997, 105.720001, 105.720001, 108.790001, 113.029999, 115.730003, 116.129997, 116.18, 114.120003, 113.989998, 114.940002, 114.790001, 113.389999, 113.18, 114.639999, 113.800003, 113.370003, 113.050003, 114.309998, 113.660004, 114.339996, 114.559998, 116.75, 118.690002, 117.980003, 117.440002, 118.16999799999999, 117.839996, 118.209999, 117.760002, 117.379997, 116.910004, 117.739998, 118.360001, 115.699997, 115.860001, 115.209999, 114.230003, 113.769997, 112.349998, 111.459999, 110.25, 110.510002, 111.720001, 111.32, 111.089996, 108.870003, 107.809998, 107.68, 110.230003, 110.349998, 110.540001, 111.989998, 112.41999799999999, 111.510002, 111.870003, 112.470001, 112.029999, 112.199997, 110.940002, 110.089996, 110.029999, 110.360001, 111.190002, 112.43, 114.699997, 115.0, 115.91999799999999, 116.199997, 116.730003, 116.5, 117.379997, 117.5, 117.400002, 116.510002, 116.519997, 117.800003, 118.019997, 117.110001, 117.199997, 116.33000200000001, 116.510002, 116.860001, 118.160004, 119.43, 119.379997, 119.93, 119.300003, 119.620003, 120.239998, 120.5, 120.089996, 120.449997, 120.809998, 120.099998, 122.099998, 122.440002, 122.349998, 121.629997, 121.389999, 130.490005, 129.389999, 129.190002, 130.5, 132.08999599999999, 132.220001, 132.449997, 132.940002, 133.820007, 135.08999599999999, 136.270004, 135.899994], \"yaxis\": \"y\"}],\n",
       "                        {\"legend\": {\"tracegroupgap\": 0}, \"margin\": {\"t\": 60}, \"template\": {\"data\": {\"bar\": [{\"error_x\": {\"color\": \"#2a3f5f\"}, \"error_y\": {\"color\": \"#2a3f5f\"}, \"marker\": {\"line\": {\"color\": \"#E5ECF6\", \"width\": 0.5}}, \"type\": \"bar\"}], \"barpolar\": [{\"marker\": {\"line\": {\"color\": \"#E5ECF6\", \"width\": 0.5}}, \"type\": \"barpolar\"}], \"carpet\": [{\"aaxis\": {\"endlinecolor\": \"#2a3f5f\", \"gridcolor\": \"white\", \"linecolor\": \"white\", \"minorgridcolor\": \"white\", \"startlinecolor\": \"#2a3f5f\"}, \"baxis\": {\"endlinecolor\": \"#2a3f5f\", \"gridcolor\": \"white\", \"linecolor\": \"white\", \"minorgridcolor\": \"white\", \"startlinecolor\": \"#2a3f5f\"}, \"type\": \"carpet\"}], \"choropleth\": [{\"colorbar\": {\"outlinewidth\": 0, \"ticks\": \"\"}, \"type\": \"choropleth\"}], \"contour\": [{\"colorbar\": {\"outlinewidth\": 0, \"ticks\": \"\"}, \"colorscale\": [[0.0, \"#0d0887\"], [0.1111111111111111, \"#46039f\"], [0.2222222222222222, \"#7201a8\"], [0.3333333333333333, \"#9c179e\"], [0.4444444444444444, \"#bd3786\"], [0.5555555555555556, \"#d8576b\"], [0.6666666666666666, \"#ed7953\"], [0.7777777777777778, \"#fb9f3a\"], [0.8888888888888888, \"#fdca26\"], [1.0, \"#f0f921\"]], \"type\": \"contour\"}], \"contourcarpet\": [{\"colorbar\": {\"outlinewidth\": 0, \"ticks\": \"\"}, \"type\": \"contourcarpet\"}], \"heatmap\": [{\"colorbar\": {\"outlinewidth\": 0, \"ticks\": \"\"}, \"colorscale\": [[0.0, \"#0d0887\"], [0.1111111111111111, \"#46039f\"], [0.2222222222222222, \"#7201a8\"], [0.3333333333333333, \"#9c179e\"], [0.4444444444444444, \"#bd3786\"], [0.5555555555555556, \"#d8576b\"], [0.6666666666666666, \"#ed7953\"], [0.7777777777777778, \"#fb9f3a\"], [0.8888888888888888, \"#fdca26\"], [1.0, \"#f0f921\"]], \"type\": \"heatmap\"}], \"heatmapgl\": [{\"colorbar\": {\"outlinewidth\": 0, \"ticks\": \"\"}, \"colorscale\": [[0.0, \"#0d0887\"], [0.1111111111111111, \"#46039f\"], [0.2222222222222222, \"#7201a8\"], [0.3333333333333333, \"#9c179e\"], [0.4444444444444444, \"#bd3786\"], [0.5555555555555556, \"#d8576b\"], [0.6666666666666666, \"#ed7953\"], [0.7777777777777778, \"#fb9f3a\"], [0.8888888888888888, \"#fdca26\"], [1.0, \"#f0f921\"]], \"type\": \"heatmapgl\"}], \"histogram\": [{\"marker\": {\"colorbar\": {\"outlinewidth\": 0, \"ticks\": \"\"}}, \"type\": \"histogram\"}], \"histogram2d\": [{\"colorbar\": {\"outlinewidth\": 0, \"ticks\": \"\"}, \"colorscale\": [[0.0, \"#0d0887\"], [0.1111111111111111, \"#46039f\"], [0.2222222222222222, \"#7201a8\"], [0.3333333333333333, \"#9c179e\"], [0.4444444444444444, \"#bd3786\"], [0.5555555555555556, \"#d8576b\"], [0.6666666666666666, \"#ed7953\"], [0.7777777777777778, \"#fb9f3a\"], [0.8888888888888888, \"#fdca26\"], [1.0, \"#f0f921\"]], \"type\": \"histogram2d\"}], \"histogram2dcontour\": [{\"colorbar\": {\"outlinewidth\": 0, \"ticks\": \"\"}, \"colorscale\": [[0.0, \"#0d0887\"], [0.1111111111111111, \"#46039f\"], [0.2222222222222222, \"#7201a8\"], [0.3333333333333333, \"#9c179e\"], [0.4444444444444444, \"#bd3786\"], [0.5555555555555556, \"#d8576b\"], [0.6666666666666666, \"#ed7953\"], [0.7777777777777778, \"#fb9f3a\"], [0.8888888888888888, \"#fdca26\"], [1.0, \"#f0f921\"]], \"type\": \"histogram2dcontour\"}], \"mesh3d\": [{\"colorbar\": {\"outlinewidth\": 0, \"ticks\": \"\"}, \"type\": \"mesh3d\"}], \"parcoords\": [{\"line\": {\"colorbar\": {\"outlinewidth\": 0, \"ticks\": \"\"}}, \"type\": \"parcoords\"}], \"pie\": [{\"automargin\": true, \"type\": \"pie\"}], \"scatter\": [{\"marker\": {\"colorbar\": {\"outlinewidth\": 0, \"ticks\": \"\"}}, \"type\": \"scatter\"}], \"scatter3d\": [{\"line\": {\"colorbar\": {\"outlinewidth\": 0, \"ticks\": \"\"}}, \"marker\": {\"colorbar\": {\"outlinewidth\": 0, \"ticks\": \"\"}}, \"type\": \"scatter3d\"}], \"scattercarpet\": [{\"marker\": {\"colorbar\": {\"outlinewidth\": 0, \"ticks\": \"\"}}, \"type\": \"scattercarpet\"}], \"scattergeo\": [{\"marker\": {\"colorbar\": {\"outlinewidth\": 0, \"ticks\": \"\"}}, \"type\": \"scattergeo\"}], \"scattergl\": [{\"marker\": {\"colorbar\": {\"outlinewidth\": 0, \"ticks\": \"\"}}, \"type\": \"scattergl\"}], \"scattermapbox\": [{\"marker\": {\"colorbar\": {\"outlinewidth\": 0, \"ticks\": \"\"}}, \"type\": \"scattermapbox\"}], \"scatterpolar\": [{\"marker\": {\"colorbar\": {\"outlinewidth\": 0, \"ticks\": \"\"}}, \"type\": \"scatterpolar\"}], \"scatterpolargl\": [{\"marker\": {\"colorbar\": {\"outlinewidth\": 0, \"ticks\": \"\"}}, \"type\": \"scatterpolargl\"}], \"scatterternary\": [{\"marker\": {\"colorbar\": {\"outlinewidth\": 0, \"ticks\": \"\"}}, \"type\": \"scatterternary\"}], \"surface\": [{\"colorbar\": {\"outlinewidth\": 0, \"ticks\": \"\"}, \"colorscale\": [[0.0, \"#0d0887\"], [0.1111111111111111, \"#46039f\"], [0.2222222222222222, \"#7201a8\"], [0.3333333333333333, \"#9c179e\"], [0.4444444444444444, \"#bd3786\"], [0.5555555555555556, \"#d8576b\"], [0.6666666666666666, \"#ed7953\"], [0.7777777777777778, \"#fb9f3a\"], [0.8888888888888888, \"#fdca26\"], [1.0, \"#f0f921\"]], \"type\": \"surface\"}], \"table\": [{\"cells\": {\"fill\": {\"color\": \"#EBF0F8\"}, \"line\": {\"color\": \"white\"}}, \"header\": {\"fill\": {\"color\": \"#C8D4E3\"}, \"line\": {\"color\": \"white\"}}, \"type\": \"table\"}]}, \"layout\": {\"annotationdefaults\": {\"arrowcolor\": \"#2a3f5f\", \"arrowhead\": 0, \"arrowwidth\": 1}, \"coloraxis\": {\"colorbar\": {\"outlinewidth\": 0, \"ticks\": \"\"}}, \"colorscale\": {\"diverging\": [[0, \"#8e0152\"], [0.1, \"#c51b7d\"], [0.2, \"#de77ae\"], [0.3, \"#f1b6da\"], [0.4, \"#fde0ef\"], [0.5, \"#f7f7f7\"], [0.6, \"#e6f5d0\"], [0.7, \"#b8e186\"], [0.8, \"#7fbc41\"], [0.9, \"#4d9221\"], [1, \"#276419\"]], \"sequential\": [[0.0, \"#0d0887\"], [0.1111111111111111, \"#46039f\"], [0.2222222222222222, \"#7201a8\"], [0.3333333333333333, \"#9c179e\"], [0.4444444444444444, \"#bd3786\"], [0.5555555555555556, \"#d8576b\"], [0.6666666666666666, \"#ed7953\"], [0.7777777777777778, \"#fb9f3a\"], [0.8888888888888888, \"#fdca26\"], [1.0, \"#f0f921\"]], \"sequentialminus\": [[0.0, \"#0d0887\"], [0.1111111111111111, \"#46039f\"], [0.2222222222222222, \"#7201a8\"], [0.3333333333333333, \"#9c179e\"], [0.4444444444444444, \"#bd3786\"], [0.5555555555555556, \"#d8576b\"], [0.6666666666666666, \"#ed7953\"], [0.7777777777777778, \"#fb9f3a\"], [0.8888888888888888, \"#fdca26\"], [1.0, \"#f0f921\"]]}, \"colorway\": [\"#636efa\", \"#EF553B\", \"#00cc96\", \"#ab63fa\", \"#FFA15A\", \"#19d3f3\", \"#FF6692\", \"#B6E880\", \"#FF97FF\", \"#FECB52\"], \"font\": {\"color\": \"#2a3f5f\"}, \"geo\": {\"bgcolor\": \"white\", \"lakecolor\": \"white\", \"landcolor\": \"#E5ECF6\", \"showlakes\": true, \"showland\": true, \"subunitcolor\": \"white\"}, \"hoverlabel\": {\"align\": \"left\"}, \"hovermode\": \"closest\", \"mapbox\": {\"style\": \"light\"}, \"paper_bgcolor\": \"white\", \"plot_bgcolor\": \"#E5ECF6\", \"polar\": {\"angularaxis\": {\"gridcolor\": \"white\", \"linecolor\": \"white\", \"ticks\": \"\"}, \"bgcolor\": \"#E5ECF6\", \"radialaxis\": {\"gridcolor\": \"white\", \"linecolor\": \"white\", \"ticks\": \"\"}}, \"scene\": {\"xaxis\": {\"backgroundcolor\": \"#E5ECF6\", \"gridcolor\": \"white\", \"gridwidth\": 2, \"linecolor\": \"white\", \"showbackground\": true, \"ticks\": \"\", \"zerolinecolor\": \"white\"}, \"yaxis\": {\"backgroundcolor\": \"#E5ECF6\", \"gridcolor\": \"white\", \"gridwidth\": 2, \"linecolor\": \"white\", \"showbackground\": true, \"ticks\": \"\", \"zerolinecolor\": \"white\"}, \"zaxis\": {\"backgroundcolor\": \"#E5ECF6\", \"gridcolor\": \"white\", \"gridwidth\": 2, \"linecolor\": \"white\", \"showbackground\": true, \"ticks\": \"\", \"zerolinecolor\": \"white\"}}, \"shapedefaults\": {\"line\": {\"color\": \"#2a3f5f\"}}, \"ternary\": {\"aaxis\": {\"gridcolor\": \"white\", \"linecolor\": \"white\", \"ticks\": \"\"}, \"baxis\": {\"gridcolor\": \"white\", \"linecolor\": \"white\", \"ticks\": \"\"}, \"bgcolor\": \"#E5ECF6\", \"caxis\": {\"gridcolor\": \"white\", \"linecolor\": \"white\", \"ticks\": \"\"}}, \"title\": {\"x\": 0.05}, \"xaxis\": {\"automargin\": true, \"gridcolor\": \"white\", \"linecolor\": \"white\", \"ticks\": \"\", \"title\": {\"standoff\": 15}, \"zerolinecolor\": \"white\", \"zerolinewidth\": 2}, \"yaxis\": {\"automargin\": true, \"gridcolor\": \"white\", \"linecolor\": \"white\", \"ticks\": \"\", \"title\": {\"standoff\": 15}, \"zerolinecolor\": \"white\", \"zerolinewidth\": 2}}}, \"xaxis\": {\"anchor\": \"y\", \"domain\": [0.0, 1.0], \"title\": {\"text\": \"Date\"}}, \"yaxis\": {\"anchor\": \"x\", \"domain\": [0.0, 1.0], \"title\": {\"text\": \"AAPL.High\"}}},\n",
       "                        {\"responsive\": true}\n",
       "                    )\n",
       "                };\n",
       "                \n",
       "            </script>\n",
       "        </div>\n",
       "</body>\n",
       "</html>"
      ]
     },
     "metadata": {},
     "output_type": "display_data"
    }
   ],
   "source": [
    "import plotly.express as px\n",
    "\n",
    "import pandas as pd\n",
    "df = pd.read_csv('https://raw.githubusercontent.com/plotly/datasets/master/finance-charts-apple.csv')\n",
    "\n",
    "fig = px.line(df, x='Date', y='AAPL.High')\n",
    "fig.show()"
   ]
  },
  {
   "cell_type": "markdown",
   "metadata": {},
   "source": [
    "## Convert Spark Dataframe to Pandas Dataframe"
   ]
  },
  {
   "cell_type": "code",
   "execution_count": 28,
   "metadata": {},
   "outputs": [
    {
     "data": {
      "text/html": [
       "<style scoped>\n",
       "  .ansiout {\n",
       "    display: block;\n",
       "    unicode-bidi: embed;\n",
       "    white-space: pre-wrap;\n",
       "    word-wrap: break-word;\n",
       "    word-break: break-all;\n",
       "    font-family: \"Source Code Pro\", \"Menlo\", monospace;;\n",
       "    font-size: 13px;\n",
       "    color: #555;\n",
       "    margin-left: 4px;\n",
       "    line-height: 19px;\n",
       "  }\n",
       "</style>\n",
       "<div class=\"ansiout\"></div>"
      ]
     },
     "metadata": {},
     "output_type": "display_data"
    }
   ],
   "source": [
    "import pandas as pd\n",
    "import numpy as np\n",
    "import matplotlib.pyplot as plt\n",
    "import matplotlib.dates as mdates\n",
    "from datetime import datetime"
   ]
  },
  {
   "cell_type": "code",
   "execution_count": 29,
   "metadata": {},
   "outputs": [
    {
     "data": {
      "text/html": [
       "<style scoped>\n",
       "  .ansiout {\n",
       "    display: block;\n",
       "    unicode-bidi: embed;\n",
       "    white-space: pre-wrap;\n",
       "    word-wrap: break-word;\n",
       "    word-break: break-all;\n",
       "    font-family: \"Source Code Pro\", \"Menlo\", monospace;;\n",
       "    font-size: 13px;\n",
       "    color: #555;\n",
       "    margin-left: 4px;\n",
       "    line-height: 19px;\n",
       "  }\n",
       "</style>\n",
       "<div class=\"ansiout\">Out[20]: pyspark.sql.dataframe.DataFrame</div>"
      ]
     },
     "metadata": {},
     "output_type": "display_data"
    }
   ],
   "source": [
    "type(tweets)"
   ]
  },
  {
   "cell_type": "code",
   "execution_count": 30,
   "metadata": {},
   "outputs": [
    {
     "data": {
      "text/html": [
       "<style scoped>\n",
       "  .ansiout {\n",
       "    display: block;\n",
       "    unicode-bidi: embed;\n",
       "    white-space: pre-wrap;\n",
       "    word-wrap: break-word;\n",
       "    word-break: break-all;\n",
       "    font-family: \"Source Code Pro\", \"Menlo\", monospace;;\n",
       "    font-size: 13px;\n",
       "    color: #555;\n",
       "    margin-left: 4px;\n",
       "    line-height: 19px;\n",
       "  }\n",
       "</style>\n",
       "<div class=\"ansiout\">Out[21]: [(&#39;data&#39;, &#39;string&#39;),\n",
       " (&#39;id&#39;, &#39;string&#39;),\n",
       " (&#39;ts&#39;, &#39;string&#39;),\n",
       " (&#39;tweet&#39;, &#39;string&#39;),\n",
       " (&#39;sentiment&#39;, &#39;string&#39;)]</div>"
      ]
     },
     "metadata": {},
     "output_type": "display_data"
    }
   ],
   "source": [
    "tweets.dtypes"
   ]
  },
  {
   "cell_type": "code",
   "execution_count": 31,
   "metadata": {},
   "outputs": [
    {
     "data": {
      "text/html": [
       "<style scoped>\n",
       "  .ansiout {\n",
       "    display: block;\n",
       "    unicode-bidi: embed;\n",
       "    white-space: pre-wrap;\n",
       "    word-wrap: break-word;\n",
       "    word-break: break-all;\n",
       "    font-family: \"Source Code Pro\", \"Menlo\", monospace;;\n",
       "    font-size: 13px;\n",
       "    color: #555;\n",
       "    margin-left: 4px;\n",
       "    line-height: 19px;\n",
       "  }\n",
       "</style>\n",
       "<div class=\"ansiout\"></div>"
      ]
     },
     "metadata": {},
     "output_type": "display_data"
    }
   ],
   "source": [
    "tweets_pdf = tweets.toPandas()"
   ]
  },
  {
   "cell_type": "code",
   "execution_count": 32,
   "metadata": {},
   "outputs": [
    {
     "data": {
      "text/html": [
       "<div>\n",
       "<style scoped>\n",
       "    .dataframe tbody tr th:only-of-type {\n",
       "        vertical-align: middle;\n",
       "    }\n",
       "\n",
       "    .dataframe tbody tr th {\n",
       "        vertical-align: top;\n",
       "    }\n",
       "\n",
       "    .dataframe thead th {\n",
       "        text-align: right;\n",
       "    }\n",
       "</style>\n",
       "<table border=\"1\" class=\"dataframe\">\n",
       "  <thead>\n",
       "    <tr style=\"text-align: right;\">\n",
       "      <th></th>\n",
       "      <th>data</th>\n",
       "      <th>id</th>\n",
       "      <th>ts</th>\n",
       "      <th>tweet</th>\n",
       "      <th>sentiment</th>\n",
       "    </tr>\n",
       "  </thead>\n",
       "  <tbody>\n",
       "    <tr>\n",
       "      <th>0</th>\n",
       "      <td>[{\"id\": \"1243933850968809472\", \"tweet\": \"b'RT ...</td>\n",
       "      <td>1243933850968809472</td>\n",
       "      <td>Sat Mar 28 16:11:55 +0000 2020</td>\n",
       "      <td>b'RT @T9uRhHfR8jsSP57: \\xe0\\xb9\\x83\\xe0\\xb8\\x9...</td>\n",
       "      <td>neutral</td>\n",
       "    </tr>\n",
       "    <tr>\n",
       "      <th>1</th>\n",
       "      <td>[{\"id\": \"1243933850666823680\", \"tweet\": \"b'Sta...</td>\n",
       "      <td>1243933850666823680</td>\n",
       "      <td>Sat Mar 28 16:11:55 +0000 2020</td>\n",
       "      <td>b'States affected by Coronavirus in India\\n\\n#...</td>\n",
       "      <td>neutral</td>\n",
       "    </tr>\n",
       "    <tr>\n",
       "      <th>2</th>\n",
       "      <td>[{\"id\": \"1243933849853149186\", \"tweet\": \"b\\\"@A...</td>\n",
       "      <td>1243933849853149186</td>\n",
       "      <td>Sat Mar 28 16:11:55 +0000 2020</td>\n",
       "      <td>b\"@ABSCBNNews Watch #MuhammadShaikh, who has d...</td>\n",
       "      <td>positive</td>\n",
       "    </tr>\n",
       "    <tr>\n",
       "      <th>3</th>\n",
       "      <td>[{\"id\": \"1243933852273455104\", \"tweet\": \"b'RT ...</td>\n",
       "      <td>1243933852273455104</td>\n",
       "      <td>Sat Mar 28 16:11:56 +0000 2020</td>\n",
       "      <td>b'RT @BayoOmoboriowo: Thank you for checking u...</td>\n",
       "      <td>positive</td>\n",
       "    </tr>\n",
       "    <tr>\n",
       "      <th>4</th>\n",
       "      <td>[{\"id\": \"1243933852567044096\", \"tweet\": \"b'RT ...</td>\n",
       "      <td>1243933852567044096</td>\n",
       "      <td>Sat Mar 28 16:11:56 +0000 2020</td>\n",
       "      <td>b'RT @Humafayaz1: Can\\'t Wait For The Day To H...</td>\n",
       "      <td>neutral</td>\n",
       "    </tr>\n",
       "  </tbody>\n",
       "</table>\n",
       "</div>"
      ]
     },
     "metadata": {},
     "output_type": "display_data"
    }
   ],
   "source": [
    "tweets_pdf.head()"
   ]
  },
  {
   "cell_type": "code",
   "execution_count": 33,
   "metadata": {},
   "outputs": [
    {
     "data": {
      "text/html": [
       "<style scoped>\n",
       "  .ansiout {\n",
       "    display: block;\n",
       "    unicode-bidi: embed;\n",
       "    white-space: pre-wrap;\n",
       "    word-wrap: break-word;\n",
       "    word-break: break-all;\n",
       "    font-family: \"Source Code Pro\", \"Menlo\", monospace;;\n",
       "    font-size: 13px;\n",
       "    color: #555;\n",
       "    margin-left: 4px;\n",
       "    line-height: 19px;\n",
       "  }\n",
       "</style>\n",
       "<div class=\"ansiout\">Out[26]: 0       2020-03-28 16:11:55+00:00\n",
       "1       2020-03-28 16:11:55+00:00\n",
       "2       2020-03-28 16:11:55+00:00\n",
       "3       2020-03-28 16:11:56+00:00\n",
       "4       2020-03-28 16:11:56+00:00\n",
       "5       2020-03-28 16:11:56+00:00\n",
       "6       2020-03-28 16:11:56+00:00\n",
       "7       2020-03-28 16:11:56+00:00\n",
       "8       2020-03-28 16:11:56+00:00\n",
       "9       2020-03-28 16:11:56+00:00\n",
       "10      2020-03-28 16:11:56+00:00\n",
       "11      2020-03-28 16:11:56+00:00\n",
       "12      2020-03-28 16:11:56+00:00\n",
       "13      2020-03-28 16:11:56+00:00\n",
       "14      2020-03-28 16:11:56+00:00\n",
       "15      2020-03-28 16:11:56+00:00\n",
       "16      2020-03-28 16:11:56+00:00\n",
       "17      2020-03-28 16:11:56+00:00\n",
       "18      2020-03-28 16:11:57+00:00\n",
       "19      2020-03-28 16:11:57+00:00\n",
       "20      2020-03-28 16:11:57+00:00\n",
       "21      2020-03-28 16:11:57+00:00\n",
       "22      2020-03-28 16:11:57+00:00\n",
       "23      2020-03-28 16:11:57+00:00\n",
       "24      2020-03-28 16:11:57+00:00\n",
       "25      2020-03-28 16:11:57+00:00\n",
       "26      2020-03-28 16:11:57+00:00\n",
       "27      2020-03-28 16:11:57+00:00\n",
       "28      2020-03-28 16:11:57+00:00\n",
       "29      2020-03-28 16:11:57+00:00\n",
       "                   ...           \n",
       "48962   2020-03-28 17:02:03+00:00\n",
       "48963   2020-03-28 17:02:03+00:00\n",
       "48964   2020-03-28 17:02:03+00:00\n",
       "48965   2020-03-28 17:02:03+00:00\n",
       "48966   2020-03-28 17:02:03+00:00\n",
       "48967   2020-03-28 17:02:03+00:00\n",
       "48968   2020-03-28 17:02:03+00:00\n",
       "48969   2020-03-28 17:02:04+00:00\n",
       "48970   2020-03-28 17:02:04+00:00\n",
       "48971   2020-03-28 17:02:04+00:00\n",
       "48972   2020-03-28 17:02:04+00:00\n",
       "48973   2020-03-28 17:02:04+00:00\n",
       "48974   2020-03-28 17:02:04+00:00\n",
       "48975   2020-03-28 17:02:04+00:00\n",
       "48976   2020-03-28 17:02:04+00:00\n",
       "48977   2020-03-28 17:02:04+00:00\n",
       "48978   2020-03-28 17:02:04+00:00\n",
       "48979   2020-03-28 17:02:04+00:00\n",
       "48980   2020-03-28 17:02:04+00:00\n",
       "48981   2020-03-28 17:02:04+00:00\n",
       "48982   2020-03-28 17:02:04+00:00\n",
       "48983   2020-03-28 17:02:04+00:00\n",
       "48984   2020-03-28 17:02:04+00:00\n",
       "48985   2020-03-28 17:02:04+00:00\n",
       "48986   2020-03-28 17:02:05+00:00\n",
       "48987   2020-03-28 17:02:05+00:00\n",
       "48988   2020-03-28 17:02:05+00:00\n",
       "48989   2020-03-28 17:02:05+00:00\n",
       "48990   2020-03-28 17:02:05+00:00\n",
       "48991   2020-03-28 17:02:05+00:00\n",
       "Name: ts, Length: 48992, dtype: datetime64[ns, UTC]</div>"
      ]
     },
     "metadata": {},
     "output_type": "display_data"
    }
   ],
   "source": [
    "pd.to_datetime(tweets_pdf['ts'])"
   ]
  },
  {
   "cell_type": "code",
   "execution_count": 34,
   "metadata": {},
   "outputs": [
    {
     "data": {
      "text/html": [
       "<style scoped>\n",
       "  .ansiout {\n",
       "    display: block;\n",
       "    unicode-bidi: embed;\n",
       "    white-space: pre-wrap;\n",
       "    word-wrap: break-word;\n",
       "    word-break: break-all;\n",
       "    font-family: \"Source Code Pro\", \"Menlo\", monospace;;\n",
       "    font-size: 13px;\n",
       "    color: #555;\n",
       "    margin-left: 4px;\n",
       "    line-height: 19px;\n",
       "  }\n",
       "</style>\n",
       "<div class=\"ansiout\"></div>"
      ]
     },
     "metadata": {},
     "output_type": "display_data"
    }
   ],
   "source": [
    "idx = pd.DatetimeIndex(pd.to_datetime(tweets_pdf['ts']))"
   ]
  },
  {
   "cell_type": "code",
   "execution_count": 35,
   "metadata": {},
   "outputs": [
    {
     "data": {
      "text/html": [
       "<style scoped>\n",
       "  .ansiout {\n",
       "    display: block;\n",
       "    unicode-bidi: embed;\n",
       "    white-space: pre-wrap;\n",
       "    word-wrap: break-word;\n",
       "    word-break: break-all;\n",
       "    font-family: \"Source Code Pro\", \"Menlo\", monospace;;\n",
       "    font-size: 13px;\n",
       "    color: #555;\n",
       "    margin-left: 4px;\n",
       "    line-height: 19px;\n",
       "  }\n",
       "</style>\n",
       "<div class=\"ansiout\">Out[28]: DatetimeIndex([&#39;2020-03-28 16:11:55+00:00&#39;, &#39;2020-03-28 16:11:55+00:00&#39;,\n",
       "               &#39;2020-03-28 16:11:55+00:00&#39;, &#39;2020-03-28 16:11:56+00:00&#39;,\n",
       "               &#39;2020-03-28 16:11:56+00:00&#39;, &#39;2020-03-28 16:11:56+00:00&#39;,\n",
       "               &#39;2020-03-28 16:11:56+00:00&#39;, &#39;2020-03-28 16:11:56+00:00&#39;,\n",
       "               &#39;2020-03-28 16:11:56+00:00&#39;, &#39;2020-03-28 16:11:56+00:00&#39;,\n",
       "               ...\n",
       "               &#39;2020-03-28 17:02:04+00:00&#39;, &#39;2020-03-28 17:02:04+00:00&#39;,\n",
       "               &#39;2020-03-28 17:02:04+00:00&#39;, &#39;2020-03-28 17:02:04+00:00&#39;,\n",
       "               &#39;2020-03-28 17:02:05+00:00&#39;, &#39;2020-03-28 17:02:05+00:00&#39;,\n",
       "               &#39;2020-03-28 17:02:05+00:00&#39;, &#39;2020-03-28 17:02:05+00:00&#39;,\n",
       "               &#39;2020-03-28 17:02:05+00:00&#39;, &#39;2020-03-28 17:02:05+00:00&#39;],\n",
       "              dtype=&#39;datetime64[ns, UTC]&#39;, name=&#39;ts&#39;, length=48992, freq=None)</div>"
      ]
     },
     "metadata": {},
     "output_type": "display_data"
    }
   ],
   "source": [
    "idx"
   ]
  },
  {
   "cell_type": "code",
   "execution_count": 36,
   "metadata": {},
   "outputs": [
    {
     "data": {
      "text/html": [
       "<style scoped>\n",
       "  .ansiout {\n",
       "    display: block;\n",
       "    unicode-bidi: embed;\n",
       "    white-space: pre-wrap;\n",
       "    word-wrap: break-word;\n",
       "    word-break: break-all;\n",
       "    font-family: \"Source Code Pro\", \"Menlo\", monospace;;\n",
       "    font-size: 13px;\n",
       "    color: #555;\n",
       "    margin-left: 4px;\n",
       "    line-height: 19px;\n",
       "  }\n",
       "</style>\n",
       "<div class=\"ansiout\">Out[54]: pandas.core.indexes.datetimes.DatetimeIndex</div>"
      ]
     },
     "metadata": {},
     "output_type": "display_data"
    }
   ],
   "source": [
    "type(idx)"
   ]
  },
  {
   "cell_type": "code",
   "execution_count": 37,
   "metadata": {},
   "outputs": [
    {
     "data": {
      "text/html": [
       "<style scoped>\n",
       "  .ansiout {\n",
       "    display: block;\n",
       "    unicode-bidi: embed;\n",
       "    white-space: pre-wrap;\n",
       "    word-wrap: break-word;\n",
       "    word-break: break-all;\n",
       "    font-family: \"Source Code Pro\", \"Menlo\", monospace;;\n",
       "    font-size: 13px;\n",
       "    color: #555;\n",
       "    margin-left: 4px;\n",
       "    line-height: 19px;\n",
       "  }\n",
       "</style>\n",
       "<div class=\"ansiout\">Out[29]: 48992</div>"
      ]
     },
     "metadata": {},
     "output_type": "display_data"
    }
   ],
   "source": [
    "len(pd.to_datetime(tweets_pdf['ts']))"
   ]
  },
  {
   "cell_type": "code",
   "execution_count": 38,
   "metadata": {},
   "outputs": [
    {
     "data": {
      "text/html": [
       "<style scoped>\n",
       "  .ansiout {\n",
       "    display: block;\n",
       "    unicode-bidi: embed;\n",
       "    white-space: pre-wrap;\n",
       "    word-wrap: break-word;\n",
       "    word-break: break-all;\n",
       "    font-family: \"Source Code Pro\", \"Menlo\", monospace;;\n",
       "    font-size: 13px;\n",
       "    color: #555;\n",
       "    margin-left: 4px;\n",
       "    line-height: 19px;\n",
       "  }\n",
       "</style>\n",
       "<div class=\"ansiout\"></div>"
      ]
     },
     "metadata": {},
     "output_type": "display_data"
    }
   ],
   "source": [
    "ones = np.ones(len(pd.to_datetime(tweets_pdf['ts'])))"
   ]
  },
  {
   "cell_type": "code",
   "execution_count": 39,
   "metadata": {},
   "outputs": [
    {
     "data": {
      "text/html": [
       "<style scoped>\n",
       "  .ansiout {\n",
       "    display: block;\n",
       "    unicode-bidi: embed;\n",
       "    white-space: pre-wrap;\n",
       "    word-wrap: break-word;\n",
       "    word-break: break-all;\n",
       "    font-family: \"Source Code Pro\", \"Menlo\", monospace;;\n",
       "    font-size: 13px;\n",
       "    color: #555;\n",
       "    margin-left: 4px;\n",
       "    line-height: 19px;\n",
       "  }\n",
       "</style>\n",
       "<div class=\"ansiout\">Out[31]: 48992</div>"
      ]
     },
     "metadata": {},
     "output_type": "display_data"
    }
   ],
   "source": [
    "idx.shape[0]"
   ]
  },
  {
   "cell_type": "code",
   "execution_count": 40,
   "metadata": {},
   "outputs": [
    {
     "data": {
      "text/html": [
       "<style scoped>\n",
       "  .ansiout {\n",
       "    display: block;\n",
       "    unicode-bidi: embed;\n",
       "    white-space: pre-wrap;\n",
       "    word-wrap: break-word;\n",
       "    word-break: break-all;\n",
       "    font-family: \"Source Code Pro\", \"Menlo\", monospace;;\n",
       "    font-size: 13px;\n",
       "    color: #555;\n",
       "    margin-left: 4px;\n",
       "    line-height: 19px;\n",
       "  }\n",
       "</style>\n",
       "<div class=\"ansiout\"></div>"
      ]
     },
     "metadata": {},
     "output_type": "display_data"
    }
   ],
   "source": [
    "# the actual series (at series of 1s for the moment) \n",
    "my_series = pd.Series(ones, index=idx)"
   ]
  },
  {
   "cell_type": "code",
   "execution_count": 41,
   "metadata": {},
   "outputs": [
    {
     "data": {
      "text/html": [
       "<style scoped>\n",
       "  .ansiout {\n",
       "    display: block;\n",
       "    unicode-bidi: embed;\n",
       "    white-space: pre-wrap;\n",
       "    word-wrap: break-word;\n",
       "    word-break: break-all;\n",
       "    font-family: \"Source Code Pro\", \"Menlo\", monospace;;\n",
       "    font-size: 13px;\n",
       "    color: #555;\n",
       "    margin-left: 4px;\n",
       "    line-height: 19px;\n",
       "  }\n",
       "</style>\n",
       "<div class=\"ansiout\"></div>"
      ]
     },
     "metadata": {},
     "output_type": "display_data"
    }
   ],
   "source": [
    "# Resampling / bucketing into 1-minute buckets\n",
    "per_minute = my_series.resample('1Min').sum().fillna(0) "
   ]
  },
  {
   "cell_type": "code",
   "execution_count": 42,
   "metadata": {},
   "outputs": [
    {
     "data": {
      "text/html": [
       "<style scoped>\n",
       "  .ansiout {\n",
       "    display: block;\n",
       "    unicode-bidi: embed;\n",
       "    white-space: pre-wrap;\n",
       "    word-wrap: break-word;\n",
       "    word-break: break-all;\n",
       "    font-family: \"Source Code Pro\", \"Menlo\", monospace;;\n",
       "    font-size: 13px;\n",
       "    color: #555;\n",
       "    margin-left: 4px;\n",
       "    line-height: 19px;\n",
       "  }\n",
       "</style>\n",
       "<div class=\"ansiout\">Out[34]: ts\n",
       "2020-03-28 16:11:00+00:00      58.0\n",
       "2020-03-28 16:12:00+00:00     962.0\n",
       "2020-03-28 16:13:00+00:00     973.0\n",
       "2020-03-28 16:14:00+00:00     955.0\n",
       "2020-03-28 16:15:00+00:00    1083.0\n",
       "2020-03-28 16:16:00+00:00    1000.0\n",
       "2020-03-28 16:17:00+00:00     974.0\n",
       "2020-03-28 16:18:00+00:00     909.0\n",
       "2020-03-28 16:19:00+00:00     927.0\n",
       "2020-03-28 16:20:00+00:00    1018.0\n",
       "2020-03-28 16:21:00+00:00    1036.0\n",
       "2020-03-28 16:22:00+00:00     969.0\n",
       "2020-03-28 16:23:00+00:00    1012.0\n",
       "2020-03-28 16:24:00+00:00     984.0\n",
       "2020-03-28 16:25:00+00:00     986.0\n",
       "2020-03-28 16:26:00+00:00     945.0\n",
       "2020-03-28 16:27:00+00:00     959.0\n",
       "2020-03-28 16:28:00+00:00     931.0\n",
       "2020-03-28 16:29:00+00:00    1031.0\n",
       "2020-03-28 16:30:00+00:00    1089.0\n",
       "2020-03-28 16:31:00+00:00     948.0\n",
       "2020-03-28 16:32:00+00:00    1004.0\n",
       "2020-03-28 16:33:00+00:00     963.0\n",
       "2020-03-28 16:34:00+00:00     919.0\n",
       "2020-03-28 16:35:00+00:00     982.0\n",
       "2020-03-28 16:36:00+00:00     995.0\n",
       "2020-03-28 16:37:00+00:00    1011.0\n",
       "2020-03-28 16:38:00+00:00     956.0\n",
       "2020-03-28 16:39:00+00:00     949.0\n",
       "2020-03-28 16:40:00+00:00    1004.0\n",
       "2020-03-28 16:41:00+00:00     957.0\n",
       "2020-03-28 16:42:00+00:00     914.0\n",
       "2020-03-28 16:43:00+00:00     909.0\n",
       "2020-03-28 16:44:00+00:00     980.0\n",
       "2020-03-28 16:45:00+00:00     989.0\n",
       "2020-03-28 16:46:00+00:00     971.0\n",
       "2020-03-28 16:47:00+00:00     957.0\n",
       "2020-03-28 16:48:00+00:00     943.0\n",
       "2020-03-28 16:49:00+00:00    1013.0\n",
       "2020-03-28 16:50:00+00:00     966.0\n",
       "2020-03-28 16:51:00+00:00    1050.0\n",
       "2020-03-28 16:52:00+00:00    1040.0\n",
       "2020-03-28 16:53:00+00:00     945.0\n",
       "2020-03-28 16:54:00+00:00     917.0\n",
       "2020-03-28 16:55:00+00:00     974.0\n",
       "2020-03-28 16:56:00+00:00     954.0\n",
       "2020-03-28 16:57:00+00:00     986.0\n",
       "2020-03-28 16:58:00+00:00     948.0\n",
       "2020-03-28 16:59:00+00:00     975.0\n",
       "2020-03-28 17:00:00+00:00    1050.0\n",
       "2020-03-28 17:01:00+00:00     940.0\n",
       "2020-03-28 17:02:00+00:00      82.0\n",
       "Freq: T, dtype: float64</div>"
      ]
     },
     "metadata": {},
     "output_type": "display_data"
    }
   ],
   "source": [
    "per_minute"
   ]
  },
  {
   "cell_type": "code",
   "execution_count": 43,
   "metadata": {},
   "outputs": [],
   "source": [
    "# Plotting the series\n",
    "%matplotlib inline\n",
    "\n",
    "fig, ax = plt.subplots()\n",
    "ax.grid(True)\n",
    "\n",
    "ax.set_title(\"Tweet numbers\")\n",
    "interval = mdates.MinuteLocator(interval=10)\n",
    "date_formatter = mdates.DateFormatter('%H:%M')\n",
    "\n",
    "datemin = datetime(2020, 3, 28, 16, 00) \n",
    "datemax = datetime(2020, 3, 28, 17, 10)\n",
    "\n",
    "ax.xaxis.set_major_locator(interval) \n",
    "ax.xaxis.set_major_formatter(date_formatter) \n",
    "ax.set_xlim(datemin, datemax)\n",
    "max_freq = per_minute.max()\n",
    "min_freq = per_minute.min()\n",
    "ax.set_ylim(min_freq-100, max_freq+100) \n",
    "ax.plot(per_minute.index, per_minute)\n",
    "\n",
    "display(fig)"
   ]
  },
  {
   "cell_type": "code",
   "execution_count": 44,
   "metadata": {},
   "outputs": [],
   "source": []
  }
 ],
 "metadata": {
  "kernelspec": {
   "display_name": "Python 3",
   "language": "python",
   "name": "python3"
  },
  "language_info": {
   "codemirror_mode": {
    "name": "ipython",
    "version": 3
   },
   "file_extension": ".py",
   "mimetype": "text/x-python",
   "name": "python",
   "nbconvert_exporter": "python",
   "pygments_lexer": "ipython3",
   "version": "3.7.5"
  },
  "name": "structured_streaming",
  "notebookId": 4223415072630183
 },
 "nbformat": 4,
 "nbformat_minor": 1
}
